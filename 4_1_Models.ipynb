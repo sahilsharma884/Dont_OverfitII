{
 "cells": [
  {
   "cell_type": "markdown",
   "metadata": {},
   "source": [
    "# Standardization + ML Classification Model with/without Top Features\n",
    "\n",
    "1. No oversampling techniques applied\n",
    "2. No feature engineering applied"
   ]
  },
  {
   "cell_type": "markdown",
   "metadata": {
    "colab_type": "text",
    "id": "M0NLgHSVSGR8"
   },
   "source": [
    "# 1. Import Necessary Libraries"
   ]
  },
  {
   "cell_type": "code",
   "execution_count": 17,
   "metadata": {
    "colab": {
     "base_uri": "https://localhost:8080/",
     "height": 138
    },
    "colab_type": "code",
    "executionInfo": {
     "elapsed": 1518,
     "status": "ok",
     "timestamp": 1586509238566,
     "user": {
      "displayName": "Sahil -",
      "photoUrl": "",
      "userId": "14051148522636395588"
     },
     "user_tz": -330
    },
    "id": "FmfFFiISSNDh",
    "outputId": "c58700e0-326b-47a7-8208-7c585e502c30"
   },
   "outputs": [],
   "source": [
    "# For Computational and random seed purpose\n",
    "import numpy as np\n",
    "np.random.seed(42)\n",
    "# To read csv file\n",
    "import pandas as pd\n",
    "# To Split data into train and cv data\n",
    "from sklearn.model_selection import train_test_split\n",
    "# To compute AUROC score\n",
    "# For AUROC Score (Ref: https://scikit-learn.org/stable/modules/generated/sklearn.metrics.roc_auc_score.html)\n",
    "from sklearn.metrics import  roc_curve, auc\n",
    "# For Hyperparameter and CV Fold\n",
    "from sklearn.model_selection import GridSearchCV, RepeatedStratifiedKFold, cross_val_score\n",
    "# For plot AUROC graph\n",
    "import matplotlib.pyplot as plt\n",
    "# Data is umbalance, we need Calibrated Model to ive confidence probabilities result\n",
    "from sklearn.calibration import CalibratedClassifierCV\n",
    "# For heatmap\n",
    "import seaborn as sns\n",
    "# To ignore warninga\n",
    "import warnings\n",
    "warnings.filterwarnings('ignore')\n",
    "# To stndardize the data\n",
    "from sklearn.preprocessing import StandardScaler\n",
    "import tqdm"
   ]
  },
  {
   "cell_type": "markdown",
   "metadata": {
    "colab_type": "text",
    "id": "jEeelBddSNMk"
   },
   "source": [
    "# 2. Read train data"
   ]
  },
  {
   "cell_type": "code",
   "execution_count": 2,
   "metadata": {
    "colab": {
     "base_uri": "https://localhost:8080/",
     "height": 244
    },
    "colab_type": "code",
    "executionInfo": {
     "elapsed": 1292,
     "status": "ok",
     "timestamp": 1586509239102,
     "user": {
      "displayName": "Sahil -",
      "photoUrl": "",
      "userId": "14051148522636395588"
     },
     "user_tz": -330
    },
    "id": "4TvsuIQKSJu_",
    "outputId": "c9b994b4-3972-4bd8-c201-c17ad5432ebf"
   },
   "outputs": [
    {
     "data": {
      "text/html": [
       "<div>\n",
       "<style scoped>\n",
       "    .dataframe tbody tr th:only-of-type {\n",
       "        vertical-align: middle;\n",
       "    }\n",
       "\n",
       "    .dataframe tbody tr th {\n",
       "        vertical-align: top;\n",
       "    }\n",
       "\n",
       "    .dataframe thead th {\n",
       "        text-align: right;\n",
       "    }\n",
       "</style>\n",
       "<table border=\"1\" class=\"dataframe\">\n",
       "  <thead>\n",
       "    <tr style=\"text-align: right;\">\n",
       "      <th></th>\n",
       "      <th>id</th>\n",
       "      <th>target</th>\n",
       "      <th>0</th>\n",
       "      <th>1</th>\n",
       "      <th>2</th>\n",
       "      <th>3</th>\n",
       "      <th>4</th>\n",
       "      <th>5</th>\n",
       "      <th>6</th>\n",
       "      <th>7</th>\n",
       "      <th>...</th>\n",
       "      <th>290</th>\n",
       "      <th>291</th>\n",
       "      <th>292</th>\n",
       "      <th>293</th>\n",
       "      <th>294</th>\n",
       "      <th>295</th>\n",
       "      <th>296</th>\n",
       "      <th>297</th>\n",
       "      <th>298</th>\n",
       "      <th>299</th>\n",
       "    </tr>\n",
       "  </thead>\n",
       "  <tbody>\n",
       "    <tr>\n",
       "      <th>0</th>\n",
       "      <td>0</td>\n",
       "      <td>1.0</td>\n",
       "      <td>-0.098</td>\n",
       "      <td>2.165</td>\n",
       "      <td>0.681</td>\n",
       "      <td>-0.614</td>\n",
       "      <td>1.309</td>\n",
       "      <td>-0.455</td>\n",
       "      <td>-0.236</td>\n",
       "      <td>0.276</td>\n",
       "      <td>...</td>\n",
       "      <td>0.867</td>\n",
       "      <td>1.347</td>\n",
       "      <td>0.504</td>\n",
       "      <td>-0.649</td>\n",
       "      <td>0.672</td>\n",
       "      <td>-2.097</td>\n",
       "      <td>1.051</td>\n",
       "      <td>-0.414</td>\n",
       "      <td>1.038</td>\n",
       "      <td>-1.065</td>\n",
       "    </tr>\n",
       "    <tr>\n",
       "      <th>1</th>\n",
       "      <td>1</td>\n",
       "      <td>0.0</td>\n",
       "      <td>1.081</td>\n",
       "      <td>-0.973</td>\n",
       "      <td>-0.383</td>\n",
       "      <td>0.326</td>\n",
       "      <td>-0.428</td>\n",
       "      <td>0.317</td>\n",
       "      <td>1.172</td>\n",
       "      <td>0.352</td>\n",
       "      <td>...</td>\n",
       "      <td>-0.165</td>\n",
       "      <td>-1.695</td>\n",
       "      <td>-1.257</td>\n",
       "      <td>1.359</td>\n",
       "      <td>-0.808</td>\n",
       "      <td>-1.624</td>\n",
       "      <td>-0.458</td>\n",
       "      <td>-1.099</td>\n",
       "      <td>-0.936</td>\n",
       "      <td>0.973</td>\n",
       "    </tr>\n",
       "    <tr>\n",
       "      <th>2</th>\n",
       "      <td>2</td>\n",
       "      <td>1.0</td>\n",
       "      <td>-0.523</td>\n",
       "      <td>-0.089</td>\n",
       "      <td>-0.348</td>\n",
       "      <td>0.148</td>\n",
       "      <td>-0.022</td>\n",
       "      <td>0.404</td>\n",
       "      <td>-0.023</td>\n",
       "      <td>-0.172</td>\n",
       "      <td>...</td>\n",
       "      <td>0.013</td>\n",
       "      <td>0.263</td>\n",
       "      <td>-1.222</td>\n",
       "      <td>0.726</td>\n",
       "      <td>1.444</td>\n",
       "      <td>-1.165</td>\n",
       "      <td>-1.544</td>\n",
       "      <td>0.004</td>\n",
       "      <td>0.800</td>\n",
       "      <td>-1.211</td>\n",
       "    </tr>\n",
       "    <tr>\n",
       "      <th>3</th>\n",
       "      <td>3</td>\n",
       "      <td>1.0</td>\n",
       "      <td>0.067</td>\n",
       "      <td>-0.021</td>\n",
       "      <td>0.392</td>\n",
       "      <td>-1.637</td>\n",
       "      <td>-0.446</td>\n",
       "      <td>-0.725</td>\n",
       "      <td>-1.035</td>\n",
       "      <td>0.834</td>\n",
       "      <td>...</td>\n",
       "      <td>-0.404</td>\n",
       "      <td>0.640</td>\n",
       "      <td>-0.595</td>\n",
       "      <td>-0.966</td>\n",
       "      <td>0.900</td>\n",
       "      <td>0.467</td>\n",
       "      <td>-0.562</td>\n",
       "      <td>-0.254</td>\n",
       "      <td>-0.533</td>\n",
       "      <td>0.238</td>\n",
       "    </tr>\n",
       "    <tr>\n",
       "      <th>4</th>\n",
       "      <td>4</td>\n",
       "      <td>1.0</td>\n",
       "      <td>2.347</td>\n",
       "      <td>-0.831</td>\n",
       "      <td>0.511</td>\n",
       "      <td>-0.021</td>\n",
       "      <td>1.225</td>\n",
       "      <td>1.594</td>\n",
       "      <td>0.585</td>\n",
       "      <td>1.509</td>\n",
       "      <td>...</td>\n",
       "      <td>0.898</td>\n",
       "      <td>0.134</td>\n",
       "      <td>2.415</td>\n",
       "      <td>-0.996</td>\n",
       "      <td>-1.006</td>\n",
       "      <td>1.378</td>\n",
       "      <td>1.246</td>\n",
       "      <td>1.478</td>\n",
       "      <td>0.428</td>\n",
       "      <td>0.253</td>\n",
       "    </tr>\n",
       "  </tbody>\n",
       "</table>\n",
       "<p>5 rows × 302 columns</p>\n",
       "</div>"
      ],
      "text/plain": [
       "   id  target      0      1      2      3      4      5      6      7  ...  \\\n",
       "0   0     1.0 -0.098  2.165  0.681 -0.614  1.309 -0.455 -0.236  0.276  ...   \n",
       "1   1     0.0  1.081 -0.973 -0.383  0.326 -0.428  0.317  1.172  0.352  ...   \n",
       "2   2     1.0 -0.523 -0.089 -0.348  0.148 -0.022  0.404 -0.023 -0.172  ...   \n",
       "3   3     1.0  0.067 -0.021  0.392 -1.637 -0.446 -0.725 -1.035  0.834  ...   \n",
       "4   4     1.0  2.347 -0.831  0.511 -0.021  1.225  1.594  0.585  1.509  ...   \n",
       "\n",
       "     290    291    292    293    294    295    296    297    298    299  \n",
       "0  0.867  1.347  0.504 -0.649  0.672 -2.097  1.051 -0.414  1.038 -1.065  \n",
       "1 -0.165 -1.695 -1.257  1.359 -0.808 -1.624 -0.458 -1.099 -0.936  0.973  \n",
       "2  0.013  0.263 -1.222  0.726  1.444 -1.165 -1.544  0.004  0.800 -1.211  \n",
       "3 -0.404  0.640 -0.595 -0.966  0.900  0.467 -0.562 -0.254 -0.533  0.238  \n",
       "4  0.898  0.134  2.415 -0.996 -1.006  1.378  1.246  1.478  0.428  0.253  \n",
       "\n",
       "[5 rows x 302 columns]"
      ]
     },
     "execution_count": 2,
     "metadata": {},
     "output_type": "execute_result"
    }
   ],
   "source": [
    "# Locate parent directory\n",
    "data_dir = \"./\"\n",
    "\n",
    "# Read csv file and display top 5 rows\n",
    "df_train = pd.read_csv(data_dir+'/train.csv')\n",
    "df_train.head(5)"
   ]
  },
  {
   "cell_type": "code",
   "execution_count": 3,
   "metadata": {},
   "outputs": [
    {
     "data": {
      "text/html": [
       "<div>\n",
       "<style scoped>\n",
       "    .dataframe tbody tr th:only-of-type {\n",
       "        vertical-align: middle;\n",
       "    }\n",
       "\n",
       "    .dataframe tbody tr th {\n",
       "        vertical-align: top;\n",
       "    }\n",
       "\n",
       "    .dataframe thead th {\n",
       "        text-align: right;\n",
       "    }\n",
       "</style>\n",
       "<table border=\"1\" class=\"dataframe\">\n",
       "  <thead>\n",
       "    <tr style=\"text-align: right;\">\n",
       "      <th></th>\n",
       "      <th>id</th>\n",
       "      <th>0</th>\n",
       "      <th>1</th>\n",
       "      <th>2</th>\n",
       "      <th>3</th>\n",
       "      <th>4</th>\n",
       "      <th>5</th>\n",
       "      <th>6</th>\n",
       "      <th>7</th>\n",
       "      <th>8</th>\n",
       "      <th>...</th>\n",
       "      <th>290</th>\n",
       "      <th>291</th>\n",
       "      <th>292</th>\n",
       "      <th>293</th>\n",
       "      <th>294</th>\n",
       "      <th>295</th>\n",
       "      <th>296</th>\n",
       "      <th>297</th>\n",
       "      <th>298</th>\n",
       "      <th>299</th>\n",
       "    </tr>\n",
       "  </thead>\n",
       "  <tbody>\n",
       "    <tr>\n",
       "      <th>0</th>\n",
       "      <td>250</td>\n",
       "      <td>0.500</td>\n",
       "      <td>-1.033</td>\n",
       "      <td>-1.595</td>\n",
       "      <td>0.309</td>\n",
       "      <td>-0.714</td>\n",
       "      <td>0.502</td>\n",
       "      <td>0.535</td>\n",
       "      <td>-0.129</td>\n",
       "      <td>-0.687</td>\n",
       "      <td>...</td>\n",
       "      <td>-0.088</td>\n",
       "      <td>-2.628</td>\n",
       "      <td>-0.845</td>\n",
       "      <td>2.078</td>\n",
       "      <td>-0.277</td>\n",
       "      <td>2.132</td>\n",
       "      <td>0.609</td>\n",
       "      <td>-0.104</td>\n",
       "      <td>0.312</td>\n",
       "      <td>0.979</td>\n",
       "    </tr>\n",
       "    <tr>\n",
       "      <th>1</th>\n",
       "      <td>251</td>\n",
       "      <td>0.776</td>\n",
       "      <td>0.914</td>\n",
       "      <td>-0.494</td>\n",
       "      <td>1.347</td>\n",
       "      <td>-0.867</td>\n",
       "      <td>0.480</td>\n",
       "      <td>0.578</td>\n",
       "      <td>-0.313</td>\n",
       "      <td>0.203</td>\n",
       "      <td>...</td>\n",
       "      <td>-0.683</td>\n",
       "      <td>-0.066</td>\n",
       "      <td>0.025</td>\n",
       "      <td>0.606</td>\n",
       "      <td>-0.353</td>\n",
       "      <td>-1.133</td>\n",
       "      <td>-3.138</td>\n",
       "      <td>0.281</td>\n",
       "      <td>-0.625</td>\n",
       "      <td>-0.761</td>\n",
       "    </tr>\n",
       "    <tr>\n",
       "      <th>2</th>\n",
       "      <td>252</td>\n",
       "      <td>1.750</td>\n",
       "      <td>0.509</td>\n",
       "      <td>-0.057</td>\n",
       "      <td>0.835</td>\n",
       "      <td>-0.476</td>\n",
       "      <td>1.428</td>\n",
       "      <td>-0.701</td>\n",
       "      <td>-2.009</td>\n",
       "      <td>-1.378</td>\n",
       "      <td>...</td>\n",
       "      <td>-0.094</td>\n",
       "      <td>0.351</td>\n",
       "      <td>-0.607</td>\n",
       "      <td>-0.737</td>\n",
       "      <td>-0.031</td>\n",
       "      <td>0.701</td>\n",
       "      <td>0.976</td>\n",
       "      <td>0.135</td>\n",
       "      <td>-1.327</td>\n",
       "      <td>2.463</td>\n",
       "    </tr>\n",
       "    <tr>\n",
       "      <th>3</th>\n",
       "      <td>253</td>\n",
       "      <td>-0.556</td>\n",
       "      <td>-1.855</td>\n",
       "      <td>-0.682</td>\n",
       "      <td>0.578</td>\n",
       "      <td>1.592</td>\n",
       "      <td>0.512</td>\n",
       "      <td>-1.419</td>\n",
       "      <td>0.722</td>\n",
       "      <td>0.511</td>\n",
       "      <td>...</td>\n",
       "      <td>-0.336</td>\n",
       "      <td>-0.787</td>\n",
       "      <td>0.255</td>\n",
       "      <td>-0.031</td>\n",
       "      <td>-0.836</td>\n",
       "      <td>0.916</td>\n",
       "      <td>2.411</td>\n",
       "      <td>1.053</td>\n",
       "      <td>-1.601</td>\n",
       "      <td>-1.529</td>\n",
       "    </tr>\n",
       "    <tr>\n",
       "      <th>4</th>\n",
       "      <td>254</td>\n",
       "      <td>0.754</td>\n",
       "      <td>-0.245</td>\n",
       "      <td>1.173</td>\n",
       "      <td>-1.623</td>\n",
       "      <td>0.009</td>\n",
       "      <td>0.370</td>\n",
       "      <td>0.781</td>\n",
       "      <td>-1.763</td>\n",
       "      <td>-1.432</td>\n",
       "      <td>...</td>\n",
       "      <td>2.184</td>\n",
       "      <td>-1.090</td>\n",
       "      <td>0.216</td>\n",
       "      <td>1.186</td>\n",
       "      <td>-0.143</td>\n",
       "      <td>0.322</td>\n",
       "      <td>-0.068</td>\n",
       "      <td>-0.156</td>\n",
       "      <td>-1.153</td>\n",
       "      <td>0.825</td>\n",
       "    </tr>\n",
       "  </tbody>\n",
       "</table>\n",
       "<p>5 rows × 301 columns</p>\n",
       "</div>"
      ],
      "text/plain": [
       "    id      0      1      2      3      4      5      6      7      8  ...  \\\n",
       "0  250  0.500 -1.033 -1.595  0.309 -0.714  0.502  0.535 -0.129 -0.687  ...   \n",
       "1  251  0.776  0.914 -0.494  1.347 -0.867  0.480  0.578 -0.313  0.203  ...   \n",
       "2  252  1.750  0.509 -0.057  0.835 -0.476  1.428 -0.701 -2.009 -1.378  ...   \n",
       "3  253 -0.556 -1.855 -0.682  0.578  1.592  0.512 -1.419  0.722  0.511  ...   \n",
       "4  254  0.754 -0.245  1.173 -1.623  0.009  0.370  0.781 -1.763 -1.432  ...   \n",
       "\n",
       "     290    291    292    293    294    295    296    297    298    299  \n",
       "0 -0.088 -2.628 -0.845  2.078 -0.277  2.132  0.609 -0.104  0.312  0.979  \n",
       "1 -0.683 -0.066  0.025  0.606 -0.353 -1.133 -3.138  0.281 -0.625 -0.761  \n",
       "2 -0.094  0.351 -0.607 -0.737 -0.031  0.701  0.976  0.135 -1.327  2.463  \n",
       "3 -0.336 -0.787  0.255 -0.031 -0.836  0.916  2.411  1.053 -1.601 -1.529  \n",
       "4  2.184 -1.090  0.216  1.186 -0.143  0.322 -0.068 -0.156 -1.153  0.825  \n",
       "\n",
       "[5 rows x 301 columns]"
      ]
     },
     "execution_count": 3,
     "metadata": {},
     "output_type": "execute_result"
    }
   ],
   "source": [
    "df_test = pd.read_csv(data_dir+'/test.csv')\n",
    "df_test.head(5)"
   ]
  },
  {
   "cell_type": "markdown",
   "metadata": {
    "colab_type": "text",
    "id": "nBlmFMXyUt3n"
   },
   "source": [
    "# 3. Take train and test values from DataFrame"
   ]
  },
  {
   "cell_type": "code",
   "execution_count": 4,
   "metadata": {
    "colab": {},
    "colab_type": "code",
    "id": "jgnQnoa6Uxqh"
   },
   "outputs": [],
   "source": [
    "# Take separate for features value\n",
    "tr_X = df_train.drop(['id','target'], axis=1)\n",
    "# Take separate for class value\n",
    "tr_y = df_train['target'].values\n",
    "# Take test feature value\n",
    "ts_X = df_test.drop(['id'], axis=1)"
   ]
  },
  {
   "cell_type": "markdown",
   "metadata": {},
   "source": [
    "Note: Don't worry about splitting train data into train and cv. I apply Stratify CV technique while modelling"
   ]
  },
  {
   "cell_type": "markdown",
   "metadata": {
    "colab_type": "text",
    "id": "NRt6QYU7Vdu0"
   },
   "source": [
    "# 4. Standardization"
   ]
  },
  {
   "cell_type": "code",
   "execution_count": 5,
   "metadata": {
    "colab": {
     "base_uri": "https://localhost:8080/",
     "height": 244
    },
    "colab_type": "code",
    "executionInfo": {
     "elapsed": 1610,
     "status": "ok",
     "timestamp": 1586509260250,
     "user": {
      "displayName": "Sahil -",
      "photoUrl": "",
      "userId": "14051148522636395588"
     },
     "user_tz": -330
    },
    "id": "BI7gXgikUtNa",
    "outputId": "06905b5f-7b40-4bd3-b328-f958a653b9bd"
   },
   "outputs": [
    {
     "data": {
      "text/html": [
       "<div>\n",
       "<style scoped>\n",
       "    .dataframe tbody tr th:only-of-type {\n",
       "        vertical-align: middle;\n",
       "    }\n",
       "\n",
       "    .dataframe tbody tr th {\n",
       "        vertical-align: top;\n",
       "    }\n",
       "\n",
       "    .dataframe thead th {\n",
       "        text-align: right;\n",
       "    }\n",
       "</style>\n",
       "<table border=\"1\" class=\"dataframe\">\n",
       "  <thead>\n",
       "    <tr style=\"text-align: right;\">\n",
       "      <th></th>\n",
       "      <th>0</th>\n",
       "      <th>1</th>\n",
       "      <th>2</th>\n",
       "      <th>3</th>\n",
       "      <th>4</th>\n",
       "      <th>5</th>\n",
       "      <th>6</th>\n",
       "      <th>7</th>\n",
       "      <th>8</th>\n",
       "      <th>9</th>\n",
       "      <th>...</th>\n",
       "      <th>290</th>\n",
       "      <th>291</th>\n",
       "      <th>292</th>\n",
       "      <th>293</th>\n",
       "      <th>294</th>\n",
       "      <th>295</th>\n",
       "      <th>296</th>\n",
       "      <th>297</th>\n",
       "      <th>298</th>\n",
       "      <th>299</th>\n",
       "    </tr>\n",
       "  </thead>\n",
       "  <tbody>\n",
       "    <tr>\n",
       "      <th>0</th>\n",
       "      <td>-0.121736</td>\n",
       "      <td>2.176002</td>\n",
       "      <td>0.503692</td>\n",
       "      <td>-0.609972</td>\n",
       "      <td>1.265232</td>\n",
       "      <td>-0.469388</td>\n",
       "      <td>-0.266814</td>\n",
       "      <td>0.210682</td>\n",
       "      <td>-2.296917</td>\n",
       "      <td>1.758518</td>\n",
       "      <td>...</td>\n",
       "      <td>0.814697</td>\n",
       "      <td>1.257605</td>\n",
       "      <td>0.509875</td>\n",
       "      <td>-0.664341</td>\n",
       "      <td>0.699064</td>\n",
       "      <td>-1.921131</td>\n",
       "      <td>1.040182</td>\n",
       "      <td>-0.421724</td>\n",
       "      <td>1.022411</td>\n",
       "      <td>-0.965720</td>\n",
       "    </tr>\n",
       "    <tr>\n",
       "      <th>1</th>\n",
       "      <td>1.061577</td>\n",
       "      <td>-0.939278</td>\n",
       "      <td>-0.539790</td>\n",
       "      <td>0.320974</td>\n",
       "      <td>-0.415729</td>\n",
       "      <td>0.340017</td>\n",
       "      <td>1.134681</td>\n",
       "      <td>0.291718</td>\n",
       "      <td>0.042547</td>\n",
       "      <td>-0.320787</td>\n",
       "      <td>...</td>\n",
       "      <td>-0.207701</td>\n",
       "      <td>-1.876475</td>\n",
       "      <td>-1.339295</td>\n",
       "      <td>1.430147</td>\n",
       "      <td>-0.703385</td>\n",
       "      <td>-1.464704</td>\n",
       "      <td>-0.522377</td>\n",
       "      <td>-1.108796</td>\n",
       "      <td>-0.939658</td>\n",
       "      <td>1.136883</td>\n",
       "    </tr>\n",
       "    <tr>\n",
       "      <th>2</th>\n",
       "      <td>-0.548290</td>\n",
       "      <td>-0.061678</td>\n",
       "      <td>-0.505465</td>\n",
       "      <td>0.144689</td>\n",
       "      <td>-0.022827</td>\n",
       "      <td>0.431232</td>\n",
       "      <td>-0.054798</td>\n",
       "      <td>-0.267006</td>\n",
       "      <td>0.180835</td>\n",
       "      <td>0.144993</td>\n",
       "      <td>...</td>\n",
       "      <td>-0.031358</td>\n",
       "      <td>0.140793</td>\n",
       "      <td>-1.302542</td>\n",
       "      <td>0.769883</td>\n",
       "      <td>1.430611</td>\n",
       "      <td>-1.021786</td>\n",
       "      <td>-1.646923</td>\n",
       "      <td>-0.002459</td>\n",
       "      <td>0.785850</td>\n",
       "      <td>-1.116348</td>\n",
       "    </tr>\n",
       "    <tr>\n",
       "      <th>3</th>\n",
       "      <td>0.043868</td>\n",
       "      <td>0.005829</td>\n",
       "      <td>0.220265</td>\n",
       "      <td>-1.623118</td>\n",
       "      <td>-0.433148</td>\n",
       "      <td>-0.752470</td>\n",
       "      <td>-1.062122</td>\n",
       "      <td>0.805660</td>\n",
       "      <td>0.561388</td>\n",
       "      <td>0.234415</td>\n",
       "      <td>...</td>\n",
       "      <td>-0.444478</td>\n",
       "      <td>0.529204</td>\n",
       "      <td>-0.644150</td>\n",
       "      <td>-0.994994</td>\n",
       "      <td>0.915116</td>\n",
       "      <td>0.553031</td>\n",
       "      <td>-0.630069</td>\n",
       "      <td>-0.261240</td>\n",
       "      <td>-0.539094</td>\n",
       "      <td>0.378584</td>\n",
       "    </tr>\n",
       "    <tr>\n",
       "      <th>4</th>\n",
       "      <td>2.332208</td>\n",
       "      <td>-0.798306</td>\n",
       "      <td>0.336970</td>\n",
       "      <td>-0.022683</td>\n",
       "      <td>1.183942</td>\n",
       "      <td>1.678890</td>\n",
       "      <td>0.550393</td>\n",
       "      <td>1.525391</td>\n",
       "      <td>0.025911</td>\n",
       "      <td>2.125050</td>\n",
       "      <td>...</td>\n",
       "      <td>0.845409</td>\n",
       "      <td>0.007888</td>\n",
       "      <td>2.516556</td>\n",
       "      <td>-1.026286</td>\n",
       "      <td>-0.891009</td>\n",
       "      <td>1.432111</td>\n",
       "      <td>1.242103</td>\n",
       "      <td>1.476000</td>\n",
       "      <td>0.416098</td>\n",
       "      <td>0.394060</td>\n",
       "    </tr>\n",
       "  </tbody>\n",
       "</table>\n",
       "<p>5 rows × 300 columns</p>\n",
       "</div>"
      ],
      "text/plain": [
       "        0         1         2         3         4         5         6    \\\n",
       "0 -0.121736  2.176002  0.503692 -0.609972  1.265232 -0.469388 -0.266814   \n",
       "1  1.061577 -0.939278 -0.539790  0.320974 -0.415729  0.340017  1.134681   \n",
       "2 -0.548290 -0.061678 -0.505465  0.144689 -0.022827  0.431232 -0.054798   \n",
       "3  0.043868  0.005829  0.220265 -1.623118 -0.433148 -0.752470 -1.062122   \n",
       "4  2.332208 -0.798306  0.336970 -0.022683  1.183942  1.678890  0.550393   \n",
       "\n",
       "        7         8         9    ...       290       291       292       293  \\\n",
       "0  0.210682 -2.296917  1.758518  ...  0.814697  1.257605  0.509875 -0.664341   \n",
       "1  0.291718  0.042547 -0.320787  ... -0.207701 -1.876475 -1.339295  1.430147   \n",
       "2 -0.267006  0.180835  0.144993  ... -0.031358  0.140793 -1.302542  0.769883   \n",
       "3  0.805660  0.561388  0.234415  ... -0.444478  0.529204 -0.644150 -0.994994   \n",
       "4  1.525391  0.025911  2.125050  ...  0.845409  0.007888  2.516556 -1.026286   \n",
       "\n",
       "        294       295       296       297       298       299  \n",
       "0  0.699064 -1.921131  1.040182 -0.421724  1.022411 -0.965720  \n",
       "1 -0.703385 -1.464704 -0.522377 -1.108796 -0.939658  1.136883  \n",
       "2  1.430611 -1.021786 -1.646923 -0.002459  0.785850 -1.116348  \n",
       "3  0.915116  0.553031 -0.630069 -0.261240 -0.539094  0.378584  \n",
       "4 -0.891009  1.432111  1.242103  1.476000  0.416098  0.394060  \n",
       "\n",
       "[5 rows x 300 columns]"
      ]
     },
     "execution_count": 5,
     "metadata": {},
     "output_type": "execute_result"
    }
   ],
   "source": [
    "stand_vec = StandardScaler()\n",
    "tr_X = stand_vec.fit_transform(tr_X)\n",
    "pd.DataFrame(tr_X).head(5)"
   ]
  },
  {
   "cell_type": "code",
   "execution_count": 6,
   "metadata": {},
   "outputs": [
    {
     "data": {
      "text/html": [
       "<div>\n",
       "<style scoped>\n",
       "    .dataframe tbody tr th:only-of-type {\n",
       "        vertical-align: middle;\n",
       "    }\n",
       "\n",
       "    .dataframe tbody tr th {\n",
       "        vertical-align: top;\n",
       "    }\n",
       "\n",
       "    .dataframe thead th {\n",
       "        text-align: right;\n",
       "    }\n",
       "</style>\n",
       "<table border=\"1\" class=\"dataframe\">\n",
       "  <thead>\n",
       "    <tr style=\"text-align: right;\">\n",
       "      <th></th>\n",
       "      <th>0</th>\n",
       "      <th>1</th>\n",
       "      <th>2</th>\n",
       "      <th>3</th>\n",
       "      <th>4</th>\n",
       "      <th>5</th>\n",
       "      <th>6</th>\n",
       "      <th>7</th>\n",
       "      <th>8</th>\n",
       "      <th>9</th>\n",
       "      <th>...</th>\n",
       "      <th>290</th>\n",
       "      <th>291</th>\n",
       "      <th>292</th>\n",
       "      <th>293</th>\n",
       "      <th>294</th>\n",
       "      <th>295</th>\n",
       "      <th>296</th>\n",
       "      <th>297</th>\n",
       "      <th>298</th>\n",
       "      <th>299</th>\n",
       "    </tr>\n",
       "  </thead>\n",
       "  <tbody>\n",
       "    <tr>\n",
       "      <th>0</th>\n",
       "      <td>0.478452</td>\n",
       "      <td>-0.998843</td>\n",
       "      <td>-1.728417</td>\n",
       "      <td>0.304138</td>\n",
       "      <td>-0.692502</td>\n",
       "      <td>0.533981</td>\n",
       "      <td>0.500624</td>\n",
       "      <td>-0.221157</td>\n",
       "      <td>-0.675928</td>\n",
       "      <td>1.233779</td>\n",
       "      <td>...</td>\n",
       "      <td>-0.131418</td>\n",
       "      <td>-2.837717</td>\n",
       "      <td>-0.906667</td>\n",
       "      <td>2.180115</td>\n",
       "      <td>-0.200209</td>\n",
       "      <td>2.159692</td>\n",
       "      <td>0.582494</td>\n",
       "      <td>-0.110786</td>\n",
       "      <td>0.300799</td>\n",
       "      <td>1.143073</td>\n",
       "    </tr>\n",
       "    <tr>\n",
       "      <th>1</th>\n",
       "      <td>0.755461</td>\n",
       "      <td>0.934060</td>\n",
       "      <td>-0.648649</td>\n",
       "      <td>1.332140</td>\n",
       "      <td>-0.840565</td>\n",
       "      <td>0.510915</td>\n",
       "      <td>0.543426</td>\n",
       "      <td>-0.417350</td>\n",
       "      <td>0.249460</td>\n",
       "      <td>1.297652</td>\n",
       "      <td>...</td>\n",
       "      <td>-0.720882</td>\n",
       "      <td>-0.198166</td>\n",
       "      <td>0.006893</td>\n",
       "      <td>0.644714</td>\n",
       "      <td>-0.272227</td>\n",
       "      <td>-0.990908</td>\n",
       "      <td>-3.297498</td>\n",
       "      <td>0.275379</td>\n",
       "      <td>-0.630538</td>\n",
       "      <td>-0.652084</td>\n",
       "    </tr>\n",
       "    <tr>\n",
       "      <th>2</th>\n",
       "      <td>1.733024</td>\n",
       "      <td>0.531992</td>\n",
       "      <td>-0.220077</td>\n",
       "      <td>0.825072</td>\n",
       "      <td>-0.462180</td>\n",
       "      <td>1.504847</td>\n",
       "      <td>-0.729665</td>\n",
       "      <td>-2.225742</td>\n",
       "      <td>-1.394404</td>\n",
       "      <td>0.129271</td>\n",
       "      <td>...</td>\n",
       "      <td>-0.137362</td>\n",
       "      <td>0.231456</td>\n",
       "      <td>-0.656750</td>\n",
       "      <td>-0.756131</td>\n",
       "      <td>0.032901</td>\n",
       "      <td>0.778832</td>\n",
       "      <td>0.962520</td>\n",
       "      <td>0.128937</td>\n",
       "      <td>-1.328295</td>\n",
       "      <td>2.674115</td>\n",
       "    </tr>\n",
       "    <tr>\n",
       "      <th>3</th>\n",
       "      <td>-0.581411</td>\n",
       "      <td>-1.814892</td>\n",
       "      <td>-0.833024</td>\n",
       "      <td>0.570547</td>\n",
       "      <td>1.539102</td>\n",
       "      <td>0.544465</td>\n",
       "      <td>-1.444348</td>\n",
       "      <td>0.686238</td>\n",
       "      <td>0.569706</td>\n",
       "      <td>0.522334</td>\n",
       "      <td>...</td>\n",
       "      <td>-0.377110</td>\n",
       "      <td>-0.940990</td>\n",
       "      <td>0.248408</td>\n",
       "      <td>-0.019722</td>\n",
       "      <td>-0.729917</td>\n",
       "      <td>0.986299</td>\n",
       "      <td>2.448452</td>\n",
       "      <td>1.049714</td>\n",
       "      <td>-1.600639</td>\n",
       "      <td>-1.444429</td>\n",
       "    </tr>\n",
       "    <tr>\n",
       "      <th>4</th>\n",
       "      <td>0.733381</td>\n",
       "      <td>-0.216549</td>\n",
       "      <td>0.986204</td>\n",
       "      <td>-1.609253</td>\n",
       "      <td>0.007173</td>\n",
       "      <td>0.395585</td>\n",
       "      <td>0.745488</td>\n",
       "      <td>-1.963439</td>\n",
       "      <td>-1.450551</td>\n",
       "      <td>-0.948706</td>\n",
       "      <td>...</td>\n",
       "      <td>2.119444</td>\n",
       "      <td>-1.253162</td>\n",
       "      <td>0.207456</td>\n",
       "      <td>1.249696</td>\n",
       "      <td>-0.073231</td>\n",
       "      <td>0.413112</td>\n",
       "      <td>-0.118535</td>\n",
       "      <td>-0.162943</td>\n",
       "      <td>-1.155347</td>\n",
       "      <td>0.984192</td>\n",
       "    </tr>\n",
       "  </tbody>\n",
       "</table>\n",
       "<p>5 rows × 300 columns</p>\n",
       "</div>"
      ],
      "text/plain": [
       "        0         1         2         3         4         5         6    \\\n",
       "0  0.478452 -0.998843 -1.728417  0.304138 -0.692502  0.533981  0.500624   \n",
       "1  0.755461  0.934060 -0.648649  1.332140 -0.840565  0.510915  0.543426   \n",
       "2  1.733024  0.531992 -0.220077  0.825072 -0.462180  1.504847 -0.729665   \n",
       "3 -0.581411 -1.814892 -0.833024  0.570547  1.539102  0.544465 -1.444348   \n",
       "4  0.733381 -0.216549  0.986204 -1.609253  0.007173  0.395585  0.745488   \n",
       "\n",
       "        7         8         9    ...       290       291       292       293  \\\n",
       "0 -0.221157 -0.675928  1.233779  ... -0.131418 -2.837717 -0.906667  2.180115   \n",
       "1 -0.417350  0.249460  1.297652  ... -0.720882 -0.198166  0.006893  0.644714   \n",
       "2 -2.225742 -1.394404  0.129271  ... -0.137362  0.231456 -0.656750 -0.756131   \n",
       "3  0.686238  0.569706  0.522334  ... -0.377110 -0.940990  0.248408 -0.019722   \n",
       "4 -1.963439 -1.450551 -0.948706  ...  2.119444 -1.253162  0.207456  1.249696   \n",
       "\n",
       "        294       295       296       297       298       299  \n",
       "0 -0.200209  2.159692  0.582494 -0.110786  0.300799  1.143073  \n",
       "1 -0.272227 -0.990908 -3.297498  0.275379 -0.630538 -0.652084  \n",
       "2  0.032901  0.778832  0.962520  0.128937 -1.328295  2.674115  \n",
       "3 -0.729917  0.986299  2.448452  1.049714 -1.600639 -1.444429  \n",
       "4 -0.073231  0.413112 -0.118535 -0.162943 -1.155347  0.984192  \n",
       "\n",
       "[5 rows x 300 columns]"
      ]
     },
     "execution_count": 6,
     "metadata": {},
     "output_type": "execute_result"
    }
   ],
   "source": [
    "ts_X = stand_vec.transform(ts_X)\n",
    "pd.DataFrame(ts_X).head(5)"
   ]
  },
  {
   "cell_type": "markdown",
   "metadata": {
    "colab_type": "text",
    "id": "WmKe-W2plRiA"
   },
   "source": [
    "# 5. Apply ML Models (with hyperparameter)"
   ]
  },
  {
   "cell_type": "code",
   "execution_count": 8,
   "metadata": {
    "colab": {},
    "colab_type": "code",
    "id": "ab483jE0PGr3"
   },
   "outputs": [],
   "source": [
    "def hyperparameter_model(models, params):\n",
    "    '''\n",
    "    Hyperparameter tuning with StratifiedKFold follow by GridSearchCV follow by CalibratedClassifier\n",
    "    \n",
    "    Parameters:\n",
    "    models: Instance of the model\n",
    "    params: list of parameters with value fr tuning (dict)\n",
    "    \n",
    "    Return:\n",
    "    grid_clf: return gridsearch model    \n",
    "    '''\n",
    "    # Random shuffle after every iteration with stratify\n",
    "    str_cv = RepeatedStratifiedKFold(n_splits=10, n_repeats=5, random_state=42)\n",
    "    # Find the right hyperparameter for the model\n",
    "    grid_clf = GridSearchCV(models, params, cv=str_cv, return_train_score=True, scoring='roc_auc')\n",
    "    # Fit on train data\n",
    "    grid_clf.fit(tr_X, tr_y)\n",
    "    return grid_clf\n",
    "\n",
    "def plot_feature_importance(model, model_name, top_n = 10):\n",
    "    '''\n",
    "    Compute ROC curve and ROC area for each class\n",
    "    \n",
    "    Parameters:\n",
    "    try_true: train true label\n",
    "    try_pred: train predict probabilities value\n",
    "    cvy_true: cv true label\n",
    "    cvy_pred: cv predict probabilities value\n",
    "    n_classes: number of unique classes\n",
    "    \n",
    "    Return:\n",
    "    Plot of ROC Curve for train and cv data    \n",
    "    '''       \n",
    "    column_name = df_train.drop(['id','target'], axis=1).columns\n",
    "    if model_name == 'log_model':\n",
    "        feat_imp_coef = model.coef_.ravel()\n",
    "    else:\n",
    "        feat_imp_coef = model.feature_importances_\n",
    "    temp = pd.DataFrame(data=np.column_stack((column_name, feat_imp_coef)), columns=['col_name','coef'])\n",
    "    temp = temp.sort_values(by='coef', ascending=False).reset_index()\n",
    "    df = temp\n",
    "    temp = temp[:top_n]\n",
    "    plt.figure(figsize=(20,5))\n",
    "    sns.barplot(data=temp, y='coef', x='col_name', order=temp['col_name'])\n",
    "    plt.grid()\n",
    "    plt.show()\n",
    "    return df"
   ]
  },
  {
   "cell_type": "code",
   "execution_count": 12,
   "metadata": {},
   "outputs": [],
   "source": [
    "def forward_selection_model(model, top_n=10):\n",
    "    # List of top feature column variable\n",
    "    top_column = []\n",
    "    # To store cross val score\n",
    "    exist_score = 0\n",
    "    # Iterate over till number of top feature desired\n",
    "    for n in range(top_n):\n",
    "        print('for {} feature'.format(n+1))\n",
    "        flag = 0\n",
    "        # Iterate over all the feature in train data\n",
    "        for i in tqdm.tqdm_notebook(range(tr_X.shape[1])):\n",
    "            # Finding for first top feature\n",
    "            if len(top_column) == 0:\n",
    "                str_cv = RepeatedStratifiedKFold(n_splits=10, n_repeats=5, random_state=42)\n",
    "                score = cross_val_score(model,tr_X[:,[i]],tr_y,cv=str_cv,scoring='roc_auc')\n",
    "                if exist_score < np.mean(score):\n",
    "                    top_current = i\n",
    "                    exist_score = np.mean(score)\n",
    "                    flag = 1\n",
    "            # Excluded apart from top column\n",
    "            elif i not in top_column:\n",
    "                str_cv = RepeatedStratifiedKFold(n_splits=10, n_repeats=5, random_state=42)\n",
    "                score = cross_val_score(model,tr_X[:,np.concatenate((top_column,[i]))],tr_y,cv=str_cv,scoring='roc_auc')\n",
    "                if exist_score < np.mean(score):\n",
    "                    top_current = i\n",
    "                    exist_score = np.mean(score)\n",
    "                    flag = 1\n",
    "        \n",
    "        if flag == 1:\n",
    "            print('Current top feature {} and score: {}'.format(top_current,exist_score))\n",
    "            print('Appended to top column')\n",
    "            top_column.append(top_current)\n",
    "            print(top_column)\n",
    "        else:\n",
    "            break\n",
    "    return top_column"
   ]
  },
  {
   "cell_type": "markdown",
   "metadata": {},
   "source": [
    "# 5.1 kNN"
   ]
  },
  {
   "cell_type": "code",
   "execution_count": 10,
   "metadata": {},
   "outputs": [],
   "source": [
    "# Import KNN\n",
    "from sklearn.neighbors import KNeighborsClassifier"
   ]
  },
  {
   "cell_type": "code",
   "execution_count": 11,
   "metadata": {},
   "outputs": [],
   "source": [
    "# kNN (See Docs: https://scikit-learn.org/stable/modules/generated/sklearn.neighbors.KNeighborsClassifier.html)\n",
    "\n",
    "# List of params\n",
    "params = {'n_neighbors':np.arange(3,51,2).tolist(), 'algorithm': ['kd_tree', 'brute']}\n",
    "# Instance of knn model\n",
    "knn_model = KNeighborsClassifier()\n",
    "# Call hyperparameter for find the best params as possible\n",
    "knn_clf = hyperparameter_model(knn_model, params)"
   ]
  },
  {
   "cell_type": "code",
   "execution_count": 13,
   "metadata": {},
   "outputs": [
    {
     "data": {
      "image/png": "[encoded data removed]",
      "text/plain": [
       "<Figure size 432x288 with 2 Axes>"
      ]
     },
     "metadata": {
      "needs_background": "light"
     },
     "output_type": "display_data"
    },
    {
     "data": {
      "image/png": "[encoded data removed]",
      "text/plain": [
       "<Figure size 432x288 with 2 Axes>"
      ]
     },
     "metadata": {
      "needs_background": "light"
     },
     "output_type": "display_data"
    }
   ],
   "source": [
    "cv_pvt = pd.pivot_table(pd.DataFrame(knn_clf.cv_results_), values='mean_test_score', index='param_n_neighbors', \\\n",
    "                     columns='param_algorithm')\n",
    "tr_pvt = pd.pivot_table(pd.DataFrame(knn_clf.cv_results_), values='mean_train_score', index='param_n_neighbors', \\\n",
    "                     columns='param_algorithm')\n",
    "\n",
    "plt.title('Train Hyperparameter')\n",
    "sns.heatmap(tr_pvt, annot=True)\n",
    "plt.show()\n",
    "\n",
    "plt.title('CV Hyperparameter')\n",
    "sns.heatmap(cv_pvt, annot=True)\n",
    "plt.show()"
   ]
  },
  {
   "cell_type": "code",
   "execution_count": 15,
   "metadata": {},
   "outputs": [
    {
     "name": "stdout",
     "output_type": "stream",
     "text": [
      "{'algorithm': 'kd_tree', 'n_neighbors': 35}\n"
     ]
    }
   ],
   "source": [
    "print(knn_clf.best_params_)"
   ]
  },
  {
   "cell_type": "code",
   "execution_count": 18,
   "metadata": {},
   "outputs": [
    {
     "data": {
      "text/plain": [
       "CalibratedClassifierCV(base_estimator=GridSearchCV(cv=RepeatedStratifiedKFold(n_repeats=5, n_splits=10, random_state=42),\n",
       "                                                   error_score=nan,\n",
       "                                                   estimator=KNeighborsClassifier(algorithm='auto',\n",
       "                                                                                  leaf_size=30,\n",
       "                                                                                  metric='minkowski',\n",
       "                                                                                  metric_params=None,\n",
       "                                                                                  n_jobs=None,\n",
       "                                                                                  n_neighbors=5,\n",
       "                                                                                  p=2,\n",
       "                                                                                  weights='uniform'),\n",
       "                                                   iid='deprecated',\n",
       "                                                   n_jobs=None,\n",
       "                                                   param_grid={'algorithm': ['kd_tree',\n",
       "                                                                             'brute'],\n",
       "                                                               'n_neighbors': [3,\n",
       "                                                                               5,\n",
       "                                                                               7,\n",
       "                                                                               9,\n",
       "                                                                               11,\n",
       "                                                                               13,\n",
       "                                                                               15,\n",
       "                                                                               17,\n",
       "                                                                               19,\n",
       "                                                                               21,\n",
       "                                                                               23,\n",
       "                                                                               25,\n",
       "                                                                               27,\n",
       "                                                                               29,\n",
       "                                                                               31,\n",
       "                                                                               33,\n",
       "                                                                               35,\n",
       "                                                                               37,\n",
       "                                                                               39,\n",
       "                                                                               41,\n",
       "                                                                               43,\n",
       "                                                                               45,\n",
       "                                                                               47,\n",
       "                                                                               49]},\n",
       "                                                   pre_dispatch='2*n_jobs',\n",
       "                                                   refit=True,\n",
       "                                                   return_train_score=True,\n",
       "                                                   scoring='roc_auc',\n",
       "                                                   verbose=0),\n",
       "                       cv=3, method='sigmoid')"
      ]
     },
     "execution_count": 18,
     "metadata": {},
     "output_type": "execute_result"
    }
   ],
   "source": [
    "clf = CalibratedClassifierCV(knn_clf, cv=3)\n",
    "clf.fit(tr_X,tr_y)"
   ]
  },
  {
   "cell_type": "markdown",
   "metadata": {},
   "source": [
    "# 5.1.1 Kaggle Score without top features"
   ]
  },
  {
   "cell_type": "code",
   "execution_count": 19,
   "metadata": {},
   "outputs": [],
   "source": [
    "# Create a submssion format to make submission in Kaggle\n",
    "temp_id = df_test['id']\n",
    "knn_csv = clf.predict_proba(ts_X)[:,1]\n",
    "knn_df = pd.DataFrame(np.column_stack((temp_id,knn_csv)), columns=['id','target'])\n",
    "knn_df['id'] = knn_df['id'].astype('int32')\n",
    "knn_df.to_csv(data_dir+'/submission_knn.csv', index=False)"
   ]
  },
  {
   "cell_type": "code",
   "execution_count": 21,
   "metadata": {},
   "outputs": [
    {
     "data": {
      "text/plain": [
       "<matplotlib.image.AxesImage at 0x266dc241548>"
      ]
     },
     "execution_count": 21,
     "metadata": {},
     "output_type": "execute_result"
    },
    {
     "data": {
      "image/png": "[encoded data removed]",
      "text/plain": [
       "<Figure size 1296x360 with 1 Axes>"
      ]
     },
     "metadata": {
      "needs_background": "light"
     },
     "output_type": "display_data"
    }
   ],
   "source": [
    "image = plt.imread(data_dir+'/submission_knn.png')\n",
    "plt.figure(figsize=(18,5))\n",
    "plt.imshow(image)"
   ]
  },
  {
   "cell_type": "markdown",
   "metadata": {
    "colab_type": "text",
    "id": "mJM6bFjd9wWj"
   },
   "source": [
    "## 5.2 Logistic Regression"
   ]
  },
  {
   "cell_type": "code",
   "execution_count": 22,
   "metadata": {
    "colab": {},
    "colab_type": "code",
    "id": "oPzbxrko6TvH"
   },
   "outputs": [],
   "source": [
    "# Import Logistic Regression\n",
    "from sklearn.linear_model import LogisticRegression"
   ]
  },
  {
   "cell_type": "code",
   "execution_count": 23,
   "metadata": {
    "colab": {},
    "colab_type": "code",
    "id": "cXCJKyRhf-jY"
   },
   "outputs": [],
   "source": [
    "# LogisticRegression (See Docs: https://scikit-learn.org/stable/modules/generated/sklearn.linear_model.LogisticRegression.html)\n",
    "\n",
    "# List of hyperparameter that has to be tuned\n",
    "params = {'penalty':['l1', 'l2', 'elasticnet'], 'C':[10**i for i in range(-4,5)], 'solver':['liblinear','sag']}\n",
    "# Instance of Logsitic Regression\n",
    "log_model = LogisticRegression(random_state=42, class_weight='balanced')\n",
    "# Call hyperparameter to get the best parameters of this model\n",
    "log_clf = hyperparameter_model(log_model, params)"
   ]
  },
  {
   "cell_type": "code",
   "execution_count": 24,
   "metadata": {},
   "outputs": [
    {
     "data": {
      "image/png": "[encoded data removed]",
      "text/plain": [
       "<Figure size 432x288 with 2 Axes>"
      ]
     },
     "metadata": {
      "needs_background": "light"
     },
     "output_type": "display_data"
    },
    {
     "data": {
      "image/png": "[encoded data removed]",
      "text/plain": [
       "<Figure size 432x288 with 2 Axes>"
      ]
     },
     "metadata": {
      "needs_background": "light"
     },
     "output_type": "display_data"
    }
   ],
   "source": [
    "cv_pvt = pd.pivot_table(pd.DataFrame(log_clf.cv_results_), values='mean_test_score', index='param_penalty', \\\n",
    "                     columns='param_C')\n",
    "tr_pvt = pd.pivot_table(pd.DataFrame(log_clf.cv_results_), values='mean_train_score', index='param_penalty', \\\n",
    "                     columns='param_C')\n",
    "\n",
    "plt.title('Train Hyperparameter')\n",
    "sns.heatmap(tr_pvt, annot=True)\n",
    "plt.show()\n",
    "\n",
    "plt.title('CV Hyperparameter')\n",
    "sns.heatmap(cv_pvt, annot=True)\n",
    "plt.show()"
   ]
  },
  {
   "cell_type": "code",
   "execution_count": 25,
   "metadata": {
    "colab": {
     "base_uri": "https://localhost:8080/",
     "height": 34
    },
    "colab_type": "code",
    "executionInfo": {
     "elapsed": 818,
     "status": "ok",
     "timestamp": 1586509398848,
     "user": {
      "displayName": "Sahil -",
      "photoUrl": "",
      "userId": "14051148522636395588"
     },
     "user_tz": -330
    },
    "id": "rnAEVo73g-65",
    "outputId": "f309b5e0-4042-4c10-e1c4-839f75acb227"
   },
   "outputs": [
    {
     "name": "stdout",
     "output_type": "stream",
     "text": [
      "{'C': 0.1, 'penalty': 'l1', 'solver': 'liblinear'}\n"
     ]
    }
   ],
   "source": [
    "print(log_clf.best_params_)"
   ]
  },
  {
   "cell_type": "code",
   "execution_count": 26,
   "metadata": {
    "colab": {
     "base_uri": "https://localhost:8080/",
     "height": 101
    },
    "colab_type": "code",
    "executionInfo": {
     "elapsed": 1444,
     "status": "ok",
     "timestamp": 1586509414181,
     "user": {
      "displayName": "Sahil -",
      "photoUrl": "",
      "userId": "14051148522636395588"
     },
     "user_tz": -330
    },
    "id": "ovCjhEJahL2d",
    "outputId": "1d48717d-d1c4-402a-8bf1-84495ad747f7"
   },
   "outputs": [
    {
     "data": {
      "text/plain": [
       "LogisticRegression(C=0.1, class_weight='balanced', dual=False,\n",
       "                   fit_intercept=True, intercept_scaling=1, l1_ratio=None,\n",
       "                   max_iter=100, multi_class='auto', n_jobs=None, penalty='l1',\n",
       "                   random_state=42, solver='liblinear', tol=0.0001, verbose=0,\n",
       "                   warm_start=False)"
      ]
     },
     "execution_count": 26,
     "metadata": {},
     "output_type": "execute_result"
    }
   ],
   "source": [
    "log_model = LogisticRegression(**log_clf.best_params_, class_weight='balanced', random_state=42)\n",
    "log_model.fit(tr_X, tr_y)"
   ]
  },
  {
   "cell_type": "code",
   "execution_count": 27,
   "metadata": {
    "colab": {
     "base_uri": "https://localhost:8080/",
     "height": 320
    },
    "colab_type": "code",
    "executionInfo": {
     "elapsed": 1372,
     "status": "ok",
     "timestamp": 1586509419900,
     "user": {
      "displayName": "Sahil -",
      "photoUrl": "",
      "userId": "14051148522636395588"
     },
     "user_tz": -330
    },
    "id": "hyAAoQYdv55w",
    "outputId": "4f708bc7-57a9-4093-fd2d-fc956b61dab6"
   },
   "outputs": [
    {
     "data": {
      "image/png": "[encoded data removed]",
      "text/plain": [
       "<Figure size 1440x360 with 1 Axes>"
      ]
     },
     "metadata": {
      "needs_background": "light"
     },
     "output_type": "display_data"
    }
   ],
   "source": [
    "df = plot_feature_importance(log_model, 'log_model', 20)"
   ]
  },
  {
   "cell_type": "code",
   "execution_count": 28,
   "metadata": {},
   "outputs": [
    {
     "data": {
      "text/plain": [
       "CalibratedClassifierCV(base_estimator=GridSearchCV(cv=RepeatedStratifiedKFold(n_repeats=5, n_splits=10, random_state=42),\n",
       "                                                   error_score=nan,\n",
       "                                                   estimator=LogisticRegression(C=1.0,\n",
       "                                                                                class_weight='balanced',\n",
       "                                                                                dual=False,\n",
       "                                                                                fit_intercept=True,\n",
       "                                                                                intercept_scaling=1,\n",
       "                                                                                l1_ratio=None,\n",
       "                                                                                max_iter=100,\n",
       "                                                                                multi_class='auto',\n",
       "                                                                                n_jobs=None,\n",
       "                                                                                penalty='l2',\n",
       "                                                                                random_state=42,\n",
       "                                                                                solver='lbfgs',\n",
       "                                                                                tol=0.0001,\n",
       "                                                                                verbose=0,\n",
       "                                                                                warm_start=False),\n",
       "                                                   iid='deprecated',\n",
       "                                                   n_jobs=None,\n",
       "                                                   param_grid={'C': [0.0001,\n",
       "                                                                     0.001,\n",
       "                                                                     0.01, 0.1,\n",
       "                                                                     1, 10, 100,\n",
       "                                                                     1000,\n",
       "                                                                     10000],\n",
       "                                                               'penalty': ['l1',\n",
       "                                                                           'l2',\n",
       "                                                                           'elasticnet'],\n",
       "                                                               'solver': ['liblinear',\n",
       "                                                                          'sag']},\n",
       "                                                   pre_dispatch='2*n_jobs',\n",
       "                                                   refit=True,\n",
       "                                                   return_train_score=True,\n",
       "                                                   scoring='roc_auc',\n",
       "                                                   verbose=0),\n",
       "                       cv=3, method='sigmoid')"
      ]
     },
     "execution_count": 28,
     "metadata": {},
     "output_type": "execute_result"
    }
   ],
   "source": [
    "clf = CalibratedClassifierCV(log_clf, cv=3)\n",
    "clf.fit(tr_X,tr_y)"
   ]
  },
  {
   "cell_type": "markdown",
   "metadata": {},
   "source": [
    "# 5.2.1 Kaggle Score without top features"
   ]
  },
  {
   "cell_type": "code",
   "execution_count": 29,
   "metadata": {},
   "outputs": [],
   "source": [
    "# Create a submssion format to make submission in Kaggle\n",
    "temp_id = df_test['id']\n",
    "log_csv = clf.predict_proba(ts_X)[:,1]\n",
    "log_df = pd.DataFrame(np.column_stack((temp_id,log_csv)), columns=['id','target'])\n",
    "log_df['id'] = log_df['id'].astype('int32')\n",
    "log_df.to_csv(data_dir+'/submission_log.csv', index=False)"
   ]
  },
  {
   "cell_type": "code",
   "execution_count": 30,
   "metadata": {},
   "outputs": [
    {
     "data": {
      "text/plain": [
       "<matplotlib.image.AxesImage at 0x266dedfdd08>"
      ]
     },
     "execution_count": 30,
     "metadata": {},
     "output_type": "execute_result"
    },
    {
     "data": {
      "image/png": "[encoded data removed]",
      "text/plain": [
       "<Figure size 1296x360 with 1 Axes>"
      ]
     },
     "metadata": {
      "needs_background": "light"
     },
     "output_type": "display_data"
    }
   ],
   "source": [
    "image = plt.imread(data_dir+'/submission_log.png')\n",
    "plt.figure(figsize=(18,5))\n",
    "plt.imshow(image)"
   ]
  },
  {
   "cell_type": "markdown",
   "metadata": {},
   "source": [
    "# 5.2.2 Kaggle Score Using top 10 features based on Logistic Regression Model"
   ]
  },
  {
   "cell_type": "code",
   "execution_count": 31,
   "metadata": {
    "scrolled": false
   },
   "outputs": [
    {
     "name": "stdout",
     "output_type": "stream",
     "text": [
      "for 1 feature\n"
     ]
    },
    {
     "data": {
      "application/vnd.jupyter.widget-view+json": {
       "model_id": "d73c2237c016485ca0f2248d40f84b6e",
       "version_major": 2,
       "version_minor": 0
      },
      "text/plain": [
       "HBox(children=(FloatProgress(value=0.0, max=300.0), HTML(value='')))"
      ]
     },
     "metadata": {},
     "output_type": "display_data"
    },
    {
     "name": "stdout",
     "output_type": "stream",
     "text": [
      "\n",
      "Current top feature 33 and score: 0.7347222222222222\n",
      "Appended to top column\n",
      "[33]\n",
      "for 2 feature\n"
     ]
    },
    {
     "data": {
      "application/vnd.jupyter.widget-view+json": {
       "model_id": "3e44b5f3cfd3438f91cdd8efe6534d98",
       "version_major": 2,
       "version_minor": 0
      },
      "text/plain": [
       "HBox(children=(FloatProgress(value=0.0, max=300.0), HTML(value='')))"
      ]
     },
     "metadata": {},
     "output_type": "display_data"
    },
    {
     "name": "stdout",
     "output_type": "stream",
     "text": [
      "\n",
      "Current top feature 65 and score: 0.7876388888888887\n",
      "Appended to top column\n",
      "[33, 65]\n",
      "for 3 feature\n"
     ]
    },
    {
     "data": {
      "application/vnd.jupyter.widget-view+json": {
       "model_id": "011548833d3d48e2b477e5bc6a140692",
       "version_major": 2,
       "version_minor": 0
      },
      "text/plain": [
       "HBox(children=(FloatProgress(value=0.0, max=300.0), HTML(value='')))"
      ]
     },
     "metadata": {},
     "output_type": "display_data"
    },
    {
     "name": "stdout",
     "output_type": "stream",
     "text": [
      "\n",
      "Current top feature 217 and score: 0.8005555555555557\n",
      "Appended to top column\n",
      "[33, 65, 217]\n",
      "for 4 feature\n"
     ]
    },
    {
     "data": {
      "application/vnd.jupyter.widget-view+json": {
       "model_id": "42a6cfd147bb4718afcbc17d3040917d",
       "version_major": 2,
       "version_minor": 0
      },
      "text/plain": [
       "HBox(children=(FloatProgress(value=0.0, max=300.0), HTML(value='')))"
      ]
     },
     "metadata": {},
     "output_type": "display_data"
    },
    {
     "name": "stdout",
     "output_type": "stream",
     "text": [
      "\n",
      "Current top feature 117 and score: 0.8156944444444443\n",
      "Appended to top column\n",
      "[33, 65, 217, 117]\n",
      "for 5 feature\n"
     ]
    },
    {
     "data": {
      "application/vnd.jupyter.widget-view+json": {
       "model_id": "2101be496baa4111a965fa84c4d98479",
       "version_major": 2,
       "version_minor": 0
      },
      "text/plain": [
       "HBox(children=(FloatProgress(value=0.0, max=300.0), HTML(value='')))"
      ]
     },
     "metadata": {},
     "output_type": "display_data"
    },
    {
     "name": "stdout",
     "output_type": "stream",
     "text": [
      "\n",
      "Current top feature 91 and score: 0.8325\n",
      "Appended to top column\n",
      "[33, 65, 217, 117, 91]\n",
      "for 6 feature\n"
     ]
    },
    {
     "data": {
      "application/vnd.jupyter.widget-view+json": {
       "model_id": "b9b3ca28c3504fadbf6e566183f71ad2",
       "version_major": 2,
       "version_minor": 0
      },
      "text/plain": [
       "HBox(children=(FloatProgress(value=0.0, max=300.0), HTML(value='')))"
      ]
     },
     "metadata": {},
     "output_type": "display_data"
    },
    {
     "name": "stdout",
     "output_type": "stream",
     "text": [
      "\n",
      "Current top feature 73 and score: 0.8423611111111111\n",
      "Appended to top column\n",
      "[33, 65, 217, 117, 91, 73]\n",
      "for 7 feature\n"
     ]
    },
    {
     "data": {
      "application/vnd.jupyter.widget-view+json": {
       "model_id": "8ed00e541b6f4da3a5f45bb97ba09de9",
       "version_major": 2,
       "version_minor": 0
      },
      "text/plain": [
       "HBox(children=(FloatProgress(value=0.0, max=300.0), HTML(value='')))"
      ]
     },
     "metadata": {},
     "output_type": "display_data"
    },
    {
     "name": "stdout",
     "output_type": "stream",
     "text": [
      "\n",
      "Current top feature 16 and score: 0.8493055555555555\n",
      "Appended to top column\n",
      "[33, 65, 217, 117, 91, 73, 16]\n",
      "for 8 feature\n"
     ]
    },
    {
     "data": {
      "application/vnd.jupyter.widget-view+json": {
       "model_id": "6967a091e8034d27a7ca4d77ba6b665e",
       "version_major": 2,
       "version_minor": 0
      },
      "text/plain": [
       "HBox(children=(FloatProgress(value=0.0, max=300.0), HTML(value='')))"
      ]
     },
     "metadata": {},
     "output_type": "display_data"
    },
    {
     "name": "stdout",
     "output_type": "stream",
     "text": [
      "\n",
      "Current top feature 226 and score: 0.852777777777778\n",
      "Appended to top column\n",
      "[33, 65, 217, 117, 91, 73, 16, 226]\n",
      "for 9 feature\n"
     ]
    },
    {
     "data": {
      "application/vnd.jupyter.widget-view+json": {
       "model_id": "81cb7032c4e34b1393174d4b9b8eb95f",
       "version_major": 2,
       "version_minor": 0
      },
      "text/plain": [
       "HBox(children=(FloatProgress(value=0.0, max=300.0), HTML(value='')))"
      ]
     },
     "metadata": {},
     "output_type": "display_data"
    },
    {
     "name": "stdout",
     "output_type": "stream",
     "text": [
      "\n",
      "Current top feature 82 and score: 0.8559722222222222\n",
      "Appended to top column\n",
      "[33, 65, 217, 117, 91, 73, 16, 226, 82]\n",
      "for 10 feature\n"
     ]
    },
    {
     "data": {
      "application/vnd.jupyter.widget-view+json": {
       "model_id": "a3be1631d98a4dc3873586cea0f5935d",
       "version_major": 2,
       "version_minor": 0
      },
      "text/plain": [
       "HBox(children=(FloatProgress(value=0.0, max=300.0), HTML(value='')))"
      ]
     },
     "metadata": {},
     "output_type": "display_data"
    },
    {
     "name": "stdout",
     "output_type": "stream",
     "text": [
      "\n",
      "Current top feature 90 and score: 0.8590277777777778\n",
      "Appended to top column\n",
      "[33, 65, 217, 117, 91, 73, 16, 226, 82, 90]\n"
     ]
    }
   ],
   "source": [
    "top_column = forward_selection_model(log_model)"
   ]
  },
  {
   "cell_type": "code",
   "execution_count": 37,
   "metadata": {},
   "outputs": [],
   "source": [
    "# Store the top column name into set\n",
    "log_top10_feat = set(top_column)\n",
    "# Fit Logistic Regression on top features only\n",
    "log_model_top = LogisticRegression(**log_clf.best_params_, class_weight='balanced', random_state=42)\n",
    "log_model_top.fit(tr_X[:,top_column],tr_y)\n",
    "# Calibrate it in top features only\n",
    "clf = CalibratedClassifierCV(log_model_top, cv=3)\n",
    "clf.fit(tr_X[:,top_column],tr_y)\n",
    "# Predict the probabilities of 1\n",
    "ts_pred = clf.predict_proba(ts_X[:,top_column])[:,1]"
   ]
  },
  {
   "cell_type": "code",
   "execution_count": 34,
   "metadata": {},
   "outputs": [],
   "source": [
    "# Create a submssion format to make submission in Kaggle\n",
    "temp_id = df_test['id']\n",
    "df_tspred = pd.DataFrame(np.column_stack((temp_id,ts_pred)), columns=['id','target'])\n",
    "df_tspred['id'] = df_tspred['id'].astype('int32')\n",
    "df_tspred.to_csv(data_dir+'/submission_log_top10.csv', index=False)"
   ]
  },
  {
   "cell_type": "code",
   "execution_count": 36,
   "metadata": {},
   "outputs": [
    {
     "data": {
      "text/plain": [
       "<matplotlib.image.AxesImage at 0x266e864dd08>"
      ]
     },
     "execution_count": 36,
     "metadata": {},
     "output_type": "execute_result"
    },
    {
     "data": {
      "image/png": "[encoded data removed]",
      "text/plain": [
       "<Figure size 1296x360 with 1 Axes>"
      ]
     },
     "metadata": {
      "needs_background": "light"
     },
     "output_type": "display_data"
    }
   ],
   "source": [
    "image = plt.imread(data_dir+'/log_csv_top10.png')\n",
    "plt.figure(figsize=(18,5))\n",
    "plt.imshow(image)"
   ]
  },
  {
   "cell_type": "markdown",
   "metadata": {},
   "source": [
    "# 5.2.3 Kaggle Score Using top 20 features based on Logistic Regression Model"
   ]
  },
  {
   "cell_type": "code",
   "execution_count": 39,
   "metadata": {},
   "outputs": [
    {
     "name": "stdout",
     "output_type": "stream",
     "text": [
      "for 1 feature\n"
     ]
    },
    {
     "data": {
      "application/vnd.jupyter.widget-view+json": {
       "model_id": "8ab4c242630640d1aaf3c5073470b161",
       "version_major": 2,
       "version_minor": 0
      },
      "text/plain": [
       "HBox(children=(FloatProgress(value=0.0, max=300.0), HTML(value='')))"
      ]
     },
     "metadata": {},
     "output_type": "display_data"
    },
    {
     "name": "stdout",
     "output_type": "stream",
     "text": [
      "\n",
      "Current top feature 33 and score: 0.7347222222222222\n",
      "Appended to top column\n",
      "[33]\n",
      "for 2 feature\n"
     ]
    },
    {
     "data": {
      "application/vnd.jupyter.widget-view+json": {
       "model_id": "698e89d7a50d47fba3f71b9173434d07",
       "version_major": 2,
       "version_minor": 0
      },
      "text/plain": [
       "HBox(children=(FloatProgress(value=0.0, max=300.0), HTML(value='')))"
      ]
     },
     "metadata": {},
     "output_type": "display_data"
    },
    {
     "name": "stdout",
     "output_type": "stream",
     "text": [
      "\n",
      "Current top feature 65 and score: 0.7876388888888887\n",
      "Appended to top column\n",
      "[33, 65]\n",
      "for 3 feature\n"
     ]
    },
    {
     "data": {
      "application/vnd.jupyter.widget-view+json": {
       "model_id": "5e1487bff3334f3ca36a3162542e1808",
       "version_major": 2,
       "version_minor": 0
      },
      "text/plain": [
       "HBox(children=(FloatProgress(value=0.0, max=300.0), HTML(value='')))"
      ]
     },
     "metadata": {},
     "output_type": "display_data"
    },
    {
     "name": "stdout",
     "output_type": "stream",
     "text": [
      "\n",
      "Current top feature 217 and score: 0.8005555555555557\n",
      "Appended to top column\n",
      "[33, 65, 217]\n",
      "for 4 feature\n"
     ]
    },
    {
     "data": {
      "application/vnd.jupyter.widget-view+json": {
       "model_id": "7386a80406b142b28eeeb79600e79a35",
       "version_major": 2,
       "version_minor": 0
      },
      "text/plain": [
       "HBox(children=(FloatProgress(value=0.0, max=300.0), HTML(value='')))"
      ]
     },
     "metadata": {},
     "output_type": "display_data"
    },
    {
     "name": "stdout",
     "output_type": "stream",
     "text": [
      "\n",
      "Current top feature 117 and score: 0.8156944444444443\n",
      "Appended to top column\n",
      "[33, 65, 217, 117]\n",
      "for 5 feature\n"
     ]
    },
    {
     "data": {
      "application/vnd.jupyter.widget-view+json": {
       "model_id": "7ddb5b9c099f4f1795b38666dfb0e96d",
       "version_major": 2,
       "version_minor": 0
      },
      "text/plain": [
       "HBox(children=(FloatProgress(value=0.0, max=300.0), HTML(value='')))"
      ]
     },
     "metadata": {},
     "output_type": "display_data"
    },
    {
     "name": "stdout",
     "output_type": "stream",
     "text": [
      "\n",
      "Current top feature 91 and score: 0.8325\n",
      "Appended to top column\n",
      "[33, 65, 217, 117, 91]\n",
      "for 6 feature\n"
     ]
    },
    {
     "data": {
      "application/vnd.jupyter.widget-view+json": {
       "model_id": "f19d722aa16a4336b430c85bd8f12603",
       "version_major": 2,
       "version_minor": 0
      },
      "text/plain": [
       "HBox(children=(FloatProgress(value=0.0, max=300.0), HTML(value='')))"
      ]
     },
     "metadata": {},
     "output_type": "display_data"
    },
    {
     "name": "stdout",
     "output_type": "stream",
     "text": [
      "\n",
      "Current top feature 73 and score: 0.8423611111111111\n",
      "Appended to top column\n",
      "[33, 65, 217, 117, 91, 73]\n",
      "for 7 feature\n"
     ]
    },
    {
     "data": {
      "application/vnd.jupyter.widget-view+json": {
       "model_id": "bfc6b5afa1644c5287fe78daed8a93c3",
       "version_major": 2,
       "version_minor": 0
      },
      "text/plain": [
       "HBox(children=(FloatProgress(value=0.0, max=300.0), HTML(value='')))"
      ]
     },
     "metadata": {},
     "output_type": "display_data"
    },
    {
     "name": "stdout",
     "output_type": "stream",
     "text": [
      "\n",
      "Current top feature 16 and score: 0.8493055555555555\n",
      "Appended to top column\n",
      "[33, 65, 217, 117, 91, 73, 16]\n",
      "for 8 feature\n"
     ]
    },
    {
     "data": {
      "application/vnd.jupyter.widget-view+json": {
       "model_id": "ee137b99c6ce4a24bc49699981d42b53",
       "version_major": 2,
       "version_minor": 0
      },
      "text/plain": [
       "HBox(children=(FloatProgress(value=0.0, max=300.0), HTML(value='')))"
      ]
     },
     "metadata": {},
     "output_type": "display_data"
    },
    {
     "name": "stdout",
     "output_type": "stream",
     "text": [
      "\n",
      "Current top feature 226 and score: 0.852777777777778\n",
      "Appended to top column\n",
      "[33, 65, 217, 117, 91, 73, 16, 226]\n",
      "for 9 feature\n"
     ]
    },
    {
     "data": {
      "application/vnd.jupyter.widget-view+json": {
       "model_id": "dc539ac1a1094a6c8c02a1d183d3b093",
       "version_major": 2,
       "version_minor": 0
      },
      "text/plain": [
       "HBox(children=(FloatProgress(value=0.0, max=300.0), HTML(value='')))"
      ]
     },
     "metadata": {},
     "output_type": "display_data"
    },
    {
     "name": "stdout",
     "output_type": "stream",
     "text": [
      "\n",
      "Current top feature 82 and score: 0.8559722222222222\n",
      "Appended to top column\n",
      "[33, 65, 217, 117, 91, 73, 16, 226, 82]\n",
      "for 10 feature\n"
     ]
    },
    {
     "data": {
      "application/vnd.jupyter.widget-view+json": {
       "model_id": "e97a6d35cf73478594fe2db5a3f0dbaf",
       "version_major": 2,
       "version_minor": 0
      },
      "text/plain": [
       "HBox(children=(FloatProgress(value=0.0, max=300.0), HTML(value='')))"
      ]
     },
     "metadata": {},
     "output_type": "display_data"
    },
    {
     "name": "stdout",
     "output_type": "stream",
     "text": [
      "\n",
      "Current top feature 90 and score: 0.8590277777777778\n",
      "Appended to top column\n",
      "[33, 65, 217, 117, 91, 73, 16, 226, 82, 90]\n",
      "for 11 feature\n"
     ]
    },
    {
     "data": {
      "application/vnd.jupyter.widget-view+json": {
       "model_id": "62b792b6ebd94232a0adfa0468655a44",
       "version_major": 2,
       "version_minor": 0
      },
      "text/plain": [
       "HBox(children=(FloatProgress(value=0.0, max=300.0), HTML(value='')))"
      ]
     },
     "metadata": {},
     "output_type": "display_data"
    },
    {
     "name": "stdout",
     "output_type": "stream",
     "text": [
      "\n",
      "Current top feature 45 and score: 0.8591666666666669\n",
      "Appended to top column\n",
      "[33, 65, 217, 117, 91, 73, 16, 226, 82, 90, 45]\n",
      "for 12 feature\n"
     ]
    },
    {
     "data": {
      "application/vnd.jupyter.widget-view+json": {
       "model_id": "433d3026aaf340c9966643adb4f5e5b9",
       "version_major": 2,
       "version_minor": 0
      },
      "text/plain": [
       "HBox(children=(FloatProgress(value=0.0, max=300.0), HTML(value='')))"
      ]
     },
     "metadata": {},
     "output_type": "display_data"
    },
    {
     "name": "stdout",
     "output_type": "stream",
     "text": [
      "\n"
     ]
    }
   ],
   "source": [
    "top_column = forward_selection_model(log_model,20)"
   ]
  },
  {
   "cell_type": "code",
   "execution_count": 40,
   "metadata": {},
   "outputs": [],
   "source": [
    "# Store the top column name into set\n",
    "log_top20_feat = set(top_column)\n",
    "# Fit Logistic Regression on top features only\n",
    "log_model_top = LogisticRegression(**log_clf.best_params_, class_weight='balanced', random_state=42)\n",
    "log_model_top.fit(tr_X[:,top_column],tr_y)\n",
    "# Calibrate it in top features only\n",
    "clf = CalibratedClassifierCV(log_model_top, cv=3)\n",
    "clf.fit(tr_X[:,top_column],tr_y)\n",
    "# Predict the probabilities of 1\n",
    "ts_pred = clf.predict_proba(ts_X[:,top_column])[:,1]"
   ]
  },
  {
   "cell_type": "code",
   "execution_count": 41,
   "metadata": {},
   "outputs": [],
   "source": [
    "# Create a submssion format to make submission in Kaggle\n",
    "temp_id = df_test['id']\n",
    "df_tspred = pd.DataFrame(np.column_stack((temp_id,ts_pred)), columns=['id','target'])\n",
    "df_tspred['id'] = df_tspred['id'].astype('int32')\n",
    "df_tspred.to_csv(data_dir+'/submission_log_top20.csv', index=False)"
   ]
  },
  {
   "cell_type": "code",
   "execution_count": 42,
   "metadata": {},
   "outputs": [
    {
     "data": {
      "text/plain": [
       "<matplotlib.image.AxesImage at 0x266e9ff0b48>"
      ]
     },
     "execution_count": 42,
     "metadata": {},
     "output_type": "execute_result"
    },
    {
     "data": {
      "image/png": "[encoded data removed]",
      "text/plain": [
       "<Figure size 1296x360 with 1 Axes>"
      ]
     },
     "metadata": {
      "needs_background": "light"
     },
     "output_type": "display_data"
    }
   ],
   "source": [
    "image = plt.imread(data_dir+'/log_csv_top20.png')\n",
    "plt.figure(figsize=(18,5))\n",
    "plt.imshow(image)"
   ]
  },
  {
   "cell_type": "markdown",
   "metadata": {},
   "source": [
    "# 5.3 SVC"
   ]
  },
  {
   "cell_type": "code",
   "execution_count": 43,
   "metadata": {},
   "outputs": [],
   "source": [
    "# Import SVC\n",
    "from sklearn.svm import SVC"
   ]
  },
  {
   "cell_type": "code",
   "execution_count": 44,
   "metadata": {},
   "outputs": [],
   "source": [
    "# SVC (See Docs: https://scikit-learn.org/stable/modules/generated/sklearn.svm.SVC.html)\n",
    "\n",
    "# List of hyperparameter that has to be tuned\n",
    "params = {'C':[10**i for i in range(-4,5)], 'kernel':['linear','poly','sigmoid','rbf']}\n",
    "# Instance of SVC\n",
    "svc_model = SVC(class_weight='balanced', random_state=42, probability=True)\n",
    "# Call hyperparameter to find the best parameters\n",
    "svc_clf = hyperparameter_model(svc_model, params)"
   ]
  },
  {
   "cell_type": "code",
   "execution_count": 45,
   "metadata": {},
   "outputs": [
    {
     "data": {
      "image/png": "[encoded data removed]",
      "text/plain": [
       "<Figure size 432x288 with 2 Axes>"
      ]
     },
     "metadata": {
      "needs_background": "light"
     },
     "output_type": "display_data"
    },
    {
     "data": {
      "image/png": "[encoded data removed]",
      "text/plain": [
       "<Figure size 432x288 with 2 Axes>"
      ]
     },
     "metadata": {
      "needs_background": "light"
     },
     "output_type": "display_data"
    }
   ],
   "source": [
    "cv_pvt = pd.pivot_table(pd.DataFrame(svc_clf.cv_results_), values='mean_test_score', index='param_C', \\\n",
    "                     columns='param_kernel')\n",
    "tr_pvt = pd.pivot_table(pd.DataFrame(svc_clf.cv_results_), values='mean_train_score', index='param_C', \\\n",
    "                     columns='param_kernel')\n",
    "\n",
    "plt.title('Train Hyperparameter')\n",
    "sns.heatmap(tr_pvt, annot=True)\n",
    "plt.show()\n",
    "\n",
    "plt.title('CV Hyperparameter')\n",
    "sns.heatmap(cv_pvt, annot=True)\n",
    "plt.show()"
   ]
  },
  {
   "cell_type": "code",
   "execution_count": 46,
   "metadata": {},
   "outputs": [
    {
     "name": "stdout",
     "output_type": "stream",
     "text": [
      "{'C': 10, 'kernel': 'rbf'}\n"
     ]
    }
   ],
   "source": [
    "print(svc_clf.best_params_)"
   ]
  },
  {
   "cell_type": "code",
   "execution_count": 47,
   "metadata": {},
   "outputs": [
    {
     "data": {
      "text/plain": [
       "CalibratedClassifierCV(base_estimator=GridSearchCV(cv=RepeatedStratifiedKFold(n_repeats=5, n_splits=10, random_state=42),\n",
       "                                                   error_score=nan,\n",
       "                                                   estimator=SVC(C=1.0,\n",
       "                                                                 break_ties=False,\n",
       "                                                                 cache_size=200,\n",
       "                                                                 class_weight='balanced',\n",
       "                                                                 coef0=0.0,\n",
       "                                                                 decision_function_shape='ovr',\n",
       "                                                                 degree=3,\n",
       "                                                                 gamma='scale',\n",
       "                                                                 kernel='rbf',\n",
       "                                                                 max_iter=-1,\n",
       "                                                                 probability=True,\n",
       "                                                                 random_state=42,\n",
       "                                                                 shrinking=True,\n",
       "                                                                 tol=0.001,\n",
       "                                                                 verbose=False),\n",
       "                                                   iid='deprecated',\n",
       "                                                   n_jobs=None,\n",
       "                                                   param_grid={'C': [0.0001,\n",
       "                                                                     0.001,\n",
       "                                                                     0.01, 0.1,\n",
       "                                                                     1, 10, 100,\n",
       "                                                                     1000,\n",
       "                                                                     10000],\n",
       "                                                               'kernel': ['linear',\n",
       "                                                                          'poly',\n",
       "                                                                          'sigmoid',\n",
       "                                                                          'rbf']},\n",
       "                                                   pre_dispatch='2*n_jobs',\n",
       "                                                   refit=True,\n",
       "                                                   return_train_score=True,\n",
       "                                                   scoring='roc_auc',\n",
       "                                                   verbose=0),\n",
       "                       cv=3, method='sigmoid')"
      ]
     },
     "execution_count": 47,
     "metadata": {},
     "output_type": "execute_result"
    }
   ],
   "source": [
    "svc_model = SVC(**svc_clf.best_params_, class_weight='balanced', random_state=42, probability=True)\n",
    "svc_model.fit(tr_X, tr_y)\n",
    "\n",
    "clf = CalibratedClassifierCV(svc_clf, cv=3)\n",
    "clf.fit(tr_X,tr_y)"
   ]
  },
  {
   "cell_type": "markdown",
   "metadata": {},
   "source": [
    "# 5.3.1 Kaggle Score without top features"
   ]
  },
  {
   "cell_type": "code",
   "execution_count": 48,
   "metadata": {},
   "outputs": [],
   "source": [
    "# Create a submssion format to make submission in Kaggle\n",
    "temp_id = df_test['id']\n",
    "svc_csv = clf.predict_proba(ts_X)[:,1]\n",
    "svc_df = pd.DataFrame(np.column_stack((temp_id,svc_csv)), columns=['id','target'])\n",
    "svc_df['id'] = svc_df['id'].astype('int32')\n",
    "svc_df.to_csv(data_dir+'/submission_svc.csv', index=False)"
   ]
  },
  {
   "cell_type": "code",
   "execution_count": 49,
   "metadata": {},
   "outputs": [
    {
     "data": {
      "text/plain": [
       "<matplotlib.image.AxesImage at 0x266e9bc10c8>"
      ]
     },
     "execution_count": 49,
     "metadata": {},
     "output_type": "execute_result"
    },
    {
     "data": {
      "image/png": "[encoded data removed]",
      "text/plain": [
       "<Figure size 1296x360 with 1 Axes>"
      ]
     },
     "metadata": {
      "needs_background": "light"
     },
     "output_type": "display_data"
    }
   ],
   "source": [
    "image = plt.imread(data_dir+'/submission_svc.png')\n",
    "plt.figure(figsize=(18,5))\n",
    "plt.imshow(image)"
   ]
  },
  {
   "cell_type": "markdown",
   "metadata": {},
   "source": [
    "# 5.3.2 Kaggle Score Using top 10 features based on SVC Model"
   ]
  },
  {
   "cell_type": "code",
   "execution_count": 50,
   "metadata": {},
   "outputs": [
    {
     "name": "stdout",
     "output_type": "stream",
     "text": [
      "for 1 feature\n"
     ]
    },
    {
     "data": {
      "application/vnd.jupyter.widget-view+json": {
       "model_id": "21390b7216d94b31977c0bb3912202c9",
       "version_major": 2,
       "version_minor": 0
      },
      "text/plain": [
       "HBox(children=(FloatProgress(value=0.0, max=300.0), HTML(value='')))"
      ]
     },
     "metadata": {},
     "output_type": "display_data"
    },
    {
     "name": "stdout",
     "output_type": "stream",
     "text": [
      "\n",
      "Current top feature 33 and score: 0.708888888888889\n",
      "Appended to top column\n",
      "[33]\n",
      "for 2 feature\n"
     ]
    },
    {
     "data": {
      "application/vnd.jupyter.widget-view+json": {
       "model_id": "39aa4163a95c41ca8bb13bb27fe227cd",
       "version_major": 2,
       "version_minor": 0
      },
      "text/plain": [
       "HBox(children=(FloatProgress(value=0.0, max=300.0), HTML(value='')))"
      ]
     },
     "metadata": {},
     "output_type": "display_data"
    },
    {
     "name": "stdout",
     "output_type": "stream",
     "text": [
      "\n",
      "Current top feature 167 and score: 0.7579166666666667\n",
      "Appended to top column\n",
      "[33, 167]\n",
      "for 3 feature\n"
     ]
    },
    {
     "data": {
      "application/vnd.jupyter.widget-view+json": {
       "model_id": "4fb65967dd7e4b6e93938bb6aa7ebc7b",
       "version_major": 2,
       "version_minor": 0
      },
      "text/plain": [
       "HBox(children=(FloatProgress(value=0.0, max=300.0), HTML(value='')))"
      ]
     },
     "metadata": {},
     "output_type": "display_data"
    },
    {
     "name": "stdout",
     "output_type": "stream",
     "text": [
      "\n",
      "Current top feature 199 and score: 0.7611111111111112\n",
      "Appended to top column\n",
      "[33, 167, 199]\n",
      "for 4 feature\n"
     ]
    },
    {
     "data": {
      "application/vnd.jupyter.widget-view+json": {
       "model_id": "aa05d04ed4f84446b962ae8aed4c270c",
       "version_major": 2,
       "version_minor": 0
      },
      "text/plain": [
       "HBox(children=(FloatProgress(value=0.0, max=300.0), HTML(value='')))"
      ]
     },
     "metadata": {},
     "output_type": "display_data"
    },
    {
     "name": "stdout",
     "output_type": "stream",
     "text": [
      "\n",
      "Current top feature 65 and score: 0.7808333333333333\n",
      "Appended to top column\n",
      "[33, 167, 199, 65]\n",
      "for 5 feature\n"
     ]
    },
    {
     "data": {
      "application/vnd.jupyter.widget-view+json": {
       "model_id": "18c8c0dc31a8413daf7504299ff41b68",
       "version_major": 2,
       "version_minor": 0
      },
      "text/plain": [
       "HBox(children=(FloatProgress(value=0.0, max=300.0), HTML(value='')))"
      ]
     },
     "metadata": {},
     "output_type": "display_data"
    },
    {
     "name": "stdout",
     "output_type": "stream",
     "text": [
      "\n",
      "Current top feature 224 and score: 0.8034722222222223\n",
      "Appended to top column\n",
      "[33, 167, 199, 65, 224]\n",
      "for 6 feature\n"
     ]
    },
    {
     "data": {
      "application/vnd.jupyter.widget-view+json": {
       "model_id": "fbd7aaa18f4e4538b26960013cca6382",
       "version_major": 2,
       "version_minor": 0
      },
      "text/plain": [
       "HBox(children=(FloatProgress(value=0.0, max=300.0), HTML(value='')))"
      ]
     },
     "metadata": {},
     "output_type": "display_data"
    },
    {
     "name": "stdout",
     "output_type": "stream",
     "text": [
      "\n",
      "Current top feature 1 and score: 0.8180555555555555\n",
      "Appended to top column\n",
      "[33, 167, 199, 65, 224, 1]\n",
      "for 7 feature\n"
     ]
    },
    {
     "data": {
      "application/vnd.jupyter.widget-view+json": {
       "model_id": "cbc3aedbf0dc4e1e9bcd026322dbf7da",
       "version_major": 2,
       "version_minor": 0
      },
      "text/plain": [
       "HBox(children=(FloatProgress(value=0.0, max=300.0), HTML(value='')))"
      ]
     },
     "metadata": {},
     "output_type": "display_data"
    },
    {
     "name": "stdout",
     "output_type": "stream",
     "text": [
      "\n",
      "Current top feature 208 and score: 0.8381944444444445\n",
      "Appended to top column\n",
      "[33, 167, 199, 65, 224, 1, 208]\n",
      "for 8 feature\n"
     ]
    },
    {
     "data": {
      "application/vnd.jupyter.widget-view+json": {
       "model_id": "785be7c57a6147e483d31815c6f334e0",
       "version_major": 2,
       "version_minor": 0
      },
      "text/plain": [
       "HBox(children=(FloatProgress(value=0.0, max=300.0), HTML(value='')))"
      ]
     },
     "metadata": {},
     "output_type": "display_data"
    },
    {
     "name": "stdout",
     "output_type": "stream",
     "text": [
      "\n",
      "Current top feature 201 and score: 0.867638888888889\n",
      "Appended to top column\n",
      "[33, 167, 199, 65, 224, 1, 208, 201]\n",
      "for 9 feature\n"
     ]
    },
    {
     "data": {
      "application/vnd.jupyter.widget-view+json": {
       "model_id": "104941392365444d8adbda515ba8017f",
       "version_major": 2,
       "version_minor": 0
      },
      "text/plain": [
       "HBox(children=(FloatProgress(value=0.0, max=300.0), HTML(value='')))"
      ]
     },
     "metadata": {},
     "output_type": "display_data"
    },
    {
     "name": "stdout",
     "output_type": "stream",
     "text": [
      "\n",
      "Current top feature 253 and score: 0.8869444444444444\n",
      "Appended to top column\n",
      "[33, 167, 199, 65, 224, 1, 208, 201, 253]\n",
      "for 10 feature\n"
     ]
    },
    {
     "data": {
      "application/vnd.jupyter.widget-view+json": {
       "model_id": "cb492cc12a104ab59f60002cc769bc06",
       "version_major": 2,
       "version_minor": 0
      },
      "text/plain": [
       "HBox(children=(FloatProgress(value=0.0, max=300.0), HTML(value='')))"
      ]
     },
     "metadata": {},
     "output_type": "display_data"
    },
    {
     "name": "stdout",
     "output_type": "stream",
     "text": [
      "\n"
     ]
    }
   ],
   "source": [
    "top_column = forward_selection_model(svc_model)"
   ]
  },
  {
   "cell_type": "code",
   "execution_count": 51,
   "metadata": {},
   "outputs": [],
   "source": [
    "# Store the top column name into set\n",
    "svc_top10_feat = set(top_column)\n",
    "# Fit SVC on top features only\n",
    "svc_model_top = SVC(**svc_clf.best_params_, class_weight='balanced', random_state=42, probability=True)\n",
    "svc_model_top.fit(tr_X[:,top_column],tr_y)\n",
    "# Calibrate it in top features only\n",
    "clf = CalibratedClassifierCV(svc_model_top, cv=3)\n",
    "clf.fit(tr_X[:,top_column],tr_y)\n",
    "# Predict the probabilities of 1\n",
    "ts_pred = clf.predict_proba(ts_X[:,top_column])[:,1]"
   ]
  },
  {
   "cell_type": "code",
   "execution_count": 52,
   "metadata": {},
   "outputs": [],
   "source": [
    "# Create a submssion format to make submission in Kaggle\n",
    "temp_id = df_test['id']\n",
    "df_tspred = pd.DataFrame(np.column_stack((temp_id,ts_pred)), columns=['id','target'])\n",
    "df_tspred['id'] = df_tspred['id'].astype('int32')\n",
    "df_tspred.to_csv(data_dir+'/submission_svc_top10.csv', index=False)"
   ]
  },
  {
   "cell_type": "code",
   "execution_count": 54,
   "metadata": {},
   "outputs": [
    {
     "data": {
      "text/plain": [
       "<matplotlib.image.AxesImage at 0x266e8512f88>"
      ]
     },
     "execution_count": 54,
     "metadata": {},
     "output_type": "execute_result"
    },
    {
     "data": {
      "image/png": "[encoded data removed]",
      "text/plain": [
       "<Figure size 1296x360 with 1 Axes>"
      ]
     },
     "metadata": {
      "needs_background": "light"
     },
     "output_type": "display_data"
    }
   ],
   "source": [
    "image = plt.imread(data_dir+'/svc_csv_top10.png')\n",
    "plt.figure(figsize=(18,5))\n",
    "plt.imshow(image)"
   ]
  },
  {
   "cell_type": "markdown",
   "metadata": {},
   "source": [
    "# 5.4 RandomForest"
   ]
  },
  {
   "cell_type": "code",
   "execution_count": 55,
   "metadata": {},
   "outputs": [],
   "source": [
    "# Impoer Random Forest\n",
    "from sklearn.ensemble import RandomForestClassifier"
   ]
  },
  {
   "cell_type": "code",
   "execution_count": 56,
   "metadata": {},
   "outputs": [],
   "source": [
    "# RandomForest (See Docs: https://scikit-learn.org/stable/modules/generated/sklearn.ensemble.RandomForestClassifier.html)\n",
    "\n",
    "# List of hyperparameter that has t be tuned\n",
    "params = {'n_estimators':[10,20,30,40,50,100,200,300,400],'max_depth':[2,3,5,7]}\n",
    "# Instance of randomforest\n",
    "rf_model = RandomForestClassifier(random_state=42)\n",
    "# Perform GridSearchCV to find best parameters\n",
    "rf_clf = hyperparameter_model(rf_model, params)"
   ]
  },
  {
   "cell_type": "code",
   "execution_count": 57,
   "metadata": {},
   "outputs": [
    {
     "data": {
      "image/png": "[encoded data removed]",
      "text/plain": [
       "<Figure size 432x288 with 2 Axes>"
      ]
     },
     "metadata": {
      "needs_background": "light"
     },
     "output_type": "display_data"
    },
    {
     "data": {
      "image/png": "[encoded data removed]",
      "text/plain": [
       "<Figure size 432x288 with 2 Axes>"
      ]
     },
     "metadata": {
      "needs_background": "light"
     },
     "output_type": "display_data"
    }
   ],
   "source": [
    "# Ref: https://stackoverflow.com/questions/48791709/how-to-plot-a-heat-map-on-pivot-table-after-grid-search\n",
    "\n",
    "# Plotting of hyperpameter of train and cv score\n",
    "pvt_tr = pd.pivot_table(pd.DataFrame(rf_clf.cv_results_), values='mean_train_score', index='param_n_estimators', columns='param_max_depth')\n",
    "pvt_cv = pd.pivot_table(pd.DataFrame(rf_clf.cv_results_), values='mean_test_score', index='param_n_estimators', columns='param_max_depth')\n",
    "plt.figure(1)\n",
    "plt.title('Hyperparameter for Train')\n",
    "sns.heatmap(pvt_tr, annot=True)\n",
    "plt.figure(2)\n",
    "plt.title('Hyperparameter for CV')\n",
    "sns.heatmap(pvt_cv, annot=True)\n",
    "plt.show()"
   ]
  },
  {
   "cell_type": "code",
   "execution_count": 58,
   "metadata": {},
   "outputs": [
    {
     "name": "stdout",
     "output_type": "stream",
     "text": [
      "{'max_depth': 2, 'n_estimators': 300}\n"
     ]
    }
   ],
   "source": [
    "print(rf_clf.best_params_)"
   ]
  },
  {
   "cell_type": "code",
   "execution_count": 59,
   "metadata": {},
   "outputs": [
    {
     "data": {
      "text/plain": [
       "CalibratedClassifierCV(base_estimator=GridSearchCV(cv=RepeatedStratifiedKFold(n_repeats=5, n_splits=10, random_state=42),\n",
       "                                                   error_score=nan,\n",
       "                                                   estimator=RandomForestClassifier(bootstrap=True,\n",
       "                                                                                    ccp_alpha=0.0,\n",
       "                                                                                    class_weight=None,\n",
       "                                                                                    criterion='gini',\n",
       "                                                                                    max_depth=None,\n",
       "                                                                                    max_features='auto',\n",
       "                                                                                    max_leaf_nodes=None,\n",
       "                                                                                    max_samples=None,\n",
       "                                                                                    min_impurity_decrease=0.0,\n",
       "                                                                                    min_impurity_split=N...\n",
       "                                                                                    min_samples_split=2,\n",
       "                                                                                    min_weight_fraction_leaf=0.0,\n",
       "                                                                                    n_estimators=100,\n",
       "                                                                                    n_jobs=None,\n",
       "                                                                                    oob_score=False,\n",
       "                                                                                    random_state=42,\n",
       "                                                                                    verbose=0,\n",
       "                                                                                    warm_start=False),\n",
       "                                                   iid='deprecated',\n",
       "                                                   n_jobs=None,\n",
       "                                                   param_grid={'max_depth': [2,\n",
       "                                                                             3,\n",
       "                                                                             5,\n",
       "                                                                             7],\n",
       "                                                               'n_estimators': [10,\n",
       "                                                                                20,\n",
       "                                                                                30,\n",
       "                                                                                40,\n",
       "                                                                                50,\n",
       "                                                                                100,\n",
       "                                                                                200,\n",
       "                                                                                300,\n",
       "                                                                                400]},\n",
       "                                                   pre_dispatch='2*n_jobs',\n",
       "                                                   refit=True,\n",
       "                                                   return_train_score=True,\n",
       "                                                   scoring='roc_auc',\n",
       "                                                   verbose=0),\n",
       "                       cv=3, method='sigmoid')"
      ]
     },
     "execution_count": 59,
     "metadata": {},
     "output_type": "execute_result"
    }
   ],
   "source": [
    "# Instance of randomforest with best parameters\n",
    "rf_model = RandomForestClassifier(**rf_clf.best_params_, random_state=42)\n",
    "# Fit the model\n",
    "rf_model.fit(tr_X,tr_y)\n",
    "# Calibrate the model\n",
    "clf = CalibratedClassifierCV(rf_clf, cv=3)\n",
    "clf.fit(tr_X, tr_y)"
   ]
  },
  {
   "cell_type": "code",
   "execution_count": 60,
   "metadata": {},
   "outputs": [
    {
     "data": {
      "image/png": "[encoded data removed]",
      "text/plain": [
       "<Figure size 1440x360 with 1 Axes>"
      ]
     },
     "metadata": {
      "needs_background": "light"
     },
     "output_type": "display_data"
    }
   ],
   "source": [
    "# Plot the feature importance based on this model\n",
    "df = plot_feature_importance(rf_model, 'rf',30)"
   ]
  },
  {
   "cell_type": "markdown",
   "metadata": {},
   "source": [
    "# 5.4.1 Kaggle Score without top features"
   ]
  },
  {
   "cell_type": "code",
   "execution_count": 61,
   "metadata": {},
   "outputs": [],
   "source": [
    "# Create a submission file format to submit in kaggle\n",
    "temp_id = df_test['id']\n",
    "rf_csv = clf.predict_proba(ts_X)[:,1]\n",
    "rf_df = pd.DataFrame(np.column_stack((temp_id,rf_csv)), columns=['id','target'])\n",
    "rf_df['id'] = rf_df['id'].astype('int32')\n",
    "rf_df.to_csv(data_dir+'/submission_rf.csv', index=False)"
   ]
  },
  {
   "cell_type": "code",
   "execution_count": 62,
   "metadata": {},
   "outputs": [
    {
     "data": {
      "text/plain": [
       "<matplotlib.image.AxesImage at 0x266e9c5f348>"
      ]
     },
     "execution_count": 62,
     "metadata": {},
     "output_type": "execute_result"
    },
    {
     "data": {
      "image/png": "[encoded data removed]",
      "text/plain": [
       "<Figure size 1296x360 with 1 Axes>"
      ]
     },
     "metadata": {
      "needs_background": "light"
     },
     "output_type": "display_data"
    }
   ],
   "source": [
    "image = plt.imread(data_dir+'/submission_rf.png')\n",
    "plt.figure(figsize=(18,5))\n",
    "plt.imshow(image)"
   ]
  },
  {
   "cell_type": "markdown",
   "metadata": {},
   "source": [
    "# 5.4.2 Kaggle Score Using top 10 features based on RandomForest Model"
   ]
  },
  {
   "cell_type": "code",
   "execution_count": 63,
   "metadata": {},
   "outputs": [
    {
     "name": "stdout",
     "output_type": "stream",
     "text": [
      "for 1 feature\n"
     ]
    },
    {
     "data": {
      "application/vnd.jupyter.widget-view+json": {
       "model_id": "328c45320ac4481e97e706cabac62739",
       "version_major": 2,
       "version_minor": 0
      },
      "text/plain": [
       "HBox(children=(FloatProgress(value=0.0, max=300.0), HTML(value='')))"
      ]
     },
     "metadata": {},
     "output_type": "display_data"
    },
    {
     "name": "stdout",
     "output_type": "stream",
     "text": [
      "\n",
      "Current top feature 33 and score: 0.7097222222222223\n",
      "Appended to top column\n",
      "[33]\n",
      "for 2 feature\n"
     ]
    },
    {
     "data": {
      "application/vnd.jupyter.widget-view+json": {
       "model_id": "1395722f5334497383b892722d238a23",
       "version_major": 2,
       "version_minor": 0
      },
      "text/plain": [
       "HBox(children=(FloatProgress(value=0.0, max=300.0), HTML(value='')))"
      ]
     },
     "metadata": {},
     "output_type": "display_data"
    },
    {
     "name": "stdout",
     "output_type": "stream",
     "text": [
      "\n",
      "Current top feature 65 and score: 0.765\n",
      "Appended to top column\n",
      "[33, 65]\n",
      "for 3 feature\n"
     ]
    },
    {
     "data": {
      "application/vnd.jupyter.widget-view+json": {
       "model_id": "8c8dd0d1a1634fb2b1b7d47afbc675e9",
       "version_major": 2,
       "version_minor": 0
      },
      "text/plain": [
       "HBox(children=(FloatProgress(value=0.0, max=300.0), HTML(value='')))"
      ]
     },
     "metadata": {},
     "output_type": "display_data"
    },
    {
     "name": "stdout",
     "output_type": "stream",
     "text": [
      "\n",
      "Current top feature 91 and score: 0.7863888888888888\n",
      "Appended to top column\n",
      "[33, 65, 91]\n",
      "for 4 feature\n"
     ]
    },
    {
     "data": {
      "application/vnd.jupyter.widget-view+json": {
       "model_id": "2a1f570b39ae4ceb9a26cc2d276a2426",
       "version_major": 2,
       "version_minor": 0
      },
      "text/plain": [
       "HBox(children=(FloatProgress(value=0.0, max=300.0), HTML(value='')))"
      ]
     },
     "metadata": {},
     "output_type": "display_data"
    },
    {
     "name": "stdout",
     "output_type": "stream",
     "text": [
      "\n",
      "Current top feature 199 and score: 0.788888888888889\n",
      "Appended to top column\n",
      "[33, 65, 91, 199]\n",
      "for 5 feature\n"
     ]
    },
    {
     "data": {
      "application/vnd.jupyter.widget-view+json": {
       "model_id": "ad75dc24e51f4c41b5b14bdb899ec5ba",
       "version_major": 2,
       "version_minor": 0
      },
      "text/plain": [
       "HBox(children=(FloatProgress(value=0.0, max=300.0), HTML(value='')))"
      ]
     },
     "metadata": {},
     "output_type": "display_data"
    },
    {
     "name": "stdout",
     "output_type": "stream",
     "text": [
      "\n",
      "Current top feature 217 and score: 0.805138888888889\n",
      "Appended to top column\n",
      "[33, 65, 91, 199, 217]\n",
      "for 6 feature\n"
     ]
    },
    {
     "data": {
      "application/vnd.jupyter.widget-view+json": {
       "model_id": "77ab04404721470e9ab67f1c18d58338",
       "version_major": 2,
       "version_minor": 0
      },
      "text/plain": [
       "HBox(children=(FloatProgress(value=0.0, max=300.0), HTML(value='')))"
      ]
     },
     "metadata": {},
     "output_type": "display_data"
    },
    {
     "name": "stdout",
     "output_type": "stream",
     "text": [
      "\n",
      "Current top feature 214 and score: 0.8094444444444444\n",
      "Appended to top column\n",
      "[33, 65, 91, 199, 217, 214]\n",
      "for 7 feature\n"
     ]
    },
    {
     "data": {
      "application/vnd.jupyter.widget-view+json": {
       "model_id": "a778b945bdba49b6a4bba87f9ac767e8",
       "version_major": 2,
       "version_minor": 0
      },
      "text/plain": [
       "HBox(children=(FloatProgress(value=0.0, max=300.0), HTML(value='')))"
      ]
     },
     "metadata": {},
     "output_type": "display_data"
    },
    {
     "name": "stdout",
     "output_type": "stream",
     "text": [
      "\n",
      "Current top feature 189 and score: 0.8162500000000001\n",
      "Appended to top column\n",
      "[33, 65, 91, 199, 217, 214, 189]\n",
      "for 8 feature\n"
     ]
    },
    {
     "data": {
      "application/vnd.jupyter.widget-view+json": {
       "model_id": "704c90f102464851bd4b8d00d32783fe",
       "version_major": 2,
       "version_minor": 0
      },
      "text/plain": [
       "HBox(children=(FloatProgress(value=0.0, max=300.0), HTML(value='')))"
      ]
     },
     "metadata": {},
     "output_type": "display_data"
    },
    {
     "name": "stdout",
     "output_type": "stream",
     "text": [
      "\n",
      "Current top feature 132 and score: 0.8290277777777777\n",
      "Appended to top column\n",
      "[33, 65, 91, 199, 217, 214, 189, 132]\n",
      "for 9 feature\n"
     ]
    },
    {
     "data": {
      "application/vnd.jupyter.widget-view+json": {
       "model_id": "b5716045f54d48398d2c61655d357eb9",
       "version_major": 2,
       "version_minor": 0
      },
      "text/plain": [
       "HBox(children=(FloatProgress(value=0.0, max=300.0), HTML(value='')))"
      ]
     },
     "metadata": {},
     "output_type": "display_data"
    },
    {
     "name": "stdout",
     "output_type": "stream",
     "text": [
      "\n"
     ]
    }
   ],
   "source": [
    "top_column = forward_selection_model(rf_model)"
   ]
  },
  {
   "cell_type": "code",
   "execution_count": 64,
   "metadata": {},
   "outputs": [],
   "source": [
    "# Store the top column name into set\n",
    "rf_top10_feat = set(top_column)"
   ]
  },
  {
   "cell_type": "code",
   "execution_count": 65,
   "metadata": {},
   "outputs": [],
   "source": [
    "# Fit RF on top features only\n",
    "rf_model_top = RandomForestClassifier(**rf_clf.best_params_, random_state=42)\n",
    "rf_model_top.fit(tr_X[:,top_column],tr_y)\n",
    "# Calibrate it in top features only\n",
    "clf = CalibratedClassifierCV(rf_model_top, cv=3)\n",
    "clf.fit(tr_X[:,top_column],tr_y)\n",
    "# Predict the probabilities of 1\n",
    "ts_pred = clf.predict_proba(ts_X[:,top_column])[:,1]"
   ]
  },
  {
   "cell_type": "code",
   "execution_count": 66,
   "metadata": {},
   "outputs": [],
   "source": [
    "# Create a submssion format to make submission in Kaggle\n",
    "temp_id = df_test['id']\n",
    "df_tspred = pd.DataFrame(np.column_stack((temp_id,ts_pred)), columns=['id','target'])\n",
    "df_tspred['id'] = df_tspred['id'].astype('int32')\n",
    "df_tspred.to_csv(data_dir+'/submission_rf_top10.csv', index=False)"
   ]
  },
  {
   "cell_type": "code",
   "execution_count": 67,
   "metadata": {},
   "outputs": [
    {
     "data": {
      "text/plain": [
       "<matplotlib.image.AxesImage at 0x266e9e12a08>"
      ]
     },
     "execution_count": 67,
     "metadata": {},
     "output_type": "execute_result"
    },
    {
     "data": {
      "image/png": "[encoded data removed]",
      "text/plain": [
       "<Figure size 1296x360 with 1 Axes>"
      ]
     },
     "metadata": {
      "needs_background": "light"
     },
     "output_type": "display_data"
    }
   ],
   "source": [
    "image = plt.imread(data_dir+'/rf_csv_top10.png')\n",
    "plt.figure(figsize=(18,5))\n",
    "plt.imshow(image)"
   ]
  },
  {
   "cell_type": "markdown",
   "metadata": {},
   "source": [
    "# 5.5 XGBoost"
   ]
  },
  {
   "cell_type": "code",
   "execution_count": 69,
   "metadata": {},
   "outputs": [],
   "source": [
    "# Import Xgboost\n",
    "from xgboost import XGBClassifier"
   ]
  },
  {
   "cell_type": "code",
   "execution_count": 70,
   "metadata": {},
   "outputs": [],
   "source": [
    "# Xgboost (See Docs: https://xgboost.readthedocs.io/en/latest/python/python_api.html)\n",
    "\n",
    "# List of hyperparameter that has to be tuned\n",
    "params = {'max_depth':[2,3,5,7], 'n_estimators':[10,20,50,100,200,300,400]}\n",
    "# Instance of XGBoost Model\n",
    "xgb_model = XGBClassifier(scale_pos_weight=0.5)\n",
    "# Call hyperparameter to find the best parameters\n",
    "xgb_clf = hyperparameter_model(xgb_model, params)"
   ]
  },
  {
   "cell_type": "code",
   "execution_count": 71,
   "metadata": {},
   "outputs": [
    {
     "data": {
      "image/png": "[encoded data removed]",
      "text/plain": [
       "<Figure size 432x288 with 2 Axes>"
      ]
     },
     "metadata": {
      "needs_background": "light"
     },
     "output_type": "display_data"
    },
    {
     "data": {
      "image/png": "[encoded data removed]",
      "text/plain": [
       "<Figure size 432x288 with 2 Axes>"
      ]
     },
     "metadata": {
      "needs_background": "light"
     },
     "output_type": "display_data"
    }
   ],
   "source": [
    "# Ref: https://stackoverflow.com/questions/48791709/how-to-plot-a-heat-map-on-pivot-table-after-grid-search\n",
    "\n",
    "# Plotting of hyperpameter of train and cv score\n",
    "pvt_tr = pd.pivot_table(pd.DataFrame(xgb_clf.cv_results_), values='mean_train_score', index='param_n_estimators', columns='param_max_depth')\n",
    "pvt_cv = pd.pivot_table(pd.DataFrame(xgb_clf.cv_results_), values='mean_test_score', index='param_n_estimators', columns='param_max_depth')\n",
    "plt.figure(1)\n",
    "plt.title('Hyperparameter for Train')\n",
    "sns.heatmap(pvt_tr, annot=True)\n",
    "plt.figure(2)\n",
    "plt.title('Hyperparameter for CV')\n",
    "sns.heatmap(pvt_cv, annot=True)\n",
    "plt.show()"
   ]
  },
  {
   "cell_type": "code",
   "execution_count": 72,
   "metadata": {},
   "outputs": [
    {
     "name": "stdout",
     "output_type": "stream",
     "text": [
      "{'max_depth': 2, 'n_estimators': 300}\n"
     ]
    }
   ],
   "source": [
    "print(xgb_clf.best_params_)"
   ]
  },
  {
   "cell_type": "code",
   "execution_count": 74,
   "metadata": {},
   "outputs": [
    {
     "data": {
      "image/png": "[encoded data removed]",
      "text/plain": [
       "<Figure size 1440x360 with 1 Axes>"
      ]
     },
     "metadata": {
      "needs_background": "light"
     },
     "output_type": "display_data"
    }
   ],
   "source": [
    "# Instance of randomforest with best parameters\n",
    "xgb_model = XGBClassifier(**xgb_clf.best_params_, random_state=42, scale_pos_weight=0.5)\n",
    "# Fit the model\n",
    "xgb_model.fit(tr_X,tr_y)\n",
    "\n",
    "# Instance of XGBoost model with best parameters\n",
    "df = plot_feature_importance(xgb_model, 'xgb',10)"
   ]
  },
  {
   "cell_type": "code",
   "execution_count": 75,
   "metadata": {},
   "outputs": [
    {
     "data": {
      "text/plain": [
       "CalibratedClassifierCV(base_estimator=GridSearchCV(cv=RepeatedStratifiedKFold(n_repeats=5, n_splits=10, random_state=42),\n",
       "                                                   error_score=nan,\n",
       "                                                   estimator=XGBClassifier(base_score=None,\n",
       "                                                                           booster=None,\n",
       "                                                                           colsample_bylevel=None,\n",
       "                                                                           colsample_bynode=None,\n",
       "                                                                           colsample_bytree=None,\n",
       "                                                                           gamma=None,\n",
       "                                                                           gpu_id=None,\n",
       "                                                                           importance_type='gain',\n",
       "                                                                           interaction_constraints=None,\n",
       "                                                                           learning_rate=None,\n",
       "                                                                           m...\n",
       "                                                                           random_state=None,\n",
       "                                                                           reg_alpha=None,\n",
       "                                                                           reg_lambda=None,\n",
       "                                                                           scale_pos_weight=0.5,\n",
       "                                                                           subsample=None,\n",
       "                                                                           tree_method=None,\n",
       "                                                                           validate_parameters=False,\n",
       "                                                                           verbosity=None),\n",
       "                                                   iid='deprecated',\n",
       "                                                   n_jobs=None,\n",
       "                                                   param_grid={'max_depth': [2,\n",
       "                                                                             3,\n",
       "                                                                             5,\n",
       "                                                                             7],\n",
       "                                                               'n_estimators': [10,\n",
       "                                                                                20,\n",
       "                                                                                50,\n",
       "                                                                                100,\n",
       "                                                                                200,\n",
       "                                                                                300,\n",
       "                                                                                400]},\n",
       "                                                   pre_dispatch='2*n_jobs',\n",
       "                                                   refit=True,\n",
       "                                                   return_train_score=True,\n",
       "                                                   scoring='roc_auc',\n",
       "                                                   verbose=0),\n",
       "                       cv=3, method='sigmoid')"
      ]
     },
     "execution_count": 75,
     "metadata": {},
     "output_type": "execute_result"
    }
   ],
   "source": [
    "# Calibrate the model\n",
    "clf = CalibratedClassifierCV(xgb_clf, cv=3)\n",
    "clf.fit(tr_X, tr_y)"
   ]
  },
  {
   "cell_type": "markdown",
   "metadata": {},
   "source": [
    "# 5.5.1 Kaggle Score without top features"
   ]
  },
  {
   "cell_type": "code",
   "execution_count": 76,
   "metadata": {},
   "outputs": [],
   "source": [
    "# Create submission file format to submit in Kaggle\n",
    "temp_id = df_test['id']\n",
    "xgb_csv = clf.predict_proba(ts_X)[:,1]\n",
    "xgb_df = pd.DataFrame(np.column_stack((temp_id,xgb_csv)), columns=['id','target'])\n",
    "xgb_df['id'] = xgb_df['id'].astype('int32')\n",
    "xgb_df.to_csv(data_dir+'/submission_xgb.csv', index=False)"
   ]
  },
  {
   "cell_type": "code",
   "execution_count": 77,
   "metadata": {},
   "outputs": [
    {
     "data": {
      "text/plain": [
       "<matplotlib.image.AxesImage at 0x266f1803908>"
      ]
     },
     "execution_count": 77,
     "metadata": {},
     "output_type": "execute_result"
    },
    {
     "data": {
      "image/png": "[encoded data removed]",
      "text/plain": [
       "<Figure size 1296x360 with 1 Axes>"
      ]
     },
     "metadata": {
      "needs_background": "light"
     },
     "output_type": "display_data"
    }
   ],
   "source": [
    "image = plt.imread(data_dir+'/submission_xgb.png')\n",
    "plt.figure(figsize=(18,5))\n",
    "plt.imshow(image)"
   ]
  },
  {
   "cell_type": "markdown",
   "metadata": {},
   "source": [
    "# 5.5.2 Using top 10 features of this model"
   ]
  },
  {
   "cell_type": "code",
   "execution_count": 78,
   "metadata": {},
   "outputs": [
    {
     "name": "stdout",
     "output_type": "stream",
     "text": [
      "for 1 feature\n"
     ]
    },
    {
     "data": {
      "application/vnd.jupyter.widget-view+json": {
       "model_id": "20fe450883074d559cadec48649cb253",
       "version_major": 2,
       "version_minor": 0
      },
      "text/plain": [
       "HBox(children=(FloatProgress(value=0.0, max=300.0), HTML(value='')))"
      ]
     },
     "metadata": {},
     "output_type": "display_data"
    },
    {
     "name": "stdout",
     "output_type": "stream",
     "text": [
      "\n",
      "Current top feature 91 and score: 0.6425\n",
      "Appended to top column\n",
      "[91]\n",
      "for 2 feature\n"
     ]
    },
    {
     "data": {
      "application/vnd.jupyter.widget-view+json": {
       "model_id": "324251c2ddca455298697f20a7e4cbff",
       "version_major": 2,
       "version_minor": 0
      },
      "text/plain": [
       "HBox(children=(FloatProgress(value=0.0, max=300.0), HTML(value='')))"
      ]
     },
     "metadata": {},
     "output_type": "display_data"
    },
    {
     "name": "stdout",
     "output_type": "stream",
     "text": [
      "\n",
      "Current top feature 120 and score: 0.7095833333333332\n",
      "Appended to top column\n",
      "[91, 120]\n",
      "for 3 feature\n"
     ]
    },
    {
     "data": {
      "application/vnd.jupyter.widget-view+json": {
       "model_id": "b45f9aa514a64b20be90c2d18d9ad79f",
       "version_major": 2,
       "version_minor": 0
      },
      "text/plain": [
       "HBox(children=(FloatProgress(value=0.0, max=300.0), HTML(value='')))"
      ]
     },
     "metadata": {},
     "output_type": "display_data"
    },
    {
     "name": "stdout",
     "output_type": "stream",
     "text": [
      "\n",
      "Current top feature 33 and score: 0.7473611111111111\n",
      "Appended to top column\n",
      "[91, 120, 33]\n",
      "for 4 feature\n"
     ]
    },
    {
     "data": {
      "application/vnd.jupyter.widget-view+json": {
       "model_id": "d506551ecd974896a03eee757993a966",
       "version_major": 2,
       "version_minor": 0
      },
      "text/plain": [
       "HBox(children=(FloatProgress(value=0.0, max=300.0), HTML(value='')))"
      ]
     },
     "metadata": {},
     "output_type": "display_data"
    },
    {
     "name": "stdout",
     "output_type": "stream",
     "text": [
      "\n",
      "Current top feature 108 and score: 0.7788888888888887\n",
      "Appended to top column\n",
      "[91, 120, 33, 108]\n",
      "for 5 feature\n"
     ]
    },
    {
     "data": {
      "application/vnd.jupyter.widget-view+json": {
       "model_id": "3f73bddb2d5f425aaa7272fc3193a250",
       "version_major": 2,
       "version_minor": 0
      },
      "text/plain": [
       "HBox(children=(FloatProgress(value=0.0, max=300.0), HTML(value='')))"
      ]
     },
     "metadata": {},
     "output_type": "display_data"
    },
    {
     "name": "stdout",
     "output_type": "stream",
     "text": [
      "\n",
      "Current top feature 141 and score: 0.8011111111111111\n",
      "Appended to top column\n",
      "[91, 120, 33, 108, 141]\n",
      "for 6 feature\n"
     ]
    },
    {
     "data": {
      "application/vnd.jupyter.widget-view+json": {
       "model_id": "49ec7e8f9385473c9328d8fd1c17eccc",
       "version_major": 2,
       "version_minor": 0
      },
      "text/plain": [
       "HBox(children=(FloatProgress(value=0.0, max=300.0), HTML(value='')))"
      ]
     },
     "metadata": {},
     "output_type": "display_data"
    },
    {
     "name": "stdout",
     "output_type": "stream",
     "text": [
      "\n",
      "Current top feature 246 and score: 0.8295833333333335\n",
      "Appended to top column\n",
      "[91, 120, 33, 108, 141, 246]\n",
      "for 7 feature\n"
     ]
    },
    {
     "data": {
      "application/vnd.jupyter.widget-view+json": {
       "model_id": "07ea1a22e7b44cc1901cefd9449ec67e",
       "version_major": 2,
       "version_minor": 0
      },
      "text/plain": [
       "HBox(children=(FloatProgress(value=0.0, max=300.0), HTML(value='')))"
      ]
     },
     "metadata": {},
     "output_type": "display_data"
    },
    {
     "name": "stdout",
     "output_type": "stream",
     "text": [
      "\n",
      "Current top feature 146 and score: 0.8491666666666668\n",
      "Appended to top column\n",
      "[91, 120, 33, 108, 141, 246, 146]\n",
      "for 8 feature\n"
     ]
    },
    {
     "data": {
      "application/vnd.jupyter.widget-view+json": {
       "model_id": "11b8ce20965a425aa573b6732f84ad37",
       "version_major": 2,
       "version_minor": 0
      },
      "text/plain": [
       "HBox(children=(FloatProgress(value=0.0, max=300.0), HTML(value='')))"
      ]
     },
     "metadata": {},
     "output_type": "display_data"
    },
    {
     "name": "stdout",
     "output_type": "stream",
     "text": [
      "\n",
      "Current top feature 95 and score: 0.868888888888889\n",
      "Appended to top column\n",
      "[91, 120, 33, 108, 141, 246, 146, 95]\n",
      "for 9 feature\n"
     ]
    },
    {
     "data": {
      "application/vnd.jupyter.widget-view+json": {
       "model_id": "be88e4dac45a4b088cd736f37e179bba",
       "version_major": 2,
       "version_minor": 0
      },
      "text/plain": [
       "HBox(children=(FloatProgress(value=0.0, max=300.0), HTML(value='')))"
      ]
     },
     "metadata": {},
     "output_type": "display_data"
    },
    {
     "name": "stdout",
     "output_type": "stream",
     "text": [
      "\n",
      "Current top feature 230 and score: 0.8731944444444444\n",
      "Appended to top column\n",
      "[91, 120, 33, 108, 141, 246, 146, 95, 230]\n",
      "for 10 feature\n"
     ]
    },
    {
     "data": {
      "application/vnd.jupyter.widget-view+json": {
       "model_id": "f72a34a03ba3496c82119ef39b0171a6",
       "version_major": 2,
       "version_minor": 0
      },
      "text/plain": [
       "HBox(children=(FloatProgress(value=0.0, max=300.0), HTML(value='')))"
      ]
     },
     "metadata": {},
     "output_type": "display_data"
    },
    {
     "name": "stdout",
     "output_type": "stream",
     "text": [
      "\n"
     ]
    }
   ],
   "source": [
    "top_column = forward_selection_model(xgb_model)"
   ]
  },
  {
   "cell_type": "code",
   "execution_count": 79,
   "metadata": {},
   "outputs": [],
   "source": [
    "# Store the top column name into set\n",
    "xgb_top10_feat = set(top_column)"
   ]
  },
  {
   "cell_type": "code",
   "execution_count": 80,
   "metadata": {},
   "outputs": [],
   "source": [
    "# Fit RF on top features only\n",
    "xgb_model_top = XGBClassifier(**xgb_clf.best_params_, random_state=42, scale_pos_weight=0.5)\n",
    "xgb_model_top.fit(tr_X[:,top_column],tr_y)\n",
    "# Calibrate it in top features only\n",
    "clf = CalibratedClassifierCV(xgb_model_top, cv=3)\n",
    "clf.fit(tr_X[:,top_column],tr_y)\n",
    "# Predict the probabilities of 1\n",
    "ts_pred = clf.predict_proba(ts_X[:,top_column])[:,1]"
   ]
  },
  {
   "cell_type": "code",
   "execution_count": 81,
   "metadata": {},
   "outputs": [],
   "source": [
    "# Create a submssion format to make submission in Kaggle\n",
    "temp_id = df_test['id']\n",
    "df_tspred = pd.DataFrame(np.column_stack((temp_id,ts_pred)), columns=['id','target'])\n",
    "df_tspred['id'] = df_tspred['id'].astype('int32')\n",
    "df_tspred.to_csv(data_dir+'/submission_xgb_top10.csv', index=False)"
   ]
  },
  {
   "cell_type": "code",
   "execution_count": 85,
   "metadata": {},
   "outputs": [
    {
     "data": {
      "text/plain": [
       "<matplotlib.image.AxesImage at 0x266eaa06a88>"
      ]
     },
     "execution_count": 85,
     "metadata": {},
     "output_type": "execute_result"
    },
    {
     "data": {
      "image/png": "[encoded data removed]",
      "text/plain": [
       "<Figure size 1296x360 with 1 Axes>"
      ]
     },
     "metadata": {
      "needs_background": "light"
     },
     "output_type": "display_data"
    }
   ],
   "source": [
    "image = plt.imread(data_dir+'/xgb_csv_top10.png')\n",
    "plt.figure(figsize=(18,5))\n",
    "plt.imshow(image)"
   ]
  },
  {
   "cell_type": "markdown",
   "metadata": {},
   "source": [
    "# 5.6 Stacking Classifier"
   ]
  },
  {
   "cell_type": "code",
   "execution_count": 92,
   "metadata": {},
   "outputs": [],
   "source": [
    "# Combined all top features of all models\n",
    "# Ref: https://www.geeksforgeeks.org/union-function-python/\n",
    "comb_top_feat = list(log_top20_feat.union(svc_top10_feat, rf_top10_feat, xgb_top10_feat))"
   ]
  },
  {
   "cell_type": "code",
   "execution_count": 86,
   "metadata": {},
   "outputs": [],
   "source": [
    "# Import Stacking Classifier\n",
    "from mlxtend.classifier import StackingClassifier"
   ]
  },
  {
   "cell_type": "code",
   "execution_count": 93,
   "metadata": {},
   "outputs": [
    {
     "data": {
      "text/plain": [
       "StackingClassifier(average_probas=False,\n",
       "                   classifiers=[CalibratedClassifierCV(base_estimator=LogisticRegression(C=0.1,\n",
       "                                                                                         class_weight='balanced',\n",
       "                                                                                         dual=False,\n",
       "                                                                                         fit_intercept=True,\n",
       "                                                                                         intercept_scaling=1,\n",
       "                                                                                         l1_ratio=None,\n",
       "                                                                                         max_iter=100,\n",
       "                                                                                         multi_class='auto',\n",
       "                                                                                         n_jobs=None,\n",
       "                                                                                         penalty='l1',\n",
       "                                                                                         random_state=42,\n",
       "                                                                                         solver='liblinear',\n",
       "                                                                                         tol=0.0001,\n",
       "                                                                                         verbose=0,\n",
       "                                                                                         warm_start=False),\n",
       "                                                       cv=3, method='si...\n",
       "                   meta_classifier=CalibratedClassifierCV(base_estimator=LogisticRegression(C=0.1,\n",
       "                                                                                            class_weight='balanced',\n",
       "                                                                                            dual=False,\n",
       "                                                                                            fit_intercept=True,\n",
       "                                                                                            intercept_scaling=1,\n",
       "                                                                                            l1_ratio=None,\n",
       "                                                                                            max_iter=100,\n",
       "                                                                                            multi_class='auto',\n",
       "                                                                                            n_jobs=None,\n",
       "                                                                                            penalty='l1',\n",
       "                                                                                            random_state=42,\n",
       "                                                                                            solver='liblinear',\n",
       "                                                                                            tol=0.0001,\n",
       "                                                                                            verbose=0,\n",
       "                                                                                            warm_start=False),\n",
       "                                                          cv=3,\n",
       "                                                          method='sigmoid'),\n",
       "                   store_train_meta_features=False, use_clones=True,\n",
       "                   use_features_in_secondary=False, use_probas=True, verbose=0)"
      ]
     },
     "execution_count": 93,
     "metadata": {},
     "output_type": "execute_result"
    }
   ],
   "source": [
    "# StackClassifier (See Docs: http://rasbt.github.io/mlxtend/user_guide/classifier/StackingClassifier/#methods)\n",
    "\n",
    "# Classifier 1: Logistic Regression with best params\n",
    "clf1 = LogisticRegression(C = 0.1, penalty = 'l1', solver = 'liblinear', class_weight='balanced', random_state=42)\n",
    "clf1.fit(tr_X,tr_y)\n",
    "clf1 = CalibratedClassifierCV(clf1, cv=3)\n",
    "\n",
    "# Classifier 2: SVC with best params\n",
    "clf2 = SVC(C=10, kernel='rbf', random_state=42, class_weight='balanced', probability=True)\n",
    "clf2.fit(tr_X,tr_y)\n",
    "clf2 = CalibratedClassifierCV(clf2, cv=3)\n",
    "\n",
    "# Classifier 3: XGBoost with best params\n",
    "clf3 = XGBClassifier(max_depth=2, n_estimators=300, scale_pos_weight=0.5)\n",
    "clf3.fit(tr_X,tr_y)\n",
    "clf3 = CalibratedClassifierCV(clf3, cv=3)\n",
    "\n",
    "# Classifier 4: RF with best params\n",
    "clf4 = RandomForestClassifier(max_depth=2, n_estimators=300)\n",
    "clf4.fit(tr_X,tr_y)\n",
    "clf4 = CalibratedClassifierCV(clf4, cv=3)\n",
    "\n",
    "# Stack Classifier\n",
    "sclf = StackingClassifier(classifiers=[clf1,clf2,clf3,clf4], meta_classifier=clf1, use_probas=True)\n",
    "\n",
    "# Fit the model\n",
    "sclf.fit(tr_X, tr_y)"
   ]
  },
  {
   "cell_type": "markdown",
   "metadata": {},
   "source": [
    "# 5.6.1 Kaggle score without top features"
   ]
  },
  {
   "cell_type": "code",
   "execution_count": 94,
   "metadata": {},
   "outputs": [],
   "source": [
    "# Create a submission file format to submit in Kaggle\n",
    "temp_id = df_test['id']\n",
    "sclf_csv = sclf.predict_proba(ts_X)[:,1]\n",
    "sclf_df = pd.DataFrame(np.column_stack((temp_id,sclf_csv)), columns=['id','target'])\n",
    "sclf_df['id'] = sclf_df['id'].astype('int32')\n",
    "sclf_df.to_csv(data_dir+'/submission_sclf.csv', index=False)"
   ]
  },
  {
   "cell_type": "code",
   "execution_count": 95,
   "metadata": {},
   "outputs": [
    {
     "data": {
      "text/plain": [
       "<matplotlib.image.AxesImage at 0x266f2521408>"
      ]
     },
     "execution_count": 95,
     "metadata": {},
     "output_type": "execute_result"
    },
    {
     "data": {
      "image/png": "[encoded data removed]",
      "text/plain": [
       "<Figure size 1296x360 with 1 Axes>"
      ]
     },
     "metadata": {
      "needs_background": "light"
     },
     "output_type": "display_data"
    }
   ],
   "source": [
    "image = plt.imread(data_dir+'/submission_sclf.png')\n",
    "plt.figure(figsize=(18,5))\n",
    "plt.imshow(image)"
   ]
  },
  {
   "cell_type": "markdown",
   "metadata": {},
   "source": [
    "# 5.6.2 Using Top features"
   ]
  },
  {
   "cell_type": "code",
   "execution_count": 97,
   "metadata": {},
   "outputs": [
    {
     "data": {
      "text/plain": [
       "StackingClassifier(average_probas=False,\n",
       "                   classifiers=[CalibratedClassifierCV(base_estimator=LogisticRegression(C=0.1,\n",
       "                                                                                         class_weight='balanced',\n",
       "                                                                                         dual=False,\n",
       "                                                                                         fit_intercept=True,\n",
       "                                                                                         intercept_scaling=1,\n",
       "                                                                                         l1_ratio=None,\n",
       "                                                                                         max_iter=100,\n",
       "                                                                                         multi_class='auto',\n",
       "                                                                                         n_jobs=None,\n",
       "                                                                                         penalty='l1',\n",
       "                                                                                         random_state=42,\n",
       "                                                                                         solver='liblinear',\n",
       "                                                                                         tol=0.0001,\n",
       "                                                                                         verbose=0,\n",
       "                                                                                         warm_start=False),\n",
       "                                                       cv=3, method='si...\n",
       "                   meta_classifier=CalibratedClassifierCV(base_estimator=LogisticRegression(C=0.1,\n",
       "                                                                                            class_weight='balanced',\n",
       "                                                                                            dual=False,\n",
       "                                                                                            fit_intercept=True,\n",
       "                                                                                            intercept_scaling=1,\n",
       "                                                                                            l1_ratio=None,\n",
       "                                                                                            max_iter=100,\n",
       "                                                                                            multi_class='auto',\n",
       "                                                                                            n_jobs=None,\n",
       "                                                                                            penalty='l1',\n",
       "                                                                                            random_state=42,\n",
       "                                                                                            solver='liblinear',\n",
       "                                                                                            tol=0.0001,\n",
       "                                                                                            verbose=0,\n",
       "                                                                                            warm_start=False),\n",
       "                                                          cv=3,\n",
       "                                                          method='sigmoid'),\n",
       "                   store_train_meta_features=False, use_clones=True,\n",
       "                   use_features_in_secondary=False, use_probas=True, verbose=0)"
      ]
     },
     "execution_count": 97,
     "metadata": {},
     "output_type": "execute_result"
    }
   ],
   "source": [
    "# Fit the model\n",
    "sclf.fit(tr_X[:,comb_top_feat], tr_y)"
   ]
  },
  {
   "cell_type": "code",
   "execution_count": 98,
   "metadata": {},
   "outputs": [],
   "source": [
    "# Create a submission file format to submit in Kaggle\n",
    "temp_id = df_test['id']\n",
    "sclf_csv = sclf.predict_proba(ts_X[:, comb_top_feat])[:,1]\n",
    "sclf_df = pd.DataFrame(np.column_stack((temp_id,sclf_csv)), columns=['id','target'])\n",
    "sclf_df['id'] = sclf_df['id'].astype('int32')\n",
    "sclf_df.to_csv(data_dir+'/submission_sclf_topfeat.csv', index=False)"
   ]
  },
  {
   "cell_type": "code",
   "execution_count": 99,
   "metadata": {},
   "outputs": [
    {
     "data": {
      "text/plain": [
       "<matplotlib.image.AxesImage at 0x266f23771c8>"
      ]
     },
     "execution_count": 99,
     "metadata": {},
     "output_type": "execute_result"
    },
    {
     "data": {
      "image/png": "[encoded data removed]",
      "text/plain": [
       "<Figure size 1296x360 with 1 Axes>"
      ]
     },
     "metadata": {
      "needs_background": "light"
     },
     "output_type": "display_data"
    }
   ],
   "source": [
    "image = plt.imread(data_dir+'/sclf_topfeat.png')\n",
    "plt.figure(figsize=(18,5))\n",
    "plt.imshow(image)"
   ]
  },
  {
   "cell_type": "markdown",
   "metadata": {},
   "source": [
    "# 5.7 Voting Classifier (Without Stack Classifier + no weights)"
   ]
  },
  {
   "cell_type": "code",
   "execution_count": 100,
   "metadata": {},
   "outputs": [],
   "source": [
    "# Import Voting Classifier\n",
    "from mlxtend.classifier import EnsembleVoteClassifier"
   ]
  },
  {
   "cell_type": "code",
   "execution_count": 102,
   "metadata": {},
   "outputs": [
    {
     "data": {
      "text/plain": [
       "EnsembleVoteClassifier(clfs=[CalibratedClassifierCV(base_estimator=LogisticRegression(C=0.1,\n",
       "                                                                                      class_weight='balanced',\n",
       "                                                                                      dual=False,\n",
       "                                                                                      fit_intercept=True,\n",
       "                                                                                      intercept_scaling=1,\n",
       "                                                                                      l1_ratio=None,\n",
       "                                                                                      max_iter=100,\n",
       "                                                                                      multi_class='auto',\n",
       "                                                                                      n_jobs=None,\n",
       "                                                                                      penalty='l1',\n",
       "                                                                                      random_state=42,\n",
       "                                                                                      solver='liblinear',\n",
       "                                                                                      tol=0.0001,\n",
       "                                                                                      verbose=0,\n",
       "                                                                                      warm_start=False),\n",
       "                                                    cv=3, method='sigmoid'),\n",
       "                             CalibratedClassi...\n",
       "                                                                                          max_depth=2,\n",
       "                                                                                          max_features='auto',\n",
       "                                                                                          max_leaf_nodes=None,\n",
       "                                                                                          max_samples=None,\n",
       "                                                                                          min_impurity_decrease=0.0,\n",
       "                                                                                          min_impurity_split=None,\n",
       "                                                                                          min_samples_leaf=1,\n",
       "                                                                                          min_samples_split=2,\n",
       "                                                                                          min_weight_fraction_leaf=0.0,\n",
       "                                                                                          n_estimators=300,\n",
       "                                                                                          n_jobs=None,\n",
       "                                                                                          oob_score=False,\n",
       "                                                                                          random_state=None,\n",
       "                                                                                          verbose=0,\n",
       "                                                                                          warm_start=False),\n",
       "                                                    cv=3, method='sigmoid')],\n",
       "                       refit=True, verbose=0, voting='hard', weights=None)"
      ]
     },
     "execution_count": 102,
     "metadata": {},
     "output_type": "execute_result"
    }
   ],
   "source": [
    "# Voting Classifier (See Docs: http://rasbt.github.io/mlxtend/user_guide/classifier/EnsembleVoteClassifier/)\n",
    "eclf = EnsembleVoteClassifier(clfs=[clf1, clf2,clf3,clf4])\n",
    "# Fit the train data\n",
    "eclf.fit(tr_X,tr_y)"
   ]
  },
  {
   "cell_type": "markdown",
   "metadata": {},
   "source": [
    "# 5.7.1 Kaggle Score without top features"
   ]
  },
  {
   "cell_type": "code",
   "execution_count": 105,
   "metadata": {},
   "outputs": [],
   "source": [
    "# Create a submission file format to submit in Kaggle\n",
    "temp_id = df_test['id']\n",
    "eclf_csv = eclf.predict_proba(ts_X)[:,1]\n",
    "eclf_df = pd.DataFrame(np.column_stack((temp_id,eclf_csv)), columns=['id','target'])\n",
    "eclf_df['id'] = eclf_df['id'].astype('int32')\n",
    "eclf_df.to_csv(data_dir+'/submission_eclf.csv', index=False)"
   ]
  },
  {
   "cell_type": "code",
   "execution_count": 106,
   "metadata": {},
   "outputs": [
    {
     "data": {
      "text/plain": [
       "<matplotlib.image.AxesImage at 0x266f23cd488>"
      ]
     },
     "execution_count": 106,
     "metadata": {},
     "output_type": "execute_result"
    },
    {
     "data": {
      "image/png": "[encoded data removed]",
      "text/plain": [
       "<Figure size 1296x360 with 1 Axes>"
      ]
     },
     "metadata": {
      "needs_background": "light"
     },
     "output_type": "display_data"
    }
   ],
   "source": [
    "image = plt.imread(data_dir+'/submission_eclf.png')\n",
    "plt.figure(figsize=(18,5))\n",
    "plt.imshow(image)"
   ]
  },
  {
   "cell_type": "markdown",
   "metadata": {},
   "source": [
    "# 5.7.2 Kaggle Score using top features"
   ]
  },
  {
   "cell_type": "code",
   "execution_count": 107,
   "metadata": {},
   "outputs": [
    {
     "data": {
      "text/plain": [
       "EnsembleVoteClassifier(clfs=[CalibratedClassifierCV(base_estimator=LogisticRegression(C=0.1,\n",
       "                                                                                      class_weight='balanced',\n",
       "                                                                                      dual=False,\n",
       "                                                                                      fit_intercept=True,\n",
       "                                                                                      intercept_scaling=1,\n",
       "                                                                                      l1_ratio=None,\n",
       "                                                                                      max_iter=100,\n",
       "                                                                                      multi_class='auto',\n",
       "                                                                                      n_jobs=None,\n",
       "                                                                                      penalty='l1',\n",
       "                                                                                      random_state=42,\n",
       "                                                                                      solver='liblinear',\n",
       "                                                                                      tol=0.0001,\n",
       "                                                                                      verbose=0,\n",
       "                                                                                      warm_start=False),\n",
       "                                                    cv=3, method='sigmoid'),\n",
       "                             CalibratedClassi...\n",
       "                                                                                          max_depth=2,\n",
       "                                                                                          max_features='auto',\n",
       "                                                                                          max_leaf_nodes=None,\n",
       "                                                                                          max_samples=None,\n",
       "                                                                                          min_impurity_decrease=0.0,\n",
       "                                                                                          min_impurity_split=None,\n",
       "                                                                                          min_samples_leaf=1,\n",
       "                                                                                          min_samples_split=2,\n",
       "                                                                                          min_weight_fraction_leaf=0.0,\n",
       "                                                                                          n_estimators=300,\n",
       "                                                                                          n_jobs=None,\n",
       "                                                                                          oob_score=False,\n",
       "                                                                                          random_state=None,\n",
       "                                                                                          verbose=0,\n",
       "                                                                                          warm_start=False),\n",
       "                                                    cv=3, method='sigmoid')],\n",
       "                       refit=True, verbose=0, voting='hard', weights=None)"
      ]
     },
     "execution_count": 107,
     "metadata": {},
     "output_type": "execute_result"
    }
   ],
   "source": [
    "# Fit the model\n",
    "eclf.fit(tr_X[:,comb_top_feat], tr_y)"
   ]
  },
  {
   "cell_type": "code",
   "execution_count": 108,
   "metadata": {},
   "outputs": [],
   "source": [
    "# Create a submission file format to submit in Kaggle\n",
    "temp_id = df_test['id']\n",
    "eclf_csv = eclf.predict_proba(ts_X[:,comb_top_feat])[:,1]\n",
    "eclf_df = pd.DataFrame(np.column_stack((temp_id,eclf_csv)), columns=['id','target'])\n",
    "eclf_df['id'] = eclf_df['id'].astype('int32')\n",
    "eclf_df.to_csv(data_dir+'/submission_eclf_topfeat.csv', index=False)"
   ]
  },
  {
   "cell_type": "code",
   "execution_count": 109,
   "metadata": {},
   "outputs": [
    {
     "data": {
      "text/plain": [
       "<matplotlib.image.AxesImage at 0x266f16b9ac8>"
      ]
     },
     "execution_count": 109,
     "metadata": {},
     "output_type": "execute_result"
    },
    {
     "data": {
      "image/png": "[encoded data removed]",
      "text/plain": [
       "<Figure size 1296x360 with 1 Axes>"
      ]
     },
     "metadata": {
      "needs_background": "light"
     },
     "output_type": "display_data"
    }
   ],
   "source": [
    "image = plt.imread(data_dir+'/eclf_topfeat.png')\n",
    "plt.figure(figsize=(18,5))\n",
    "plt.imshow(image)"
   ]
  },
  {
   "cell_type": "markdown",
   "metadata": {},
   "source": [
    "# 5.8 Voting Classifier (With Stack Classifier + no weights)"
   ]
  },
  {
   "cell_type": "code",
   "execution_count": 110,
   "metadata": {},
   "outputs": [
    {
     "data": {
      "text/plain": [
       "EnsembleVoteClassifier(clfs=[CalibratedClassifierCV(base_estimator=LogisticRegression(C=0.1,\n",
       "                                                                                      class_weight='balanced',\n",
       "                                                                                      dual=False,\n",
       "                                                                                      fit_intercept=True,\n",
       "                                                                                      intercept_scaling=1,\n",
       "                                                                                      l1_ratio=None,\n",
       "                                                                                      max_iter=100,\n",
       "                                                                                      multi_class='auto',\n",
       "                                                                                      n_jobs=None,\n",
       "                                                                                      penalty='l1',\n",
       "                                                                                      random_state=42,\n",
       "                                                                                      solver='liblinear',\n",
       "                                                                                      tol=0.0001,\n",
       "                                                                                      verbose=0,\n",
       "                                                                                      warm_start=False),\n",
       "                                                    cv=3, method='sigmoid'),\n",
       "                             CalibratedClassi...\n",
       "                                                                                                                         fit_intercept=True,\n",
       "                                                                                                                         intercept_scaling=1,\n",
       "                                                                                                                         l1_ratio=None,\n",
       "                                                                                                                         max_iter=100,\n",
       "                                                                                                                         multi_class='auto',\n",
       "                                                                                                                         n_jobs=None,\n",
       "                                                                                                                         penalty='l1',\n",
       "                                                                                                                         random_state=42,\n",
       "                                                                                                                         solver='liblinear',\n",
       "                                                                                                                         tol=0.0001,\n",
       "                                                                                                                         verbose=0,\n",
       "                                                                                                                         warm_start=False),\n",
       "                                                                                       cv=3,\n",
       "                                                                                       method='sigmoid'),\n",
       "                                                store_train_meta_features=False,\n",
       "                                                use_clones=True,\n",
       "                                                use_features_in_secondary=False,\n",
       "                                                use_probas=True, verbose=0)],\n",
       "                       refit=True, verbose=0, voting='hard', weights=None)"
      ]
     },
     "execution_count": 110,
     "metadata": {},
     "output_type": "execute_result"
    }
   ],
   "source": [
    "# Voting Classifier (See Docs: http://rasbt.github.io/mlxtend/user_guide/classifier/EnsembleVoteClassifier/)\n",
    "eclf = EnsembleVoteClassifier(clfs=[clf1, clf2,clf3,clf4,sclf])\n",
    "# Fit the train data\n",
    "eclf.fit(tr_X,tr_y)"
   ]
  },
  {
   "cell_type": "markdown",
   "metadata": {},
   "source": [
    "# 5.8.1 Kaggle Score without top features"
   ]
  },
  {
   "cell_type": "code",
   "execution_count": 111,
   "metadata": {},
   "outputs": [],
   "source": [
    "# Create a submission file format to submit in Kaggle\n",
    "temp_id = df_test['id']\n",
    "eclf_csv = eclf.predict_proba(ts_X)[:,1]\n",
    "eclf_df = pd.DataFrame(np.column_stack((temp_id,eclf_csv)), columns=['id','target'])\n",
    "eclf_df['id'] = eclf_df['id'].astype('int32')\n",
    "eclf_df.to_csv(data_dir+'/submission_eclf_stack.csv', index=False)"
   ]
  },
  {
   "cell_type": "code",
   "execution_count": 112,
   "metadata": {},
   "outputs": [
    {
     "data": {
      "text/plain": [
       "<matplotlib.image.AxesImage at 0x266f1fdfb88>"
      ]
     },
     "execution_count": 112,
     "metadata": {},
     "output_type": "execute_result"
    },
    {
     "data": {
      "image/png": "[encoded data removed]",
      "text/plain": [
       "<Figure size 1296x360 with 1 Axes>"
      ]
     },
     "metadata": {
      "needs_background": "light"
     },
     "output_type": "display_data"
    }
   ],
   "source": [
    "image = plt.imread(data_dir+'/submission_eclf_stack.png')\n",
    "plt.figure(figsize=(18,5))\n",
    "plt.imshow(image)"
   ]
  },
  {
   "cell_type": "markdown",
   "metadata": {},
   "source": [
    "# 5.8.2 Kaggle Score using top features"
   ]
  },
  {
   "cell_type": "code",
   "execution_count": 114,
   "metadata": {},
   "outputs": [
    {
     "data": {
      "text/plain": [
       "EnsembleVoteClassifier(clfs=[CalibratedClassifierCV(base_estimator=LogisticRegression(C=0.1,\n",
       "                                                                                      class_weight='balanced',\n",
       "                                                                                      dual=False,\n",
       "                                                                                      fit_intercept=True,\n",
       "                                                                                      intercept_scaling=1,\n",
       "                                                                                      l1_ratio=None,\n",
       "                                                                                      max_iter=100,\n",
       "                                                                                      multi_class='auto',\n",
       "                                                                                      n_jobs=None,\n",
       "                                                                                      penalty='l1',\n",
       "                                                                                      random_state=42,\n",
       "                                                                                      solver='liblinear',\n",
       "                                                                                      tol=0.0001,\n",
       "                                                                                      verbose=0,\n",
       "                                                                                      warm_start=False),\n",
       "                                                    cv=3, method='sigmoid'),\n",
       "                             CalibratedClassi...\n",
       "                                                                                                                         fit_intercept=True,\n",
       "                                                                                                                         intercept_scaling=1,\n",
       "                                                                                                                         l1_ratio=None,\n",
       "                                                                                                                         max_iter=100,\n",
       "                                                                                                                         multi_class='auto',\n",
       "                                                                                                                         n_jobs=None,\n",
       "                                                                                                                         penalty='l1',\n",
       "                                                                                                                         random_state=42,\n",
       "                                                                                                                         solver='liblinear',\n",
       "                                                                                                                         tol=0.0001,\n",
       "                                                                                                                         verbose=0,\n",
       "                                                                                                                         warm_start=False),\n",
       "                                                                                       cv=3,\n",
       "                                                                                       method='sigmoid'),\n",
       "                                                store_train_meta_features=False,\n",
       "                                                use_clones=True,\n",
       "                                                use_features_in_secondary=False,\n",
       "                                                use_probas=True, verbose=0)],\n",
       "                       refit=True, verbose=0, voting='hard', weights=None)"
      ]
     },
     "execution_count": 114,
     "metadata": {},
     "output_type": "execute_result"
    }
   ],
   "source": [
    "# Fit the model\n",
    "eclf.fit(tr_X[:,comb_top_feat], tr_y)"
   ]
  },
  {
   "cell_type": "code",
   "execution_count": 115,
   "metadata": {},
   "outputs": [],
   "source": [
    "# Create a submission file format to submit in Kaggle\n",
    "temp_id = df_test['id']\n",
    "eclf_csv = eclf.predict_proba(ts_X[:,comb_top_feat])[:,1]\n",
    "eclf_df = pd.DataFrame(np.column_stack((temp_id,eclf_csv)), columns=['id','target'])\n",
    "eclf_df['id'] = eclf_df['id'].astype('int32')\n",
    "eclf_df.to_csv(data_dir+'/submission_eclf_stack_topfeat.csv', index=False)"
   ]
  },
  {
   "cell_type": "code",
   "execution_count": 116,
   "metadata": {},
   "outputs": [
    {
     "data": {
      "text/plain": [
       "<matplotlib.image.AxesImage at 0x266f1fb2608>"
      ]
     },
     "execution_count": 116,
     "metadata": {},
     "output_type": "execute_result"
    },
    {
     "data": {
      "image/png": "[encoded data removed]",
      "text/plain": [
       "<Figure size 1296x360 with 1 Axes>"
      ]
     },
     "metadata": {
      "needs_background": "light"
     },
     "output_type": "display_data"
    }
   ],
   "source": [
    "image = plt.imread(data_dir+'/submission_eclf_stack_topfeat.png')\n",
    "plt.figure(figsize=(18,5))\n",
    "plt.imshow(image)"
   ]
  },
  {
   "cell_type": "markdown",
   "metadata": {},
   "source": [
    "# 5.9 Voting Classifier (without Stack Classifier + weights)"
   ]
  },
  {
   "cell_type": "code",
   "execution_count": 141,
   "metadata": {},
   "outputs": [
    {
     "data": {
      "text/plain": [
       "EnsembleVoteClassifier(clfs=[CalibratedClassifierCV(base_estimator=LogisticRegression(C=0.1,\n",
       "                                                                                      class_weight='balanced',\n",
       "                                                                                      dual=False,\n",
       "                                                                                      fit_intercept=True,\n",
       "                                                                                      intercept_scaling=1,\n",
       "                                                                                      l1_ratio=None,\n",
       "                                                                                      max_iter=100,\n",
       "                                                                                      multi_class='auto',\n",
       "                                                                                      n_jobs=None,\n",
       "                                                                                      penalty='l1',\n",
       "                                                                                      random_state=42,\n",
       "                                                                                      solver='liblinear',\n",
       "                                                                                      tol=0.0001,\n",
       "                                                                                      verbose=0,\n",
       "                                                                                      warm_start=False),\n",
       "                                                    cv=3, method='sigmoid'),\n",
       "                             CalibratedClassi...\n",
       "                                                                                          max_features='auto',\n",
       "                                                                                          max_leaf_nodes=None,\n",
       "                                                                                          max_samples=None,\n",
       "                                                                                          min_impurity_decrease=0.0,\n",
       "                                                                                          min_impurity_split=None,\n",
       "                                                                                          min_samples_leaf=1,\n",
       "                                                                                          min_samples_split=2,\n",
       "                                                                                          min_weight_fraction_leaf=0.0,\n",
       "                                                                                          n_estimators=300,\n",
       "                                                                                          n_jobs=None,\n",
       "                                                                                          oob_score=False,\n",
       "                                                                                          random_state=None,\n",
       "                                                                                          verbose=0,\n",
       "                                                                                          warm_start=False),\n",
       "                                                    cv=3, method='sigmoid')],\n",
       "                       refit=True, verbose=0, voting='hard',\n",
       "                       weights=[0.4, 0.2, 0.2, 0.2])"
      ]
     },
     "execution_count": 141,
     "metadata": {},
     "output_type": "execute_result"
    }
   ],
   "source": [
    "# Voting Classifier (See Docs: http://rasbt.github.io/mlxtend/user_guide/classifier/EnsembleVoteClassifier/)\n",
    "eclf = EnsembleVoteClassifier(clfs=[clf1,clf2,clf3,clf4], weights=[0.4,0.2,0.2,0.2])\n",
    "# Fit the train data\n",
    "eclf.fit(tr_X,tr_y)"
   ]
  },
  {
   "cell_type": "markdown",
   "metadata": {},
   "source": [
    " # 5.9.1 Kaggle Score without top features"
   ]
  },
  {
   "cell_type": "code",
   "execution_count": 120,
   "metadata": {},
   "outputs": [],
   "source": [
    "# Create a submission file format to submit in Kaggle\n",
    "temp_id = df_test['id']\n",
    "eclf_csv = eclf.predict_proba(ts_X)[:,1]\n",
    "eclf_df = pd.DataFrame(np.column_stack((temp_id,eclf_csv)), columns=['id','target'])\n",
    "eclf_df['id'] = eclf_df['id'].astype('int32')\n",
    "eclf_df.to_csv(data_dir+'/submission_eclf_weights.csv', index=False)"
   ]
  },
  {
   "cell_type": "code",
   "execution_count": 121,
   "metadata": {},
   "outputs": [
    {
     "data": {
      "text/plain": [
       "<matplotlib.image.AxesImage at 0x266f2f91d08>"
      ]
     },
     "execution_count": 121,
     "metadata": {},
     "output_type": "execute_result"
    },
    {
     "data": {
      "image/png": "[encoded data removed]",
      "text/plain": [
       "<Figure size 1296x360 with 1 Axes>"
      ]
     },
     "metadata": {
      "needs_background": "light"
     },
     "output_type": "display_data"
    }
   ],
   "source": [
    "image = plt.imread(data_dir+'/submission_eclf_weights.png')\n",
    "plt.figure(figsize=(18,5))\n",
    "plt.imshow(image)"
   ]
  },
  {
   "cell_type": "markdown",
   "metadata": {},
   "source": [
    "# 5.9.2 Kaggle Score using top features"
   ]
  },
  {
   "cell_type": "code",
   "execution_count": 142,
   "metadata": {},
   "outputs": [
    {
     "data": {
      "text/plain": [
       "EnsembleVoteClassifier(clfs=[CalibratedClassifierCV(base_estimator=LogisticRegression(C=0.1,\n",
       "                                                                                      class_weight='balanced',\n",
       "                                                                                      dual=False,\n",
       "                                                                                      fit_intercept=True,\n",
       "                                                                                      intercept_scaling=1,\n",
       "                                                                                      l1_ratio=None,\n",
       "                                                                                      max_iter=100,\n",
       "                                                                                      multi_class='auto',\n",
       "                                                                                      n_jobs=None,\n",
       "                                                                                      penalty='l1',\n",
       "                                                                                      random_state=42,\n",
       "                                                                                      solver='liblinear',\n",
       "                                                                                      tol=0.0001,\n",
       "                                                                                      verbose=0,\n",
       "                                                                                      warm_start=False),\n",
       "                                                    cv=3, method='sigmoid'),\n",
       "                             CalibratedClassi...\n",
       "                                                                                          max_features='auto',\n",
       "                                                                                          max_leaf_nodes=None,\n",
       "                                                                                          max_samples=None,\n",
       "                                                                                          min_impurity_decrease=0.0,\n",
       "                                                                                          min_impurity_split=None,\n",
       "                                                                                          min_samples_leaf=1,\n",
       "                                                                                          min_samples_split=2,\n",
       "                                                                                          min_weight_fraction_leaf=0.0,\n",
       "                                                                                          n_estimators=300,\n",
       "                                                                                          n_jobs=None,\n",
       "                                                                                          oob_score=False,\n",
       "                                                                                          random_state=None,\n",
       "                                                                                          verbose=0,\n",
       "                                                                                          warm_start=False),\n",
       "                                                    cv=3, method='sigmoid')],\n",
       "                       refit=True, verbose=0, voting='hard',\n",
       "                       weights=[0.4, 0.2, 0.2, 0.2])"
      ]
     },
     "execution_count": 142,
     "metadata": {},
     "output_type": "execute_result"
    }
   ],
   "source": [
    "# Voting Classifier (See Docs: http://rasbt.github.io/mlxtend/user_guide/classifier/EnsembleVoteClassifier/)\n",
    "eclf = EnsembleVoteClassifier(clfs=[clf1,clf2,clf3,clf4], weights=[0.4,0.2,0.2,0.2])\n",
    "# Fit the train data\n",
    "eclf.fit(tr_X[:,comb_top_feat],tr_y)"
   ]
  },
  {
   "cell_type": "code",
   "execution_count": 143,
   "metadata": {},
   "outputs": [],
   "source": [
    "# Create a submission file format to submit in Kaggle\n",
    "temp_id = df_test['id']\n",
    "eclf_csv = eclf.predict_proba(ts_X[:,comb_top_feat])[:,1]\n",
    "eclf_df = pd.DataFrame(np.column_stack((temp_id,eclf_csv)), columns=['id','target'])\n",
    "eclf_df['id'] = eclf_df['id'].astype('int32')\n",
    "eclf_df.to_csv(data_dir+'/submission_eclf_weights_topfeat.csv', index=False)"
   ]
  },
  {
   "cell_type": "code",
   "execution_count": 145,
   "metadata": {},
   "outputs": [
    {
     "data": {
      "text/plain": [
       "<matplotlib.image.AxesImage at 0x266f4cacf08>"
      ]
     },
     "execution_count": 145,
     "metadata": {},
     "output_type": "execute_result"
    },
    {
     "data": {
      "image/png": "[encoded data removed]",
      "text/plain": [
       "<Figure size 1296x360 with 1 Axes>"
      ]
     },
     "metadata": {
      "needs_background": "light"
     },
     "output_type": "display_data"
    }
   ],
   "source": [
    "image = plt.imread(data_dir+'/submission_eclf_weights_topfeat.png')\n",
    "plt.figure(figsize=(18,5))\n",
    "plt.imshow(image)"
   ]
  },
  {
   "cell_type": "markdown",
   "metadata": {},
   "source": [
    "# 5.10 Voting Classifier (with Stack Classifier + weights)"
   ]
  },
  {
   "cell_type": "code",
   "execution_count": 135,
   "metadata": {},
   "outputs": [
    {
     "data": {
      "text/plain": [
       "EnsembleVoteClassifier(clfs=[CalibratedClassifierCV(base_estimator=LogisticRegression(C=0.1,\n",
       "                                                                                      class_weight='balanced',\n",
       "                                                                                      dual=False,\n",
       "                                                                                      fit_intercept=True,\n",
       "                                                                                      intercept_scaling=1,\n",
       "                                                                                      l1_ratio=None,\n",
       "                                                                                      max_iter=100,\n",
       "                                                                                      multi_class='auto',\n",
       "                                                                                      n_jobs=None,\n",
       "                                                                                      penalty='l1',\n",
       "                                                                                      random_state=42,\n",
       "                                                                                      solver='liblinear',\n",
       "                                                                                      tol=0.0001,\n",
       "                                                                                      verbose=0,\n",
       "                                                                                      warm_start=False),\n",
       "                                                    cv=3, method='sigmoid'),\n",
       "                             CalibratedClassi...\n",
       "                                                                                                                         intercept_scaling=1,\n",
       "                                                                                                                         l1_ratio=None,\n",
       "                                                                                                                         max_iter=100,\n",
       "                                                                                                                         multi_class='auto',\n",
       "                                                                                                                         n_jobs=None,\n",
       "                                                                                                                         penalty='l1',\n",
       "                                                                                                                         random_state=42,\n",
       "                                                                                                                         solver='liblinear',\n",
       "                                                                                                                         tol=0.0001,\n",
       "                                                                                                                         verbose=0,\n",
       "                                                                                                                         warm_start=False),\n",
       "                                                                                       cv=3,\n",
       "                                                                                       method='sigmoid'),\n",
       "                                                store_train_meta_features=False,\n",
       "                                                use_clones=True,\n",
       "                                                use_features_in_secondary=False,\n",
       "                                                use_probas=True, verbose=0)],\n",
       "                       refit=True, verbose=0, voting='hard',\n",
       "                       weights=[0.4, 0.1, 0.1, 0.2, 0.2])"
      ]
     },
     "execution_count": 135,
     "metadata": {},
     "output_type": "execute_result"
    }
   ],
   "source": [
    "# Voting Classifier (See Docs: http://rasbt.github.io/mlxtend/user_guide/classifier/EnsembleVoteClassifier/)\n",
    "eclf = EnsembleVoteClassifier(clfs=[clf1,clf2,clf3,clf4,sclf], weights=[0.4,0.1,0.1,0.2,0.2])\n",
    "# Fit the train data\n",
    "eclf.fit(tr_X,tr_y)"
   ]
  },
  {
   "cell_type": "markdown",
   "metadata": {},
   "source": [
    "# 5.10.1 Kaggle Score without top features"
   ]
  },
  {
   "cell_type": "code",
   "execution_count": 136,
   "metadata": {},
   "outputs": [],
   "source": [
    "# Create a submission file format to submit in Kaggle\n",
    "temp_id = df_test['id']\n",
    "eclf_csv = eclf.predict_proba(ts_X)[:,1]\n",
    "eclf_df = pd.DataFrame(np.column_stack((temp_id,eclf_csv)), columns=['id','target'])\n",
    "eclf_df['id'] = eclf_df['id'].astype('int32')\n",
    "eclf_df.to_csv(data_dir+'/submission_eclf_stack_weights.csv', index=False)"
   ]
  },
  {
   "cell_type": "code",
   "execution_count": 137,
   "metadata": {},
   "outputs": [
    {
     "data": {
      "text/plain": [
       "<matplotlib.image.AxesImage at 0x266f272d048>"
      ]
     },
     "execution_count": 137,
     "metadata": {},
     "output_type": "execute_result"
    },
    {
     "data": {
      "image/png": "[encoded data removed]",
      "text/plain": [
       "<Figure size 1296x360 with 1 Axes>"
      ]
     },
     "metadata": {
      "needs_background": "light"
     },
     "output_type": "display_data"
    }
   ],
   "source": [
    "image = plt.imread(data_dir+'/submission_eclf_stack_weights.png')\n",
    "plt.figure(figsize=(18,5))\n",
    "plt.imshow(image)"
   ]
  },
  {
   "cell_type": "markdown",
   "metadata": {},
   "source": [
    "# 5.10.2 Kaggle Score using top features"
   ]
  },
  {
   "cell_type": "code",
   "execution_count": 138,
   "metadata": {},
   "outputs": [
    {
     "data": {
      "text/plain": [
       "EnsembleVoteClassifier(clfs=[CalibratedClassifierCV(base_estimator=LogisticRegression(C=0.1,\n",
       "                                                                                      class_weight='balanced',\n",
       "                                                                                      dual=False,\n",
       "                                                                                      fit_intercept=True,\n",
       "                                                                                      intercept_scaling=1,\n",
       "                                                                                      l1_ratio=None,\n",
       "                                                                                      max_iter=100,\n",
       "                                                                                      multi_class='auto',\n",
       "                                                                                      n_jobs=None,\n",
       "                                                                                      penalty='l1',\n",
       "                                                                                      random_state=42,\n",
       "                                                                                      solver='liblinear',\n",
       "                                                                                      tol=0.0001,\n",
       "                                                                                      verbose=0,\n",
       "                                                                                      warm_start=False),\n",
       "                                                    cv=3, method='sigmoid'),\n",
       "                             CalibratedClassi...\n",
       "                                                                                                                         intercept_scaling=1,\n",
       "                                                                                                                         l1_ratio=None,\n",
       "                                                                                                                         max_iter=100,\n",
       "                                                                                                                         multi_class='auto',\n",
       "                                                                                                                         n_jobs=None,\n",
       "                                                                                                                         penalty='l1',\n",
       "                                                                                                                         random_state=42,\n",
       "                                                                                                                         solver='liblinear',\n",
       "                                                                                                                         tol=0.0001,\n",
       "                                                                                                                         verbose=0,\n",
       "                                                                                                                         warm_start=False),\n",
       "                                                                                       cv=3,\n",
       "                                                                                       method='sigmoid'),\n",
       "                                                store_train_meta_features=False,\n",
       "                                                use_clones=True,\n",
       "                                                use_features_in_secondary=False,\n",
       "                                                use_probas=True, verbose=0)],\n",
       "                       refit=True, verbose=0, voting='hard',\n",
       "                       weights=[0.4, 0.1, 0.1, 0.2, 0.2])"
      ]
     },
     "execution_count": 138,
     "metadata": {},
     "output_type": "execute_result"
    }
   ],
   "source": [
    "# Voting Classifier (See Docs: http://rasbt.github.io/mlxtend/user_guide/classifier/EnsembleVoteClassifier/)\n",
    "eclf = EnsembleVoteClassifier(clfs=[clf1,clf2,clf3,clf4,sclf], weights=[0.4,0.1,0.1,0.2,0.2])\n",
    "# Fit the train data\n",
    "eclf.fit(tr_X[:,comb_top_feat],tr_y)"
   ]
  },
  {
   "cell_type": "code",
   "execution_count": 139,
   "metadata": {},
   "outputs": [],
   "source": [
    "# Create a submission file format to submit in Kaggle\n",
    "temp_id = df_test['id']\n",
    "eclf_csv = eclf.predict_proba(ts_X[:,comb_top_feat])[:,1]\n",
    "eclf_df = pd.DataFrame(np.column_stack((temp_id,eclf_csv)), columns=['id','target'])\n",
    "eclf_df['id'] = eclf_df['id'].astype('int32')\n",
    "eclf_df.to_csv(data_dir+'/submission_eclf_stack_weights_topfeat.csv', index=False)"
   ]
  },
  {
   "cell_type": "code",
   "execution_count": 140,
   "metadata": {},
   "outputs": [
    {
     "data": {
      "text/plain": [
       "<matplotlib.image.AxesImage at 0x266f3060b48>"
      ]
     },
     "execution_count": 140,
     "metadata": {},
     "output_type": "execute_result"
    },
    {
     "data": {
      "image/png": "[encoded data removed]",
      "text/plain": [
       "<Figure size 1296x360 with 1 Axes>"
      ]
     },
     "metadata": {
      "needs_background": "light"
     },
     "output_type": "display_data"
    }
   ],
   "source": [
    "image = plt.imread(data_dir+'/submission_eclf_stack_weights_topfeat.png')\n",
    "plt.figure(figsize=(18,5))\n",
    "plt.imshow(image)"
   ]
  },
  {
   "cell_type": "markdown",
   "metadata": {},
   "source": [
    "# 6. Summary of All Models"
   ]
  },
  {
   "cell_type": "code",
   "execution_count": 151,
   "metadata": {},
   "outputs": [
    {
     "name": "stdout",
     "output_type": "stream",
     "text": [
      "+---------------------------------------------+-------------+----------------------------------------------------+------------+\n",
      "|                    Model                    |   Features  |                   Hyperparameter                   | Test Score |\n",
      "+---------------------------------------------+-------------+----------------------------------------------------+------------+\n",
      "|                     knn                     |      AF     |    {'algorithm': 'kd_tree', 'n_neighbors': 35}     |   0.693    |\n",
      "|             Logistic Regression             |      AF     | {'C': 0.1, 'penalty': 'l1', 'solver': 'liblinear'} |   0.828    |\n",
      "|             Logistic Regression             |    top10    | {'C': 0.1, 'penalty': 'l1', 'solver': 'liblinear'} |   0.821    |\n",
      "|             Logistic Regression             |    top20    | {'C': 0.1, 'penalty': 'l1', 'solver': 'liblinear'} |   0.822    |\n",
      "|                     SVC                     |      AF     |             {'C': 10, 'kernel': 'rbf'}             |    0.72    |\n",
      "|                     SVC                     |    top10    |             {'C': 10, 'kernel': 'rbf'}             |   0.689    |\n",
      "|                 RandomForest                |      AF     |       {'max_depth': 2, 'n_estimators': 300}        |   0.745    |\n",
      "|                 RandomForest                |    top10    |       {'max_depth': 2, 'n_estimators': 300}        |   0.784    |\n",
      "|                   XGBoost                   |      AF     |       {'max_depth': 2, 'n_estimators': 300}        |   0.765    |\n",
      "|                   XGBoost                   |    top10    |       {'max_depth': 2, 'n_estimators': 300}        |   0.646    |\n",
      "|             Stacking Classifier             |      AF     |                         -                          |   0.741    |\n",
      "|             Stacking Classifier             | topfeatures |                         -                          |   0.808    |\n",
      "| Voting Classifier(No stacking + no weights) |      AF     |                         -                          |    0.82    |\n",
      "| Voting Classifier(No stacking + no weights) | topfeatures |                         -                          |   0.834    |\n",
      "|   Voting Classifier(stacking + no weights)  |      AF     |                         -                          |   0.814    |\n",
      "|   Voting Classifier(stacking + no weights)  | topfeatures |                         -                          |   0.831    |\n",
      "|   Voting Classifier(no stacking + weights)  |      AF     |                         -                          |    0.83    |\n",
      "|   Voting Classifier(no stacking + weights)  | topfeatures |                         -                          |   0.839    |\n",
      "|    Voting Classifier(stacking + weights)    |      AF     |                         -                          |   0.827    |\n",
      "|    Voting Classifier(stacking + weights)    | topfeatures |                         -                          |   0.838    |\n",
      "+---------------------------------------------+-------------+----------------------------------------------------+------------+\n"
     ]
    }
   ],
   "source": [
    "from prettytable import PrettyTable\n",
    "x = PrettyTable()\n",
    "x.field_names = ['Model','Features','Hyperparameter','Test Score']\n",
    "x.add_row(['knn','AF',r\"{'algorithm': 'kd_tree', 'n_neighbors': 35}\",0.693])\n",
    "x.add_row(['Logistic Regression','AF',r\"{'C': 0.1, 'penalty': 'l1', 'solver': 'liblinear'}\",0.828])\n",
    "x.add_row(['Logistic Regression','top10',r\"{'C': 0.1, 'penalty': 'l1', 'solver': 'liblinear'}\",0.821])\n",
    "x.add_row(['Logistic Regression','top20',r\"{'C': 0.1, 'penalty': 'l1', 'solver': 'liblinear'}\",0.822])\n",
    "x.add_row(['SVC','AF',r\"{'C': 10, 'kernel': 'rbf'}\",0.720])\n",
    "x.add_row(['SVC','top10',r\"{'C': 10, 'kernel': 'rbf'}\",0.689])\n",
    "x.add_row(['RandomForest','AF',r\"{'max_depth': 2, 'n_estimators': 300}\",0.745])\n",
    "x.add_row(['RandomForest','top10',r\"{'max_depth': 2, 'n_estimators': 300}\",0.784])\n",
    "x.add_row(['XGBoost','AF',r\"{'max_depth': 2, 'n_estimators': 300}\",0.765])\n",
    "x.add_row(['XGBoost','top10',r\"{'max_depth': 2, 'n_estimators': 300}\",0.646])\n",
    "x.add_row(['Stacking Classifier','AF','-',0.741])\n",
    "x.add_row(['Stacking Classifier','topfeatures','-',0.808])\n",
    "x.add_row(['Voting Classifier(No stacking + no weights)','AF',\"-\",0.820])\n",
    "x.add_row(['Voting Classifier(No stacking + no weights)','topfeatures',\"-\",0.834])\n",
    "x.add_row(['Voting Classifier(stacking + no weights)','AF',\"-\",0.814])\n",
    "x.add_row(['Voting Classifier(stacking + no weights)','topfeatures',\"-\",0.831])\n",
    "x.add_row(['Voting Classifier(no stacking + weights)','AF',\"-\",0.830])\n",
    "x.add_row(['Voting Classifier(no stacking + weights)','topfeatures',\"-\",0.839])\n",
    "x.add_row(['Voting Classifier(stacking + weights)','AF',\"-\",0.827])\n",
    "x.add_row(['Voting Classifier(stacking + weights)','topfeatures',\"-\",0.838])\n",
    "print(x)"
   ]
  },
  {
   "cell_type": "markdown",
   "metadata": {},
   "source": [
    "Notation:\n",
    "1. AF: All features\n",
    "2. top10: Find top 10 features using forward feature selections of that model\n",
    "3. top20: Find top 20 features using forward feature selections of that model\n",
    "4. topfeatures: combining all the top features generated using forward feature selection of that model."
   ]
  },
  {
   "cell_type": "code",
   "execution_count": null,
   "metadata": {},
   "outputs": [],
   "source": []
  }
 ],
 "metadata": {
  "colab": {
   "authorship_tag": "ABX9TyNnRkpuwI/OKofiNpymRkdo",
   "collapsed_sections": [],
   "mount_file_id": "11bogSuln_vt9rkvTXo6ImC4GZY_jJfL9",
   "name": "3_Models.ipynb",
   "provenance": [],
   "toc_visible": true
  },
  "kernelspec": {
   "display_name": "Python 3",
   "language": "python",
   "name": "python3"
  },
  "language_info": {
   "codemirror_mode": {
    "name": "ipython",
    "version": 3
   },
   "file_extension": ".py",
   "mimetype": "text/x-python",
   "name": "python",
   "nbconvert_exporter": "python",
   "pygments_lexer": "ipython3",
   "version": "3.7.6"
  }
 },
 "nbformat": 4,
 "nbformat_minor": 1
}
