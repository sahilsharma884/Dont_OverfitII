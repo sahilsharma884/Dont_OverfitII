{
 "cells": [
  {
   "cell_type": "markdown",
   "metadata": {},
   "source": [
    "# Normalization + ML Classification Model with/without Top Features\n",
    "\n",
    "1. No oversampling techniques applied\n",
    "2. No feature engineering applied"
   ]
  },
  {
   "cell_type": "markdown",
   "metadata": {
    "colab_type": "text",
    "id": "M0NLgHSVSGR8"
   },
   "source": [
    "# 1. Import Necessary Libraries"
   ]
  },
  {
   "cell_type": "code",
   "execution_count": 1,
   "metadata": {
    "colab": {
     "base_uri": "https://localhost:8080/",
     "height": 138
    },
    "colab_type": "code",
    "executionInfo": {
     "elapsed": 1518,
     "status": "ok",
     "timestamp": 1586509238566,
     "user": {
      "displayName": "Sahil -",
      "photoUrl": "",
      "userId": "14051148522636395588"
     },
     "user_tz": -330
    },
    "id": "FmfFFiISSNDh",
    "outputId": "c58700e0-326b-47a7-8208-7c585e502c30"
   },
   "outputs": [],
   "source": [
    "# For Computational and random seed purpose\n",
    "import numpy as np\n",
    "np.random.seed(42)\n",
    "# To read csv file\n",
    "import pandas as pd\n",
    "# To Split data into train and cv data\n",
    "from sklearn.model_selection import train_test_split\n",
    "# To compute AUROC score\n",
    "# For AUROC Score (Ref: https://scikit-learn.org/stable/modules/generated/sklearn.metrics.roc_auc_score.html)\n",
    "from sklearn.metrics import  roc_curve, auc\n",
    "# For Hyperparameter and CV Fold\n",
    "from sklearn.model_selection import GridSearchCV, RepeatedStratifiedKFold, cross_val_score\n",
    "# For plot AUROC graph\n",
    "import matplotlib.pyplot as plt\n",
    "# Data is umbalance, we need Calibrated Model to ive confidence probabilities result\n",
    "from sklearn.calibration import CalibratedClassifierCV\n",
    "# For heatmap\n",
    "import seaborn as sns\n",
    "# To ignore warninga\n",
    "import warnings\n",
    "warnings.filterwarnings('ignore')\n",
    "# To stndardize the data\n",
    "from sklearn.preprocessing import MinMaxScaler\n",
    "import tqdm"
   ]
  },
  {
   "cell_type": "markdown",
   "metadata": {
    "colab_type": "text",
    "id": "jEeelBddSNMk"
   },
   "source": [
    "# 2. Read train data"
   ]
  },
  {
   "cell_type": "code",
   "execution_count": 2,
   "metadata": {
    "colab": {
     "base_uri": "https://localhost:8080/",
     "height": 244
    },
    "colab_type": "code",
    "executionInfo": {
     "elapsed": 1292,
     "status": "ok",
     "timestamp": 1586509239102,
     "user": {
      "displayName": "Sahil -",
      "photoUrl": "",
      "userId": "14051148522636395588"
     },
     "user_tz": -330
    },
    "id": "4TvsuIQKSJu_",
    "outputId": "c9b994b4-3972-4bd8-c201-c17ad5432ebf"
   },
   "outputs": [
    {
     "data": {
      "text/html": [
       "<div>\n",
       "<style scoped>\n",
       "    .dataframe tbody tr th:only-of-type {\n",
       "        vertical-align: middle;\n",
       "    }\n",
       "\n",
       "    .dataframe tbody tr th {\n",
       "        vertical-align: top;\n",
       "    }\n",
       "\n",
       "    .dataframe thead th {\n",
       "        text-align: right;\n",
       "    }\n",
       "</style>\n",
       "<table border=\"1\" class=\"dataframe\">\n",
       "  <thead>\n",
       "    <tr style=\"text-align: right;\">\n",
       "      <th></th>\n",
       "      <th>id</th>\n",
       "      <th>target</th>\n",
       "      <th>0</th>\n",
       "      <th>1</th>\n",
       "      <th>2</th>\n",
       "      <th>3</th>\n",
       "      <th>4</th>\n",
       "      <th>5</th>\n",
       "      <th>6</th>\n",
       "      <th>7</th>\n",
       "      <th>...</th>\n",
       "      <th>290</th>\n",
       "      <th>291</th>\n",
       "      <th>292</th>\n",
       "      <th>293</th>\n",
       "      <th>294</th>\n",
       "      <th>295</th>\n",
       "      <th>296</th>\n",
       "      <th>297</th>\n",
       "      <th>298</th>\n",
       "      <th>299</th>\n",
       "    </tr>\n",
       "  </thead>\n",
       "  <tbody>\n",
       "    <tr>\n",
       "      <th>0</th>\n",
       "      <td>0</td>\n",
       "      <td>1.0</td>\n",
       "      <td>-0.098</td>\n",
       "      <td>2.165</td>\n",
       "      <td>0.681</td>\n",
       "      <td>-0.614</td>\n",
       "      <td>1.309</td>\n",
       "      <td>-0.455</td>\n",
       "      <td>-0.236</td>\n",
       "      <td>0.276</td>\n",
       "      <td>...</td>\n",
       "      <td>0.867</td>\n",
       "      <td>1.347</td>\n",
       "      <td>0.504</td>\n",
       "      <td>-0.649</td>\n",
       "      <td>0.672</td>\n",
       "      <td>-2.097</td>\n",
       "      <td>1.051</td>\n",
       "      <td>-0.414</td>\n",
       "      <td>1.038</td>\n",
       "      <td>-1.065</td>\n",
       "    </tr>\n",
       "    <tr>\n",
       "      <th>1</th>\n",
       "      <td>1</td>\n",
       "      <td>0.0</td>\n",
       "      <td>1.081</td>\n",
       "      <td>-0.973</td>\n",
       "      <td>-0.383</td>\n",
       "      <td>0.326</td>\n",
       "      <td>-0.428</td>\n",
       "      <td>0.317</td>\n",
       "      <td>1.172</td>\n",
       "      <td>0.352</td>\n",
       "      <td>...</td>\n",
       "      <td>-0.165</td>\n",
       "      <td>-1.695</td>\n",
       "      <td>-1.257</td>\n",
       "      <td>1.359</td>\n",
       "      <td>-0.808</td>\n",
       "      <td>-1.624</td>\n",
       "      <td>-0.458</td>\n",
       "      <td>-1.099</td>\n",
       "      <td>-0.936</td>\n",
       "      <td>0.973</td>\n",
       "    </tr>\n",
       "    <tr>\n",
       "      <th>2</th>\n",
       "      <td>2</td>\n",
       "      <td>1.0</td>\n",
       "      <td>-0.523</td>\n",
       "      <td>-0.089</td>\n",
       "      <td>-0.348</td>\n",
       "      <td>0.148</td>\n",
       "      <td>-0.022</td>\n",
       "      <td>0.404</td>\n",
       "      <td>-0.023</td>\n",
       "      <td>-0.172</td>\n",
       "      <td>...</td>\n",
       "      <td>0.013</td>\n",
       "      <td>0.263</td>\n",
       "      <td>-1.222</td>\n",
       "      <td>0.726</td>\n",
       "      <td>1.444</td>\n",
       "      <td>-1.165</td>\n",
       "      <td>-1.544</td>\n",
       "      <td>0.004</td>\n",
       "      <td>0.800</td>\n",
       "      <td>-1.211</td>\n",
       "    </tr>\n",
       "    <tr>\n",
       "      <th>3</th>\n",
       "      <td>3</td>\n",
       "      <td>1.0</td>\n",
       "      <td>0.067</td>\n",
       "      <td>-0.021</td>\n",
       "      <td>0.392</td>\n",
       "      <td>-1.637</td>\n",
       "      <td>-0.446</td>\n",
       "      <td>-0.725</td>\n",
       "      <td>-1.035</td>\n",
       "      <td>0.834</td>\n",
       "      <td>...</td>\n",
       "      <td>-0.404</td>\n",
       "      <td>0.640</td>\n",
       "      <td>-0.595</td>\n",
       "      <td>-0.966</td>\n",
       "      <td>0.900</td>\n",
       "      <td>0.467</td>\n",
       "      <td>-0.562</td>\n",
       "      <td>-0.254</td>\n",
       "      <td>-0.533</td>\n",
       "      <td>0.238</td>\n",
       "    </tr>\n",
       "    <tr>\n",
       "      <th>4</th>\n",
       "      <td>4</td>\n",
       "      <td>1.0</td>\n",
       "      <td>2.347</td>\n",
       "      <td>-0.831</td>\n",
       "      <td>0.511</td>\n",
       "      <td>-0.021</td>\n",
       "      <td>1.225</td>\n",
       "      <td>1.594</td>\n",
       "      <td>0.585</td>\n",
       "      <td>1.509</td>\n",
       "      <td>...</td>\n",
       "      <td>0.898</td>\n",
       "      <td>0.134</td>\n",
       "      <td>2.415</td>\n",
       "      <td>-0.996</td>\n",
       "      <td>-1.006</td>\n",
       "      <td>1.378</td>\n",
       "      <td>1.246</td>\n",
       "      <td>1.478</td>\n",
       "      <td>0.428</td>\n",
       "      <td>0.253</td>\n",
       "    </tr>\n",
       "  </tbody>\n",
       "</table>\n",
       "<p>5 rows × 302 columns</p>\n",
       "</div>"
      ],
      "text/plain": [
       "   id  target      0      1      2      3      4      5      6      7  ...  \\\n",
       "0   0     1.0 -0.098  2.165  0.681 -0.614  1.309 -0.455 -0.236  0.276  ...   \n",
       "1   1     0.0  1.081 -0.973 -0.383  0.326 -0.428  0.317  1.172  0.352  ...   \n",
       "2   2     1.0 -0.523 -0.089 -0.348  0.148 -0.022  0.404 -0.023 -0.172  ...   \n",
       "3   3     1.0  0.067 -0.021  0.392 -1.637 -0.446 -0.725 -1.035  0.834  ...   \n",
       "4   4     1.0  2.347 -0.831  0.511 -0.021  1.225  1.594  0.585  1.509  ...   \n",
       "\n",
       "     290    291    292    293    294    295    296    297    298    299  \n",
       "0  0.867  1.347  0.504 -0.649  0.672 -2.097  1.051 -0.414  1.038 -1.065  \n",
       "1 -0.165 -1.695 -1.257  1.359 -0.808 -1.624 -0.458 -1.099 -0.936  0.973  \n",
       "2  0.013  0.263 -1.222  0.726  1.444 -1.165 -1.544  0.004  0.800 -1.211  \n",
       "3 -0.404  0.640 -0.595 -0.966  0.900  0.467 -0.562 -0.254 -0.533  0.238  \n",
       "4  0.898  0.134  2.415 -0.996 -1.006  1.378  1.246  1.478  0.428  0.253  \n",
       "\n",
       "[5 rows x 302 columns]"
      ]
     },
     "execution_count": 2,
     "metadata": {},
     "output_type": "execute_result"
    }
   ],
   "source": [
    "# Locate parent directory\n",
    "data_dir = \"./\"\n",
    "\n",
    "# Read csv file and display top 5 rows\n",
    "df_train = pd.read_csv(data_dir+'/train.csv')\n",
    "df_train.head(5)"
   ]
  },
  {
   "cell_type": "code",
   "execution_count": 3,
   "metadata": {},
   "outputs": [
    {
     "data": {
      "text/html": [
       "<div>\n",
       "<style scoped>\n",
       "    .dataframe tbody tr th:only-of-type {\n",
       "        vertical-align: middle;\n",
       "    }\n",
       "\n",
       "    .dataframe tbody tr th {\n",
       "        vertical-align: top;\n",
       "    }\n",
       "\n",
       "    .dataframe thead th {\n",
       "        text-align: right;\n",
       "    }\n",
       "</style>\n",
       "<table border=\"1\" class=\"dataframe\">\n",
       "  <thead>\n",
       "    <tr style=\"text-align: right;\">\n",
       "      <th></th>\n",
       "      <th>id</th>\n",
       "      <th>0</th>\n",
       "      <th>1</th>\n",
       "      <th>2</th>\n",
       "      <th>3</th>\n",
       "      <th>4</th>\n",
       "      <th>5</th>\n",
       "      <th>6</th>\n",
       "      <th>7</th>\n",
       "      <th>8</th>\n",
       "      <th>...</th>\n",
       "      <th>290</th>\n",
       "      <th>291</th>\n",
       "      <th>292</th>\n",
       "      <th>293</th>\n",
       "      <th>294</th>\n",
       "      <th>295</th>\n",
       "      <th>296</th>\n",
       "      <th>297</th>\n",
       "      <th>298</th>\n",
       "      <th>299</th>\n",
       "    </tr>\n",
       "  </thead>\n",
       "  <tbody>\n",
       "    <tr>\n",
       "      <th>0</th>\n",
       "      <td>250</td>\n",
       "      <td>0.500</td>\n",
       "      <td>-1.033</td>\n",
       "      <td>-1.595</td>\n",
       "      <td>0.309</td>\n",
       "      <td>-0.714</td>\n",
       "      <td>0.502</td>\n",
       "      <td>0.535</td>\n",
       "      <td>-0.129</td>\n",
       "      <td>-0.687</td>\n",
       "      <td>...</td>\n",
       "      <td>-0.088</td>\n",
       "      <td>-2.628</td>\n",
       "      <td>-0.845</td>\n",
       "      <td>2.078</td>\n",
       "      <td>-0.277</td>\n",
       "      <td>2.132</td>\n",
       "      <td>0.609</td>\n",
       "      <td>-0.104</td>\n",
       "      <td>0.312</td>\n",
       "      <td>0.979</td>\n",
       "    </tr>\n",
       "    <tr>\n",
       "      <th>1</th>\n",
       "      <td>251</td>\n",
       "      <td>0.776</td>\n",
       "      <td>0.914</td>\n",
       "      <td>-0.494</td>\n",
       "      <td>1.347</td>\n",
       "      <td>-0.867</td>\n",
       "      <td>0.480</td>\n",
       "      <td>0.578</td>\n",
       "      <td>-0.313</td>\n",
       "      <td>0.203</td>\n",
       "      <td>...</td>\n",
       "      <td>-0.683</td>\n",
       "      <td>-0.066</td>\n",
       "      <td>0.025</td>\n",
       "      <td>0.606</td>\n",
       "      <td>-0.353</td>\n",
       "      <td>-1.133</td>\n",
       "      <td>-3.138</td>\n",
       "      <td>0.281</td>\n",
       "      <td>-0.625</td>\n",
       "      <td>-0.761</td>\n",
       "    </tr>\n",
       "    <tr>\n",
       "      <th>2</th>\n",
       "      <td>252</td>\n",
       "      <td>1.750</td>\n",
       "      <td>0.509</td>\n",
       "      <td>-0.057</td>\n",
       "      <td>0.835</td>\n",
       "      <td>-0.476</td>\n",
       "      <td>1.428</td>\n",
       "      <td>-0.701</td>\n",
       "      <td>-2.009</td>\n",
       "      <td>-1.378</td>\n",
       "      <td>...</td>\n",
       "      <td>-0.094</td>\n",
       "      <td>0.351</td>\n",
       "      <td>-0.607</td>\n",
       "      <td>-0.737</td>\n",
       "      <td>-0.031</td>\n",
       "      <td>0.701</td>\n",
       "      <td>0.976</td>\n",
       "      <td>0.135</td>\n",
       "      <td>-1.327</td>\n",
       "      <td>2.463</td>\n",
       "    </tr>\n",
       "    <tr>\n",
       "      <th>3</th>\n",
       "      <td>253</td>\n",
       "      <td>-0.556</td>\n",
       "      <td>-1.855</td>\n",
       "      <td>-0.682</td>\n",
       "      <td>0.578</td>\n",
       "      <td>1.592</td>\n",
       "      <td>0.512</td>\n",
       "      <td>-1.419</td>\n",
       "      <td>0.722</td>\n",
       "      <td>0.511</td>\n",
       "      <td>...</td>\n",
       "      <td>-0.336</td>\n",
       "      <td>-0.787</td>\n",
       "      <td>0.255</td>\n",
       "      <td>-0.031</td>\n",
       "      <td>-0.836</td>\n",
       "      <td>0.916</td>\n",
       "      <td>2.411</td>\n",
       "      <td>1.053</td>\n",
       "      <td>-1.601</td>\n",
       "      <td>-1.529</td>\n",
       "    </tr>\n",
       "    <tr>\n",
       "      <th>4</th>\n",
       "      <td>254</td>\n",
       "      <td>0.754</td>\n",
       "      <td>-0.245</td>\n",
       "      <td>1.173</td>\n",
       "      <td>-1.623</td>\n",
       "      <td>0.009</td>\n",
       "      <td>0.370</td>\n",
       "      <td>0.781</td>\n",
       "      <td>-1.763</td>\n",
       "      <td>-1.432</td>\n",
       "      <td>...</td>\n",
       "      <td>2.184</td>\n",
       "      <td>-1.090</td>\n",
       "      <td>0.216</td>\n",
       "      <td>1.186</td>\n",
       "      <td>-0.143</td>\n",
       "      <td>0.322</td>\n",
       "      <td>-0.068</td>\n",
       "      <td>-0.156</td>\n",
       "      <td>-1.153</td>\n",
       "      <td>0.825</td>\n",
       "    </tr>\n",
       "  </tbody>\n",
       "</table>\n",
       "<p>5 rows × 301 columns</p>\n",
       "</div>"
      ],
      "text/plain": [
       "    id      0      1      2      3      4      5      6      7      8  ...  \\\n",
       "0  250  0.500 -1.033 -1.595  0.309 -0.714  0.502  0.535 -0.129 -0.687  ...   \n",
       "1  251  0.776  0.914 -0.494  1.347 -0.867  0.480  0.578 -0.313  0.203  ...   \n",
       "2  252  1.750  0.509 -0.057  0.835 -0.476  1.428 -0.701 -2.009 -1.378  ...   \n",
       "3  253 -0.556 -1.855 -0.682  0.578  1.592  0.512 -1.419  0.722  0.511  ...   \n",
       "4  254  0.754 -0.245  1.173 -1.623  0.009  0.370  0.781 -1.763 -1.432  ...   \n",
       "\n",
       "     290    291    292    293    294    295    296    297    298    299  \n",
       "0 -0.088 -2.628 -0.845  2.078 -0.277  2.132  0.609 -0.104  0.312  0.979  \n",
       "1 -0.683 -0.066  0.025  0.606 -0.353 -1.133 -3.138  0.281 -0.625 -0.761  \n",
       "2 -0.094  0.351 -0.607 -0.737 -0.031  0.701  0.976  0.135 -1.327  2.463  \n",
       "3 -0.336 -0.787  0.255 -0.031 -0.836  0.916  2.411  1.053 -1.601 -1.529  \n",
       "4  2.184 -1.090  0.216  1.186 -0.143  0.322 -0.068 -0.156 -1.153  0.825  \n",
       "\n",
       "[5 rows x 301 columns]"
      ]
     },
     "execution_count": 3,
     "metadata": {},
     "output_type": "execute_result"
    }
   ],
   "source": [
    "df_test = pd.read_csv(data_dir+'/test.csv')\n",
    "df_test.head(5)"
   ]
  },
  {
   "cell_type": "markdown",
   "metadata": {
    "colab_type": "text",
    "id": "nBlmFMXyUt3n"
   },
   "source": [
    "# 3. Take train and test values from DataFrame"
   ]
  },
  {
   "cell_type": "code",
   "execution_count": 4,
   "metadata": {
    "colab": {},
    "colab_type": "code",
    "id": "jgnQnoa6Uxqh"
   },
   "outputs": [],
   "source": [
    "# Take separate for features value\n",
    "tr_X = df_train.drop(['id','target'], axis=1)\n",
    "# Take separate for class value\n",
    "tr_y = df_train['target'].values\n",
    "# Take test feature value\n",
    "ts_X = df_test.drop(['id'], axis=1)"
   ]
  },
  {
   "cell_type": "markdown",
   "metadata": {},
   "source": [
    "Note: Don't worry about splitting train data into train and cv. I apply Stratify CV technique while modelling"
   ]
  },
  {
   "cell_type": "markdown",
   "metadata": {
    "colab_type": "text",
    "id": "NRt6QYU7Vdu0"
   },
   "source": [
    "# 4. Standardization"
   ]
  },
  {
   "cell_type": "code",
   "execution_count": 5,
   "metadata": {
    "colab": {
     "base_uri": "https://localhost:8080/",
     "height": 244
    },
    "colab_type": "code",
    "executionInfo": {
     "elapsed": 1610,
     "status": "ok",
     "timestamp": 1586509260250,
     "user": {
      "displayName": "Sahil -",
      "photoUrl": "",
      "userId": "14051148522636395588"
     },
     "user_tz": -330
    },
    "id": "BI7gXgikUtNa",
    "outputId": "06905b5f-7b40-4bd3-b328-f958a653b9bd"
   },
   "outputs": [
    {
     "data": {
      "text/html": [
       "<div>\n",
       "<style scoped>\n",
       "    .dataframe tbody tr th:only-of-type {\n",
       "        vertical-align: middle;\n",
       "    }\n",
       "\n",
       "    .dataframe tbody tr th {\n",
       "        vertical-align: top;\n",
       "    }\n",
       "\n",
       "    .dataframe thead th {\n",
       "        text-align: right;\n",
       "    }\n",
       "</style>\n",
       "<table border=\"1\" class=\"dataframe\">\n",
       "  <thead>\n",
       "    <tr style=\"text-align: right;\">\n",
       "      <th></th>\n",
       "      <th>0</th>\n",
       "      <th>1</th>\n",
       "      <th>2</th>\n",
       "      <th>3</th>\n",
       "      <th>4</th>\n",
       "      <th>5</th>\n",
       "      <th>6</th>\n",
       "      <th>7</th>\n",
       "      <th>8</th>\n",
       "      <th>9</th>\n",
       "      <th>...</th>\n",
       "      <th>290</th>\n",
       "      <th>291</th>\n",
       "      <th>292</th>\n",
       "      <th>293</th>\n",
       "      <th>294</th>\n",
       "      <th>295</th>\n",
       "      <th>296</th>\n",
       "      <th>297</th>\n",
       "      <th>298</th>\n",
       "      <th>299</th>\n",
       "    </tr>\n",
       "  </thead>\n",
       "  <tbody>\n",
       "    <tr>\n",
       "      <th>0</th>\n",
       "      <td>0.454564</td>\n",
       "      <td>0.952523</td>\n",
       "      <td>0.538081</td>\n",
       "      <td>0.340156</td>\n",
       "      <td>0.708798</td>\n",
       "      <td>0.423909</td>\n",
       "      <td>0.496197</td>\n",
       "      <td>0.591415</td>\n",
       "      <td>0.098864</td>\n",
       "      <td>0.786842</td>\n",
       "      <td>...</td>\n",
       "      <td>0.647557</td>\n",
       "      <td>0.722731</td>\n",
       "      <td>0.593665</td>\n",
       "      <td>0.358949</td>\n",
       "      <td>0.718121</td>\n",
       "      <td>0.157182</td>\n",
       "      <td>0.627768</td>\n",
       "      <td>0.437245</td>\n",
       "      <td>0.630322</td>\n",
       "      <td>0.388295</td>\n",
       "    </tr>\n",
       "    <tr>\n",
       "      <th>1</th>\n",
       "      <td>0.695866</td>\n",
       "      <td>0.365981</td>\n",
       "      <td>0.356790</td>\n",
       "      <td>0.523392</td>\n",
       "      <td>0.391074</td>\n",
       "      <td>0.560837</td>\n",
       "      <td>0.751177</td>\n",
       "      <td>0.603498</td>\n",
       "      <td>0.525000</td>\n",
       "      <td>0.389098</td>\n",
       "      <td>...</td>\n",
       "      <td>0.465514</td>\n",
       "      <td>0.142639</td>\n",
       "      <td>0.273075</td>\n",
       "      <td>0.755630</td>\n",
       "      <td>0.449664</td>\n",
       "      <td>0.233435</td>\n",
       "      <td>0.370698</td>\n",
       "      <td>0.310441</td>\n",
       "      <td>0.337487</td>\n",
       "      <td>0.713283</td>\n",
       "    </tr>\n",
       "    <tr>\n",
       "      <th>2</th>\n",
       "      <td>0.367581</td>\n",
       "      <td>0.531215</td>\n",
       "      <td>0.362753</td>\n",
       "      <td>0.488694</td>\n",
       "      <td>0.465337</td>\n",
       "      <td>0.576268</td>\n",
       "      <td>0.534770</td>\n",
       "      <td>0.520191</td>\n",
       "      <td>0.550189</td>\n",
       "      <td>0.478195</td>\n",
       "      <td>...</td>\n",
       "      <td>0.496913</td>\n",
       "      <td>0.516018</td>\n",
       "      <td>0.279447</td>\n",
       "      <td>0.630581</td>\n",
       "      <td>0.858153</td>\n",
       "      <td>0.307432</td>\n",
       "      <td>0.185690</td>\n",
       "      <td>0.514624</td>\n",
       "      <td>0.595016</td>\n",
       "      <td>0.365014</td>\n",
       "    </tr>\n",
       "    <tr>\n",
       "      <th>3</th>\n",
       "      <td>0.488334</td>\n",
       "      <td>0.543925</td>\n",
       "      <td>0.488840</td>\n",
       "      <td>0.140741</td>\n",
       "      <td>0.387781</td>\n",
       "      <td>0.376020</td>\n",
       "      <td>0.351503</td>\n",
       "      <td>0.680127</td>\n",
       "      <td>0.619508</td>\n",
       "      <td>0.495301</td>\n",
       "      <td>...</td>\n",
       "      <td>0.423355</td>\n",
       "      <td>0.587910</td>\n",
       "      <td>0.393592</td>\n",
       "      <td>0.296326</td>\n",
       "      <td>0.759478</td>\n",
       "      <td>0.570530</td>\n",
       "      <td>0.352981</td>\n",
       "      <td>0.466864</td>\n",
       "      <td>0.397270</td>\n",
       "      <td>0.596077</td>\n",
       "    </tr>\n",
       "    <tr>\n",
       "      <th>4</th>\n",
       "      <td>0.954973</td>\n",
       "      <td>0.392523</td>\n",
       "      <td>0.509116</td>\n",
       "      <td>0.455750</td>\n",
       "      <td>0.693433</td>\n",
       "      <td>0.787336</td>\n",
       "      <td>0.644875</td>\n",
       "      <td>0.787440</td>\n",
       "      <td>0.521970</td>\n",
       "      <td>0.856955</td>\n",
       "      <td>...</td>\n",
       "      <td>0.653025</td>\n",
       "      <td>0.491419</td>\n",
       "      <td>0.941562</td>\n",
       "      <td>0.290399</td>\n",
       "      <td>0.413749</td>\n",
       "      <td>0.717395</td>\n",
       "      <td>0.660988</td>\n",
       "      <td>0.787486</td>\n",
       "      <td>0.539831</td>\n",
       "      <td>0.598469</td>\n",
       "    </tr>\n",
       "  </tbody>\n",
       "</table>\n",
       "<p>5 rows × 300 columns</p>\n",
       "</div>"
      ],
      "text/plain": [
       "        0         1         2         3         4         5         6    \\\n",
       "0  0.454564  0.952523  0.538081  0.340156  0.708798  0.423909  0.496197   \n",
       "1  0.695866  0.365981  0.356790  0.523392  0.391074  0.560837  0.751177   \n",
       "2  0.367581  0.531215  0.362753  0.488694  0.465337  0.576268  0.534770   \n",
       "3  0.488334  0.543925  0.488840  0.140741  0.387781  0.376020  0.351503   \n",
       "4  0.954973  0.392523  0.509116  0.455750  0.693433  0.787336  0.644875   \n",
       "\n",
       "        7         8         9    ...       290       291       292       293  \\\n",
       "0  0.591415  0.098864  0.786842  ...  0.647557  0.722731  0.593665  0.358949   \n",
       "1  0.603498  0.525000  0.389098  ...  0.465514  0.142639  0.273075  0.755630   \n",
       "2  0.520191  0.550189  0.478195  ...  0.496913  0.516018  0.279447  0.630581   \n",
       "3  0.680127  0.619508  0.495301  ...  0.423355  0.587910  0.393592  0.296326   \n",
       "4  0.787440  0.521970  0.856955  ...  0.653025  0.491419  0.941562  0.290399   \n",
       "\n",
       "        294       295       296       297       298       299  \n",
       "0  0.718121  0.157182  0.627768  0.437245  0.630322  0.388295  \n",
       "1  0.449664  0.233435  0.370698  0.310441  0.337487  0.713283  \n",
       "2  0.858153  0.307432  0.185690  0.514624  0.595016  0.365014  \n",
       "3  0.759478  0.570530  0.352981  0.466864  0.397270  0.596077  \n",
       "4  0.413749  0.717395  0.660988  0.787486  0.539831  0.598469  \n",
       "\n",
       "[5 rows x 300 columns]"
      ]
     },
     "execution_count": 5,
     "metadata": {},
     "output_type": "execute_result"
    }
   ],
   "source": [
    "stand_vec = MinMaxScaler()\n",
    "tr_X = stand_vec.fit_transform(tr_X)\n",
    "pd.DataFrame(tr_X).head(5)"
   ]
  },
  {
   "cell_type": "code",
   "execution_count": 6,
   "metadata": {},
   "outputs": [
    {
     "data": {
      "text/html": [
       "<div>\n",
       "<style scoped>\n",
       "    .dataframe tbody tr th:only-of-type {\n",
       "        vertical-align: middle;\n",
       "    }\n",
       "\n",
       "    .dataframe tbody tr th {\n",
       "        vertical-align: top;\n",
       "    }\n",
       "\n",
       "    .dataframe thead th {\n",
       "        text-align: right;\n",
       "    }\n",
       "</style>\n",
       "<table border=\"1\" class=\"dataframe\">\n",
       "  <thead>\n",
       "    <tr style=\"text-align: right;\">\n",
       "      <th></th>\n",
       "      <th>0</th>\n",
       "      <th>1</th>\n",
       "      <th>2</th>\n",
       "      <th>3</th>\n",
       "      <th>4</th>\n",
       "      <th>5</th>\n",
       "      <th>6</th>\n",
       "      <th>7</th>\n",
       "      <th>8</th>\n",
       "      <th>9</th>\n",
       "      <th>...</th>\n",
       "      <th>290</th>\n",
       "      <th>291</th>\n",
       "      <th>292</th>\n",
       "      <th>293</th>\n",
       "      <th>294</th>\n",
       "      <th>295</th>\n",
       "      <th>296</th>\n",
       "      <th>297</th>\n",
       "      <th>298</th>\n",
       "      <th>299</th>\n",
       "    </tr>\n",
       "  </thead>\n",
       "  <tbody>\n",
       "    <tr>\n",
       "      <th>0</th>\n",
       "      <td>0.576955</td>\n",
       "      <td>0.354766</td>\n",
       "      <td>0.150281</td>\n",
       "      <td>0.520078</td>\n",
       "      <td>0.338760</td>\n",
       "      <td>0.593650</td>\n",
       "      <td>0.635820</td>\n",
       "      <td>0.527027</td>\n",
       "      <td>0.394129</td>\n",
       "      <td>0.686466</td>\n",
       "      <td>...</td>\n",
       "      <td>0.479097</td>\n",
       "      <td>-0.035278</td>\n",
       "      <td>0.348079</td>\n",
       "      <td>0.897669</td>\n",
       "      <td>0.545982</td>\n",
       "      <td>0.838949</td>\n",
       "      <td>0.552470</td>\n",
       "      <td>0.494632</td>\n",
       "      <td>0.522623</td>\n",
       "      <td>0.714240</td>\n",
       "    </tr>\n",
       "    <tr>\n",
       "      <th>1</th>\n",
       "      <td>0.633442</td>\n",
       "      <td>0.718692</td>\n",
       "      <td>0.337877</td>\n",
       "      <td>0.722417</td>\n",
       "      <td>0.310774</td>\n",
       "      <td>0.589748</td>\n",
       "      <td>0.643607</td>\n",
       "      <td>0.497774</td>\n",
       "      <td>0.562689</td>\n",
       "      <td>0.698684</td>\n",
       "      <td>...</td>\n",
       "      <td>0.374140</td>\n",
       "      <td>0.453280</td>\n",
       "      <td>0.506463</td>\n",
       "      <td>0.606875</td>\n",
       "      <td>0.532197</td>\n",
       "      <td>0.312591</td>\n",
       "      <td>-0.085860</td>\n",
       "      <td>0.565902</td>\n",
       "      <td>0.383623</td>\n",
       "      <td>0.436772</td>\n",
       "    </tr>\n",
       "    <tr>\n",
       "      <th>2</th>\n",
       "      <td>0.832788</td>\n",
       "      <td>0.642991</td>\n",
       "      <td>0.412336</td>\n",
       "      <td>0.622612</td>\n",
       "      <td>0.382294</td>\n",
       "      <td>0.757893</td>\n",
       "      <td>0.411988</td>\n",
       "      <td>0.228140</td>\n",
       "      <td>0.263258</td>\n",
       "      <td>0.475188</td>\n",
       "      <td>...</td>\n",
       "      <td>0.478038</td>\n",
       "      <td>0.532799</td>\n",
       "      <td>0.391407</td>\n",
       "      <td>0.341565</td>\n",
       "      <td>0.590604</td>\n",
       "      <td>0.608254</td>\n",
       "      <td>0.614991</td>\n",
       "      <td>0.538874</td>\n",
       "      <td>0.279484</td>\n",
       "      <td>0.950885</td>\n",
       "    </tr>\n",
       "    <tr>\n",
       "      <th>3</th>\n",
       "      <td>0.360827</td>\n",
       "      <td>0.201121</td>\n",
       "      <td>0.305844</td>\n",
       "      <td>0.572515</td>\n",
       "      <td>0.760563</td>\n",
       "      <td>0.595424</td>\n",
       "      <td>0.281963</td>\n",
       "      <td>0.662321</td>\n",
       "      <td>0.621023</td>\n",
       "      <td>0.550376</td>\n",
       "      <td>...</td>\n",
       "      <td>0.435350</td>\n",
       "      <td>0.315789</td>\n",
       "      <td>0.548334</td>\n",
       "      <td>0.481035</td>\n",
       "      <td>0.444586</td>\n",
       "      <td>0.642915</td>\n",
       "      <td>0.859455</td>\n",
       "      <td>0.708812</td>\n",
       "      <td>0.238837</td>\n",
       "      <td>0.314304</td>\n",
       "    </tr>\n",
       "    <tr>\n",
       "      <th>4</th>\n",
       "      <td>0.628940</td>\n",
       "      <td>0.502056</td>\n",
       "      <td>0.621912</td>\n",
       "      <td>0.143470</td>\n",
       "      <td>0.471008</td>\n",
       "      <td>0.570238</td>\n",
       "      <td>0.680369</td>\n",
       "      <td>0.267250</td>\n",
       "      <td>0.253030</td>\n",
       "      <td>0.268985</td>\n",
       "      <td>...</td>\n",
       "      <td>0.879873</td>\n",
       "      <td>0.258009</td>\n",
       "      <td>0.541234</td>\n",
       "      <td>0.721454</td>\n",
       "      <td>0.570288</td>\n",
       "      <td>0.547155</td>\n",
       "      <td>0.437138</td>\n",
       "      <td>0.485006</td>\n",
       "      <td>0.305296</td>\n",
       "      <td>0.689683</td>\n",
       "    </tr>\n",
       "  </tbody>\n",
       "</table>\n",
       "<p>5 rows × 300 columns</p>\n",
       "</div>"
      ],
      "text/plain": [
       "        0         1         2         3         4         5         6    \\\n",
       "0  0.576955  0.354766  0.150281  0.520078  0.338760  0.593650  0.635820   \n",
       "1  0.633442  0.718692  0.337877  0.722417  0.310774  0.589748  0.643607   \n",
       "2  0.832788  0.642991  0.412336  0.622612  0.382294  0.757893  0.411988   \n",
       "3  0.360827  0.201121  0.305844  0.572515  0.760563  0.595424  0.281963   \n",
       "4  0.628940  0.502056  0.621912  0.143470  0.471008  0.570238  0.680369   \n",
       "\n",
       "        7         8         9    ...       290       291       292       293  \\\n",
       "0  0.527027  0.394129  0.686466  ...  0.479097 -0.035278  0.348079  0.897669   \n",
       "1  0.497774  0.562689  0.698684  ...  0.374140  0.453280  0.506463  0.606875   \n",
       "2  0.228140  0.263258  0.475188  ...  0.478038  0.532799  0.391407  0.341565   \n",
       "3  0.662321  0.621023  0.550376  ...  0.435350  0.315789  0.548334  0.481035   \n",
       "4  0.267250  0.253030  0.268985  ...  0.879873  0.258009  0.541234  0.721454   \n",
       "\n",
       "        294       295       296       297       298       299  \n",
       "0  0.545982  0.838949  0.552470  0.494632  0.522623  0.714240  \n",
       "1  0.532197  0.312591 -0.085860  0.565902  0.383623  0.436772  \n",
       "2  0.590604  0.608254  0.614991  0.538874  0.279484  0.950885  \n",
       "3  0.444586  0.642915  0.859455  0.708812  0.238837  0.314304  \n",
       "4  0.570288  0.547155  0.437138  0.485006  0.305296  0.689683  \n",
       "\n",
       "[5 rows x 300 columns]"
      ]
     },
     "execution_count": 6,
     "metadata": {},
     "output_type": "execute_result"
    }
   ],
   "source": [
    "ts_X = stand_vec.transform(ts_X)\n",
    "pd.DataFrame(ts_X).head(5)"
   ]
  },
  {
   "cell_type": "markdown",
   "metadata": {
    "colab_type": "text",
    "id": "WmKe-W2plRiA"
   },
   "source": [
    "# 5. Apply ML Models (with hyperparameter)"
   ]
  },
  {
   "cell_type": "code",
   "execution_count": 7,
   "metadata": {
    "colab": {},
    "colab_type": "code",
    "id": "ab483jE0PGr3"
   },
   "outputs": [],
   "source": [
    "def hyperparameter_model(models, params):\n",
    "    '''\n",
    "    Hyperparameter tuning with StratifiedKFold follow by GridSearchCV follow by CalibratedClassifier\n",
    "    \n",
    "    Parameters:\n",
    "    models: Instance of the model\n",
    "    params: list of parameters with value fr tuning (dict)\n",
    "    \n",
    "    Return:\n",
    "    grid_clf: return gridsearch model    \n",
    "    '''\n",
    "    # Random shuffle after every iteration with stratify\n",
    "    str_cv = RepeatedStratifiedKFold(n_splits=10, n_repeats=5, random_state=42)\n",
    "    # Find the right hyperparameter for the model\n",
    "    grid_clf = GridSearchCV(models, params, cv=str_cv, return_train_score=True, scoring='roc_auc')\n",
    "    # Fit on train data\n",
    "    grid_clf.fit(tr_X, tr_y)\n",
    "    return grid_clf\n",
    "\n",
    "def plot_feature_importance(model, model_name, top_n = 10):\n",
    "    '''\n",
    "    Compute ROC curve and ROC area for each class\n",
    "    \n",
    "    Parameters:\n",
    "    try_true: train true label\n",
    "    try_pred: train predict probabilities value\n",
    "    cvy_true: cv true label\n",
    "    cvy_pred: cv predict probabilities value\n",
    "    n_classes: number of unique classes\n",
    "    \n",
    "    Return:\n",
    "    Plot of ROC Curve for train and cv data    \n",
    "    '''       \n",
    "    column_name = df_train.drop(['id','target'], axis=1).columns\n",
    "    if model_name == 'log_model':\n",
    "        feat_imp_coef = model.coef_.ravel()\n",
    "    else:\n",
    "        feat_imp_coef = model.feature_importances_\n",
    "    temp = pd.DataFrame(data=np.column_stack((column_name, feat_imp_coef)), columns=['col_name','coef'])\n",
    "    temp = temp.sort_values(by='coef', ascending=False).reset_index()\n",
    "    df = temp\n",
    "    temp = temp[:top_n]\n",
    "    plt.figure(figsize=(20,5))\n",
    "    sns.barplot(data=temp, y='coef', x='col_name', order=temp['col_name'])\n",
    "    plt.grid()\n",
    "    plt.show()\n",
    "    return df"
   ]
  },
  {
   "cell_type": "code",
   "execution_count": 8,
   "metadata": {},
   "outputs": [],
   "source": [
    "def forward_selection_model(model, top_n=10):\n",
    "    top_column = []\n",
    "    exist_score = 0\n",
    "    for n in range(top_n):\n",
    "        print('for {} feature'.format(n+1))\n",
    "        flag = 0\n",
    "        for i in tqdm.tqdm_notebook(range(tr_X.shape[1])):\n",
    "            # Finding for first top feature\n",
    "            if len(top_column) == 0:\n",
    "                str_cv = RepeatedStratifiedKFold(n_splits=10, n_repeats=5, random_state=42)\n",
    "                score = cross_val_score(model,tr_X[:,[i]],tr_y,cv=str_cv,scoring='roc_auc')\n",
    "                if exist_score < np.mean(score):\n",
    "                    top_current = i\n",
    "                    exist_score = np.mean(score)\n",
    "                    flag = 1\n",
    "            # Excluded apart from top column\n",
    "            elif i not in top_column:\n",
    "                str_cv = RepeatedStratifiedKFold(n_splits=10, n_repeats=5, random_state=42)\n",
    "                score = cross_val_score(model,tr_X[:,np.concatenate((top_column,[i]))],tr_y,cv=str_cv,scoring='roc_auc')\n",
    "                if exist_score < np.mean(score):\n",
    "                    top_current = i\n",
    "                    exist_score = np.mean(score)\n",
    "                    flag = 1\n",
    "        \n",
    "        if flag == 1:\n",
    "            print('Current top feature {} and score: {}'.format(top_current,exist_score))\n",
    "            print('Appended to top column')\n",
    "            top_column.append(top_current)\n",
    "            print(top_column)\n",
    "        else:\n",
    "            break\n",
    "    return top_column"
   ]
  },
  {
   "cell_type": "markdown",
   "metadata": {},
   "source": [
    "# 5.1 kNN"
   ]
  },
  {
   "cell_type": "code",
   "execution_count": 9,
   "metadata": {},
   "outputs": [],
   "source": [
    "# Import KNN\n",
    "from sklearn.neighbors import KNeighborsClassifier"
   ]
  },
  {
   "cell_type": "code",
   "execution_count": 10,
   "metadata": {},
   "outputs": [],
   "source": [
    "# kNN (See Docs: https://scikit-learn.org/stable/modules/generated/sklearn.neighbors.KNeighborsClassifier.html)\n",
    "\n",
    "# List of params\n",
    "params = {'n_neighbors':np.arange(3,51,2).tolist(), 'algorithm': ['kd_tree', 'brute']}\n",
    "# Instance of knn model\n",
    "knn_model = KNeighborsClassifier()\n",
    "# Call hyperparameter for find the best params as possible\n",
    "knn_clf = hyperparameter_model(knn_model, params)"
   ]
  },
  {
   "cell_type": "code",
   "execution_count": 11,
   "metadata": {},
   "outputs": [
    {
     "data": {
      "image/png": "[encoded data removed]",
      "text/plain": [
       "<Figure size 432x288 with 2 Axes>"
      ]
     },
     "metadata": {
      "needs_background": "light"
     },
     "output_type": "display_data"
    },
    {
     "data": {
      "image/png": "[encoded data removed]",
      "text/plain": [
       "<Figure size 432x288 with 2 Axes>"
      ]
     },
     "metadata": {
      "needs_background": "light"
     },
     "output_type": "display_data"
    }
   ],
   "source": [
    "cv_pvt = pd.pivot_table(pd.DataFrame(knn_clf.cv_results_), values='mean_test_score', index='param_n_neighbors', \\\n",
    "                     columns='param_algorithm')\n",
    "tr_pvt = pd.pivot_table(pd.DataFrame(knn_clf.cv_results_), values='mean_train_score', index='param_n_neighbors', \\\n",
    "                     columns='param_algorithm')\n",
    "\n",
    "plt.title('Train Hyperparameter')\n",
    "sns.heatmap(tr_pvt, annot=True)\n",
    "plt.show()\n",
    "\n",
    "plt.title('CV Hyperparameter')\n",
    "sns.heatmap(cv_pvt, annot=True)\n",
    "plt.show()"
   ]
  },
  {
   "cell_type": "code",
   "execution_count": 12,
   "metadata": {},
   "outputs": [
    {
     "name": "stdout",
     "output_type": "stream",
     "text": [
      "{'algorithm': 'kd_tree', 'n_neighbors': 43}\n"
     ]
    }
   ],
   "source": [
    "print(knn_clf.best_params_)"
   ]
  },
  {
   "cell_type": "code",
   "execution_count": 13,
   "metadata": {},
   "outputs": [
    {
     "data": {
      "text/plain": [
       "CalibratedClassifierCV(base_estimator=GridSearchCV(cv=RepeatedStratifiedKFold(n_repeats=5, n_splits=10, random_state=42),\n",
       "                                                   error_score=nan,\n",
       "                                                   estimator=KNeighborsClassifier(algorithm='auto',\n",
       "                                                                                  leaf_size=30,\n",
       "                                                                                  metric='minkowski',\n",
       "                                                                                  metric_params=None,\n",
       "                                                                                  n_jobs=None,\n",
       "                                                                                  n_neighbors=5,\n",
       "                                                                                  p=2,\n",
       "                                                                                  weights='uniform'),\n",
       "                                                   iid='deprecated',\n",
       "                                                   n_jobs=None,\n",
       "                                                   param_grid={'algorithm': ['kd_tree',\n",
       "                                                                             'brute'],\n",
       "                                                               'n_neighbors': [3,\n",
       "                                                                               5,\n",
       "                                                                               7,\n",
       "                                                                               9,\n",
       "                                                                               11,\n",
       "                                                                               13,\n",
       "                                                                               15,\n",
       "                                                                               17,\n",
       "                                                                               19,\n",
       "                                                                               21,\n",
       "                                                                               23,\n",
       "                                                                               25,\n",
       "                                                                               27,\n",
       "                                                                               29,\n",
       "                                                                               31,\n",
       "                                                                               33,\n",
       "                                                                               35,\n",
       "                                                                               37,\n",
       "                                                                               39,\n",
       "                                                                               41,\n",
       "                                                                               43,\n",
       "                                                                               45,\n",
       "                                                                               47,\n",
       "                                                                               49]},\n",
       "                                                   pre_dispatch='2*n_jobs',\n",
       "                                                   refit=True,\n",
       "                                                   return_train_score=True,\n",
       "                                                   scoring='roc_auc',\n",
       "                                                   verbose=0),\n",
       "                       cv=3, method='sigmoid')"
      ]
     },
     "execution_count": 13,
     "metadata": {},
     "output_type": "execute_result"
    }
   ],
   "source": [
    "clf = CalibratedClassifierCV(knn_clf, cv=3)\n",
    "clf.fit(tr_X,tr_y)"
   ]
  },
  {
   "cell_type": "markdown",
   "metadata": {},
   "source": [
    "# 5.1.1 Kaggle Score without top features"
   ]
  },
  {
   "cell_type": "code",
   "execution_count": 14,
   "metadata": {},
   "outputs": [],
   "source": [
    "# Create a submssion format to make submission in Kaggle\n",
    "temp_id = df_test['id']\n",
    "knn_csv = clf.predict_proba(ts_X)[:,1]\n",
    "knn_df = pd.DataFrame(np.column_stack((temp_id,knn_csv)), columns=['id','target'])\n",
    "knn_df['id'] = knn_df['id'].astype('int32')\n",
    "knn_df.to_csv(data_dir+'/submission_knn.csv', index=False)"
   ]
  },
  {
   "cell_type": "code",
   "execution_count": 15,
   "metadata": {},
   "outputs": [
    {
     "data": {
      "text/plain": [
       "<matplotlib.image.AxesImage at 0x2394322ac08>"
      ]
     },
     "execution_count": 15,
     "metadata": {},
     "output_type": "execute_result"
    },
    {
     "data": {
      "image/png": "[encoded data removed]",
      "text/plain": [
       "<Figure size 1296x360 with 1 Axes>"
      ]
     },
     "metadata": {
      "needs_background": "light"
     },
     "output_type": "display_data"
    }
   ],
   "source": [
    "image = plt.imread(data_dir+'/submission_knn.png')\n",
    "plt.figure(figsize=(18,5))\n",
    "plt.imshow(image)"
   ]
  },
  {
   "cell_type": "markdown",
   "metadata": {
    "colab_type": "text",
    "id": "mJM6bFjd9wWj"
   },
   "source": [
    "## 5.2 Logistic Regression"
   ]
  },
  {
   "cell_type": "code",
   "execution_count": 16,
   "metadata": {
    "colab": {},
    "colab_type": "code",
    "id": "oPzbxrko6TvH"
   },
   "outputs": [],
   "source": [
    "# Import Logistic Regression\n",
    "from sklearn.linear_model import LogisticRegression"
   ]
  },
  {
   "cell_type": "code",
   "execution_count": 17,
   "metadata": {
    "colab": {},
    "colab_type": "code",
    "id": "cXCJKyRhf-jY"
   },
   "outputs": [],
   "source": [
    "# LogisticRegression (See Docs: https://scikit-learn.org/stable/modules/generated/sklearn.linear_model.LogisticRegression.html)\n",
    "\n",
    "# List of hyperparameter that has to be tuned\n",
    "params = {'penalty':['l1', 'l2', 'elasticnet'], 'C':[10**i for i in range(-4,5)], 'solver':['liblinear','sag']}\n",
    "# Instance of Logsitic Regression\n",
    "log_model = LogisticRegression(random_state=42, class_weight='balanced')\n",
    "# Call hyperparameter to get the best parameters of this model\n",
    "log_clf = hyperparameter_model(log_model, params)"
   ]
  },
  {
   "cell_type": "code",
   "execution_count": 18,
   "metadata": {},
   "outputs": [
    {
     "data": {
      "image/png": "[encoded data removed]",
      "text/plain": [
       "<Figure size 432x288 with 2 Axes>"
      ]
     },
     "metadata": {
      "needs_background": "light"
     },
     "output_type": "display_data"
    },
    {
     "data": {
      "image/png": "[encoded data removed]",
      "text/plain": [
       "<Figure size 432x288 with 2 Axes>"
      ]
     },
     "metadata": {
      "needs_background": "light"
     },
     "output_type": "display_data"
    }
   ],
   "source": [
    "cv_pvt = pd.pivot_table(pd.DataFrame(log_clf.cv_results_), values='mean_test_score', index='param_penalty', \\\n",
    "                     columns='param_C')\n",
    "tr_pvt = pd.pivot_table(pd.DataFrame(log_clf.cv_results_), values='mean_train_score', index='param_penalty', \\\n",
    "                     columns='param_C')\n",
    "\n",
    "plt.title('Train Hyperparameter')\n",
    "sns.heatmap(tr_pvt, annot=True)\n",
    "plt.show()\n",
    "\n",
    "plt.title('CV Hyperparameter')\n",
    "sns.heatmap(cv_pvt, annot=True)\n",
    "plt.show()"
   ]
  },
  {
   "cell_type": "code",
   "execution_count": 19,
   "metadata": {
    "colab": {
     "base_uri": "https://localhost:8080/",
     "height": 34
    },
    "colab_type": "code",
    "executionInfo": {
     "elapsed": 818,
     "status": "ok",
     "timestamp": 1586509398848,
     "user": {
      "displayName": "Sahil -",
      "photoUrl": "",
      "userId": "14051148522636395588"
     },
     "user_tz": -330
    },
    "id": "rnAEVo73g-65",
    "outputId": "f309b5e0-4042-4c10-e1c4-839f75acb227"
   },
   "outputs": [
    {
     "name": "stdout",
     "output_type": "stream",
     "text": [
      "{'C': 1, 'penalty': 'l1', 'solver': 'liblinear'}\n"
     ]
    }
   ],
   "source": [
    "print(log_clf.best_params_)"
   ]
  },
  {
   "cell_type": "code",
   "execution_count": 20,
   "metadata": {
    "colab": {
     "base_uri": "https://localhost:8080/",
     "height": 101
    },
    "colab_type": "code",
    "executionInfo": {
     "elapsed": 1444,
     "status": "ok",
     "timestamp": 1586509414181,
     "user": {
      "displayName": "Sahil -",
      "photoUrl": "",
      "userId": "14051148522636395588"
     },
     "user_tz": -330
    },
    "id": "ovCjhEJahL2d",
    "outputId": "1d48717d-d1c4-402a-8bf1-84495ad747f7"
   },
   "outputs": [
    {
     "data": {
      "text/plain": [
       "LogisticRegression(C=1, class_weight='balanced', dual=False, fit_intercept=True,\n",
       "                   intercept_scaling=1, l1_ratio=None, max_iter=100,\n",
       "                   multi_class='auto', n_jobs=None, penalty='l1',\n",
       "                   random_state=42, solver='liblinear', tol=0.0001, verbose=0,\n",
       "                   warm_start=False)"
      ]
     },
     "execution_count": 20,
     "metadata": {},
     "output_type": "execute_result"
    }
   ],
   "source": [
    "log_model = LogisticRegression(**log_clf.best_params_, class_weight='balanced', random_state=42)\n",
    "log_model.fit(tr_X, tr_y)"
   ]
  },
  {
   "cell_type": "code",
   "execution_count": 21,
   "metadata": {
    "colab": {
     "base_uri": "https://localhost:8080/",
     "height": 320
    },
    "colab_type": "code",
    "executionInfo": {
     "elapsed": 1372,
     "status": "ok",
     "timestamp": 1586509419900,
     "user": {
      "displayName": "Sahil -",
      "photoUrl": "",
      "userId": "14051148522636395588"
     },
     "user_tz": -330
    },
    "id": "hyAAoQYdv55w",
    "outputId": "4f708bc7-57a9-4093-fd2d-fc956b61dab6"
   },
   "outputs": [
    {
     "data": {
      "image/png": "[encoded data removed]",
      "text/plain": [
       "<Figure size 1440x360 with 1 Axes>"
      ]
     },
     "metadata": {
      "needs_background": "light"
     },
     "output_type": "display_data"
    }
   ],
   "source": [
    "df = plot_feature_importance(log_model, 'log_model', 20)"
   ]
  },
  {
   "cell_type": "code",
   "execution_count": 22,
   "metadata": {},
   "outputs": [
    {
     "data": {
      "text/plain": [
       "CalibratedClassifierCV(base_estimator=GridSearchCV(cv=RepeatedStratifiedKFold(n_repeats=5, n_splits=10, random_state=42),\n",
       "                                                   error_score=nan,\n",
       "                                                   estimator=LogisticRegression(C=1.0,\n",
       "                                                                                class_weight='balanced',\n",
       "                                                                                dual=False,\n",
       "                                                                                fit_intercept=True,\n",
       "                                                                                intercept_scaling=1,\n",
       "                                                                                l1_ratio=None,\n",
       "                                                                                max_iter=100,\n",
       "                                                                                multi_class='auto',\n",
       "                                                                                n_jobs=None,\n",
       "                                                                                penalty='l2',\n",
       "                                                                                random_state=42,\n",
       "                                                                                solver='lbfgs',\n",
       "                                                                                tol=0.0001,\n",
       "                                                                                verbose=0,\n",
       "                                                                                warm_start=False),\n",
       "                                                   iid='deprecated',\n",
       "                                                   n_jobs=None,\n",
       "                                                   param_grid={'C': [0.0001,\n",
       "                                                                     0.001,\n",
       "                                                                     0.01, 0.1,\n",
       "                                                                     1, 10, 100,\n",
       "                                                                     1000,\n",
       "                                                                     10000],\n",
       "                                                               'penalty': ['l1',\n",
       "                                                                           'l2',\n",
       "                                                                           'elasticnet'],\n",
       "                                                               'solver': ['liblinear',\n",
       "                                                                          'sag']},\n",
       "                                                   pre_dispatch='2*n_jobs',\n",
       "                                                   refit=True,\n",
       "                                                   return_train_score=True,\n",
       "                                                   scoring='roc_auc',\n",
       "                                                   verbose=0),\n",
       "                       cv=3, method='sigmoid')"
      ]
     },
     "execution_count": 22,
     "metadata": {},
     "output_type": "execute_result"
    }
   ],
   "source": [
    "clf = CalibratedClassifierCV(log_clf, cv=3)\n",
    "clf.fit(tr_X,tr_y)"
   ]
  },
  {
   "cell_type": "markdown",
   "metadata": {},
   "source": [
    "# 5.2.1 Kaggle Score without top features"
   ]
  },
  {
   "cell_type": "code",
   "execution_count": 23,
   "metadata": {},
   "outputs": [],
   "source": [
    "# Create a submssion format to make submission in Kaggle\n",
    "temp_id = df_test['id']\n",
    "log_csv = clf.predict_proba(ts_X)[:,1]\n",
    "log_df = pd.DataFrame(np.column_stack((temp_id,log_csv)), columns=['id','target'])\n",
    "log_df['id'] = log_df['id'].astype('int32')\n",
    "log_df.to_csv(data_dir+'/submission_log.csv', index=False)"
   ]
  },
  {
   "cell_type": "code",
   "execution_count": 24,
   "metadata": {},
   "outputs": [
    {
     "data": {
      "text/plain": [
       "<matplotlib.image.AxesImage at 0x2394308d888>"
      ]
     },
     "execution_count": 24,
     "metadata": {},
     "output_type": "execute_result"
    },
    {
     "data": {
      "image/png": "[encoded data removed]",
      "text/plain": [
       "<Figure size 1296x360 with 1 Axes>"
      ]
     },
     "metadata": {
      "needs_background": "light"
     },
     "output_type": "display_data"
    }
   ],
   "source": [
    "image = plt.imread(data_dir+'/submission_log.png')\n",
    "plt.figure(figsize=(18,5))\n",
    "plt.imshow(image)"
   ]
  },
  {
   "cell_type": "markdown",
   "metadata": {},
   "source": [
    "# 5.2.2 Kaggle Score Using top 10 features based on Logistic Regression Model"
   ]
  },
  {
   "cell_type": "code",
   "execution_count": 25,
   "metadata": {
    "scrolled": false
   },
   "outputs": [
    {
     "name": "stdout",
     "output_type": "stream",
     "text": [
      "for 1 feature\n"
     ]
    },
    {
     "data": {
      "application/vnd.jupyter.widget-view+json": {
       "model_id": "6d2867c61cf44cba98e0a6770bfd9a53",
       "version_major": 2,
       "version_minor": 0
      },
      "text/plain": [
       "HBox(children=(FloatProgress(value=0.0, max=300.0), HTML(value='')))"
      ]
     },
     "metadata": {},
     "output_type": "display_data"
    },
    {
     "name": "stdout",
     "output_type": "stream",
     "text": [
      "\n",
      "Current top feature 33 and score: 0.7347222222222222\n",
      "Appended to top column\n",
      "[33]\n",
      "for 2 feature\n"
     ]
    },
    {
     "data": {
      "application/vnd.jupyter.widget-view+json": {
       "model_id": "13664b9c4db04fb0b2e3d3dda516f38b",
       "version_major": 2,
       "version_minor": 0
      },
      "text/plain": [
       "HBox(children=(FloatProgress(value=0.0, max=300.0), HTML(value='')))"
      ]
     },
     "metadata": {},
     "output_type": "display_data"
    },
    {
     "name": "stdout",
     "output_type": "stream",
     "text": [
      "\n",
      "Current top feature 65 and score: 0.7876388888888887\n",
      "Appended to top column\n",
      "[33, 65]\n",
      "for 3 feature\n"
     ]
    },
    {
     "data": {
      "application/vnd.jupyter.widget-view+json": {
       "model_id": "968ce655b60042e0ac37c953e96843dd",
       "version_major": 2,
       "version_minor": 0
      },
      "text/plain": [
       "HBox(children=(FloatProgress(value=0.0, max=300.0), HTML(value='')))"
      ]
     },
     "metadata": {},
     "output_type": "display_data"
    },
    {
     "name": "stdout",
     "output_type": "stream",
     "text": [
      "\n",
      "Current top feature 217 and score: 0.8027777777777777\n",
      "Appended to top column\n",
      "[33, 65, 217]\n",
      "for 4 feature\n"
     ]
    },
    {
     "data": {
      "application/vnd.jupyter.widget-view+json": {
       "model_id": "6a0ec905f476405494d86af81cce4acb",
       "version_major": 2,
       "version_minor": 0
      },
      "text/plain": [
       "HBox(children=(FloatProgress(value=0.0, max=300.0), HTML(value='')))"
      ]
     },
     "metadata": {},
     "output_type": "display_data"
    },
    {
     "name": "stdout",
     "output_type": "stream",
     "text": [
      "\n",
      "Current top feature 91 and score: 0.8190277777777777\n",
      "Appended to top column\n",
      "[33, 65, 217, 91]\n",
      "for 5 feature\n"
     ]
    },
    {
     "data": {
      "application/vnd.jupyter.widget-view+json": {
       "model_id": "2848cd78250e4694afcc67b3a9dbe16b",
       "version_major": 2,
       "version_minor": 0
      },
      "text/plain": [
       "HBox(children=(FloatProgress(value=0.0, max=300.0), HTML(value='')))"
      ]
     },
     "metadata": {},
     "output_type": "display_data"
    },
    {
     "name": "stdout",
     "output_type": "stream",
     "text": [
      "\n",
      "Current top feature 117 and score: 0.8458333333333334\n",
      "Appended to top column\n",
      "[33, 65, 217, 91, 117]\n",
      "for 6 feature\n"
     ]
    },
    {
     "data": {
      "application/vnd.jupyter.widget-view+json": {
       "model_id": "546a8b42f84c47c6b930f20262169629",
       "version_major": 2,
       "version_minor": 0
      },
      "text/plain": [
       "HBox(children=(FloatProgress(value=0.0, max=300.0), HTML(value='')))"
      ]
     },
     "metadata": {},
     "output_type": "display_data"
    },
    {
     "name": "stdout",
     "output_type": "stream",
     "text": [
      "\n",
      "Current top feature 194 and score: 0.852638888888889\n",
      "Appended to top column\n",
      "[33, 65, 217, 91, 117, 194]\n",
      "for 7 feature\n"
     ]
    },
    {
     "data": {
      "application/vnd.jupyter.widget-view+json": {
       "model_id": "0666990e7917438d88d3ab0996ac56b0",
       "version_major": 2,
       "version_minor": 0
      },
      "text/plain": [
       "HBox(children=(FloatProgress(value=0.0, max=300.0), HTML(value='')))"
      ]
     },
     "metadata": {},
     "output_type": "display_data"
    },
    {
     "name": "stdout",
     "output_type": "stream",
     "text": [
      "\n",
      "Current top feature 199 and score: 0.8573611111111111\n",
      "Appended to top column\n",
      "[33, 65, 217, 91, 117, 194, 199]\n",
      "for 8 feature\n"
     ]
    },
    {
     "data": {
      "application/vnd.jupyter.widget-view+json": {
       "model_id": "1702dd1523e2407a9e42ce0c128e5ab2",
       "version_major": 2,
       "version_minor": 0
      },
      "text/plain": [
       "HBox(children=(FloatProgress(value=0.0, max=300.0), HTML(value='')))"
      ]
     },
     "metadata": {},
     "output_type": "display_data"
    },
    {
     "name": "stdout",
     "output_type": "stream",
     "text": [
      "\n",
      "Current top feature 80 and score: 0.8698611111111112\n",
      "Appended to top column\n",
      "[33, 65, 217, 91, 117, 194, 199, 80]\n",
      "for 9 feature\n"
     ]
    },
    {
     "data": {
      "application/vnd.jupyter.widget-view+json": {
       "model_id": "910c3fcfc63647aca65289c902f37877",
       "version_major": 2,
       "version_minor": 0
      },
      "text/plain": [
       "HBox(children=(FloatProgress(value=0.0, max=300.0), HTML(value='')))"
      ]
     },
     "metadata": {},
     "output_type": "display_data"
    },
    {
     "name": "stdout",
     "output_type": "stream",
     "text": [
      "\n",
      "Current top feature 127 and score: 0.875\n",
      "Appended to top column\n",
      "[33, 65, 217, 91, 117, 194, 199, 80, 127]\n",
      "for 10 feature\n"
     ]
    },
    {
     "data": {
      "application/vnd.jupyter.widget-view+json": {
       "model_id": "2fc03641411947b99146f1b42cdab68b",
       "version_major": 2,
       "version_minor": 0
      },
      "text/plain": [
       "HBox(children=(FloatProgress(value=0.0, max=300.0), HTML(value='')))"
      ]
     },
     "metadata": {},
     "output_type": "display_data"
    },
    {
     "name": "stdout",
     "output_type": "stream",
     "text": [
      "\n",
      "Current top feature 226 and score: 0.8791666666666669\n",
      "Appended to top column\n",
      "[33, 65, 217, 91, 117, 194, 199, 80, 127, 226]\n"
     ]
    }
   ],
   "source": [
    "top_column = forward_selection_model(log_model)"
   ]
  },
  {
   "cell_type": "code",
   "execution_count": 26,
   "metadata": {},
   "outputs": [],
   "source": [
    "# Store the top column name into set\n",
    "log_top10_feat = set(top_column)\n",
    "# Fit Logistic Regression on top features only\n",
    "log_model_top = LogisticRegression(**log_clf.best_params_, class_weight='balanced', random_state=42)\n",
    "log_model_top.fit(tr_X[:,top_column],tr_y)\n",
    "# Calibrate it in top features only\n",
    "clf = CalibratedClassifierCV(log_model_top, cv=3)\n",
    "clf.fit(tr_X[:,top_column],tr_y)\n",
    "# Predict the probabilities of 1\n",
    "ts_pred = clf.predict_proba(ts_X[:,top_column])[:,1]"
   ]
  },
  {
   "cell_type": "code",
   "execution_count": 27,
   "metadata": {},
   "outputs": [],
   "source": [
    "# Create a submssion format to make submission in Kaggle\n",
    "temp_id = df_test['id']\n",
    "df_tspred = pd.DataFrame(np.column_stack((temp_id,ts_pred)), columns=['id','target'])\n",
    "df_tspred['id'] = df_tspred['id'].astype('int32')\n",
    "df_tspred.to_csv(data_dir+'/submission_log_top10.csv', index=False)"
   ]
  },
  {
   "cell_type": "code",
   "execution_count": 28,
   "metadata": {},
   "outputs": [
    {
     "data": {
      "text/plain": [
       "<matplotlib.image.AxesImage at 0x23943841f08>"
      ]
     },
     "execution_count": 28,
     "metadata": {},
     "output_type": "execute_result"
    },
    {
     "data": {
      "image/png": "[encoded data removed]",
      "text/plain": [
       "<Figure size 1296x360 with 1 Axes>"
      ]
     },
     "metadata": {
      "needs_background": "light"
     },
     "output_type": "display_data"
    }
   ],
   "source": [
    "image = plt.imread(data_dir+'/log_csv_top10.png')\n",
    "plt.figure(figsize=(18,5))\n",
    "plt.imshow(image)"
   ]
  },
  {
   "cell_type": "markdown",
   "metadata": {},
   "source": [
    "# 5.2.3 Kaggle Score Using top 20 features based on Logistic Regression Model"
   ]
  },
  {
   "cell_type": "code",
   "execution_count": 29,
   "metadata": {
    "scrolled": false
   },
   "outputs": [
    {
     "name": "stdout",
     "output_type": "stream",
     "text": [
      "for 1 feature\n"
     ]
    },
    {
     "data": {
      "application/vnd.jupyter.widget-view+json": {
       "model_id": "18baa56b997f4203a824196f07e71016",
       "version_major": 2,
       "version_minor": 0
      },
      "text/plain": [
       "HBox(children=(FloatProgress(value=0.0, max=300.0), HTML(value='')))"
      ]
     },
     "metadata": {},
     "output_type": "display_data"
    },
    {
     "name": "stdout",
     "output_type": "stream",
     "text": [
      "\n",
      "Current top feature 33 and score: 0.7347222222222222\n",
      "Appended to top column\n",
      "[33]\n",
      "for 2 feature\n"
     ]
    },
    {
     "data": {
      "application/vnd.jupyter.widget-view+json": {
       "model_id": "8fe76ba911d44f42885788ce25ca9f14",
       "version_major": 2,
       "version_minor": 0
      },
      "text/plain": [
       "HBox(children=(FloatProgress(value=0.0, max=300.0), HTML(value='')))"
      ]
     },
     "metadata": {},
     "output_type": "display_data"
    },
    {
     "name": "stdout",
     "output_type": "stream",
     "text": [
      "\n",
      "Current top feature 65 and score: 0.7876388888888887\n",
      "Appended to top column\n",
      "[33, 65]\n",
      "for 3 feature\n"
     ]
    },
    {
     "data": {
      "application/vnd.jupyter.widget-view+json": {
       "model_id": "cf229e01901c40fd85f6c46f9dca82f2",
       "version_major": 2,
       "version_minor": 0
      },
      "text/plain": [
       "HBox(children=(FloatProgress(value=0.0, max=300.0), HTML(value='')))"
      ]
     },
     "metadata": {},
     "output_type": "display_data"
    },
    {
     "name": "stdout",
     "output_type": "stream",
     "text": [
      "\n",
      "Current top feature 217 and score: 0.8027777777777777\n",
      "Appended to top column\n",
      "[33, 65, 217]\n",
      "for 4 feature\n"
     ]
    },
    {
     "data": {
      "application/vnd.jupyter.widget-view+json": {
       "model_id": "8cfa114b399c4e4eaccd89483aa760a1",
       "version_major": 2,
       "version_minor": 0
      },
      "text/plain": [
       "HBox(children=(FloatProgress(value=0.0, max=300.0), HTML(value='')))"
      ]
     },
     "metadata": {},
     "output_type": "display_data"
    },
    {
     "name": "stdout",
     "output_type": "stream",
     "text": [
      "\n",
      "Current top feature 91 and score: 0.8190277777777777\n",
      "Appended to top column\n",
      "[33, 65, 217, 91]\n",
      "for 5 feature\n"
     ]
    },
    {
     "data": {
      "application/vnd.jupyter.widget-view+json": {
       "model_id": "88f3a4421b7246aab4598a382481bc86",
       "version_major": 2,
       "version_minor": 0
      },
      "text/plain": [
       "HBox(children=(FloatProgress(value=0.0, max=300.0), HTML(value='')))"
      ]
     },
     "metadata": {},
     "output_type": "display_data"
    },
    {
     "name": "stdout",
     "output_type": "stream",
     "text": [
      "\n",
      "Current top feature 117 and score: 0.8458333333333334\n",
      "Appended to top column\n",
      "[33, 65, 217, 91, 117]\n",
      "for 6 feature\n"
     ]
    },
    {
     "data": {
      "application/vnd.jupyter.widget-view+json": {
       "model_id": "0c26e4c65c4b476788c08c5ca4167050",
       "version_major": 2,
       "version_minor": 0
      },
      "text/plain": [
       "HBox(children=(FloatProgress(value=0.0, max=300.0), HTML(value='')))"
      ]
     },
     "metadata": {},
     "output_type": "display_data"
    },
    {
     "name": "stdout",
     "output_type": "stream",
     "text": [
      "\n",
      "Current top feature 194 and score: 0.852638888888889\n",
      "Appended to top column\n",
      "[33, 65, 217, 91, 117, 194]\n",
      "for 7 feature\n"
     ]
    },
    {
     "data": {
      "application/vnd.jupyter.widget-view+json": {
       "model_id": "debf8d58459b436b8024f3c8c91554ec",
       "version_major": 2,
       "version_minor": 0
      },
      "text/plain": [
       "HBox(children=(FloatProgress(value=0.0, max=300.0), HTML(value='')))"
      ]
     },
     "metadata": {},
     "output_type": "display_data"
    },
    {
     "name": "stdout",
     "output_type": "stream",
     "text": [
      "\n",
      "Current top feature 199 and score: 0.8573611111111111\n",
      "Appended to top column\n",
      "[33, 65, 217, 91, 117, 194, 199]\n",
      "for 8 feature\n"
     ]
    },
    {
     "data": {
      "application/vnd.jupyter.widget-view+json": {
       "model_id": "aa9a109de586455da7917b2b46f42289",
       "version_major": 2,
       "version_minor": 0
      },
      "text/plain": [
       "HBox(children=(FloatProgress(value=0.0, max=300.0), HTML(value='')))"
      ]
     },
     "metadata": {},
     "output_type": "display_data"
    },
    {
     "name": "stdout",
     "output_type": "stream",
     "text": [
      "\n",
      "Current top feature 80 and score: 0.8698611111111112\n",
      "Appended to top column\n",
      "[33, 65, 217, 91, 117, 194, 199, 80]\n",
      "for 9 feature\n"
     ]
    },
    {
     "data": {
      "application/vnd.jupyter.widget-view+json": {
       "model_id": "ac2f3bac8ebf44429f5ff3dfc5822e18",
       "version_major": 2,
       "version_minor": 0
      },
      "text/plain": [
       "HBox(children=(FloatProgress(value=0.0, max=300.0), HTML(value='')))"
      ]
     },
     "metadata": {},
     "output_type": "display_data"
    },
    {
     "name": "stdout",
     "output_type": "stream",
     "text": [
      "\n",
      "Current top feature 127 and score: 0.875\n",
      "Appended to top column\n",
      "[33, 65, 217, 91, 117, 194, 199, 80, 127]\n",
      "for 10 feature\n"
     ]
    },
    {
     "data": {
      "application/vnd.jupyter.widget-view+json": {
       "model_id": "b138008717bd44118e88a8ba81808dd2",
       "version_major": 2,
       "version_minor": 0
      },
      "text/plain": [
       "HBox(children=(FloatProgress(value=0.0, max=300.0), HTML(value='')))"
      ]
     },
     "metadata": {},
     "output_type": "display_data"
    },
    {
     "name": "stdout",
     "output_type": "stream",
     "text": [
      "\n",
      "Current top feature 226 and score: 0.8791666666666669\n",
      "Appended to top column\n",
      "[33, 65, 217, 91, 117, 194, 199, 80, 127, 226]\n",
      "for 11 feature\n"
     ]
    },
    {
     "data": {
      "application/vnd.jupyter.widget-view+json": {
       "model_id": "4b1c033eb05142a09422f115845e0f2f",
       "version_major": 2,
       "version_minor": 0
      },
      "text/plain": [
       "HBox(children=(FloatProgress(value=0.0, max=300.0), HTML(value='')))"
      ]
     },
     "metadata": {},
     "output_type": "display_data"
    },
    {
     "name": "stdout",
     "output_type": "stream",
     "text": [
      "\n",
      "Current top feature 43 and score: 0.8875\n",
      "Appended to top column\n",
      "[33, 65, 217, 91, 117, 194, 199, 80, 127, 226, 43]\n",
      "for 12 feature\n"
     ]
    },
    {
     "data": {
      "application/vnd.jupyter.widget-view+json": {
       "model_id": "787d0e185b984a6db838edc7b165e8c0",
       "version_major": 2,
       "version_minor": 0
      },
      "text/plain": [
       "HBox(children=(FloatProgress(value=0.0, max=300.0), HTML(value='')))"
      ]
     },
     "metadata": {},
     "output_type": "display_data"
    },
    {
     "name": "stdout",
     "output_type": "stream",
     "text": [
      "\n",
      "Current top feature 170 and score: 0.8933333333333333\n",
      "Appended to top column\n",
      "[33, 65, 217, 91, 117, 194, 199, 80, 127, 226, 43, 170]\n",
      "for 13 feature\n"
     ]
    },
    {
     "data": {
      "application/vnd.jupyter.widget-view+json": {
       "model_id": "f8471354351e4e7aa29fcbf598a8768f",
       "version_major": 2,
       "version_minor": 0
      },
      "text/plain": [
       "HBox(children=(FloatProgress(value=0.0, max=300.0), HTML(value='')))"
      ]
     },
     "metadata": {},
     "output_type": "display_data"
    },
    {
     "name": "stdout",
     "output_type": "stream",
     "text": [
      "\n",
      "Current top feature 82 and score: 0.8973611111111112\n",
      "Appended to top column\n",
      "[33, 65, 217, 91, 117, 194, 199, 80, 127, 226, 43, 170, 82]\n",
      "for 14 feature\n"
     ]
    },
    {
     "data": {
      "application/vnd.jupyter.widget-view+json": {
       "model_id": "7d26136d34454493ab75027666734d6a",
       "version_major": 2,
       "version_minor": 0
      },
      "text/plain": [
       "HBox(children=(FloatProgress(value=0.0, max=300.0), HTML(value='')))"
      ]
     },
     "metadata": {},
     "output_type": "display_data"
    },
    {
     "name": "stdout",
     "output_type": "stream",
     "text": [
      "\n",
      "Current top feature 183 and score: 0.9002777777777777\n",
      "Appended to top column\n",
      "[33, 65, 217, 91, 117, 194, 199, 80, 127, 226, 43, 170, 82, 183]\n",
      "for 15 feature\n"
     ]
    },
    {
     "data": {
      "application/vnd.jupyter.widget-view+json": {
       "model_id": "f421f289fb6a43508b8ededdeccccc14",
       "version_major": 2,
       "version_minor": 0
      },
      "text/plain": [
       "HBox(children=(FloatProgress(value=0.0, max=300.0), HTML(value='')))"
      ]
     },
     "metadata": {},
     "output_type": "display_data"
    },
    {
     "name": "stdout",
     "output_type": "stream",
     "text": [
      "\n",
      "Current top feature 168 and score: 0.9018055555555555\n",
      "Appended to top column\n",
      "[33, 65, 217, 91, 117, 194, 199, 80, 127, 226, 43, 170, 82, 183, 168]\n",
      "for 16 feature\n"
     ]
    },
    {
     "data": {
      "application/vnd.jupyter.widget-view+json": {
       "model_id": "88d48cb2b62e4efaaeab17690d55dd16",
       "version_major": 2,
       "version_minor": 0
      },
      "text/plain": [
       "HBox(children=(FloatProgress(value=0.0, max=300.0), HTML(value='')))"
      ]
     },
     "metadata": {},
     "output_type": "display_data"
    },
    {
     "name": "stdout",
     "output_type": "stream",
     "text": [
      "\n",
      "Current top feature 108 and score: 0.9033333333333333\n",
      "Appended to top column\n",
      "[33, 65, 217, 91, 117, 194, 199, 80, 127, 226, 43, 170, 82, 183, 168, 108]\n",
      "for 17 feature\n"
     ]
    },
    {
     "data": {
      "application/vnd.jupyter.widget-view+json": {
       "model_id": "84177a83f9774fc98cd0b1a7262b3aeb",
       "version_major": 2,
       "version_minor": 0
      },
      "text/plain": [
       "HBox(children=(FloatProgress(value=0.0, max=300.0), HTML(value='')))"
      ]
     },
     "metadata": {},
     "output_type": "display_data"
    },
    {
     "name": "stdout",
     "output_type": "stream",
     "text": [
      "\n",
      "Current top feature 114 and score: 0.9054166666666665\n",
      "Appended to top column\n",
      "[33, 65, 217, 91, 117, 194, 199, 80, 127, 226, 43, 170, 82, 183, 168, 108, 114]\n",
      "for 18 feature\n"
     ]
    },
    {
     "data": {
      "application/vnd.jupyter.widget-view+json": {
       "model_id": "876e0687bebf4b58ad1c2ddad2d6461e",
       "version_major": 2,
       "version_minor": 0
      },
      "text/plain": [
       "HBox(children=(FloatProgress(value=0.0, max=300.0), HTML(value='')))"
      ]
     },
     "metadata": {},
     "output_type": "display_data"
    },
    {
     "name": "stdout",
     "output_type": "stream",
     "text": [
      "\n",
      "Current top feature 63 and score: 0.90875\n",
      "Appended to top column\n",
      "[33, 65, 217, 91, 117, 194, 199, 80, 127, 226, 43, 170, 82, 183, 168, 108, 114, 63]\n",
      "for 19 feature\n"
     ]
    },
    {
     "data": {
      "application/vnd.jupyter.widget-view+json": {
       "model_id": "e36835ceac44499383c6fbd494de3088",
       "version_major": 2,
       "version_minor": 0
      },
      "text/plain": [
       "HBox(children=(FloatProgress(value=0.0, max=300.0), HTML(value='')))"
      ]
     },
     "metadata": {},
     "output_type": "display_data"
    },
    {
     "name": "stdout",
     "output_type": "stream",
     "text": [
      "\n",
      "Current top feature 101 and score: 0.9105555555555557\n",
      "Appended to top column\n",
      "[33, 65, 217, 91, 117, 194, 199, 80, 127, 226, 43, 170, 82, 183, 168, 108, 114, 63, 101]\n",
      "for 20 feature\n"
     ]
    },
    {
     "data": {
      "application/vnd.jupyter.widget-view+json": {
       "model_id": "58b005a933314c85a76b540821eb9920",
       "version_major": 2,
       "version_minor": 0
      },
      "text/plain": [
       "HBox(children=(FloatProgress(value=0.0, max=300.0), HTML(value='')))"
      ]
     },
     "metadata": {},
     "output_type": "display_data"
    },
    {
     "name": "stdout",
     "output_type": "stream",
     "text": [
      "\n",
      "Current top feature 198 and score: 0.9113888888888888\n",
      "Appended to top column\n",
      "[33, 65, 217, 91, 117, 194, 199, 80, 127, 226, 43, 170, 82, 183, 168, 108, 114, 63, 101, 198]\n"
     ]
    }
   ],
   "source": [
    "top_column = forward_selection_model(log_model,20)"
   ]
  },
  {
   "cell_type": "code",
   "execution_count": 30,
   "metadata": {},
   "outputs": [],
   "source": [
    "# Store the top column name into set\n",
    "log_top20_feat = set(top_column)\n",
    "# Fit Logistic Regression on top features only\n",
    "log_model_top = LogisticRegression(**log_clf.best_params_, class_weight='balanced', random_state=42)\n",
    "log_model_top.fit(tr_X[:,top_column],tr_y)\n",
    "# Calibrate it in top features only\n",
    "clf = CalibratedClassifierCV(log_model_top, cv=3)\n",
    "clf.fit(tr_X[:,top_column],tr_y)\n",
    "# Predict the probabilities of 1\n",
    "ts_pred = clf.predict_proba(ts_X[:,top_column])[:,1]"
   ]
  },
  {
   "cell_type": "code",
   "execution_count": 31,
   "metadata": {},
   "outputs": [],
   "source": [
    "# Create a submssion format to make submission in Kaggle\n",
    "temp_id = df_test['id']\n",
    "df_tspred = pd.DataFrame(np.column_stack((temp_id,ts_pred)), columns=['id','target'])\n",
    "df_tspred['id'] = df_tspred['id'].astype('int32')\n",
    "df_tspred.to_csv(data_dir+'/submission_log_top20.csv', index=False)"
   ]
  },
  {
   "cell_type": "code",
   "execution_count": 32,
   "metadata": {},
   "outputs": [
    {
     "data": {
      "text/plain": [
       "<matplotlib.image.AxesImage at 0x239430ee4c8>"
      ]
     },
     "execution_count": 32,
     "metadata": {},
     "output_type": "execute_result"
    },
    {
     "data": {
      "image/png": "[encoded data removed]",
      "text/plain": [
       "<Figure size 1296x360 with 1 Axes>"
      ]
     },
     "metadata": {
      "needs_background": "light"
     },
     "output_type": "display_data"
    }
   ],
   "source": [
    "image = plt.imread(data_dir+'/log_csv_top20.png')\n",
    "plt.figure(figsize=(18,5))\n",
    "plt.imshow(image)"
   ]
  },
  {
   "cell_type": "markdown",
   "metadata": {},
   "source": [
    "# 5.3 SVC"
   ]
  },
  {
   "cell_type": "code",
   "execution_count": 33,
   "metadata": {},
   "outputs": [],
   "source": [
    "# Import SVC\n",
    "from sklearn.svm import SVC"
   ]
  },
  {
   "cell_type": "code",
   "execution_count": 34,
   "metadata": {},
   "outputs": [],
   "source": [
    "# SVC (See Docs: https://scikit-learn.org/stable/modules/generated/sklearn.svm.SVC.html)\n",
    "\n",
    "# List of hyperparameter that has to be tuned\n",
    "params = {'C':[10**i for i in range(-4,5)], 'kernel':['linear','poly','sigmoid','rbf']}\n",
    "# Instance of SVC\n",
    "svc_model = SVC(class_weight='balanced', random_state=42, probability=True)\n",
    "# Call hyperparameter to find the best parameters\n",
    "svc_clf = hyperparameter_model(svc_model, params)"
   ]
  },
  {
   "cell_type": "code",
   "execution_count": 35,
   "metadata": {},
   "outputs": [
    {
     "data": {
      "image/png": "[encoded data removed]",
      "text/plain": [
       "<Figure size 432x288 with 2 Axes>"
      ]
     },
     "metadata": {
      "needs_background": "light"
     },
     "output_type": "display_data"
    },
    {
     "data": {
      "image/png": "[encoded data removed]",
      "text/plain": [
       "<Figure size 432x288 with 2 Axes>"
      ]
     },
     "metadata": {
      "needs_background": "light"
     },
     "output_type": "display_data"
    }
   ],
   "source": [
    "cv_pvt = pd.pivot_table(pd.DataFrame(svc_clf.cv_results_), values='mean_test_score', index='param_C', \\\n",
    "                     columns='param_kernel')\n",
    "tr_pvt = pd.pivot_table(pd.DataFrame(svc_clf.cv_results_), values='mean_train_score', index='param_C', \\\n",
    "                     columns='param_kernel')\n",
    "\n",
    "plt.title('Train Hyperparameter')\n",
    "sns.heatmap(tr_pvt, annot=True)\n",
    "plt.show()\n",
    "\n",
    "plt.title('CV Hyperparameter')\n",
    "sns.heatmap(cv_pvt, annot=True)\n",
    "plt.show()"
   ]
  },
  {
   "cell_type": "code",
   "execution_count": 36,
   "metadata": {},
   "outputs": [
    {
     "name": "stdout",
     "output_type": "stream",
     "text": [
      "{'C': 10, 'kernel': 'rbf'}\n"
     ]
    }
   ],
   "source": [
    "print(svc_clf.best_params_)"
   ]
  },
  {
   "cell_type": "code",
   "execution_count": 37,
   "metadata": {},
   "outputs": [
    {
     "data": {
      "text/plain": [
       "CalibratedClassifierCV(base_estimator=GridSearchCV(cv=RepeatedStratifiedKFold(n_repeats=5, n_splits=10, random_state=42),\n",
       "                                                   error_score=nan,\n",
       "                                                   estimator=SVC(C=1.0,\n",
       "                                                                 break_ties=False,\n",
       "                                                                 cache_size=200,\n",
       "                                                                 class_weight='balanced',\n",
       "                                                                 coef0=0.0,\n",
       "                                                                 decision_function_shape='ovr',\n",
       "                                                                 degree=3,\n",
       "                                                                 gamma='scale',\n",
       "                                                                 kernel='rbf',\n",
       "                                                                 max_iter=-1,\n",
       "                                                                 probability=True,\n",
       "                                                                 random_state=42,\n",
       "                                                                 shrinking=True,\n",
       "                                                                 tol=0.001,\n",
       "                                                                 verbose=False),\n",
       "                                                   iid='deprecated',\n",
       "                                                   n_jobs=None,\n",
       "                                                   param_grid={'C': [0.0001,\n",
       "                                                                     0.001,\n",
       "                                                                     0.01, 0.1,\n",
       "                                                                     1, 10, 100,\n",
       "                                                                     1000,\n",
       "                                                                     10000],\n",
       "                                                               'kernel': ['linear',\n",
       "                                                                          'poly',\n",
       "                                                                          'sigmoid',\n",
       "                                                                          'rbf']},\n",
       "                                                   pre_dispatch='2*n_jobs',\n",
       "                                                   refit=True,\n",
       "                                                   return_train_score=True,\n",
       "                                                   scoring='roc_auc',\n",
       "                                                   verbose=0),\n",
       "                       cv=3, method='sigmoid')"
      ]
     },
     "execution_count": 37,
     "metadata": {},
     "output_type": "execute_result"
    }
   ],
   "source": [
    "svc_model = SVC(**svc_clf.best_params_, class_weight='balanced', random_state=42, probability=True)\n",
    "svc_model.fit(tr_X, tr_y)\n",
    "\n",
    "clf = CalibratedClassifierCV(svc_clf, cv=3)\n",
    "clf.fit(tr_X,tr_y)"
   ]
  },
  {
   "cell_type": "markdown",
   "metadata": {},
   "source": [
    "# 5.3.1 Kaggle Score without top features"
   ]
  },
  {
   "cell_type": "code",
   "execution_count": 38,
   "metadata": {},
   "outputs": [],
   "source": [
    "# Create a submssion format to make submission in Kaggle\n",
    "temp_id = df_test['id']\n",
    "svc_csv = clf.predict_proba(ts_X)[:,1]\n",
    "svc_df = pd.DataFrame(np.column_stack((temp_id,svc_csv)), columns=['id','target'])\n",
    "svc_df['id'] = svc_df['id'].astype('int32')\n",
    "svc_df.to_csv(data_dir+'/submission_svc.csv', index=False)"
   ]
  },
  {
   "cell_type": "code",
   "execution_count": 39,
   "metadata": {},
   "outputs": [
    {
     "data": {
      "text/plain": [
       "<matplotlib.image.AxesImage at 0x239437b6748>"
      ]
     },
     "execution_count": 39,
     "metadata": {},
     "output_type": "execute_result"
    },
    {
     "data": {
      "image/png": "[encoded data removed]",
      "text/plain": [
       "<Figure size 1296x360 with 1 Axes>"
      ]
     },
     "metadata": {
      "needs_background": "light"
     },
     "output_type": "display_data"
    }
   ],
   "source": [
    "image = plt.imread(data_dir+'/submission_svc.png')\n",
    "plt.figure(figsize=(18,5))\n",
    "plt.imshow(image)"
   ]
  },
  {
   "cell_type": "markdown",
   "metadata": {},
   "source": [
    "# 5.3.2 Kaggle Score Using top 10 features based on SVC Model"
   ]
  },
  {
   "cell_type": "code",
   "execution_count": 40,
   "metadata": {},
   "outputs": [
    {
     "name": "stdout",
     "output_type": "stream",
     "text": [
      "for 1 feature\n"
     ]
    },
    {
     "data": {
      "application/vnd.jupyter.widget-view+json": {
       "model_id": "94b80c26007d43999758e45ddd65cc2d",
       "version_major": 2,
       "version_minor": 0
      },
      "text/plain": [
       "HBox(children=(FloatProgress(value=0.0, max=300.0), HTML(value='')))"
      ]
     },
     "metadata": {},
     "output_type": "display_data"
    },
    {
     "name": "stdout",
     "output_type": "stream",
     "text": [
      "\n",
      "Current top feature 33 and score: 0.708888888888889\n",
      "Appended to top column\n",
      "[33]\n",
      "for 2 feature\n"
     ]
    },
    {
     "data": {
      "application/vnd.jupyter.widget-view+json": {
       "model_id": "79c60b09438a4c7fab4d6b592589b879",
       "version_major": 2,
       "version_minor": 0
      },
      "text/plain": [
       "HBox(children=(FloatProgress(value=0.0, max=300.0), HTML(value='')))"
      ]
     },
     "metadata": {},
     "output_type": "display_data"
    },
    {
     "name": "stdout",
     "output_type": "stream",
     "text": [
      "\n",
      "Current top feature 167 and score: 0.7570833333333334\n",
      "Appended to top column\n",
      "[33, 167]\n",
      "for 3 feature\n"
     ]
    },
    {
     "data": {
      "application/vnd.jupyter.widget-view+json": {
       "model_id": "19abc4c822424bdb8b4a9d59d0cde4a2",
       "version_major": 2,
       "version_minor": 0
      },
      "text/plain": [
       "HBox(children=(FloatProgress(value=0.0, max=300.0), HTML(value='')))"
      ]
     },
     "metadata": {},
     "output_type": "display_data"
    },
    {
     "name": "stdout",
     "output_type": "stream",
     "text": [
      "\n",
      "Current top feature 116 and score: 0.7616666666666666\n",
      "Appended to top column\n",
      "[33, 167, 116]\n",
      "for 4 feature\n"
     ]
    },
    {
     "data": {
      "application/vnd.jupyter.widget-view+json": {
       "model_id": "06e6c56335164e2a9523f9e7efd9c4cf",
       "version_major": 2,
       "version_minor": 0
      },
      "text/plain": [
       "HBox(children=(FloatProgress(value=0.0, max=300.0), HTML(value='')))"
      ]
     },
     "metadata": {},
     "output_type": "display_data"
    },
    {
     "name": "stdout",
     "output_type": "stream",
     "text": [
      "\n",
      "Current top feature 70 and score: 0.7881944444444444\n",
      "Appended to top column\n",
      "[33, 167, 116, 70]\n",
      "for 5 feature\n"
     ]
    },
    {
     "data": {
      "application/vnd.jupyter.widget-view+json": {
       "model_id": "52e366b2637d4784ad1b74ff618b6c55",
       "version_major": 2,
       "version_minor": 0
      },
      "text/plain": [
       "HBox(children=(FloatProgress(value=0.0, max=300.0), HTML(value='')))"
      ]
     },
     "metadata": {},
     "output_type": "display_data"
    },
    {
     "name": "stdout",
     "output_type": "stream",
     "text": [
      "\n",
      "Current top feature 293 and score: 0.8234722222222223\n",
      "Appended to top column\n",
      "[33, 167, 116, 70, 293]\n",
      "for 6 feature\n"
     ]
    },
    {
     "data": {
      "application/vnd.jupyter.widget-view+json": {
       "model_id": "707aa0e9688b4b3bab8414efad1defc8",
       "version_major": 2,
       "version_minor": 0
      },
      "text/plain": [
       "HBox(children=(FloatProgress(value=0.0, max=300.0), HTML(value='')))"
      ]
     },
     "metadata": {},
     "output_type": "display_data"
    },
    {
     "name": "stdout",
     "output_type": "stream",
     "text": [
      "\n",
      "Current top feature 43 and score: 0.8543055555555558\n",
      "Appended to top column\n",
      "[33, 167, 116, 70, 293, 43]\n",
      "for 7 feature\n"
     ]
    },
    {
     "data": {
      "application/vnd.jupyter.widget-view+json": {
       "model_id": "40b7128767c246dc9ddadef240173138",
       "version_major": 2,
       "version_minor": 0
      },
      "text/plain": [
       "HBox(children=(FloatProgress(value=0.0, max=300.0), HTML(value='')))"
      ]
     },
     "metadata": {},
     "output_type": "display_data"
    },
    {
     "name": "stdout",
     "output_type": "stream",
     "text": [
      "\n",
      "Current top feature 157 and score: 0.8663888888888889\n",
      "Appended to top column\n",
      "[33, 167, 116, 70, 293, 43, 157]\n",
      "for 8 feature\n"
     ]
    },
    {
     "data": {
      "application/vnd.jupyter.widget-view+json": {
       "model_id": "e09173983bbc47a4be6899d610d1c0ef",
       "version_major": 2,
       "version_minor": 0
      },
      "text/plain": [
       "HBox(children=(FloatProgress(value=0.0, max=300.0), HTML(value='')))"
      ]
     },
     "metadata": {},
     "output_type": "display_data"
    },
    {
     "name": "stdout",
     "output_type": "stream",
     "text": [
      "\n",
      "Current top feature 103 and score: 0.8681944444444444\n",
      "Appended to top column\n",
      "[33, 167, 116, 70, 293, 43, 157, 103]\n",
      "for 9 feature\n"
     ]
    },
    {
     "data": {
      "application/vnd.jupyter.widget-view+json": {
       "model_id": "912a2fd6122049f090371d28b60c1b37",
       "version_major": 2,
       "version_minor": 0
      },
      "text/plain": [
       "HBox(children=(FloatProgress(value=0.0, max=300.0), HTML(value='')))"
      ]
     },
     "metadata": {},
     "output_type": "display_data"
    },
    {
     "name": "stdout",
     "output_type": "stream",
     "text": [
      "\n"
     ]
    }
   ],
   "source": [
    "top_column = forward_selection_model(svc_model)"
   ]
  },
  {
   "cell_type": "code",
   "execution_count": 41,
   "metadata": {},
   "outputs": [],
   "source": [
    "# Store the top column name into set\n",
    "svc_top10_feat = set(top_column)\n",
    "# Fit SVC on top features only\n",
    "svc_model_top = SVC(**svc_clf.best_params_, class_weight='balanced', random_state=42, probability=True)\n",
    "svc_model_top.fit(tr_X[:,top_column],tr_y)\n",
    "# Calibrate it in top features only\n",
    "clf = CalibratedClassifierCV(svc_model_top, cv=3)\n",
    "clf.fit(tr_X[:,top_column],tr_y)\n",
    "# Predict the probabilities of 1\n",
    "ts_pred = clf.predict_proba(ts_X[:,top_column])[:,1]"
   ]
  },
  {
   "cell_type": "code",
   "execution_count": 42,
   "metadata": {},
   "outputs": [],
   "source": [
    "# Create a submssion format to make submission in Kaggle\n",
    "temp_id = df_test['id']\n",
    "df_tspred = pd.DataFrame(np.column_stack((temp_id,ts_pred)), columns=['id','target'])\n",
    "df_tspred['id'] = df_tspred['id'].astype('int32')\n",
    "df_tspred.to_csv(data_dir+'/submission_svc_top10.csv', index=False)"
   ]
  },
  {
   "cell_type": "code",
   "execution_count": 43,
   "metadata": {},
   "outputs": [
    {
     "data": {
      "text/plain": [
       "<matplotlib.image.AxesImage at 0x23943812c48>"
      ]
     },
     "execution_count": 43,
     "metadata": {},
     "output_type": "execute_result"
    },
    {
     "data": {
      "image/png": "[encoded data removed]",
      "text/plain": [
       "<Figure size 1296x360 with 1 Axes>"
      ]
     },
     "metadata": {
      "needs_background": "light"
     },
     "output_type": "display_data"
    }
   ],
   "source": [
    "image = plt.imread(data_dir+'/svc_csv_top10.png')\n",
    "plt.figure(figsize=(18,5))\n",
    "plt.imshow(image)"
   ]
  },
  {
   "cell_type": "markdown",
   "metadata": {},
   "source": [
    "# 5.4 RandomForest"
   ]
  },
  {
   "cell_type": "code",
   "execution_count": 44,
   "metadata": {},
   "outputs": [],
   "source": [
    "# Impoer Random Forest\n",
    "from sklearn.ensemble import RandomForestClassifier"
   ]
  },
  {
   "cell_type": "code",
   "execution_count": 45,
   "metadata": {},
   "outputs": [],
   "source": [
    "# RandomForest (See Docs: https://scikit-learn.org/stable/modules/generated/sklearn.ensemble.RandomForestClassifier.html)\n",
    "\n",
    "# List of hyperparameter that has t be tuned\n",
    "params = {'n_estimators':[10,20,30,40,50,100,200,300,400],'max_depth':[2,3,5,7]}\n",
    "# Instance of randomforest\n",
    "rf_model = RandomForestClassifier(random_state=42)\n",
    "# Perform GridSearchCV to find best parameters\n",
    "rf_clf = hyperparameter_model(rf_model, params)"
   ]
  },
  {
   "cell_type": "code",
   "execution_count": 46,
   "metadata": {},
   "outputs": [
    {
     "data": {
      "image/png": "[encoded data removed]",
      "text/plain": [
       "<Figure size 432x288 with 2 Axes>"
      ]
     },
     "metadata": {
      "needs_background": "light"
     },
     "output_type": "display_data"
    },
    {
     "data": {
      "image/png": "[encoded data removed]",
      "text/plain": [
       "<Figure size 432x288 with 2 Axes>"
      ]
     },
     "metadata": {
      "needs_background": "light"
     },
     "output_type": "display_data"
    }
   ],
   "source": [
    "# Ref: https://stackoverflow.com/questions/48791709/how-to-plot-a-heat-map-on-pivot-table-after-grid-search\n",
    "\n",
    "# Plotting of hyperpameter of train and cv score\n",
    "pvt_tr = pd.pivot_table(pd.DataFrame(rf_clf.cv_results_), values='mean_train_score', index='param_n_estimators', columns='param_max_depth')\n",
    "pvt_cv = pd.pivot_table(pd.DataFrame(rf_clf.cv_results_), values='mean_test_score', index='param_n_estimators', columns='param_max_depth')\n",
    "plt.figure(1)\n",
    "plt.title('Hyperparameter for Train')\n",
    "sns.heatmap(pvt_tr, annot=True)\n",
    "plt.figure(2)\n",
    "plt.title('Hyperparameter for CV')\n",
    "sns.heatmap(pvt_cv, annot=True)\n",
    "plt.show()"
   ]
  },
  {
   "cell_type": "code",
   "execution_count": 47,
   "metadata": {},
   "outputs": [
    {
     "name": "stdout",
     "output_type": "stream",
     "text": [
      "{'max_depth': 2, 'n_estimators': 300}\n"
     ]
    }
   ],
   "source": [
    "print(rf_clf.best_params_)"
   ]
  },
  {
   "cell_type": "code",
   "execution_count": 48,
   "metadata": {},
   "outputs": [
    {
     "data": {
      "text/plain": [
       "CalibratedClassifierCV(base_estimator=GridSearchCV(cv=RepeatedStratifiedKFold(n_repeats=5, n_splits=10, random_state=42),\n",
       "                                                   error_score=nan,\n",
       "                                                   estimator=RandomForestClassifier(bootstrap=True,\n",
       "                                                                                    ccp_alpha=0.0,\n",
       "                                                                                    class_weight=None,\n",
       "                                                                                    criterion='gini',\n",
       "                                                                                    max_depth=None,\n",
       "                                                                                    max_features='auto',\n",
       "                                                                                    max_leaf_nodes=None,\n",
       "                                                                                    max_samples=None,\n",
       "                                                                                    min_impurity_decrease=0.0,\n",
       "                                                                                    min_impurity_split=N...\n",
       "                                                                                    min_samples_split=2,\n",
       "                                                                                    min_weight_fraction_leaf=0.0,\n",
       "                                                                                    n_estimators=100,\n",
       "                                                                                    n_jobs=None,\n",
       "                                                                                    oob_score=False,\n",
       "                                                                                    random_state=42,\n",
       "                                                                                    verbose=0,\n",
       "                                                                                    warm_start=False),\n",
       "                                                   iid='deprecated',\n",
       "                                                   n_jobs=None,\n",
       "                                                   param_grid={'max_depth': [2,\n",
       "                                                                             3,\n",
       "                                                                             5,\n",
       "                                                                             7],\n",
       "                                                               'n_estimators': [10,\n",
       "                                                                                20,\n",
       "                                                                                30,\n",
       "                                                                                40,\n",
       "                                                                                50,\n",
       "                                                                                100,\n",
       "                                                                                200,\n",
       "                                                                                300,\n",
       "                                                                                400]},\n",
       "                                                   pre_dispatch='2*n_jobs',\n",
       "                                                   refit=True,\n",
       "                                                   return_train_score=True,\n",
       "                                                   scoring='roc_auc',\n",
       "                                                   verbose=0),\n",
       "                       cv=3, method='sigmoid')"
      ]
     },
     "execution_count": 48,
     "metadata": {},
     "output_type": "execute_result"
    }
   ],
   "source": [
    "# Instance of randomforest with best parameters\n",
    "rf_model = RandomForestClassifier(**rf_clf.best_params_, random_state=42)\n",
    "# Fit the model\n",
    "rf_model.fit(tr_X,tr_y)\n",
    "# Calibrate the model\n",
    "clf = CalibratedClassifierCV(rf_clf, cv=3)\n",
    "clf.fit(tr_X, tr_y)"
   ]
  },
  {
   "cell_type": "code",
   "execution_count": 49,
   "metadata": {},
   "outputs": [
    {
     "data": {
      "image/png": "[encoded data removed]",
      "text/plain": [
       "<Figure size 1440x360 with 1 Axes>"
      ]
     },
     "metadata": {
      "needs_background": "light"
     },
     "output_type": "display_data"
    }
   ],
   "source": [
    "# Plot the feature importance based on this model\n",
    "df = plot_feature_importance(rf_model, 'rf',30)"
   ]
  },
  {
   "cell_type": "markdown",
   "metadata": {},
   "source": [
    "# 5.4.1 Kaggle Score without top features"
   ]
  },
  {
   "cell_type": "code",
   "execution_count": 50,
   "metadata": {},
   "outputs": [],
   "source": [
    "# Create a submission file format to submit in kaggle\n",
    "temp_id = df_test['id']\n",
    "rf_csv = clf.predict_proba(ts_X)[:,1]\n",
    "rf_df = pd.DataFrame(np.column_stack((temp_id,rf_csv)), columns=['id','target'])\n",
    "rf_df['id'] = rf_df['id'].astype('int32')\n",
    "rf_df.to_csv(data_dir+'/submission_rf.csv', index=False)"
   ]
  },
  {
   "cell_type": "code",
   "execution_count": 51,
   "metadata": {},
   "outputs": [
    {
     "data": {
      "text/plain": [
       "<matplotlib.image.AxesImage at 0x23940d2e188>"
      ]
     },
     "execution_count": 51,
     "metadata": {},
     "output_type": "execute_result"
    },
    {
     "data": {
      "image/png": "[encoded data removed]",
      "text/plain": [
       "<Figure size 1296x360 with 1 Axes>"
      ]
     },
     "metadata": {
      "needs_background": "light"
     },
     "output_type": "display_data"
    }
   ],
   "source": [
    "image = plt.imread(data_dir+'/submission_rf.png')\n",
    "plt.figure(figsize=(18,5))\n",
    "plt.imshow(image)"
   ]
  },
  {
   "cell_type": "markdown",
   "metadata": {},
   "source": [
    "# 5.4.2 Kaggle Score Using top 10 features based on RandomForest Model"
   ]
  },
  {
   "cell_type": "code",
   "execution_count": 52,
   "metadata": {},
   "outputs": [
    {
     "name": "stdout",
     "output_type": "stream",
     "text": [
      "for 1 feature\n"
     ]
    },
    {
     "data": {
      "application/vnd.jupyter.widget-view+json": {
       "model_id": "3d1ff7f698e044a3a039a051eb4dc9ee",
       "version_major": 2,
       "version_minor": 0
      },
      "text/plain": [
       "HBox(children=(FloatProgress(value=0.0, max=300.0), HTML(value='')))"
      ]
     },
     "metadata": {},
     "output_type": "display_data"
    },
    {
     "name": "stdout",
     "output_type": "stream",
     "text": [
      "\n",
      "Current top feature 33 and score: 0.71\n",
      "Appended to top column\n",
      "[33]\n",
      "for 2 feature\n"
     ]
    },
    {
     "data": {
      "application/vnd.jupyter.widget-view+json": {
       "model_id": "817c2d5b070848559977d167a39980c9",
       "version_major": 2,
       "version_minor": 0
      },
      "text/plain": [
       "HBox(children=(FloatProgress(value=0.0, max=300.0), HTML(value='')))"
      ]
     },
     "metadata": {},
     "output_type": "display_data"
    },
    {
     "name": "stdout",
     "output_type": "stream",
     "text": [
      "\n",
      "Current top feature 65 and score: 0.7651388888888888\n",
      "Appended to top column\n",
      "[33, 65]\n",
      "for 3 feature\n"
     ]
    },
    {
     "data": {
      "application/vnd.jupyter.widget-view+json": {
       "model_id": "b36a273fdced443cb7ccc18b6628e980",
       "version_major": 2,
       "version_minor": 0
      },
      "text/plain": [
       "HBox(children=(FloatProgress(value=0.0, max=300.0), HTML(value='')))"
      ]
     },
     "metadata": {},
     "output_type": "display_data"
    },
    {
     "name": "stdout",
     "output_type": "stream",
     "text": [
      "\n",
      "Current top feature 91 and score: 0.7865277777777777\n",
      "Appended to top column\n",
      "[33, 65, 91]\n",
      "for 4 feature\n"
     ]
    },
    {
     "data": {
      "application/vnd.jupyter.widget-view+json": {
       "model_id": "6076a4db454e4c0383621108a4eb160d",
       "version_major": 2,
       "version_minor": 0
      },
      "text/plain": [
       "HBox(children=(FloatProgress(value=0.0, max=300.0), HTML(value='')))"
      ]
     },
     "metadata": {},
     "output_type": "display_data"
    },
    {
     "name": "stdout",
     "output_type": "stream",
     "text": [
      "\n",
      "Current top feature 199 and score: 0.7890277777777779\n",
      "Appended to top column\n",
      "[33, 65, 91, 199]\n",
      "for 5 feature\n"
     ]
    },
    {
     "data": {
      "application/vnd.jupyter.widget-view+json": {
       "model_id": "abc4afdab6e0483e956b6669094b8744",
       "version_major": 2,
       "version_minor": 0
      },
      "text/plain": [
       "HBox(children=(FloatProgress(value=0.0, max=300.0), HTML(value='')))"
      ]
     },
     "metadata": {},
     "output_type": "display_data"
    },
    {
     "name": "stdout",
     "output_type": "stream",
     "text": [
      "\n",
      "Current top feature 217 and score: 0.8052777777777779\n",
      "Appended to top column\n",
      "[33, 65, 91, 199, 217]\n",
      "for 6 feature\n"
     ]
    },
    {
     "data": {
      "application/vnd.jupyter.widget-view+json": {
       "model_id": "f99db6babded41b9b4bab5ae66869b2b",
       "version_major": 2,
       "version_minor": 0
      },
      "text/plain": [
       "HBox(children=(FloatProgress(value=0.0, max=300.0), HTML(value='')))"
      ]
     },
     "metadata": {},
     "output_type": "display_data"
    },
    {
     "name": "stdout",
     "output_type": "stream",
     "text": [
      "\n",
      "Current top feature 214 and score: 0.8094444444444444\n",
      "Appended to top column\n",
      "[33, 65, 91, 199, 217, 214]\n",
      "for 7 feature\n"
     ]
    },
    {
     "data": {
      "application/vnd.jupyter.widget-view+json": {
       "model_id": "da9535c876174a17a3907b24434e5cfb",
       "version_major": 2,
       "version_minor": 0
      },
      "text/plain": [
       "HBox(children=(FloatProgress(value=0.0, max=300.0), HTML(value='')))"
      ]
     },
     "metadata": {},
     "output_type": "display_data"
    },
    {
     "name": "stdout",
     "output_type": "stream",
     "text": [
      "\n",
      "Current top feature 189 and score: 0.8162500000000001\n",
      "Appended to top column\n",
      "[33, 65, 91, 199, 217, 214, 189]\n",
      "for 8 feature\n"
     ]
    },
    {
     "data": {
      "application/vnd.jupyter.widget-view+json": {
       "model_id": "6c3dc4f498314e1693914f8f50a8cf6a",
       "version_major": 2,
       "version_minor": 0
      },
      "text/plain": [
       "HBox(children=(FloatProgress(value=0.0, max=300.0), HTML(value='')))"
      ]
     },
     "metadata": {},
     "output_type": "display_data"
    },
    {
     "name": "stdout",
     "output_type": "stream",
     "text": [
      "\n",
      "Current top feature 132 and score: 0.8291666666666667\n",
      "Appended to top column\n",
      "[33, 65, 91, 199, 217, 214, 189, 132]\n",
      "for 9 feature\n"
     ]
    },
    {
     "data": {
      "application/vnd.jupyter.widget-view+json": {
       "model_id": "2a2297187a48464eb9b3568dee2efccf",
       "version_major": 2,
       "version_minor": 0
      },
      "text/plain": [
       "HBox(children=(FloatProgress(value=0.0, max=300.0), HTML(value='')))"
      ]
     },
     "metadata": {},
     "output_type": "display_data"
    },
    {
     "name": "stdout",
     "output_type": "stream",
     "text": [
      "\n"
     ]
    }
   ],
   "source": [
    "top_column = forward_selection_model(rf_model)"
   ]
  },
  {
   "cell_type": "code",
   "execution_count": 53,
   "metadata": {},
   "outputs": [],
   "source": [
    "# Store the top column name into set\n",
    "rf_top10_feat = set(top_column)"
   ]
  },
  {
   "cell_type": "code",
   "execution_count": 54,
   "metadata": {},
   "outputs": [],
   "source": [
    "# Fit RF on top features only\n",
    "rf_model_top = RandomForestClassifier(**rf_clf.best_params_, random_state=42)\n",
    "rf_model_top.fit(tr_X[:,top_column],tr_y)\n",
    "# Calibrate it in top features only\n",
    "clf = CalibratedClassifierCV(rf_model_top, cv=3)\n",
    "clf.fit(tr_X[:,top_column],tr_y)\n",
    "# Predict the probabilities of 1\n",
    "ts_pred = clf.predict_proba(ts_X[:,top_column])[:,1]"
   ]
  },
  {
   "cell_type": "code",
   "execution_count": 55,
   "metadata": {},
   "outputs": [],
   "source": [
    "# Create a submssion format to make submission in Kaggle\n",
    "temp_id = df_test['id']\n",
    "df_tspred = pd.DataFrame(np.column_stack((temp_id,ts_pred)), columns=['id','target'])\n",
    "df_tspred['id'] = df_tspred['id'].astype('int32')\n",
    "df_tspred.to_csv(data_dir+'/submission_rf_top10.csv', index=False)"
   ]
  },
  {
   "cell_type": "code",
   "execution_count": 56,
   "metadata": {},
   "outputs": [
    {
     "data": {
      "text/plain": [
       "<matplotlib.image.AxesImage at 0x239430ef188>"
      ]
     },
     "execution_count": 56,
     "metadata": {},
     "output_type": "execute_result"
    },
    {
     "data": {
      "image/png": "[encoded data removed]",
      "text/plain": [
       "<Figure size 1296x360 with 1 Axes>"
      ]
     },
     "metadata": {
      "needs_background": "light"
     },
     "output_type": "display_data"
    }
   ],
   "source": [
    "image = plt.imread(data_dir+'/rf_csv_top10.png')\n",
    "plt.figure(figsize=(18,5))\n",
    "plt.imshow(image)"
   ]
  },
  {
   "cell_type": "markdown",
   "metadata": {},
   "source": [
    "# 5.5 XGBoost"
   ]
  },
  {
   "cell_type": "code",
   "execution_count": 57,
   "metadata": {},
   "outputs": [],
   "source": [
    "# Import Xgboost\n",
    "from xgboost import XGBClassifier"
   ]
  },
  {
   "cell_type": "code",
   "execution_count": 58,
   "metadata": {},
   "outputs": [],
   "source": [
    "# Xgboost (See Docs: https://xgboost.readthedocs.io/en/latest/python/python_api.html)\n",
    "\n",
    "# List of hyperparameter that has to be tuned\n",
    "params = {'max_depth':[2,3,5,7], 'n_estimators':[10,20,50,100,200,300,400]}\n",
    "# Instance of XGBoost Model\n",
    "xgb_model = XGBClassifier(scale_pos_weight=0.5)\n",
    "# Call hyperparameter to find the best parameters\n",
    "xgb_clf = hyperparameter_model(xgb_model, params)"
   ]
  },
  {
   "cell_type": "code",
   "execution_count": 59,
   "metadata": {},
   "outputs": [
    {
     "data": {
      "image/png": "[encoded data removed]",
      "text/plain": [
       "<Figure size 432x288 with 2 Axes>"
      ]
     },
     "metadata": {
      "needs_background": "light"
     },
     "output_type": "display_data"
    },
    {
     "data": {
      "image/png": "[encoded data removed]",
      "text/plain": [
       "<Figure size 432x288 with 2 Axes>"
      ]
     },
     "metadata": {
      "needs_background": "light"
     },
     "output_type": "display_data"
    }
   ],
   "source": [
    "# Ref: https://stackoverflow.com/questions/48791709/how-to-plot-a-heat-map-on-pivot-table-after-grid-search\n",
    "\n",
    "# Plotting of hyperpameter of train and cv score\n",
    "pvt_tr = pd.pivot_table(pd.DataFrame(xgb_clf.cv_results_), values='mean_train_score', index='param_n_estimators', columns='param_max_depth')\n",
    "pvt_cv = pd.pivot_table(pd.DataFrame(xgb_clf.cv_results_), values='mean_test_score', index='param_n_estimators', columns='param_max_depth')\n",
    "plt.figure(1)\n",
    "plt.title('Hyperparameter for Train')\n",
    "sns.heatmap(pvt_tr, annot=True)\n",
    "plt.figure(2)\n",
    "plt.title('Hyperparameter for CV')\n",
    "sns.heatmap(pvt_cv, annot=True)\n",
    "plt.show()"
   ]
  },
  {
   "cell_type": "code",
   "execution_count": 60,
   "metadata": {},
   "outputs": [
    {
     "name": "stdout",
     "output_type": "stream",
     "text": [
      "{'max_depth': 2, 'n_estimators': 300}\n"
     ]
    }
   ],
   "source": [
    "print(xgb_clf.best_params_)"
   ]
  },
  {
   "cell_type": "code",
   "execution_count": 61,
   "metadata": {},
   "outputs": [
    {
     "data": {
      "image/png": "[encoded data removed]",
      "text/plain": [
       "<Figure size 1440x360 with 1 Axes>"
      ]
     },
     "metadata": {
      "needs_background": "light"
     },
     "output_type": "display_data"
    }
   ],
   "source": [
    "# Instance of randomforest with best parameters\n",
    "xgb_model = XGBClassifier(**xgb_clf.best_params_, random_state=42, scale_pos_weight=0.5)\n",
    "# Fit the model\n",
    "xgb_model.fit(tr_X,tr_y)\n",
    "\n",
    "# Instance of XGBoost model with best parameters\n",
    "df = plot_feature_importance(xgb_model, 'xgb',10)"
   ]
  },
  {
   "cell_type": "code",
   "execution_count": 62,
   "metadata": {},
   "outputs": [
    {
     "data": {
      "text/plain": [
       "CalibratedClassifierCV(base_estimator=GridSearchCV(cv=RepeatedStratifiedKFold(n_repeats=5, n_splits=10, random_state=42),\n",
       "                                                   error_score=nan,\n",
       "                                                   estimator=XGBClassifier(base_score=None,\n",
       "                                                                           booster=None,\n",
       "                                                                           colsample_bylevel=None,\n",
       "                                                                           colsample_bynode=None,\n",
       "                                                                           colsample_bytree=None,\n",
       "                                                                           gamma=None,\n",
       "                                                                           gpu_id=None,\n",
       "                                                                           importance_type='gain',\n",
       "                                                                           interaction_constraints=None,\n",
       "                                                                           learning_rate=None,\n",
       "                                                                           m...\n",
       "                                                                           random_state=None,\n",
       "                                                                           reg_alpha=None,\n",
       "                                                                           reg_lambda=None,\n",
       "                                                                           scale_pos_weight=0.5,\n",
       "                                                                           subsample=None,\n",
       "                                                                           tree_method=None,\n",
       "                                                                           validate_parameters=False,\n",
       "                                                                           verbosity=None),\n",
       "                                                   iid='deprecated',\n",
       "                                                   n_jobs=None,\n",
       "                                                   param_grid={'max_depth': [2,\n",
       "                                                                             3,\n",
       "                                                                             5,\n",
       "                                                                             7],\n",
       "                                                               'n_estimators': [10,\n",
       "                                                                                20,\n",
       "                                                                                50,\n",
       "                                                                                100,\n",
       "                                                                                200,\n",
       "                                                                                300,\n",
       "                                                                                400]},\n",
       "                                                   pre_dispatch='2*n_jobs',\n",
       "                                                   refit=True,\n",
       "                                                   return_train_score=True,\n",
       "                                                   scoring='roc_auc',\n",
       "                                                   verbose=0),\n",
       "                       cv=3, method='sigmoid')"
      ]
     },
     "execution_count": 62,
     "metadata": {},
     "output_type": "execute_result"
    }
   ],
   "source": [
    "# Calibrate the model\n",
    "clf = CalibratedClassifierCV(xgb_clf, cv=3)\n",
    "clf.fit(tr_X, tr_y)"
   ]
  },
  {
   "cell_type": "markdown",
   "metadata": {},
   "source": [
    "# 5.5.1 Kaggle Score without top features"
   ]
  },
  {
   "cell_type": "code",
   "execution_count": 63,
   "metadata": {},
   "outputs": [],
   "source": [
    "# Create submission file format to submit in Kaggle\n",
    "temp_id = df_test['id']\n",
    "xgb_csv = clf.predict_proba(ts_X)[:,1]\n",
    "xgb_df = pd.DataFrame(np.column_stack((temp_id,xgb_csv)), columns=['id','target'])\n",
    "xgb_df['id'] = xgb_df['id'].astype('int32')\n",
    "xgb_df.to_csv(data_dir+'/submission_xgb.csv', index=False)"
   ]
  },
  {
   "cell_type": "code",
   "execution_count": 64,
   "metadata": {},
   "outputs": [
    {
     "data": {
      "text/plain": [
       "<matplotlib.image.AxesImage at 0x23954828048>"
      ]
     },
     "execution_count": 64,
     "metadata": {},
     "output_type": "execute_result"
    },
    {
     "data": {
      "image/png": "[encoded data removed]",
      "text/plain": [
       "<Figure size 1296x360 with 1 Axes>"
      ]
     },
     "metadata": {
      "needs_background": "light"
     },
     "output_type": "display_data"
    }
   ],
   "source": [
    "image = plt.imread(data_dir+'/submission_xgb.png')\n",
    "plt.figure(figsize=(18,5))\n",
    "plt.imshow(image)"
   ]
  },
  {
   "cell_type": "markdown",
   "metadata": {},
   "source": [
    "# 5.5.2 Using top 10 features of this model"
   ]
  },
  {
   "cell_type": "code",
   "execution_count": 65,
   "metadata": {},
   "outputs": [
    {
     "name": "stdout",
     "output_type": "stream",
     "text": [
      "for 1 feature\n"
     ]
    },
    {
     "data": {
      "application/vnd.jupyter.widget-view+json": {
       "model_id": "d6691ebd68a94cc18ec55c23bfec721c",
       "version_major": 2,
       "version_minor": 0
      },
      "text/plain": [
       "HBox(children=(FloatProgress(value=0.0, max=300.0), HTML(value='')))"
      ]
     },
     "metadata": {},
     "output_type": "display_data"
    },
    {
     "name": "stdout",
     "output_type": "stream",
     "text": [
      "\n",
      "Current top feature 91 and score: 0.6425\n",
      "Appended to top column\n",
      "[91]\n",
      "for 2 feature\n"
     ]
    },
    {
     "data": {
      "application/vnd.jupyter.widget-view+json": {
       "model_id": "6eeb6756123741ce95afc570233daed2",
       "version_major": 2,
       "version_minor": 0
      },
      "text/plain": [
       "HBox(children=(FloatProgress(value=0.0, max=300.0), HTML(value='')))"
      ]
     },
     "metadata": {},
     "output_type": "display_data"
    },
    {
     "name": "stdout",
     "output_type": "stream",
     "text": [
      "\n",
      "Current top feature 120 and score: 0.7105555555555556\n",
      "Appended to top column\n",
      "[91, 120]\n",
      "for 3 feature\n"
     ]
    },
    {
     "data": {
      "application/vnd.jupyter.widget-view+json": {
       "model_id": "48d5968ae302477ea9ecbe2276794a92",
       "version_major": 2,
       "version_minor": 0
      },
      "text/plain": [
       "HBox(children=(FloatProgress(value=0.0, max=300.0), HTML(value='')))"
      ]
     },
     "metadata": {},
     "output_type": "display_data"
    },
    {
     "name": "stdout",
     "output_type": "stream",
     "text": [
      "\n",
      "Current top feature 33 and score: 0.7479166666666666\n",
      "Appended to top column\n",
      "[91, 120, 33]\n",
      "for 4 feature\n"
     ]
    },
    {
     "data": {
      "application/vnd.jupyter.widget-view+json": {
       "model_id": "73ecdfac9d9a4636971365eadd95fd53",
       "version_major": 2,
       "version_minor": 0
      },
      "text/plain": [
       "HBox(children=(FloatProgress(value=0.0, max=300.0), HTML(value='')))"
      ]
     },
     "metadata": {},
     "output_type": "display_data"
    },
    {
     "name": "stdout",
     "output_type": "stream",
     "text": [
      "\n",
      "Current top feature 108 and score: 0.7793055555555555\n",
      "Appended to top column\n",
      "[91, 120, 33, 108]\n",
      "for 5 feature\n"
     ]
    },
    {
     "data": {
      "application/vnd.jupyter.widget-view+json": {
       "model_id": "3cdc24ce9c144491917ec905c07cbcc1",
       "version_major": 2,
       "version_minor": 0
      },
      "text/plain": [
       "HBox(children=(FloatProgress(value=0.0, max=300.0), HTML(value='')))"
      ]
     },
     "metadata": {},
     "output_type": "display_data"
    },
    {
     "name": "stdout",
     "output_type": "stream",
     "text": [
      "\n",
      "Current top feature 141 and score: 0.8012500000000001\n",
      "Appended to top column\n",
      "[91, 120, 33, 108, 141]\n",
      "for 6 feature\n"
     ]
    },
    {
     "data": {
      "application/vnd.jupyter.widget-view+json": {
       "model_id": "66166234730442ac8a7f2324f544bd54",
       "version_major": 2,
       "version_minor": 0
      },
      "text/plain": [
       "HBox(children=(FloatProgress(value=0.0, max=300.0), HTML(value='')))"
      ]
     },
     "metadata": {},
     "output_type": "display_data"
    },
    {
     "name": "stdout",
     "output_type": "stream",
     "text": [
      "\n",
      "Current top feature 246 and score: 0.83\n",
      "Appended to top column\n",
      "[91, 120, 33, 108, 141, 246]\n",
      "for 7 feature\n"
     ]
    },
    {
     "data": {
      "application/vnd.jupyter.widget-view+json": {
       "model_id": "c0d65472acac446c805340ea244cf078",
       "version_major": 2,
       "version_minor": 0
      },
      "text/plain": [
       "HBox(children=(FloatProgress(value=0.0, max=300.0), HTML(value='')))"
      ]
     },
     "metadata": {},
     "output_type": "display_data"
    },
    {
     "name": "stdout",
     "output_type": "stream",
     "text": [
      "\n",
      "Current top feature 146 and score: 0.8494444444444446\n",
      "Appended to top column\n",
      "[91, 120, 33, 108, 141, 246, 146]\n",
      "for 8 feature\n"
     ]
    },
    {
     "data": {
      "application/vnd.jupyter.widget-view+json": {
       "model_id": "4c242db055ff4954a52566fd64b65912",
       "version_major": 2,
       "version_minor": 0
      },
      "text/plain": [
       "HBox(children=(FloatProgress(value=0.0, max=300.0), HTML(value='')))"
      ]
     },
     "metadata": {},
     "output_type": "display_data"
    },
    {
     "name": "stdout",
     "output_type": "stream",
     "text": [
      "\n",
      "Current top feature 95 and score: 0.8691666666666668\n",
      "Appended to top column\n",
      "[91, 120, 33, 108, 141, 246, 146, 95]\n",
      "for 9 feature\n"
     ]
    },
    {
     "data": {
      "application/vnd.jupyter.widget-view+json": {
       "model_id": "fdf7380468e34fef9425f21df8ad2fa7",
       "version_major": 2,
       "version_minor": 0
      },
      "text/plain": [
       "HBox(children=(FloatProgress(value=0.0, max=300.0), HTML(value='')))"
      ]
     },
     "metadata": {},
     "output_type": "display_data"
    },
    {
     "name": "stdout",
     "output_type": "stream",
     "text": [
      "\n",
      "Current top feature 230 and score: 0.8737500000000001\n",
      "Appended to top column\n",
      "[91, 120, 33, 108, 141, 246, 146, 95, 230]\n",
      "for 10 feature\n"
     ]
    },
    {
     "data": {
      "application/vnd.jupyter.widget-view+json": {
       "model_id": "d2372e1d75454dc4b39ffd326a692e89",
       "version_major": 2,
       "version_minor": 0
      },
      "text/plain": [
       "HBox(children=(FloatProgress(value=0.0, max=300.0), HTML(value='')))"
      ]
     },
     "metadata": {},
     "output_type": "display_data"
    },
    {
     "name": "stdout",
     "output_type": "stream",
     "text": [
      "\n"
     ]
    }
   ],
   "source": [
    "top_column = forward_selection_model(xgb_model)"
   ]
  },
  {
   "cell_type": "code",
   "execution_count": 66,
   "metadata": {},
   "outputs": [],
   "source": [
    "# Store the top column name into set\n",
    "xgb_top10_feat = set(top_column)"
   ]
  },
  {
   "cell_type": "code",
   "execution_count": 67,
   "metadata": {},
   "outputs": [],
   "source": [
    "# Fit RF on top features only\n",
    "xgb_model_top = XGBClassifier(**xgb_clf.best_params_, random_state=42, scale_pos_weight=0.5)\n",
    "xgb_model_top.fit(tr_X[:,top_column],tr_y)\n",
    "# Calibrate it in top features only\n",
    "clf = CalibratedClassifierCV(xgb_model_top, cv=3)\n",
    "clf.fit(tr_X[:,top_column],tr_y)\n",
    "# Predict the probabilities of 1\n",
    "ts_pred = clf.predict_proba(ts_X[:,top_column])[:,1]"
   ]
  },
  {
   "cell_type": "code",
   "execution_count": 68,
   "metadata": {},
   "outputs": [],
   "source": [
    "# Create a submssion format to make submission in Kaggle\n",
    "temp_id = df_test['id']\n",
    "df_tspred = pd.DataFrame(np.column_stack((temp_id,ts_pred)), columns=['id','target'])\n",
    "df_tspred['id'] = df_tspred['id'].astype('int32')\n",
    "df_tspred.to_csv(data_dir+'/submission_xgb_top10.csv', index=False)"
   ]
  },
  {
   "cell_type": "code",
   "execution_count": 69,
   "metadata": {},
   "outputs": [
    {
     "data": {
      "text/plain": [
       "<matplotlib.image.AxesImage at 0x23954431248>"
      ]
     },
     "execution_count": 69,
     "metadata": {},
     "output_type": "execute_result"
    },
    {
     "data": {
      "image/png": "[encoded data removed]",
      "text/plain": [
       "<Figure size 1296x360 with 1 Axes>"
      ]
     },
     "metadata": {
      "needs_background": "light"
     },
     "output_type": "display_data"
    }
   ],
   "source": [
    "image = plt.imread(data_dir+'/xgb_csv_top10.png')\n",
    "plt.figure(figsize=(18,5))\n",
    "plt.imshow(image)"
   ]
  },
  {
   "cell_type": "markdown",
   "metadata": {},
   "source": [
    "# 5.6 Stacking Classifier"
   ]
  },
  {
   "cell_type": "code",
   "execution_count": 70,
   "metadata": {},
   "outputs": [],
   "source": [
    "# Combined all top features of all models\n",
    "# Ref: https://www.geeksforgeeks.org/union-function-python/\n",
    "comb_top_feat = list(log_top20_feat.union(svc_top10_feat, rf_top10_feat, xgb_top10_feat))"
   ]
  },
  {
   "cell_type": "code",
   "execution_count": 71,
   "metadata": {},
   "outputs": [],
   "source": [
    "# Import Stacking Classifier\n",
    "from mlxtend.classifier import StackingClassifier"
   ]
  },
  {
   "cell_type": "code",
   "execution_count": 72,
   "metadata": {},
   "outputs": [
    {
     "data": {
      "text/plain": [
       "StackingClassifier(average_probas=False,\n",
       "                   classifiers=[CalibratedClassifierCV(base_estimator=LogisticRegression(C=1,\n",
       "                                                                                         class_weight='balanced',\n",
       "                                                                                         dual=False,\n",
       "                                                                                         fit_intercept=True,\n",
       "                                                                                         intercept_scaling=1,\n",
       "                                                                                         l1_ratio=None,\n",
       "                                                                                         max_iter=100,\n",
       "                                                                                         multi_class='auto',\n",
       "                                                                                         n_jobs=None,\n",
       "                                                                                         penalty='l1',\n",
       "                                                                                         random_state=42,\n",
       "                                                                                         solver='liblinear',\n",
       "                                                                                         tol=0.0001,\n",
       "                                                                                         verbose=0,\n",
       "                                                                                         warm_start=False),\n",
       "                                                       cv=3, method='sigm...\n",
       "                   meta_classifier=CalibratedClassifierCV(base_estimator=LogisticRegression(C=1,\n",
       "                                                                                            class_weight='balanced',\n",
       "                                                                                            dual=False,\n",
       "                                                                                            fit_intercept=True,\n",
       "                                                                                            intercept_scaling=1,\n",
       "                                                                                            l1_ratio=None,\n",
       "                                                                                            max_iter=100,\n",
       "                                                                                            multi_class='auto',\n",
       "                                                                                            n_jobs=None,\n",
       "                                                                                            penalty='l1',\n",
       "                                                                                            random_state=42,\n",
       "                                                                                            solver='liblinear',\n",
       "                                                                                            tol=0.0001,\n",
       "                                                                                            verbose=0,\n",
       "                                                                                            warm_start=False),\n",
       "                                                          cv=3,\n",
       "                                                          method='sigmoid'),\n",
       "                   store_train_meta_features=False, use_clones=True,\n",
       "                   use_features_in_secondary=False, use_probas=True, verbose=0)"
      ]
     },
     "execution_count": 72,
     "metadata": {},
     "output_type": "execute_result"
    }
   ],
   "source": [
    "# StackClassifier (See Docs: http://rasbt.github.io/mlxtend/user_guide/classifier/StackingClassifier/#methods)\n",
    "\n",
    "# Classifier 1: Logistic Regression with best params\n",
    "clf1 = LogisticRegression(C = 1, penalty = 'l1', solver = 'liblinear', class_weight='balanced', random_state=42)\n",
    "clf1.fit(tr_X,tr_y)\n",
    "clf1 = CalibratedClassifierCV(clf1, cv=3)\n",
    "\n",
    "# Classifier 2: SVC with best params\n",
    "clf2 = SVC(C=10, kernel='rbf', random_state=42, class_weight='balanced', probability=True)\n",
    "clf2.fit(tr_X,tr_y)\n",
    "clf2 = CalibratedClassifierCV(clf2, cv=3)\n",
    "\n",
    "# Classifier 3: XGBoost with best params\n",
    "clf3 = XGBClassifier(max_depth=2, n_estimators=300, scale_pos_weight=0.5)\n",
    "clf3.fit(tr_X,tr_y)\n",
    "clf3 = CalibratedClassifierCV(clf3, cv=3)\n",
    "\n",
    "# Classifier 4: RF with best params\n",
    "clf4 = RandomForestClassifier(max_depth=2, n_estimators=300)\n",
    "clf4.fit(tr_X,tr_y)\n",
    "clf4 = CalibratedClassifierCV(clf4, cv=3)\n",
    "\n",
    "# Stack Classifier\n",
    "sclf = StackingClassifier(classifiers=[clf1,clf2,clf3,clf4], meta_classifier=clf1, use_probas=True)\n",
    "\n",
    "# Fit the model\n",
    "sclf.fit(tr_X, tr_y)"
   ]
  },
  {
   "cell_type": "markdown",
   "metadata": {},
   "source": [
    "# 5.6.1 Kaggle score without top features"
   ]
  },
  {
   "cell_type": "code",
   "execution_count": 73,
   "metadata": {},
   "outputs": [],
   "source": [
    "# Create a submission file format to submit in Kaggle\n",
    "temp_id = df_test['id']\n",
    "sclf_csv = sclf.predict_proba(ts_X)[:,1]\n",
    "sclf_df = pd.DataFrame(np.column_stack((temp_id,sclf_csv)), columns=['id','target'])\n",
    "sclf_df['id'] = sclf_df['id'].astype('int32')\n",
    "sclf_df.to_csv(data_dir+'/submission_sclf.csv', index=False)"
   ]
  },
  {
   "cell_type": "code",
   "execution_count": 74,
   "metadata": {},
   "outputs": [
    {
     "data": {
      "text/plain": [
       "<matplotlib.image.AxesImage at 0x239541fe7c8>"
      ]
     },
     "execution_count": 74,
     "metadata": {},
     "output_type": "execute_result"
    },
    {
     "data": {
      "image/png": "[encoded data removed]",
      "text/plain": [
       "<Figure size 1296x360 with 1 Axes>"
      ]
     },
     "metadata": {
      "needs_background": "light"
     },
     "output_type": "display_data"
    }
   ],
   "source": [
    "image = plt.imread(data_dir+'/submission_sclf.png')\n",
    "plt.figure(figsize=(18,5))\n",
    "plt.imshow(image)"
   ]
  },
  {
   "cell_type": "markdown",
   "metadata": {},
   "source": [
    "# 5.6.2 Using Top features"
   ]
  },
  {
   "cell_type": "code",
   "execution_count": 75,
   "metadata": {},
   "outputs": [
    {
     "data": {
      "text/plain": [
       "StackingClassifier(average_probas=False,\n",
       "                   classifiers=[CalibratedClassifierCV(base_estimator=LogisticRegression(C=1,\n",
       "                                                                                         class_weight='balanced',\n",
       "                                                                                         dual=False,\n",
       "                                                                                         fit_intercept=True,\n",
       "                                                                                         intercept_scaling=1,\n",
       "                                                                                         l1_ratio=None,\n",
       "                                                                                         max_iter=100,\n",
       "                                                                                         multi_class='auto',\n",
       "                                                                                         n_jobs=None,\n",
       "                                                                                         penalty='l1',\n",
       "                                                                                         random_state=42,\n",
       "                                                                                         solver='liblinear',\n",
       "                                                                                         tol=0.0001,\n",
       "                                                                                         verbose=0,\n",
       "                                                                                         warm_start=False),\n",
       "                                                       cv=3, method='sigm...\n",
       "                   meta_classifier=CalibratedClassifierCV(base_estimator=LogisticRegression(C=1,\n",
       "                                                                                            class_weight='balanced',\n",
       "                                                                                            dual=False,\n",
       "                                                                                            fit_intercept=True,\n",
       "                                                                                            intercept_scaling=1,\n",
       "                                                                                            l1_ratio=None,\n",
       "                                                                                            max_iter=100,\n",
       "                                                                                            multi_class='auto',\n",
       "                                                                                            n_jobs=None,\n",
       "                                                                                            penalty='l1',\n",
       "                                                                                            random_state=42,\n",
       "                                                                                            solver='liblinear',\n",
       "                                                                                            tol=0.0001,\n",
       "                                                                                            verbose=0,\n",
       "                                                                                            warm_start=False),\n",
       "                                                          cv=3,\n",
       "                                                          method='sigmoid'),\n",
       "                   store_train_meta_features=False, use_clones=True,\n",
       "                   use_features_in_secondary=False, use_probas=True, verbose=0)"
      ]
     },
     "execution_count": 75,
     "metadata": {},
     "output_type": "execute_result"
    }
   ],
   "source": [
    "# Fit the model\n",
    "sclf.fit(tr_X[:,comb_top_feat], tr_y)"
   ]
  },
  {
   "cell_type": "code",
   "execution_count": 76,
   "metadata": {},
   "outputs": [],
   "source": [
    "# Create a submission file format to submit in Kaggle\n",
    "temp_id = df_test['id']\n",
    "sclf_csv = sclf.predict_proba(ts_X[:, comb_top_feat])[:,1]\n",
    "sclf_df = pd.DataFrame(np.column_stack((temp_id,sclf_csv)), columns=['id','target'])\n",
    "sclf_df['id'] = sclf_df['id'].astype('int32')\n",
    "sclf_df.to_csv(data_dir+'/submission_sclf_topfeat.csv', index=False)"
   ]
  },
  {
   "cell_type": "code",
   "execution_count": 78,
   "metadata": {},
   "outputs": [
    {
     "data": {
      "text/plain": [
       "<matplotlib.image.AxesImage at 0x239547174c8>"
      ]
     },
     "execution_count": 78,
     "metadata": {},
     "output_type": "execute_result"
    },
    {
     "data": {
      "image/png": "[encoded data removed]",
      "text/plain": [
       "<Figure size 1296x360 with 1 Axes>"
      ]
     },
     "metadata": {
      "needs_background": "light"
     },
     "output_type": "display_data"
    }
   ],
   "source": [
    "image = plt.imread(data_dir+'/sclf_topfeat.png')\n",
    "plt.figure(figsize=(18,5))\n",
    "plt.imshow(image)"
   ]
  },
  {
   "cell_type": "markdown",
   "metadata": {},
   "source": [
    "# 5.7 Voting Classifier (Without Stack Classifier + no weights)"
   ]
  },
  {
   "cell_type": "code",
   "execution_count": 79,
   "metadata": {},
   "outputs": [],
   "source": [
    "# Import Voting Classifier\n",
    "from mlxtend.classifier import EnsembleVoteClassifier"
   ]
  },
  {
   "cell_type": "code",
   "execution_count": 80,
   "metadata": {},
   "outputs": [
    {
     "data": {
      "text/plain": [
       "EnsembleVoteClassifier(clfs=[CalibratedClassifierCV(base_estimator=LogisticRegression(C=1,\n",
       "                                                                                      class_weight='balanced',\n",
       "                                                                                      dual=False,\n",
       "                                                                                      fit_intercept=True,\n",
       "                                                                                      intercept_scaling=1,\n",
       "                                                                                      l1_ratio=None,\n",
       "                                                                                      max_iter=100,\n",
       "                                                                                      multi_class='auto',\n",
       "                                                                                      n_jobs=None,\n",
       "                                                                                      penalty='l1',\n",
       "                                                                                      random_state=42,\n",
       "                                                                                      solver='liblinear',\n",
       "                                                                                      tol=0.0001,\n",
       "                                                                                      verbose=0,\n",
       "                                                                                      warm_start=False),\n",
       "                                                    cv=3, method='sigmoid'),\n",
       "                             CalibratedClassifi...\n",
       "                                                                                          max_depth=2,\n",
       "                                                                                          max_features='auto',\n",
       "                                                                                          max_leaf_nodes=None,\n",
       "                                                                                          max_samples=None,\n",
       "                                                                                          min_impurity_decrease=0.0,\n",
       "                                                                                          min_impurity_split=None,\n",
       "                                                                                          min_samples_leaf=1,\n",
       "                                                                                          min_samples_split=2,\n",
       "                                                                                          min_weight_fraction_leaf=0.0,\n",
       "                                                                                          n_estimators=300,\n",
       "                                                                                          n_jobs=None,\n",
       "                                                                                          oob_score=False,\n",
       "                                                                                          random_state=None,\n",
       "                                                                                          verbose=0,\n",
       "                                                                                          warm_start=False),\n",
       "                                                    cv=3, method='sigmoid')],\n",
       "                       refit=True, verbose=0, voting='hard', weights=None)"
      ]
     },
     "execution_count": 80,
     "metadata": {},
     "output_type": "execute_result"
    }
   ],
   "source": [
    "# Voting Classifier (See Docs: http://rasbt.github.io/mlxtend/user_guide/classifier/EnsembleVoteClassifier/)\n",
    "eclf = EnsembleVoteClassifier(clfs=[clf1, clf2,clf3,clf4])\n",
    "# Fit the train data\n",
    "eclf.fit(tr_X,tr_y)"
   ]
  },
  {
   "cell_type": "markdown",
   "metadata": {},
   "source": [
    "# 5.7.1 Kaggle Score without top features"
   ]
  },
  {
   "cell_type": "code",
   "execution_count": 81,
   "metadata": {},
   "outputs": [],
   "source": [
    "# Create a submission file format to submit in Kaggle\n",
    "temp_id = df_test['id']\n",
    "eclf_csv = eclf.predict_proba(ts_X)[:,1]\n",
    "eclf_df = pd.DataFrame(np.column_stack((temp_id,eclf_csv)), columns=['id','target'])\n",
    "eclf_df['id'] = eclf_df['id'].astype('int32')\n",
    "eclf_df.to_csv(data_dir+'/submission_eclf.csv', index=False)"
   ]
  },
  {
   "cell_type": "code",
   "execution_count": 82,
   "metadata": {},
   "outputs": [
    {
     "data": {
      "text/plain": [
       "<matplotlib.image.AxesImage at 0x2394d1d85c8>"
      ]
     },
     "execution_count": 82,
     "metadata": {},
     "output_type": "execute_result"
    },
    {
     "data": {
      "image/png": "[encoded data removed]",
      "text/plain": [
       "<Figure size 1296x360 with 1 Axes>"
      ]
     },
     "metadata": {
      "needs_background": "light"
     },
     "output_type": "display_data"
    }
   ],
   "source": [
    "image = plt.imread(data_dir+'/submission_eclf.png')\n",
    "plt.figure(figsize=(18,5))\n",
    "plt.imshow(image)"
   ]
  },
  {
   "cell_type": "markdown",
   "metadata": {},
   "source": [
    "# 5.7.2 Kaggle Score using top features"
   ]
  },
  {
   "cell_type": "code",
   "execution_count": 83,
   "metadata": {},
   "outputs": [
    {
     "data": {
      "text/plain": [
       "EnsembleVoteClassifier(clfs=[CalibratedClassifierCV(base_estimator=LogisticRegression(C=1,\n",
       "                                                                                      class_weight='balanced',\n",
       "                                                                                      dual=False,\n",
       "                                                                                      fit_intercept=True,\n",
       "                                                                                      intercept_scaling=1,\n",
       "                                                                                      l1_ratio=None,\n",
       "                                                                                      max_iter=100,\n",
       "                                                                                      multi_class='auto',\n",
       "                                                                                      n_jobs=None,\n",
       "                                                                                      penalty='l1',\n",
       "                                                                                      random_state=42,\n",
       "                                                                                      solver='liblinear',\n",
       "                                                                                      tol=0.0001,\n",
       "                                                                                      verbose=0,\n",
       "                                                                                      warm_start=False),\n",
       "                                                    cv=3, method='sigmoid'),\n",
       "                             CalibratedClassifi...\n",
       "                                                                                          max_depth=2,\n",
       "                                                                                          max_features='auto',\n",
       "                                                                                          max_leaf_nodes=None,\n",
       "                                                                                          max_samples=None,\n",
       "                                                                                          min_impurity_decrease=0.0,\n",
       "                                                                                          min_impurity_split=None,\n",
       "                                                                                          min_samples_leaf=1,\n",
       "                                                                                          min_samples_split=2,\n",
       "                                                                                          min_weight_fraction_leaf=0.0,\n",
       "                                                                                          n_estimators=300,\n",
       "                                                                                          n_jobs=None,\n",
       "                                                                                          oob_score=False,\n",
       "                                                                                          random_state=None,\n",
       "                                                                                          verbose=0,\n",
       "                                                                                          warm_start=False),\n",
       "                                                    cv=3, method='sigmoid')],\n",
       "                       refit=True, verbose=0, voting='hard', weights=None)"
      ]
     },
     "execution_count": 83,
     "metadata": {},
     "output_type": "execute_result"
    }
   ],
   "source": [
    "# Fit the model\n",
    "eclf.fit(tr_X[:,comb_top_feat], tr_y)"
   ]
  },
  {
   "cell_type": "code",
   "execution_count": 84,
   "metadata": {},
   "outputs": [],
   "source": [
    "# Create a submission file format to submit in Kaggle\n",
    "temp_id = df_test['id']\n",
    "eclf_csv = eclf.predict_proba(ts_X[:,comb_top_feat])[:,1]\n",
    "eclf_df = pd.DataFrame(np.column_stack((temp_id,eclf_csv)), columns=['id','target'])\n",
    "eclf_df['id'] = eclf_df['id'].astype('int32')\n",
    "eclf_df.to_csv(data_dir+'/submission_eclf_topfeat.csv', index=False)"
   ]
  },
  {
   "cell_type": "code",
   "execution_count": 85,
   "metadata": {},
   "outputs": [
    {
     "data": {
      "text/plain": [
       "<matplotlib.image.AxesImage at 0x23954f58a48>"
      ]
     },
     "execution_count": 85,
     "metadata": {},
     "output_type": "execute_result"
    },
    {
     "data": {
      "image/png": "[encoded data removed]",
      "text/plain": [
       "<Figure size 1296x360 with 1 Axes>"
      ]
     },
     "metadata": {
      "needs_background": "light"
     },
     "output_type": "display_data"
    }
   ],
   "source": [
    "image = plt.imread(data_dir+'/eclf_topfeat.png')\n",
    "plt.figure(figsize=(18,5))\n",
    "plt.imshow(image)"
   ]
  },
  {
   "cell_type": "markdown",
   "metadata": {},
   "source": [
    "# 5.8 Voting Classifier (With Stack Classifier + no weights)"
   ]
  },
  {
   "cell_type": "code",
   "execution_count": 86,
   "metadata": {},
   "outputs": [
    {
     "data": {
      "text/plain": [
       "EnsembleVoteClassifier(clfs=[CalibratedClassifierCV(base_estimator=LogisticRegression(C=1,\n",
       "                                                                                      class_weight='balanced',\n",
       "                                                                                      dual=False,\n",
       "                                                                                      fit_intercept=True,\n",
       "                                                                                      intercept_scaling=1,\n",
       "                                                                                      l1_ratio=None,\n",
       "                                                                                      max_iter=100,\n",
       "                                                                                      multi_class='auto',\n",
       "                                                                                      n_jobs=None,\n",
       "                                                                                      penalty='l1',\n",
       "                                                                                      random_state=42,\n",
       "                                                                                      solver='liblinear',\n",
       "                                                                                      tol=0.0001,\n",
       "                                                                                      verbose=0,\n",
       "                                                                                      warm_start=False),\n",
       "                                                    cv=3, method='sigmoid'),\n",
       "                             CalibratedClassifi...\n",
       "                                                                                                                         fit_intercept=True,\n",
       "                                                                                                                         intercept_scaling=1,\n",
       "                                                                                                                         l1_ratio=None,\n",
       "                                                                                                                         max_iter=100,\n",
       "                                                                                                                         multi_class='auto',\n",
       "                                                                                                                         n_jobs=None,\n",
       "                                                                                                                         penalty='l1',\n",
       "                                                                                                                         random_state=42,\n",
       "                                                                                                                         solver='liblinear',\n",
       "                                                                                                                         tol=0.0001,\n",
       "                                                                                                                         verbose=0,\n",
       "                                                                                                                         warm_start=False),\n",
       "                                                                                       cv=3,\n",
       "                                                                                       method='sigmoid'),\n",
       "                                                store_train_meta_features=False,\n",
       "                                                use_clones=True,\n",
       "                                                use_features_in_secondary=False,\n",
       "                                                use_probas=True, verbose=0)],\n",
       "                       refit=True, verbose=0, voting='hard', weights=None)"
      ]
     },
     "execution_count": 86,
     "metadata": {},
     "output_type": "execute_result"
    }
   ],
   "source": [
    "# Voting Classifier (See Docs: http://rasbt.github.io/mlxtend/user_guide/classifier/EnsembleVoteClassifier/)\n",
    "eclf = EnsembleVoteClassifier(clfs=[clf1, clf2,clf3,clf4,sclf])\n",
    "# Fit the train data\n",
    "eclf.fit(tr_X,tr_y)"
   ]
  },
  {
   "cell_type": "markdown",
   "metadata": {},
   "source": [
    "# 5.8.1 Kaggle Score without top features"
   ]
  },
  {
   "cell_type": "code",
   "execution_count": 87,
   "metadata": {},
   "outputs": [],
   "source": [
    "# Create a submission file format to submit in Kaggle\n",
    "temp_id = df_test['id']\n",
    "eclf_csv = eclf.predict_proba(ts_X)[:,1]\n",
    "eclf_df = pd.DataFrame(np.column_stack((temp_id,eclf_csv)), columns=['id','target'])\n",
    "eclf_df['id'] = eclf_df['id'].astype('int32')\n",
    "eclf_df.to_csv(data_dir+'/submission_eclf_stack.csv', index=False)"
   ]
  },
  {
   "cell_type": "code",
   "execution_count": 88,
   "metadata": {},
   "outputs": [
    {
     "data": {
      "text/plain": [
       "<matplotlib.image.AxesImage at 0x23954f34708>"
      ]
     },
     "execution_count": 88,
     "metadata": {},
     "output_type": "execute_result"
    },
    {
     "data": {
      "image/png": "[encoded data removed]",
      "text/plain": [
       "<Figure size 1296x360 with 1 Axes>"
      ]
     },
     "metadata": {
      "needs_background": "light"
     },
     "output_type": "display_data"
    }
   ],
   "source": [
    "image = plt.imread(data_dir+'/submission_eclf_stack.png')\n",
    "plt.figure(figsize=(18,5))\n",
    "plt.imshow(image)"
   ]
  },
  {
   "cell_type": "markdown",
   "metadata": {},
   "source": [
    "# 5.8.2 Kaggle Score using top features"
   ]
  },
  {
   "cell_type": "code",
   "execution_count": 89,
   "metadata": {},
   "outputs": [
    {
     "data": {
      "text/plain": [
       "EnsembleVoteClassifier(clfs=[CalibratedClassifierCV(base_estimator=LogisticRegression(C=1,\n",
       "                                                                                      class_weight='balanced',\n",
       "                                                                                      dual=False,\n",
       "                                                                                      fit_intercept=True,\n",
       "                                                                                      intercept_scaling=1,\n",
       "                                                                                      l1_ratio=None,\n",
       "                                                                                      max_iter=100,\n",
       "                                                                                      multi_class='auto',\n",
       "                                                                                      n_jobs=None,\n",
       "                                                                                      penalty='l1',\n",
       "                                                                                      random_state=42,\n",
       "                                                                                      solver='liblinear',\n",
       "                                                                                      tol=0.0001,\n",
       "                                                                                      verbose=0,\n",
       "                                                                                      warm_start=False),\n",
       "                                                    cv=3, method='sigmoid'),\n",
       "                             CalibratedClassifi...\n",
       "                                                                                                                         fit_intercept=True,\n",
       "                                                                                                                         intercept_scaling=1,\n",
       "                                                                                                                         l1_ratio=None,\n",
       "                                                                                                                         max_iter=100,\n",
       "                                                                                                                         multi_class='auto',\n",
       "                                                                                                                         n_jobs=None,\n",
       "                                                                                                                         penalty='l1',\n",
       "                                                                                                                         random_state=42,\n",
       "                                                                                                                         solver='liblinear',\n",
       "                                                                                                                         tol=0.0001,\n",
       "                                                                                                                         verbose=0,\n",
       "                                                                                                                         warm_start=False),\n",
       "                                                                                       cv=3,\n",
       "                                                                                       method='sigmoid'),\n",
       "                                                store_train_meta_features=False,\n",
       "                                                use_clones=True,\n",
       "                                                use_features_in_secondary=False,\n",
       "                                                use_probas=True, verbose=0)],\n",
       "                       refit=True, verbose=0, voting='hard', weights=None)"
      ]
     },
     "execution_count": 89,
     "metadata": {},
     "output_type": "execute_result"
    }
   ],
   "source": [
    "# Fit the model\n",
    "eclf.fit(tr_X[:,comb_top_feat], tr_y)"
   ]
  },
  {
   "cell_type": "code",
   "execution_count": 90,
   "metadata": {},
   "outputs": [],
   "source": [
    "# Create a submission file format to submit in Kaggle\n",
    "temp_id = df_test['id']\n",
    "eclf_csv = eclf.predict_proba(ts_X[:,comb_top_feat])[:,1]\n",
    "eclf_df = pd.DataFrame(np.column_stack((temp_id,eclf_csv)), columns=['id','target'])\n",
    "eclf_df['id'] = eclf_df['id'].astype('int32')\n",
    "eclf_df.to_csv(data_dir+'/submission_eclf_stack_topfeat.csv', index=False)"
   ]
  },
  {
   "cell_type": "code",
   "execution_count": 92,
   "metadata": {},
   "outputs": [
    {
     "data": {
      "text/plain": [
       "<matplotlib.image.AxesImage at 0x239553d3408>"
      ]
     },
     "execution_count": 92,
     "metadata": {},
     "output_type": "execute_result"
    },
    {
     "data": {
      "image/png": "[encoded data removed]",
      "text/plain": [
       "<Figure size 1296x360 with 1 Axes>"
      ]
     },
     "metadata": {
      "needs_background": "light"
     },
     "output_type": "display_data"
    }
   ],
   "source": [
    "image = plt.imread(data_dir+'/submission_eclf_stack_topfeat.png')\n",
    "plt.figure(figsize=(18,5))\n",
    "plt.imshow(image)"
   ]
  },
  {
   "cell_type": "markdown",
   "metadata": {},
   "source": [
    "# 5.9 Voting Classifier (without Stack Classifier + weights)"
   ]
  },
  {
   "cell_type": "code",
   "execution_count": 93,
   "metadata": {},
   "outputs": [
    {
     "data": {
      "text/plain": [
       "EnsembleVoteClassifier(clfs=[CalibratedClassifierCV(base_estimator=LogisticRegression(C=1,\n",
       "                                                                                      class_weight='balanced',\n",
       "                                                                                      dual=False,\n",
       "                                                                                      fit_intercept=True,\n",
       "                                                                                      intercept_scaling=1,\n",
       "                                                                                      l1_ratio=None,\n",
       "                                                                                      max_iter=100,\n",
       "                                                                                      multi_class='auto',\n",
       "                                                                                      n_jobs=None,\n",
       "                                                                                      penalty='l1',\n",
       "                                                                                      random_state=42,\n",
       "                                                                                      solver='liblinear',\n",
       "                                                                                      tol=0.0001,\n",
       "                                                                                      verbose=0,\n",
       "                                                                                      warm_start=False),\n",
       "                                                    cv=3, method='sigmoid'),\n",
       "                             CalibratedClassifi...\n",
       "                                                                                          max_features='auto',\n",
       "                                                                                          max_leaf_nodes=None,\n",
       "                                                                                          max_samples=None,\n",
       "                                                                                          min_impurity_decrease=0.0,\n",
       "                                                                                          min_impurity_split=None,\n",
       "                                                                                          min_samples_leaf=1,\n",
       "                                                                                          min_samples_split=2,\n",
       "                                                                                          min_weight_fraction_leaf=0.0,\n",
       "                                                                                          n_estimators=300,\n",
       "                                                                                          n_jobs=None,\n",
       "                                                                                          oob_score=False,\n",
       "                                                                                          random_state=None,\n",
       "                                                                                          verbose=0,\n",
       "                                                                                          warm_start=False),\n",
       "                                                    cv=3, method='sigmoid')],\n",
       "                       refit=True, verbose=0, voting='hard',\n",
       "                       weights=[0.4, 0.2, 0.2, 0.2])"
      ]
     },
     "execution_count": 93,
     "metadata": {},
     "output_type": "execute_result"
    }
   ],
   "source": [
    "# Voting Classifier (See Docs: http://rasbt.github.io/mlxtend/user_guide/classifier/EnsembleVoteClassifier/)\n",
    "eclf = EnsembleVoteClassifier(clfs=[clf1,clf2,clf3,clf4], weights=[0.4,0.2,0.2,0.2])\n",
    "# Fit the train data\n",
    "eclf.fit(tr_X,tr_y)"
   ]
  },
  {
   "cell_type": "markdown",
   "metadata": {},
   "source": [
    " # 5.9.1 Kaggle Score without top features"
   ]
  },
  {
   "cell_type": "code",
   "execution_count": 94,
   "metadata": {},
   "outputs": [],
   "source": [
    "# Create a submission file format to submit in Kaggle\n",
    "temp_id = df_test['id']\n",
    "eclf_csv = eclf.predict_proba(ts_X)[:,1]\n",
    "eclf_df = pd.DataFrame(np.column_stack((temp_id,eclf_csv)), columns=['id','target'])\n",
    "eclf_df['id'] = eclf_df['id'].astype('int32')\n",
    "eclf_df.to_csv(data_dir+'/submission_eclf_weights.csv', index=False)"
   ]
  },
  {
   "cell_type": "code",
   "execution_count": 95,
   "metadata": {},
   "outputs": [
    {
     "data": {
      "text/plain": [
       "<matplotlib.image.AxesImage at 0x239552c52c8>"
      ]
     },
     "execution_count": 95,
     "metadata": {},
     "output_type": "execute_result"
    },
    {
     "data": {
      "image/png": "[encoded data removed]",
      "text/plain": [
       "<Figure size 1296x360 with 1 Axes>"
      ]
     },
     "metadata": {
      "needs_background": "light"
     },
     "output_type": "display_data"
    }
   ],
   "source": [
    "image = plt.imread(data_dir+'/submission_eclf_weights.png')\n",
    "plt.figure(figsize=(18,5))\n",
    "plt.imshow(image)"
   ]
  },
  {
   "cell_type": "markdown",
   "metadata": {},
   "source": [
    "# 5.9.2 Kaggle Score using top features"
   ]
  },
  {
   "cell_type": "code",
   "execution_count": 96,
   "metadata": {},
   "outputs": [
    {
     "data": {
      "text/plain": [
       "EnsembleVoteClassifier(clfs=[CalibratedClassifierCV(base_estimator=LogisticRegression(C=1,\n",
       "                                                                                      class_weight='balanced',\n",
       "                                                                                      dual=False,\n",
       "                                                                                      fit_intercept=True,\n",
       "                                                                                      intercept_scaling=1,\n",
       "                                                                                      l1_ratio=None,\n",
       "                                                                                      max_iter=100,\n",
       "                                                                                      multi_class='auto',\n",
       "                                                                                      n_jobs=None,\n",
       "                                                                                      penalty='l1',\n",
       "                                                                                      random_state=42,\n",
       "                                                                                      solver='liblinear',\n",
       "                                                                                      tol=0.0001,\n",
       "                                                                                      verbose=0,\n",
       "                                                                                      warm_start=False),\n",
       "                                                    cv=3, method='sigmoid'),\n",
       "                             CalibratedClassifi...\n",
       "                                                                                          max_features='auto',\n",
       "                                                                                          max_leaf_nodes=None,\n",
       "                                                                                          max_samples=None,\n",
       "                                                                                          min_impurity_decrease=0.0,\n",
       "                                                                                          min_impurity_split=None,\n",
       "                                                                                          min_samples_leaf=1,\n",
       "                                                                                          min_samples_split=2,\n",
       "                                                                                          min_weight_fraction_leaf=0.0,\n",
       "                                                                                          n_estimators=300,\n",
       "                                                                                          n_jobs=None,\n",
       "                                                                                          oob_score=False,\n",
       "                                                                                          random_state=None,\n",
       "                                                                                          verbose=0,\n",
       "                                                                                          warm_start=False),\n",
       "                                                    cv=3, method='sigmoid')],\n",
       "                       refit=True, verbose=0, voting='hard',\n",
       "                       weights=[0.4, 0.2, 0.2, 0.2])"
      ]
     },
     "execution_count": 96,
     "metadata": {},
     "output_type": "execute_result"
    }
   ],
   "source": [
    "# Voting Classifier (See Docs: http://rasbt.github.io/mlxtend/user_guide/classifier/EnsembleVoteClassifier/)\n",
    "eclf = EnsembleVoteClassifier(clfs=[clf1,clf2,clf3,clf4], weights=[0.4,0.2,0.2,0.2])\n",
    "# Fit the train data\n",
    "eclf.fit(tr_X[:,comb_top_feat],tr_y)"
   ]
  },
  {
   "cell_type": "code",
   "execution_count": 97,
   "metadata": {},
   "outputs": [],
   "source": [
    "# Create a submission file format to submit in Kaggle\n",
    "temp_id = df_test['id']\n",
    "eclf_csv = eclf.predict_proba(ts_X[:,comb_top_feat])[:,1]\n",
    "eclf_df = pd.DataFrame(np.column_stack((temp_id,eclf_csv)), columns=['id','target'])\n",
    "eclf_df['id'] = eclf_df['id'].astype('int32')\n",
    "eclf_df.to_csv(data_dir+'/submission_eclf_weights_topfeat.csv', index=False)"
   ]
  },
  {
   "cell_type": "code",
   "execution_count": 98,
   "metadata": {},
   "outputs": [
    {
     "data": {
      "text/plain": [
       "<matplotlib.image.AxesImage at 0x239573ffe48>"
      ]
     },
     "execution_count": 98,
     "metadata": {},
     "output_type": "execute_result"
    },
    {
     "data": {
      "image/png": "[encoded data removed]",
      "text/plain": [
       "<Figure size 1296x360 with 1 Axes>"
      ]
     },
     "metadata": {
      "needs_background": "light"
     },
     "output_type": "display_data"
    }
   ],
   "source": [
    "image = plt.imread(data_dir+'/submission_eclf_weights_topfeat.png')\n",
    "plt.figure(figsize=(18,5))\n",
    "plt.imshow(image)"
   ]
  },
  {
   "cell_type": "markdown",
   "metadata": {},
   "source": [
    "# 5.10 Voting Classifier (with Stack Classifier + weights)"
   ]
  },
  {
   "cell_type": "code",
   "execution_count": 99,
   "metadata": {},
   "outputs": [
    {
     "data": {
      "text/plain": [
       "EnsembleVoteClassifier(clfs=[CalibratedClassifierCV(base_estimator=LogisticRegression(C=1,\n",
       "                                                                                      class_weight='balanced',\n",
       "                                                                                      dual=False,\n",
       "                                                                                      fit_intercept=True,\n",
       "                                                                                      intercept_scaling=1,\n",
       "                                                                                      l1_ratio=None,\n",
       "                                                                                      max_iter=100,\n",
       "                                                                                      multi_class='auto',\n",
       "                                                                                      n_jobs=None,\n",
       "                                                                                      penalty='l1',\n",
       "                                                                                      random_state=42,\n",
       "                                                                                      solver='liblinear',\n",
       "                                                                                      tol=0.0001,\n",
       "                                                                                      verbose=0,\n",
       "                                                                                      warm_start=False),\n",
       "                                                    cv=3, method='sigmoid'),\n",
       "                             CalibratedClassifi...\n",
       "                                                                                                                         intercept_scaling=1,\n",
       "                                                                                                                         l1_ratio=None,\n",
       "                                                                                                                         max_iter=100,\n",
       "                                                                                                                         multi_class='auto',\n",
       "                                                                                                                         n_jobs=None,\n",
       "                                                                                                                         penalty='l1',\n",
       "                                                                                                                         random_state=42,\n",
       "                                                                                                                         solver='liblinear',\n",
       "                                                                                                                         tol=0.0001,\n",
       "                                                                                                                         verbose=0,\n",
       "                                                                                                                         warm_start=False),\n",
       "                                                                                       cv=3,\n",
       "                                                                                       method='sigmoid'),\n",
       "                                                store_train_meta_features=False,\n",
       "                                                use_clones=True,\n",
       "                                                use_features_in_secondary=False,\n",
       "                                                use_probas=True, verbose=0)],\n",
       "                       refit=True, verbose=0, voting='hard',\n",
       "                       weights=[0.4, 0.1, 0.1, 0.2, 0.2])"
      ]
     },
     "execution_count": 99,
     "metadata": {},
     "output_type": "execute_result"
    }
   ],
   "source": [
    "# Voting Classifier (See Docs: http://rasbt.github.io/mlxtend/user_guide/classifier/EnsembleVoteClassifier/)\n",
    "eclf = EnsembleVoteClassifier(clfs=[clf1,clf2,clf3,clf4,sclf], weights=[0.4,0.1,0.1,0.2,0.2])\n",
    "# Fit the train data\n",
    "eclf.fit(tr_X,tr_y)"
   ]
  },
  {
   "cell_type": "markdown",
   "metadata": {},
   "source": [
    "# 5.10.1 Kaggle Score without top features"
   ]
  },
  {
   "cell_type": "code",
   "execution_count": 100,
   "metadata": {},
   "outputs": [],
   "source": [
    "# Create a submission file format to submit in Kaggle\n",
    "temp_id = df_test['id']\n",
    "eclf_csv = eclf.predict_proba(ts_X)[:,1]\n",
    "eclf_df = pd.DataFrame(np.column_stack((temp_id,eclf_csv)), columns=['id','target'])\n",
    "eclf_df['id'] = eclf_df['id'].astype('int32')\n",
    "eclf_df.to_csv(data_dir+'/submission_eclf_stack_weights.csv', index=False)"
   ]
  },
  {
   "cell_type": "code",
   "execution_count": 101,
   "metadata": {},
   "outputs": [
    {
     "data": {
      "text/plain": [
       "<matplotlib.image.AxesImage at 0x2395779bd88>"
      ]
     },
     "execution_count": 101,
     "metadata": {},
     "output_type": "execute_result"
    },
    {
     "data": {
      "image/png": "[encoded data removed]",
      "text/plain": [
       "<Figure size 1296x360 with 1 Axes>"
      ]
     },
     "metadata": {
      "needs_background": "light"
     },
     "output_type": "display_data"
    }
   ],
   "source": [
    "image = plt.imread(data_dir+'/submission_eclf_stack_weights.png')\n",
    "plt.figure(figsize=(18,5))\n",
    "plt.imshow(image)"
   ]
  },
  {
   "cell_type": "markdown",
   "metadata": {},
   "source": [
    "# 5.10.2 Kaggle Score using top features"
   ]
  },
  {
   "cell_type": "code",
   "execution_count": 102,
   "metadata": {},
   "outputs": [
    {
     "data": {
      "text/plain": [
       "EnsembleVoteClassifier(clfs=[CalibratedClassifierCV(base_estimator=LogisticRegression(C=1,\n",
       "                                                                                      class_weight='balanced',\n",
       "                                                                                      dual=False,\n",
       "                                                                                      fit_intercept=True,\n",
       "                                                                                      intercept_scaling=1,\n",
       "                                                                                      l1_ratio=None,\n",
       "                                                                                      max_iter=100,\n",
       "                                                                                      multi_class='auto',\n",
       "                                                                                      n_jobs=None,\n",
       "                                                                                      penalty='l1',\n",
       "                                                                                      random_state=42,\n",
       "                                                                                      solver='liblinear',\n",
       "                                                                                      tol=0.0001,\n",
       "                                                                                      verbose=0,\n",
       "                                                                                      warm_start=False),\n",
       "                                                    cv=3, method='sigmoid'),\n",
       "                             CalibratedClassifi...\n",
       "                                                                                                                         intercept_scaling=1,\n",
       "                                                                                                                         l1_ratio=None,\n",
       "                                                                                                                         max_iter=100,\n",
       "                                                                                                                         multi_class='auto',\n",
       "                                                                                                                         n_jobs=None,\n",
       "                                                                                                                         penalty='l1',\n",
       "                                                                                                                         random_state=42,\n",
       "                                                                                                                         solver='liblinear',\n",
       "                                                                                                                         tol=0.0001,\n",
       "                                                                                                                         verbose=0,\n",
       "                                                                                                                         warm_start=False),\n",
       "                                                                                       cv=3,\n",
       "                                                                                       method='sigmoid'),\n",
       "                                                store_train_meta_features=False,\n",
       "                                                use_clones=True,\n",
       "                                                use_features_in_secondary=False,\n",
       "                                                use_probas=True, verbose=0)],\n",
       "                       refit=True, verbose=0, voting='hard',\n",
       "                       weights=[0.4, 0.1, 0.1, 0.2, 0.2])"
      ]
     },
     "execution_count": 102,
     "metadata": {},
     "output_type": "execute_result"
    }
   ],
   "source": [
    "# Voting Classifier (See Docs: http://rasbt.github.io/mlxtend/user_guide/classifier/EnsembleVoteClassifier/)\n",
    "eclf = EnsembleVoteClassifier(clfs=[clf1,clf2,clf3,clf4,sclf], weights=[0.4,0.1,0.1,0.2,0.2])\n",
    "# Fit the train data\n",
    "eclf.fit(tr_X[:,comb_top_feat],tr_y)"
   ]
  },
  {
   "cell_type": "code",
   "execution_count": 103,
   "metadata": {},
   "outputs": [],
   "source": [
    "# Create a submission file format to submit in Kaggle\n",
    "temp_id = df_test['id']\n",
    "eclf_csv = eclf.predict_proba(ts_X[:,comb_top_feat])[:,1]\n",
    "eclf_df = pd.DataFrame(np.column_stack((temp_id,eclf_csv)), columns=['id','target'])\n",
    "eclf_df['id'] = eclf_df['id'].astype('int32')\n",
    "eclf_df.to_csv(data_dir+'/submission_eclf_stack_weights_topfeat.csv', index=False)"
   ]
  },
  {
   "cell_type": "code",
   "execution_count": 104,
   "metadata": {},
   "outputs": [
    {
     "data": {
      "text/plain": [
       "<matplotlib.image.AxesImage at 0x23957531188>"
      ]
     },
     "execution_count": 104,
     "metadata": {},
     "output_type": "execute_result"
    },
    {
     "data": {
      "image/png": "[encoded data removed]",
      "text/plain": [
       "<Figure size 1296x360 with 1 Axes>"
      ]
     },
     "metadata": {
      "needs_background": "light"
     },
     "output_type": "display_data"
    }
   ],
   "source": [
    "image = plt.imread(data_dir+'/submission_eclf_stack_weights_topfeat.png')\n",
    "plt.figure(figsize=(18,5))\n",
    "plt.imshow(image)"
   ]
  },
  {
   "cell_type": "markdown",
   "metadata": {},
   "source": [
    "# 6. Summary of All Models"
   ]
  },
  {
   "cell_type": "code",
   "execution_count": 107,
   "metadata": {},
   "outputs": [
    {
     "name": "stdout",
     "output_type": "stream",
     "text": [
      "+---------------------------------------------+-------------+--------------------------------------------------+------------+\n",
      "|                    Model                    |   Features  |                  Hyperparameter                  | Test Score |\n",
      "+---------------------------------------------+-------------+--------------------------------------------------+------------+\n",
      "|                     knn                     |      AF     |   {'algorithm': 'kd_tree', 'n_neighbors': 43}    |   0.681    |\n",
      "|             Logistic Regression             |      AF     | {'C': 1, 'penalty': 'l1', 'solver': 'liblinear'} |   0.819    |\n",
      "|             Logistic Regression             |    top10    | {'C': 1, 'penalty': 'l1', 'solver': 'liblinear'} |   0.807    |\n",
      "|             Logistic Regression             |    top20    | {'C': 1, 'penalty': 'l1', 'solver': 'liblinear'} |   0.802    |\n",
      "|                     SVC                     |      AF     |            {'C': 10, 'kernel': 'rbf'}            |   0.741    |\n",
      "|                     SVC                     |    top10    |            {'C': 10, 'kernel': 'rbf'}            |   0.574    |\n",
      "|                 RandomForest                |      AF     |      {'max_depth': 2, 'n_estimators': 300}       |   0.745    |\n",
      "|                 RandomForest                |    top10    |      {'max_depth': 2, 'n_estimators': 300}       |   0.784    |\n",
      "|                   XGBoost                   |      AF     |      {'max_depth': 2, 'n_estimators': 300}       |   0.765    |\n",
      "|                   XGBoost                   |    top10    |      {'max_depth': 2, 'n_estimators': 300}       |   0.646    |\n",
      "|             Stacking Classifier             |      AF     |                        -                         |   0.737    |\n",
      "|             Stacking Classifier             | topfeatures |                        -                         |   0.773    |\n",
      "| Voting Classifier(No stacking + no weights) |      AF     |                        -                         |   0.816    |\n",
      "| Voting Classifier(No stacking + no weights) | topfeatures |                        -                         |   0.803    |\n",
      "|   Voting Classifier(stacking + no weights)  |      AF     |                        -                         |   0.808    |\n",
      "|   Voting Classifier(stacking + no weights)  | topfeatures |                        -                         |   0.799    |\n",
      "|   Voting Classifier(no stacking + weights)  |      AF     |                        -                         |   0.824    |\n",
      "|   Voting Classifier(no stacking + weights)  | topfeatures |                        -                         |   0.805    |\n",
      "|    Voting Classifier(stacking + weights)    |      AF     |                        -                         |   0.819    |\n",
      "|    Voting Classifier(stacking + weights)    | topfeatures |                        -                         |   0.805    |\n",
      "+---------------------------------------------+-------------+--------------------------------------------------+------------+\n"
     ]
    }
   ],
   "source": [
    "from prettytable import PrettyTable\n",
    "x = PrettyTable()\n",
    "x.field_names = ['Model','Features','Hyperparameter','Test Score']\n",
    "x.add_row(['knn','AF',r\"{'algorithm': 'kd_tree', 'n_neighbors': 43}\",0.681])\n",
    "x.add_row(['Logistic Regression','AF',r\"{'C': 1, 'penalty': 'l1', 'solver': 'liblinear'}\",0.819])\n",
    "x.add_row(['Logistic Regression','top10',r\"{'C': 1, 'penalty': 'l1', 'solver': 'liblinear'}\",0.807])\n",
    "x.add_row(['Logistic Regression','top20',r\"{'C': 1, 'penalty': 'l1', 'solver': 'liblinear'}\",0.802])\n",
    "x.add_row(['SVC','AF',r\"{'C': 10, 'kernel': 'rbf'}\",0.741])\n",
    "x.add_row(['SVC','top10',r\"{'C': 10, 'kernel': 'rbf'}\",0.574])\n",
    "x.add_row(['RandomForest','AF',r\"{'max_depth': 2, 'n_estimators': 300}\",0.745])\n",
    "x.add_row(['RandomForest','top10',r\"{'max_depth': 2, 'n_estimators': 300}\",0.784])\n",
    "x.add_row(['XGBoost','AF',r\"{'max_depth': 2, 'n_estimators': 300}\",0.765])\n",
    "x.add_row(['XGBoost','top10',r\"{'max_depth': 2, 'n_estimators': 300}\",0.646])\n",
    "x.add_row(['Stacking Classifier','AF','-',0.737])\n",
    "x.add_row(['Stacking Classifier','topfeatures','-',0.773])\n",
    "x.add_row(['Voting Classifier(No stacking + no weights)','AF',\"-\",0.816])\n",
    "x.add_row(['Voting Classifier(No stacking + no weights)','topfeatures',\"-\",0.803])\n",
    "x.add_row(['Voting Classifier(stacking + no weights)','AF',\"-\",0.808])\n",
    "x.add_row(['Voting Classifier(stacking + no weights)','topfeatures',\"-\",0.799])\n",
    "x.add_row(['Voting Classifier(no stacking + weights)','AF',\"-\",0.824])\n",
    "x.add_row(['Voting Classifier(no stacking + weights)','topfeatures',\"-\",0.805])\n",
    "x.add_row(['Voting Classifier(stacking + weights)','AF',\"-\",0.819])\n",
    "x.add_row(['Voting Classifier(stacking + weights)','topfeatures',\"-\",0.805])\n",
    "print(x)"
   ]
  },
  {
   "cell_type": "markdown",
   "metadata": {},
   "source": [
    "Notation:\n",
    "1. AF: All features\n",
    "2. top10: Find top 10 features using forward feature selections of that model\n",
    "3. top20: Find top 20 features using forward feature selections of that model\n",
    "4. topfeatures: combining all the top features generated using forward feature selection of that model."
   ]
  },
  {
   "cell_type": "code",
   "execution_count": null,
   "metadata": {},
   "outputs": [],
   "source": []
  }
 ],
 "metadata": {
  "colab": {
   "authorship_tag": "ABX9TyNnRkpuwI/OKofiNpymRkdo",
   "collapsed_sections": [],
   "mount_file_id": "11bogSuln_vt9rkvTXo6ImC4GZY_jJfL9",
   "name": "3_Models.ipynb",
   "provenance": [],
   "toc_visible": true
  },
  "kernelspec": {
   "display_name": "Python 3",
   "language": "python",
   "name": "python3"
  },
  "language_info": {
   "codemirror_mode": {
    "name": "ipython",
    "version": 3
   },
   "file_extension": ".py",
   "mimetype": "text/x-python",
   "name": "python",
   "nbconvert_exporter": "python",
   "pygments_lexer": "ipython3",
   "version": "3.7.6"
  }
 },
 "nbformat": 4,
 "nbformat_minor": 1
}
