{
 "cells": [
  {
   "cell_type": "markdown",
   "metadata": {},
   "source": [
    "# FE + Dimension Reduction + Standardization + ML Classification Model\n",
    "\n",
    "1. No oversampling techniques applied\n",
    "2. feature engineering applied"
   ]
  },
  {
   "cell_type": "markdown",
   "metadata": {
    "colab_type": "text",
    "id": "M0NLgHSVSGR8"
   },
   "source": [
    "# 1. Import Necessary Libraries"
   ]
  },
  {
   "cell_type": "code",
   "execution_count": 1,
   "metadata": {
    "colab": {
     "base_uri": "https://localhost:8080/",
     "height": 138
    },
    "colab_type": "code",
    "executionInfo": {
     "elapsed": 1518,
     "status": "ok",
     "timestamp": 1586509238566,
     "user": {
      "displayName": "Sahil -",
      "photoUrl": "",
      "userId": "14051148522636395588"
     },
     "user_tz": -330
    },
    "id": "FmfFFiISSNDh",
    "outputId": "c58700e0-326b-47a7-8208-7c585e502c30"
   },
   "outputs": [
    {
     "name": "stderr",
     "output_type": "stream",
     "text": [
      "D:\\anaconda3\\lib\\importlib\\_bootstrap.py:219: RuntimeWarning: numpy.ufunc size changed, may indicate binary incompatibility. Expected 192 from C header, got 216 from PyObject\n",
      "  return f(*args, **kwds)\n",
      "D:\\anaconda3\\lib\\importlib\\_bootstrap.py:219: RuntimeWarning: numpy.ufunc size changed, may indicate binary incompatibility. Expected 192 from C header, got 216 from PyObject\n",
      "  return f(*args, **kwds)\n",
      "D:\\anaconda3\\lib\\importlib\\_bootstrap.py:219: RuntimeWarning: numpy.ufunc size changed, may indicate binary incompatibility. Expected 192 from C header, got 216 from PyObject\n",
      "  return f(*args, **kwds)\n"
     ]
    }
   ],
   "source": [
    "# For Computational and random seed purpose\n",
    "import numpy as np\n",
    "np.random.seed(42)\n",
    "# To read csv file\n",
    "import pandas as pd\n",
    "# To Split data into train and cv data\n",
    "from sklearn.model_selection import train_test_split\n",
    "# To compute AUROC score\n",
    "# For AUROC Score (Ref: https://scikit-learn.org/stable/modules/generated/sklearn.metrics.roc_auc_score.html)\n",
    "from sklearn.metrics import  roc_curve, auc\n",
    "# For Hyperparameter and CV Fold\n",
    "from sklearn.model_selection import GridSearchCV, RepeatedStratifiedKFold, cross_val_score\n",
    "# For plot AUROC graph\n",
    "import matplotlib.pyplot as plt\n",
    "# Data is umbalance, we need Calibrated Model to ive confidence probabilities result\n",
    "from sklearn.calibration import CalibratedClassifierCV\n",
    "# For heatmap\n",
    "import seaborn as sns\n",
    "# To ignore warninga\n",
    "import warnings\n",
    "warnings.filterwarnings('ignore')\n",
    "# To stndardize the data\n",
    "from sklearn.preprocessing import StandardScaler\n",
    "import tqdm\n",
    "# Dimension reduction\n",
    "from sklearn.decomposition import TruncatedSVD"
   ]
  },
  {
   "cell_type": "markdown",
   "metadata": {
    "colab_type": "text",
    "id": "jEeelBddSNMk"
   },
   "source": [
    "# 2. Read train data"
   ]
  },
  {
   "cell_type": "code",
   "execution_count": 2,
   "metadata": {
    "colab": {
     "base_uri": "https://localhost:8080/",
     "height": 244
    },
    "colab_type": "code",
    "executionInfo": {
     "elapsed": 1292,
     "status": "ok",
     "timestamp": 1586509239102,
     "user": {
      "displayName": "Sahil -",
      "photoUrl": "",
      "userId": "14051148522636395588"
     },
     "user_tz": -330
    },
    "id": "4TvsuIQKSJu_",
    "outputId": "c9b994b4-3972-4bd8-c201-c17ad5432ebf"
   },
   "outputs": [
    {
     "data": {
      "text/html": [
       "<div>\n",
       "<style scoped>\n",
       "    .dataframe tbody tr th:only-of-type {\n",
       "        vertical-align: middle;\n",
       "    }\n",
       "\n",
       "    .dataframe tbody tr th {\n",
       "        vertical-align: top;\n",
       "    }\n",
       "\n",
       "    .dataframe thead th {\n",
       "        text-align: right;\n",
       "    }\n",
       "</style>\n",
       "<table border=\"1\" class=\"dataframe\">\n",
       "  <thead>\n",
       "    <tr style=\"text-align: right;\">\n",
       "      <th></th>\n",
       "      <th>id</th>\n",
       "      <th>target</th>\n",
       "      <th>0</th>\n",
       "      <th>1</th>\n",
       "      <th>2</th>\n",
       "      <th>3</th>\n",
       "      <th>4</th>\n",
       "      <th>5</th>\n",
       "      <th>6</th>\n",
       "      <th>7</th>\n",
       "      <th>...</th>\n",
       "      <th>290</th>\n",
       "      <th>291</th>\n",
       "      <th>292</th>\n",
       "      <th>293</th>\n",
       "      <th>294</th>\n",
       "      <th>295</th>\n",
       "      <th>296</th>\n",
       "      <th>297</th>\n",
       "      <th>298</th>\n",
       "      <th>299</th>\n",
       "    </tr>\n",
       "  </thead>\n",
       "  <tbody>\n",
       "    <tr>\n",
       "      <th>0</th>\n",
       "      <td>0</td>\n",
       "      <td>1.0</td>\n",
       "      <td>-0.098</td>\n",
       "      <td>2.165</td>\n",
       "      <td>0.681</td>\n",
       "      <td>-0.614</td>\n",
       "      <td>1.309</td>\n",
       "      <td>-0.455</td>\n",
       "      <td>-0.236</td>\n",
       "      <td>0.276</td>\n",
       "      <td>...</td>\n",
       "      <td>0.867</td>\n",
       "      <td>1.347</td>\n",
       "      <td>0.504</td>\n",
       "      <td>-0.649</td>\n",
       "      <td>0.672</td>\n",
       "      <td>-2.097</td>\n",
       "      <td>1.051</td>\n",
       "      <td>-0.414</td>\n",
       "      <td>1.038</td>\n",
       "      <td>-1.065</td>\n",
       "    </tr>\n",
       "    <tr>\n",
       "      <th>1</th>\n",
       "      <td>1</td>\n",
       "      <td>0.0</td>\n",
       "      <td>1.081</td>\n",
       "      <td>-0.973</td>\n",
       "      <td>-0.383</td>\n",
       "      <td>0.326</td>\n",
       "      <td>-0.428</td>\n",
       "      <td>0.317</td>\n",
       "      <td>1.172</td>\n",
       "      <td>0.352</td>\n",
       "      <td>...</td>\n",
       "      <td>-0.165</td>\n",
       "      <td>-1.695</td>\n",
       "      <td>-1.257</td>\n",
       "      <td>1.359</td>\n",
       "      <td>-0.808</td>\n",
       "      <td>-1.624</td>\n",
       "      <td>-0.458</td>\n",
       "      <td>-1.099</td>\n",
       "      <td>-0.936</td>\n",
       "      <td>0.973</td>\n",
       "    </tr>\n",
       "    <tr>\n",
       "      <th>2</th>\n",
       "      <td>2</td>\n",
       "      <td>1.0</td>\n",
       "      <td>-0.523</td>\n",
       "      <td>-0.089</td>\n",
       "      <td>-0.348</td>\n",
       "      <td>0.148</td>\n",
       "      <td>-0.022</td>\n",
       "      <td>0.404</td>\n",
       "      <td>-0.023</td>\n",
       "      <td>-0.172</td>\n",
       "      <td>...</td>\n",
       "      <td>0.013</td>\n",
       "      <td>0.263</td>\n",
       "      <td>-1.222</td>\n",
       "      <td>0.726</td>\n",
       "      <td>1.444</td>\n",
       "      <td>-1.165</td>\n",
       "      <td>-1.544</td>\n",
       "      <td>0.004</td>\n",
       "      <td>0.800</td>\n",
       "      <td>-1.211</td>\n",
       "    </tr>\n",
       "    <tr>\n",
       "      <th>3</th>\n",
       "      <td>3</td>\n",
       "      <td>1.0</td>\n",
       "      <td>0.067</td>\n",
       "      <td>-0.021</td>\n",
       "      <td>0.392</td>\n",
       "      <td>-1.637</td>\n",
       "      <td>-0.446</td>\n",
       "      <td>-0.725</td>\n",
       "      <td>-1.035</td>\n",
       "      <td>0.834</td>\n",
       "      <td>...</td>\n",
       "      <td>-0.404</td>\n",
       "      <td>0.640</td>\n",
       "      <td>-0.595</td>\n",
       "      <td>-0.966</td>\n",
       "      <td>0.900</td>\n",
       "      <td>0.467</td>\n",
       "      <td>-0.562</td>\n",
       "      <td>-0.254</td>\n",
       "      <td>-0.533</td>\n",
       "      <td>0.238</td>\n",
       "    </tr>\n",
       "    <tr>\n",
       "      <th>4</th>\n",
       "      <td>4</td>\n",
       "      <td>1.0</td>\n",
       "      <td>2.347</td>\n",
       "      <td>-0.831</td>\n",
       "      <td>0.511</td>\n",
       "      <td>-0.021</td>\n",
       "      <td>1.225</td>\n",
       "      <td>1.594</td>\n",
       "      <td>0.585</td>\n",
       "      <td>1.509</td>\n",
       "      <td>...</td>\n",
       "      <td>0.898</td>\n",
       "      <td>0.134</td>\n",
       "      <td>2.415</td>\n",
       "      <td>-0.996</td>\n",
       "      <td>-1.006</td>\n",
       "      <td>1.378</td>\n",
       "      <td>1.246</td>\n",
       "      <td>1.478</td>\n",
       "      <td>0.428</td>\n",
       "      <td>0.253</td>\n",
       "    </tr>\n",
       "  </tbody>\n",
       "</table>\n",
       "<p>5 rows × 302 columns</p>\n",
       "</div>"
      ],
      "text/plain": [
       "   id  target      0      1      2      3      4      5      6      7  ...  \\\n",
       "0   0     1.0 -0.098  2.165  0.681 -0.614  1.309 -0.455 -0.236  0.276  ...   \n",
       "1   1     0.0  1.081 -0.973 -0.383  0.326 -0.428  0.317  1.172  0.352  ...   \n",
       "2   2     1.0 -0.523 -0.089 -0.348  0.148 -0.022  0.404 -0.023 -0.172  ...   \n",
       "3   3     1.0  0.067 -0.021  0.392 -1.637 -0.446 -0.725 -1.035  0.834  ...   \n",
       "4   4     1.0  2.347 -0.831  0.511 -0.021  1.225  1.594  0.585  1.509  ...   \n",
       "\n",
       "     290    291    292    293    294    295    296    297    298    299  \n",
       "0  0.867  1.347  0.504 -0.649  0.672 -2.097  1.051 -0.414  1.038 -1.065  \n",
       "1 -0.165 -1.695 -1.257  1.359 -0.808 -1.624 -0.458 -1.099 -0.936  0.973  \n",
       "2  0.013  0.263 -1.222  0.726  1.444 -1.165 -1.544  0.004  0.800 -1.211  \n",
       "3 -0.404  0.640 -0.595 -0.966  0.900  0.467 -0.562 -0.254 -0.533  0.238  \n",
       "4  0.898  0.134  2.415 -0.996 -1.006  1.378  1.246  1.478  0.428  0.253  \n",
       "\n",
       "[5 rows x 302 columns]"
      ]
     },
     "execution_count": 2,
     "metadata": {},
     "output_type": "execute_result"
    }
   ],
   "source": [
    "# Locate parent directory\n",
    "data_dir = \"./\"\n",
    "\n",
    "# Read csv file and display top 5 rows\n",
    "df_train = pd.read_csv(data_dir+'/train.csv')\n",
    "df_train.head(5)"
   ]
  },
  {
   "cell_type": "code",
   "execution_count": 3,
   "metadata": {},
   "outputs": [
    {
     "data": {
      "text/html": [
       "<div>\n",
       "<style scoped>\n",
       "    .dataframe tbody tr th:only-of-type {\n",
       "        vertical-align: middle;\n",
       "    }\n",
       "\n",
       "    .dataframe tbody tr th {\n",
       "        vertical-align: top;\n",
       "    }\n",
       "\n",
       "    .dataframe thead th {\n",
       "        text-align: right;\n",
       "    }\n",
       "</style>\n",
       "<table border=\"1\" class=\"dataframe\">\n",
       "  <thead>\n",
       "    <tr style=\"text-align: right;\">\n",
       "      <th></th>\n",
       "      <th>id</th>\n",
       "      <th>0</th>\n",
       "      <th>1</th>\n",
       "      <th>2</th>\n",
       "      <th>3</th>\n",
       "      <th>4</th>\n",
       "      <th>5</th>\n",
       "      <th>6</th>\n",
       "      <th>7</th>\n",
       "      <th>8</th>\n",
       "      <th>...</th>\n",
       "      <th>290</th>\n",
       "      <th>291</th>\n",
       "      <th>292</th>\n",
       "      <th>293</th>\n",
       "      <th>294</th>\n",
       "      <th>295</th>\n",
       "      <th>296</th>\n",
       "      <th>297</th>\n",
       "      <th>298</th>\n",
       "      <th>299</th>\n",
       "    </tr>\n",
       "  </thead>\n",
       "  <tbody>\n",
       "    <tr>\n",
       "      <th>0</th>\n",
       "      <td>250</td>\n",
       "      <td>0.500</td>\n",
       "      <td>-1.033</td>\n",
       "      <td>-1.595</td>\n",
       "      <td>0.309</td>\n",
       "      <td>-0.714</td>\n",
       "      <td>0.502</td>\n",
       "      <td>0.535</td>\n",
       "      <td>-0.129</td>\n",
       "      <td>-0.687</td>\n",
       "      <td>...</td>\n",
       "      <td>-0.088</td>\n",
       "      <td>-2.628</td>\n",
       "      <td>-0.845</td>\n",
       "      <td>2.078</td>\n",
       "      <td>-0.277</td>\n",
       "      <td>2.132</td>\n",
       "      <td>0.609</td>\n",
       "      <td>-0.104</td>\n",
       "      <td>0.312</td>\n",
       "      <td>0.979</td>\n",
       "    </tr>\n",
       "    <tr>\n",
       "      <th>1</th>\n",
       "      <td>251</td>\n",
       "      <td>0.776</td>\n",
       "      <td>0.914</td>\n",
       "      <td>-0.494</td>\n",
       "      <td>1.347</td>\n",
       "      <td>-0.867</td>\n",
       "      <td>0.480</td>\n",
       "      <td>0.578</td>\n",
       "      <td>-0.313</td>\n",
       "      <td>0.203</td>\n",
       "      <td>...</td>\n",
       "      <td>-0.683</td>\n",
       "      <td>-0.066</td>\n",
       "      <td>0.025</td>\n",
       "      <td>0.606</td>\n",
       "      <td>-0.353</td>\n",
       "      <td>-1.133</td>\n",
       "      <td>-3.138</td>\n",
       "      <td>0.281</td>\n",
       "      <td>-0.625</td>\n",
       "      <td>-0.761</td>\n",
       "    </tr>\n",
       "    <tr>\n",
       "      <th>2</th>\n",
       "      <td>252</td>\n",
       "      <td>1.750</td>\n",
       "      <td>0.509</td>\n",
       "      <td>-0.057</td>\n",
       "      <td>0.835</td>\n",
       "      <td>-0.476</td>\n",
       "      <td>1.428</td>\n",
       "      <td>-0.701</td>\n",
       "      <td>-2.009</td>\n",
       "      <td>-1.378</td>\n",
       "      <td>...</td>\n",
       "      <td>-0.094</td>\n",
       "      <td>0.351</td>\n",
       "      <td>-0.607</td>\n",
       "      <td>-0.737</td>\n",
       "      <td>-0.031</td>\n",
       "      <td>0.701</td>\n",
       "      <td>0.976</td>\n",
       "      <td>0.135</td>\n",
       "      <td>-1.327</td>\n",
       "      <td>2.463</td>\n",
       "    </tr>\n",
       "    <tr>\n",
       "      <th>3</th>\n",
       "      <td>253</td>\n",
       "      <td>-0.556</td>\n",
       "      <td>-1.855</td>\n",
       "      <td>-0.682</td>\n",
       "      <td>0.578</td>\n",
       "      <td>1.592</td>\n",
       "      <td>0.512</td>\n",
       "      <td>-1.419</td>\n",
       "      <td>0.722</td>\n",
       "      <td>0.511</td>\n",
       "      <td>...</td>\n",
       "      <td>-0.336</td>\n",
       "      <td>-0.787</td>\n",
       "      <td>0.255</td>\n",
       "      <td>-0.031</td>\n",
       "      <td>-0.836</td>\n",
       "      <td>0.916</td>\n",
       "      <td>2.411</td>\n",
       "      <td>1.053</td>\n",
       "      <td>-1.601</td>\n",
       "      <td>-1.529</td>\n",
       "    </tr>\n",
       "    <tr>\n",
       "      <th>4</th>\n",
       "      <td>254</td>\n",
       "      <td>0.754</td>\n",
       "      <td>-0.245</td>\n",
       "      <td>1.173</td>\n",
       "      <td>-1.623</td>\n",
       "      <td>0.009</td>\n",
       "      <td>0.370</td>\n",
       "      <td>0.781</td>\n",
       "      <td>-1.763</td>\n",
       "      <td>-1.432</td>\n",
       "      <td>...</td>\n",
       "      <td>2.184</td>\n",
       "      <td>-1.090</td>\n",
       "      <td>0.216</td>\n",
       "      <td>1.186</td>\n",
       "      <td>-0.143</td>\n",
       "      <td>0.322</td>\n",
       "      <td>-0.068</td>\n",
       "      <td>-0.156</td>\n",
       "      <td>-1.153</td>\n",
       "      <td>0.825</td>\n",
       "    </tr>\n",
       "  </tbody>\n",
       "</table>\n",
       "<p>5 rows × 301 columns</p>\n",
       "</div>"
      ],
      "text/plain": [
       "    id      0      1      2      3      4      5      6      7      8  ...  \\\n",
       "0  250  0.500 -1.033 -1.595  0.309 -0.714  0.502  0.535 -0.129 -0.687  ...   \n",
       "1  251  0.776  0.914 -0.494  1.347 -0.867  0.480  0.578 -0.313  0.203  ...   \n",
       "2  252  1.750  0.509 -0.057  0.835 -0.476  1.428 -0.701 -2.009 -1.378  ...   \n",
       "3  253 -0.556 -1.855 -0.682  0.578  1.592  0.512 -1.419  0.722  0.511  ...   \n",
       "4  254  0.754 -0.245  1.173 -1.623  0.009  0.370  0.781 -1.763 -1.432  ...   \n",
       "\n",
       "     290    291    292    293    294    295    296    297    298    299  \n",
       "0 -0.088 -2.628 -0.845  2.078 -0.277  2.132  0.609 -0.104  0.312  0.979  \n",
       "1 -0.683 -0.066  0.025  0.606 -0.353 -1.133 -3.138  0.281 -0.625 -0.761  \n",
       "2 -0.094  0.351 -0.607 -0.737 -0.031  0.701  0.976  0.135 -1.327  2.463  \n",
       "3 -0.336 -0.787  0.255 -0.031 -0.836  0.916  2.411  1.053 -1.601 -1.529  \n",
       "4  2.184 -1.090  0.216  1.186 -0.143  0.322 -0.068 -0.156 -1.153  0.825  \n",
       "\n",
       "[5 rows x 301 columns]"
      ]
     },
     "execution_count": 3,
     "metadata": {},
     "output_type": "execute_result"
    }
   ],
   "source": [
    "df_test = pd.read_csv(data_dir+'/test.csv')\n",
    "df_test.head(5)"
   ]
  },
  {
   "cell_type": "markdown",
   "metadata": {},
   "source": [
    "# 3. Apply Feature Engg"
   ]
  },
  {
   "cell_type": "code",
   "execution_count": 4,
   "metadata": {},
   "outputs": [],
   "source": [
    "# We already saw in 2_FE.ipynb file that we created a feat_enng function. We just put it here\n",
    "\n",
    "def feature_engg(df, if_test = False):\n",
    "    '''\n",
    "    Perform Feature Engg in Basic Stats, Trigometrics, Hyperbolic and Exponential Function\n",
    "    \n",
    "    Parameters:\n",
    "    df: Pass DataFrame (all features much be in numric values)\n",
    "    if_test: If the DataFrame is test data or train data. Ig it is test data, put if_test=True\n",
    "    \n",
    "    Return:\n",
    "    DataFrame with feature engineering appended\n",
    "    '''\n",
    "    \n",
    "    if if_test:\n",
    "        temp = df.drop(['id'], axis=1)\n",
    "    else:\n",
    "        temp = df.drop(['id','target'], axis=1)\n",
    "\n",
    "    # Mean and Std FE\n",
    "    df['mean'] = np.mean(temp, axis=1)\n",
    "    df['std'] = np.std(temp, axis=1)\n",
    "\n",
    "    # Trigometric FE\n",
    "    sin_temp = np.sin(temp)\n",
    "    cos_temp = np.cos(temp)\n",
    "    tan_temp = np.tan(temp)\n",
    "    df['mean_sin'] = np.mean(sin_temp, axis=1)\n",
    "    df['mean_cos'] = np.mean(cos_temp, axis=1)\n",
    "    df['mean_tan'] = np.mean(tan_temp, axis=1)\n",
    "\n",
    "    # Hyperbolic FE\n",
    "    sinh_temp = np.sinh(temp)\n",
    "    cosh_temp = np.cosh(temp)\n",
    "    tanh_temp = np.tanh(temp)\n",
    "    df['mean_sinh'] = np.mean(sin_temp, axis=1)\n",
    "    df['mean_cosh'] = np.mean(cos_temp, axis=1)\n",
    "    df['mean_tanh'] = np.mean(tan_temp, axis=1)\n",
    "\n",
    "    # Exponents FE\n",
    "    exp_temp = np.exp(temp)\n",
    "    expm1_temp = np.expm1(temp)\n",
    "    exp2_temp = np.exp2(temp)\n",
    "    df['mean_exp'] = np.mean(exp_temp, axis=1)\n",
    "    df['mean_expm1'] = np.mean(expm1_temp, axis=1)\n",
    "    df['mean_exp2'] = np.mean(exp2_temp, axis=1)\n",
    "\n",
    "    # Polynomial FE\n",
    "    # X**2\n",
    "    df['mean_x2'] = np.mean(np.power(temp,2), axis=1)\n",
    "    # X**3\n",
    "    df['mean_x3'] = np.mean(np.power(temp,3), axis=1)\n",
    "    # X**4\n",
    "    df['mean_x4'] = np.mean(np.power(temp,4), axis=1)\n",
    "\n",
    "    return df"
   ]
  },
  {
   "cell_type": "code",
   "execution_count": 5,
   "metadata": {},
   "outputs": [
    {
     "data": {
      "text/html": [
       "<div>\n",
       "<style scoped>\n",
       "    .dataframe tbody tr th:only-of-type {\n",
       "        vertical-align: middle;\n",
       "    }\n",
       "\n",
       "    .dataframe tbody tr th {\n",
       "        vertical-align: top;\n",
       "    }\n",
       "\n",
       "    .dataframe thead th {\n",
       "        text-align: right;\n",
       "    }\n",
       "</style>\n",
       "<table border=\"1\" class=\"dataframe\">\n",
       "  <thead>\n",
       "    <tr style=\"text-align: right;\">\n",
       "      <th></th>\n",
       "      <th>id</th>\n",
       "      <th>target</th>\n",
       "      <th>0</th>\n",
       "      <th>1</th>\n",
       "      <th>2</th>\n",
       "      <th>3</th>\n",
       "      <th>4</th>\n",
       "      <th>5</th>\n",
       "      <th>6</th>\n",
       "      <th>7</th>\n",
       "      <th>...</th>\n",
       "      <th>mean_tan</th>\n",
       "      <th>mean_sinh</th>\n",
       "      <th>mean_cosh</th>\n",
       "      <th>mean_tanh</th>\n",
       "      <th>mean_exp</th>\n",
       "      <th>mean_expm1</th>\n",
       "      <th>mean_exp2</th>\n",
       "      <th>mean_x2</th>\n",
       "      <th>mean_x3</th>\n",
       "      <th>mean_x4</th>\n",
       "    </tr>\n",
       "  </thead>\n",
       "  <tbody>\n",
       "    <tr>\n",
       "      <th>0</th>\n",
       "      <td>0</td>\n",
       "      <td>1.0</td>\n",
       "      <td>-0.098</td>\n",
       "      <td>2.165</td>\n",
       "      <td>0.681</td>\n",
       "      <td>-0.614</td>\n",
       "      <td>1.309</td>\n",
       "      <td>-0.455</td>\n",
       "      <td>-0.236</td>\n",
       "      <td>0.276</td>\n",
       "      <td>...</td>\n",
       "      <td>-0.315591</td>\n",
       "      <td>-0.010536</td>\n",
       "      <td>0.537968</td>\n",
       "      <td>-0.315591</td>\n",
       "      <td>1.760647</td>\n",
       "      <td>0.760647</td>\n",
       "      <td>1.315869</td>\n",
       "      <td>1.182425</td>\n",
       "      <td>0.015243</td>\n",
       "      <td>3.584848</td>\n",
       "    </tr>\n",
       "    <tr>\n",
       "      <th>1</th>\n",
       "      <td>1</td>\n",
       "      <td>0.0</td>\n",
       "      <td>1.081</td>\n",
       "      <td>-0.973</td>\n",
       "      <td>-0.383</td>\n",
       "      <td>0.326</td>\n",
       "      <td>-0.428</td>\n",
       "      <td>0.317</td>\n",
       "      <td>1.172</td>\n",
       "      <td>0.352</td>\n",
       "      <td>...</td>\n",
       "      <td>0.607457</td>\n",
       "      <td>0.075490</td>\n",
       "      <td>0.611600</td>\n",
       "      <td>0.607457</td>\n",
       "      <td>1.712292</td>\n",
       "      <td>0.712292</td>\n",
       "      <td>1.324817</td>\n",
       "      <td>0.976056</td>\n",
       "      <td>0.047272</td>\n",
       "      <td>2.766570</td>\n",
       "    </tr>\n",
       "    <tr>\n",
       "      <th>2</th>\n",
       "      <td>2</td>\n",
       "      <td>1.0</td>\n",
       "      <td>-0.523</td>\n",
       "      <td>-0.089</td>\n",
       "      <td>-0.348</td>\n",
       "      <td>0.148</td>\n",
       "      <td>-0.022</td>\n",
       "      <td>0.404</td>\n",
       "      <td>-0.023</td>\n",
       "      <td>-0.172</td>\n",
       "      <td>...</td>\n",
       "      <td>0.104777</td>\n",
       "      <td>-0.005509</td>\n",
       "      <td>0.599358</td>\n",
       "      <td>0.104777</td>\n",
       "      <td>1.749107</td>\n",
       "      <td>0.749107</td>\n",
       "      <td>1.313960</td>\n",
       "      <td>1.023024</td>\n",
       "      <td>0.266454</td>\n",
       "      <td>3.092631</td>\n",
       "    </tr>\n",
       "    <tr>\n",
       "      <th>3</th>\n",
       "      <td>3</td>\n",
       "      <td>1.0</td>\n",
       "      <td>0.067</td>\n",
       "      <td>-0.021</td>\n",
       "      <td>0.392</td>\n",
       "      <td>-1.637</td>\n",
       "      <td>-0.446</td>\n",
       "      <td>-0.725</td>\n",
       "      <td>-1.035</td>\n",
       "      <td>0.834</td>\n",
       "      <td>...</td>\n",
       "      <td>0.891722</td>\n",
       "      <td>0.046067</td>\n",
       "      <td>0.645721</td>\n",
       "      <td>0.891722</td>\n",
       "      <td>1.752101</td>\n",
       "      <td>0.752101</td>\n",
       "      <td>1.326229</td>\n",
       "      <td>0.887980</td>\n",
       "      <td>0.371308</td>\n",
       "      <td>2.553467</td>\n",
       "    </tr>\n",
       "    <tr>\n",
       "      <th>4</th>\n",
       "      <td>4</td>\n",
       "      <td>1.0</td>\n",
       "      <td>2.347</td>\n",
       "      <td>-0.831</td>\n",
       "      <td>0.511</td>\n",
       "      <td>-0.021</td>\n",
       "      <td>1.225</td>\n",
       "      <td>1.594</td>\n",
       "      <td>0.585</td>\n",
       "      <td>1.509</td>\n",
       "      <td>...</td>\n",
       "      <td>0.274261</td>\n",
       "      <td>0.059548</td>\n",
       "      <td>0.643508</td>\n",
       "      <td>0.274261</td>\n",
       "      <td>1.861741</td>\n",
       "      <td>0.861741</td>\n",
       "      <td>1.377569</td>\n",
       "      <td>0.901115</td>\n",
       "      <td>0.613952</td>\n",
       "      <td>2.671541</td>\n",
       "    </tr>\n",
       "  </tbody>\n",
       "</table>\n",
       "<p>5 rows × 316 columns</p>\n",
       "</div>"
      ],
      "text/plain": [
       "   id  target      0      1      2      3      4      5      6      7  ...  \\\n",
       "0   0     1.0 -0.098  2.165  0.681 -0.614  1.309 -0.455 -0.236  0.276  ...   \n",
       "1   1     0.0  1.081 -0.973 -0.383  0.326 -0.428  0.317  1.172  0.352  ...   \n",
       "2   2     1.0 -0.523 -0.089 -0.348  0.148 -0.022  0.404 -0.023 -0.172  ...   \n",
       "3   3     1.0  0.067 -0.021  0.392 -1.637 -0.446 -0.725 -1.035  0.834  ...   \n",
       "4   4     1.0  2.347 -0.831  0.511 -0.021  1.225  1.594  0.585  1.509  ...   \n",
       "\n",
       "   mean_tan  mean_sinh  mean_cosh  mean_tanh  mean_exp  mean_expm1  mean_exp2  \\\n",
       "0 -0.315591  -0.010536   0.537968  -0.315591  1.760647    0.760647   1.315869   \n",
       "1  0.607457   0.075490   0.611600   0.607457  1.712292    0.712292   1.324817   \n",
       "2  0.104777  -0.005509   0.599358   0.104777  1.749107    0.749107   1.313960   \n",
       "3  0.891722   0.046067   0.645721   0.891722  1.752101    0.752101   1.326229   \n",
       "4  0.274261   0.059548   0.643508   0.274261  1.861741    0.861741   1.377569   \n",
       "\n",
       "    mean_x2   mean_x3   mean_x4  \n",
       "0  1.182425  0.015243  3.584848  \n",
       "1  0.976056  0.047272  2.766570  \n",
       "2  1.023024  0.266454  3.092631  \n",
       "3  0.887980  0.371308  2.553467  \n",
       "4  0.901115  0.613952  2.671541  \n",
       "\n",
       "[5 rows x 316 columns]"
      ]
     },
     "execution_count": 5,
     "metadata": {},
     "output_type": "execute_result"
    }
   ],
   "source": [
    "df_train = feature_engg(df_train)\n",
    "df_train.head(5)"
   ]
  },
  {
   "cell_type": "code",
   "execution_count": 6,
   "metadata": {},
   "outputs": [
    {
     "data": {
      "text/html": [
       "<div>\n",
       "<style scoped>\n",
       "    .dataframe tbody tr th:only-of-type {\n",
       "        vertical-align: middle;\n",
       "    }\n",
       "\n",
       "    .dataframe tbody tr th {\n",
       "        vertical-align: top;\n",
       "    }\n",
       "\n",
       "    .dataframe thead th {\n",
       "        text-align: right;\n",
       "    }\n",
       "</style>\n",
       "<table border=\"1\" class=\"dataframe\">\n",
       "  <thead>\n",
       "    <tr style=\"text-align: right;\">\n",
       "      <th></th>\n",
       "      <th>id</th>\n",
       "      <th>0</th>\n",
       "      <th>1</th>\n",
       "      <th>2</th>\n",
       "      <th>3</th>\n",
       "      <th>4</th>\n",
       "      <th>5</th>\n",
       "      <th>6</th>\n",
       "      <th>7</th>\n",
       "      <th>8</th>\n",
       "      <th>...</th>\n",
       "      <th>mean_tan</th>\n",
       "      <th>mean_sinh</th>\n",
       "      <th>mean_cosh</th>\n",
       "      <th>mean_tanh</th>\n",
       "      <th>mean_exp</th>\n",
       "      <th>mean_expm1</th>\n",
       "      <th>mean_exp2</th>\n",
       "      <th>mean_x2</th>\n",
       "      <th>mean_x3</th>\n",
       "      <th>mean_x4</th>\n",
       "    </tr>\n",
       "  </thead>\n",
       "  <tbody>\n",
       "    <tr>\n",
       "      <th>0</th>\n",
       "      <td>250</td>\n",
       "      <td>0.500</td>\n",
       "      <td>-1.033</td>\n",
       "      <td>-1.595</td>\n",
       "      <td>0.309</td>\n",
       "      <td>-0.714</td>\n",
       "      <td>0.502</td>\n",
       "      <td>0.535</td>\n",
       "      <td>-0.129</td>\n",
       "      <td>-0.687</td>\n",
       "      <td>...</td>\n",
       "      <td>0.565830</td>\n",
       "      <td>0.094378</td>\n",
       "      <td>0.609398</td>\n",
       "      <td>0.565830</td>\n",
       "      <td>1.904397</td>\n",
       "      <td>0.904397</td>\n",
       "      <td>1.404195</td>\n",
       "      <td>0.985912</td>\n",
       "      <td>0.477020</td>\n",
       "      <td>2.913247</td>\n",
       "    </tr>\n",
       "    <tr>\n",
       "      <th>1</th>\n",
       "      <td>251</td>\n",
       "      <td>0.776</td>\n",
       "      <td>0.914</td>\n",
       "      <td>-0.494</td>\n",
       "      <td>1.347</td>\n",
       "      <td>-0.867</td>\n",
       "      <td>0.480</td>\n",
       "      <td>0.578</td>\n",
       "      <td>-0.313</td>\n",
       "      <td>0.203</td>\n",
       "      <td>...</td>\n",
       "      <td>-1.641918</td>\n",
       "      <td>-0.018425</td>\n",
       "      <td>0.570495</td>\n",
       "      <td>-1.641918</td>\n",
       "      <td>1.642217</td>\n",
       "      <td>0.642217</td>\n",
       "      <td>1.265487</td>\n",
       "      <td>1.094274</td>\n",
       "      <td>-0.128315</td>\n",
       "      <td>3.281111</td>\n",
       "    </tr>\n",
       "    <tr>\n",
       "      <th>2</th>\n",
       "      <td>252</td>\n",
       "      <td>1.750</td>\n",
       "      <td>0.509</td>\n",
       "      <td>-0.057</td>\n",
       "      <td>0.835</td>\n",
       "      <td>-0.476</td>\n",
       "      <td>1.428</td>\n",
       "      <td>-0.701</td>\n",
       "      <td>-2.009</td>\n",
       "      <td>-1.378</td>\n",
       "      <td>...</td>\n",
       "      <td>-0.516155</td>\n",
       "      <td>-0.012641</td>\n",
       "      <td>0.611053</td>\n",
       "      <td>-0.516155</td>\n",
       "      <td>1.517775</td>\n",
       "      <td>0.517775</td>\n",
       "      <td>1.214393</td>\n",
       "      <td>0.994294</td>\n",
       "      <td>-0.330590</td>\n",
       "      <td>3.062801</td>\n",
       "    </tr>\n",
       "    <tr>\n",
       "      <th>3</th>\n",
       "      <td>253</td>\n",
       "      <td>-0.556</td>\n",
       "      <td>-1.855</td>\n",
       "      <td>-0.682</td>\n",
       "      <td>0.578</td>\n",
       "      <td>1.592</td>\n",
       "      <td>0.512</td>\n",
       "      <td>-1.419</td>\n",
       "      <td>0.722</td>\n",
       "      <td>0.511</td>\n",
       "      <td>...</td>\n",
       "      <td>-0.816079</td>\n",
       "      <td>0.002689</td>\n",
       "      <td>0.610619</td>\n",
       "      <td>-0.816079</td>\n",
       "      <td>1.566765</td>\n",
       "      <td>0.566765</td>\n",
       "      <td>1.243412</td>\n",
       "      <td>0.956136</td>\n",
       "      <td>-0.076546</td>\n",
       "      <td>2.382968</td>\n",
       "    </tr>\n",
       "    <tr>\n",
       "      <th>4</th>\n",
       "      <td>254</td>\n",
       "      <td>0.754</td>\n",
       "      <td>-0.245</td>\n",
       "      <td>1.173</td>\n",
       "      <td>-1.623</td>\n",
       "      <td>0.009</td>\n",
       "      <td>0.370</td>\n",
       "      <td>0.781</td>\n",
       "      <td>-1.763</td>\n",
       "      <td>-1.432</td>\n",
       "      <td>...</td>\n",
       "      <td>-1.547172</td>\n",
       "      <td>0.067329</td>\n",
       "      <td>0.611907</td>\n",
       "      <td>-1.547172</td>\n",
       "      <td>1.849024</td>\n",
       "      <td>0.849024</td>\n",
       "      <td>1.374870</td>\n",
       "      <td>0.988710</td>\n",
       "      <td>0.371320</td>\n",
       "      <td>3.079160</td>\n",
       "    </tr>\n",
       "  </tbody>\n",
       "</table>\n",
       "<p>5 rows × 315 columns</p>\n",
       "</div>"
      ],
      "text/plain": [
       "    id      0      1      2      3      4      5      6      7      8  ...  \\\n",
       "0  250  0.500 -1.033 -1.595  0.309 -0.714  0.502  0.535 -0.129 -0.687  ...   \n",
       "1  251  0.776  0.914 -0.494  1.347 -0.867  0.480  0.578 -0.313  0.203  ...   \n",
       "2  252  1.750  0.509 -0.057  0.835 -0.476  1.428 -0.701 -2.009 -1.378  ...   \n",
       "3  253 -0.556 -1.855 -0.682  0.578  1.592  0.512 -1.419  0.722  0.511  ...   \n",
       "4  254  0.754 -0.245  1.173 -1.623  0.009  0.370  0.781 -1.763 -1.432  ...   \n",
       "\n",
       "   mean_tan  mean_sinh  mean_cosh  mean_tanh  mean_exp  mean_expm1  mean_exp2  \\\n",
       "0  0.565830   0.094378   0.609398   0.565830  1.904397    0.904397   1.404195   \n",
       "1 -1.641918  -0.018425   0.570495  -1.641918  1.642217    0.642217   1.265487   \n",
       "2 -0.516155  -0.012641   0.611053  -0.516155  1.517775    0.517775   1.214393   \n",
       "3 -0.816079   0.002689   0.610619  -0.816079  1.566765    0.566765   1.243412   \n",
       "4 -1.547172   0.067329   0.611907  -1.547172  1.849024    0.849024   1.374870   \n",
       "\n",
       "    mean_x2   mean_x3   mean_x4  \n",
       "0  0.985912  0.477020  2.913247  \n",
       "1  1.094274 -0.128315  3.281111  \n",
       "2  0.994294 -0.330590  3.062801  \n",
       "3  0.956136 -0.076546  2.382968  \n",
       "4  0.988710  0.371320  3.079160  \n",
       "\n",
       "[5 rows x 315 columns]"
      ]
     },
     "execution_count": 6,
     "metadata": {},
     "output_type": "execute_result"
    }
   ],
   "source": [
    "df_test = feature_engg(df_test, True)\n",
    "df_test.head(5)"
   ]
  },
  {
   "cell_type": "markdown",
   "metadata": {
    "colab_type": "text",
    "id": "nBlmFMXyUt3n"
   },
   "source": [
    "# 4. Take train and test values from DataFrame"
   ]
  },
  {
   "cell_type": "code",
   "execution_count": 7,
   "metadata": {
    "colab": {},
    "colab_type": "code",
    "id": "jgnQnoa6Uxqh"
   },
   "outputs": [],
   "source": [
    "# Take separate for features value\n",
    "tr_X = df_train.drop(['id','target'], axis=1)\n",
    "# Take separate for class value\n",
    "tr_y = df_train['target'].values\n",
    "# Take test feature value\n",
    "ts_X = df_test.drop(['id'], axis=1)"
   ]
  },
  {
   "cell_type": "markdown",
   "metadata": {},
   "source": [
    "Note: Don't worry about splitting train data into train and cv. I apply Stratify CV technique while modelling"
   ]
  },
  {
   "cell_type": "markdown",
   "metadata": {},
   "source": [
    "# 5. Truncated SVD"
   ]
  },
  {
   "cell_type": "code",
   "execution_count": 8,
   "metadata": {},
   "outputs": [],
   "source": [
    "exp_rat = []\n",
    "for i in range(2,min(tr_X.shape[0],tr_X.shape[1])):\n",
    "    trunsvd = TruncatedSVD(n_components=i)\n",
    "    trunsvd.fit(tr_X,tr_y)\n",
    "    exp_rat.append(np.sum(trunsvd.explained_variance_ratio_))"
   ]
  },
  {
   "cell_type": "code",
   "execution_count": 9,
   "metadata": {},
   "outputs": [
    {
     "data": {
      "image/png": "[encoded data removed]",
      "text/plain": [
       "<Figure size 432x288 with 1 Axes>"
      ]
     },
     "metadata": {
      "needs_background": "light"
     },
     "output_type": "display_data"
    }
   ],
   "source": [
    "plt.plot(np.arange(2,min(tr_X.shape[0],tr_X.shape[1])),exp_rat)\n",
    "plt.grid()\n",
    "plt.show()"
   ]
  },
  {
   "cell_type": "markdown",
   "metadata": {},
   "source": [
    "Let take n_components = 175 which retain 90-100% data"
   ]
  },
  {
   "cell_type": "code",
   "execution_count": 10,
   "metadata": {},
   "outputs": [],
   "source": [
    "# Fit and transform on train data and transform on cv and test data\n",
    "trunsvd = TruncatedSVD(n_components=175)\n",
    "tr_X = trunsvd.fit_transform(tr_X,tr_y)\n",
    "ts_X = trunsvd.transform(ts_X)"
   ]
  },
  {
   "cell_type": "markdown",
   "metadata": {
    "colab_type": "text",
    "id": "NRt6QYU7Vdu0"
   },
   "source": [
    "# 6. Standardization"
   ]
  },
  {
   "cell_type": "code",
   "execution_count": 11,
   "metadata": {
    "colab": {
     "base_uri": "https://localhost:8080/",
     "height": 244
    },
    "colab_type": "code",
    "executionInfo": {
     "elapsed": 1610,
     "status": "ok",
     "timestamp": 1586509260250,
     "user": {
      "displayName": "Sahil -",
      "photoUrl": "",
      "userId": "14051148522636395588"
     },
     "user_tz": -330
    },
    "id": "BI7gXgikUtNa",
    "outputId": "06905b5f-7b40-4bd3-b328-f958a653b9bd"
   },
   "outputs": [
    {
     "data": {
      "text/html": [
       "<div>\n",
       "<style scoped>\n",
       "    .dataframe tbody tr th:only-of-type {\n",
       "        vertical-align: middle;\n",
       "    }\n",
       "\n",
       "    .dataframe tbody tr th {\n",
       "        vertical-align: top;\n",
       "    }\n",
       "\n",
       "    .dataframe thead th {\n",
       "        text-align: right;\n",
       "    }\n",
       "</style>\n",
       "<table border=\"1\" class=\"dataframe\">\n",
       "  <thead>\n",
       "    <tr style=\"text-align: right;\">\n",
       "      <th></th>\n",
       "      <th>0</th>\n",
       "      <th>1</th>\n",
       "      <th>2</th>\n",
       "      <th>3</th>\n",
       "      <th>4</th>\n",
       "      <th>5</th>\n",
       "      <th>6</th>\n",
       "      <th>7</th>\n",
       "      <th>8</th>\n",
       "      <th>9</th>\n",
       "      <th>...</th>\n",
       "      <th>165</th>\n",
       "      <th>166</th>\n",
       "      <th>167</th>\n",
       "      <th>168</th>\n",
       "      <th>169</th>\n",
       "      <th>170</th>\n",
       "      <th>171</th>\n",
       "      <th>172</th>\n",
       "      <th>173</th>\n",
       "      <th>174</th>\n",
       "    </tr>\n",
       "  </thead>\n",
       "  <tbody>\n",
       "    <tr>\n",
       "      <th>0</th>\n",
       "      <td>-0.164532</td>\n",
       "      <td>0.487939</td>\n",
       "      <td>0.711550</td>\n",
       "      <td>1.063592</td>\n",
       "      <td>0.288814</td>\n",
       "      <td>0.679757</td>\n",
       "      <td>1.419163</td>\n",
       "      <td>-1.929692</td>\n",
       "      <td>1.662674</td>\n",
       "      <td>-1.552939</td>\n",
       "      <td>...</td>\n",
       "      <td>0.674197</td>\n",
       "      <td>-0.500293</td>\n",
       "      <td>2.319579</td>\n",
       "      <td>-0.841767</td>\n",
       "      <td>0.446332</td>\n",
       "      <td>1.842349</td>\n",
       "      <td>-0.889885</td>\n",
       "      <td>-0.612941</td>\n",
       "      <td>0.451177</td>\n",
       "      <td>-1.408989</td>\n",
       "    </tr>\n",
       "    <tr>\n",
       "      <th>1</th>\n",
       "      <td>0.032834</td>\n",
       "      <td>0.345192</td>\n",
       "      <td>0.684653</td>\n",
       "      <td>-0.683363</td>\n",
       "      <td>-1.071050</td>\n",
       "      <td>1.601912</td>\n",
       "      <td>-1.389540</td>\n",
       "      <td>-0.982794</td>\n",
       "      <td>-1.583500</td>\n",
       "      <td>0.530116</td>\n",
       "      <td>...</td>\n",
       "      <td>1.159822</td>\n",
       "      <td>-0.080116</td>\n",
       "      <td>0.458993</td>\n",
       "      <td>1.577653</td>\n",
       "      <td>-1.188102</td>\n",
       "      <td>0.410867</td>\n",
       "      <td>-2.342873</td>\n",
       "      <td>0.429029</td>\n",
       "      <td>-0.071122</td>\n",
       "      <td>1.187568</td>\n",
       "    </tr>\n",
       "    <tr>\n",
       "      <th>2</th>\n",
       "      <td>-0.042842</td>\n",
       "      <td>-1.009867</td>\n",
       "      <td>0.774578</td>\n",
       "      <td>0.258092</td>\n",
       "      <td>-1.530399</td>\n",
       "      <td>0.864581</td>\n",
       "      <td>-1.308243</td>\n",
       "      <td>-1.458523</td>\n",
       "      <td>1.559741</td>\n",
       "      <td>-0.128236</td>\n",
       "      <td>...</td>\n",
       "      <td>-0.325688</td>\n",
       "      <td>-0.212428</td>\n",
       "      <td>-0.324620</td>\n",
       "      <td>-1.406312</td>\n",
       "      <td>-0.265334</td>\n",
       "      <td>-0.870585</td>\n",
       "      <td>0.072708</td>\n",
       "      <td>0.596910</td>\n",
       "      <td>-0.163540</td>\n",
       "      <td>-0.186299</td>\n",
       "    </tr>\n",
       "    <tr>\n",
       "      <th>3</th>\n",
       "      <td>0.086111</td>\n",
       "      <td>-0.816340</td>\n",
       "      <td>-0.788503</td>\n",
       "      <td>0.657952</td>\n",
       "      <td>-0.141692</td>\n",
       "      <td>-1.418505</td>\n",
       "      <td>0.069040</td>\n",
       "      <td>1.360545</td>\n",
       "      <td>-0.419088</td>\n",
       "      <td>1.069888</td>\n",
       "      <td>...</td>\n",
       "      <td>-0.649263</td>\n",
       "      <td>0.210520</td>\n",
       "      <td>-0.117820</td>\n",
       "      <td>0.526989</td>\n",
       "      <td>-1.687033</td>\n",
       "      <td>0.003238</td>\n",
       "      <td>-0.373623</td>\n",
       "      <td>0.490749</td>\n",
       "      <td>1.195760</td>\n",
       "      <td>1.715022</td>\n",
       "    </tr>\n",
       "    <tr>\n",
       "      <th>4</th>\n",
       "      <td>-0.047900</td>\n",
       "      <td>0.107642</td>\n",
       "      <td>0.455264</td>\n",
       "      <td>0.929138</td>\n",
       "      <td>0.073400</td>\n",
       "      <td>1.730522</td>\n",
       "      <td>0.176378</td>\n",
       "      <td>-1.868323</td>\n",
       "      <td>-0.005129</td>\n",
       "      <td>0.789978</td>\n",
       "      <td>...</td>\n",
       "      <td>0.102664</td>\n",
       "      <td>-0.797968</td>\n",
       "      <td>-0.681129</td>\n",
       "      <td>1.251984</td>\n",
       "      <td>-1.929878</td>\n",
       "      <td>0.592734</td>\n",
       "      <td>0.444313</td>\n",
       "      <td>-1.195970</td>\n",
       "      <td>-0.398205</td>\n",
       "      <td>-0.075411</td>\n",
       "    </tr>\n",
       "  </tbody>\n",
       "</table>\n",
       "<p>5 rows × 175 columns</p>\n",
       "</div>"
      ],
      "text/plain": [
       "        0         1         2         3         4         5         6    \\\n",
       "0 -0.164532  0.487939  0.711550  1.063592  0.288814  0.679757  1.419163   \n",
       "1  0.032834  0.345192  0.684653 -0.683363 -1.071050  1.601912 -1.389540   \n",
       "2 -0.042842 -1.009867  0.774578  0.258092 -1.530399  0.864581 -1.308243   \n",
       "3  0.086111 -0.816340 -0.788503  0.657952 -0.141692 -1.418505  0.069040   \n",
       "4 -0.047900  0.107642  0.455264  0.929138  0.073400  1.730522  0.176378   \n",
       "\n",
       "        7         8         9    ...       165       166       167       168  \\\n",
       "0 -1.929692  1.662674 -1.552939  ...  0.674197 -0.500293  2.319579 -0.841767   \n",
       "1 -0.982794 -1.583500  0.530116  ...  1.159822 -0.080116  0.458993  1.577653   \n",
       "2 -1.458523  1.559741 -0.128236  ... -0.325688 -0.212428 -0.324620 -1.406312   \n",
       "3  1.360545 -0.419088  1.069888  ... -0.649263  0.210520 -0.117820  0.526989   \n",
       "4 -1.868323 -0.005129  0.789978  ...  0.102664 -0.797968 -0.681129  1.251984   \n",
       "\n",
       "        169       170       171       172       173       174  \n",
       "0  0.446332  1.842349 -0.889885 -0.612941  0.451177 -1.408989  \n",
       "1 -1.188102  0.410867 -2.342873  0.429029 -0.071122  1.187568  \n",
       "2 -0.265334 -0.870585  0.072708  0.596910 -0.163540 -0.186299  \n",
       "3 -1.687033  0.003238 -0.373623  0.490749  1.195760  1.715022  \n",
       "4 -1.929878  0.592734  0.444313 -1.195970 -0.398205 -0.075411  \n",
       "\n",
       "[5 rows x 175 columns]"
      ]
     },
     "execution_count": 11,
     "metadata": {},
     "output_type": "execute_result"
    }
   ],
   "source": [
    "stand_vec = StandardScaler()\n",
    "tr_X = stand_vec.fit_transform(tr_X)\n",
    "pd.DataFrame(tr_X).head(5)"
   ]
  },
  {
   "cell_type": "code",
   "execution_count": 12,
   "metadata": {},
   "outputs": [
    {
     "data": {
      "text/html": [
       "<div>\n",
       "<style scoped>\n",
       "    .dataframe tbody tr th:only-of-type {\n",
       "        vertical-align: middle;\n",
       "    }\n",
       "\n",
       "    .dataframe tbody tr th {\n",
       "        vertical-align: top;\n",
       "    }\n",
       "\n",
       "    .dataframe thead th {\n",
       "        text-align: right;\n",
       "    }\n",
       "</style>\n",
       "<table border=\"1\" class=\"dataframe\">\n",
       "  <thead>\n",
       "    <tr style=\"text-align: right;\">\n",
       "      <th></th>\n",
       "      <th>0</th>\n",
       "      <th>1</th>\n",
       "      <th>2</th>\n",
       "      <th>3</th>\n",
       "      <th>4</th>\n",
       "      <th>5</th>\n",
       "      <th>6</th>\n",
       "      <th>7</th>\n",
       "      <th>8</th>\n",
       "      <th>9</th>\n",
       "      <th>...</th>\n",
       "      <th>165</th>\n",
       "      <th>166</th>\n",
       "      <th>167</th>\n",
       "      <th>168</th>\n",
       "      <th>169</th>\n",
       "      <th>170</th>\n",
       "      <th>171</th>\n",
       "      <th>172</th>\n",
       "      <th>173</th>\n",
       "      <th>174</th>\n",
       "    </tr>\n",
       "  </thead>\n",
       "  <tbody>\n",
       "    <tr>\n",
       "      <th>0</th>\n",
       "      <td>0.014912</td>\n",
       "      <td>-0.741837</td>\n",
       "      <td>0.274744</td>\n",
       "      <td>-0.063368</td>\n",
       "      <td>-0.432929</td>\n",
       "      <td>0.152815</td>\n",
       "      <td>-0.069140</td>\n",
       "      <td>0.272741</td>\n",
       "      <td>-0.981800</td>\n",
       "      <td>0.261619</td>\n",
       "      <td>...</td>\n",
       "      <td>-0.440932</td>\n",
       "      <td>2.019409</td>\n",
       "      <td>-0.674286</td>\n",
       "      <td>0.248574</td>\n",
       "      <td>0.172730</td>\n",
       "      <td>-0.201424</td>\n",
       "      <td>-0.133651</td>\n",
       "      <td>-0.679212</td>\n",
       "      <td>2.584033</td>\n",
       "      <td>-2.775280</td>\n",
       "    </tr>\n",
       "    <tr>\n",
       "      <th>1</th>\n",
       "      <td>-0.366959</td>\n",
       "      <td>-0.919499</td>\n",
       "      <td>-0.443526</td>\n",
       "      <td>0.626691</td>\n",
       "      <td>-0.076199</td>\n",
       "      <td>-0.502496</td>\n",
       "      <td>-0.784105</td>\n",
       "      <td>-0.332528</td>\n",
       "      <td>0.016349</td>\n",
       "      <td>0.193139</td>\n",
       "      <td>...</td>\n",
       "      <td>-3.586539</td>\n",
       "      <td>1.506607</td>\n",
       "      <td>1.235645</td>\n",
       "      <td>1.952467</td>\n",
       "      <td>0.481643</td>\n",
       "      <td>2.181453</td>\n",
       "      <td>0.265854</td>\n",
       "      <td>-0.255515</td>\n",
       "      <td>1.209500</td>\n",
       "      <td>2.050327</td>\n",
       "    </tr>\n",
       "    <tr>\n",
       "      <th>2</th>\n",
       "      <td>-0.178551</td>\n",
       "      <td>-0.651318</td>\n",
       "      <td>0.401148</td>\n",
       "      <td>-0.862620</td>\n",
       "      <td>0.579046</td>\n",
       "      <td>0.174308</td>\n",
       "      <td>-0.264050</td>\n",
       "      <td>-0.387602</td>\n",
       "      <td>1.146149</td>\n",
       "      <td>-0.298789</td>\n",
       "      <td>...</td>\n",
       "      <td>3.199833</td>\n",
       "      <td>0.978812</td>\n",
       "      <td>0.296180</td>\n",
       "      <td>0.984599</td>\n",
       "      <td>-1.230266</td>\n",
       "      <td>0.013612</td>\n",
       "      <td>-0.227200</td>\n",
       "      <td>-2.038692</td>\n",
       "      <td>0.130845</td>\n",
       "      <td>-0.244971</td>\n",
       "    </tr>\n",
       "    <tr>\n",
       "      <th>3</th>\n",
       "      <td>-0.226939</td>\n",
       "      <td>-1.074750</td>\n",
       "      <td>0.992441</td>\n",
       "      <td>-0.586995</td>\n",
       "      <td>0.002888</td>\n",
       "      <td>-0.118334</td>\n",
       "      <td>0.307092</td>\n",
       "      <td>-0.535269</td>\n",
       "      <td>0.015127</td>\n",
       "      <td>-0.167287</td>\n",
       "      <td>...</td>\n",
       "      <td>-0.924251</td>\n",
       "      <td>0.810002</td>\n",
       "      <td>0.241974</td>\n",
       "      <td>-1.006728</td>\n",
       "      <td>-0.351655</td>\n",
       "      <td>1.283195</td>\n",
       "      <td>-1.792211</td>\n",
       "      <td>3.315743</td>\n",
       "      <td>-4.006598</td>\n",
       "      <td>1.562571</td>\n",
       "    </tr>\n",
       "    <tr>\n",
       "      <th>4</th>\n",
       "      <td>-0.330429</td>\n",
       "      <td>-0.465384</td>\n",
       "      <td>-0.621555</td>\n",
       "      <td>-1.089506</td>\n",
       "      <td>-1.306731</td>\n",
       "      <td>-0.059321</td>\n",
       "      <td>0.148408</td>\n",
       "      <td>-0.022165</td>\n",
       "      <td>0.001760</td>\n",
       "      <td>-0.500889</td>\n",
       "      <td>...</td>\n",
       "      <td>-1.122691</td>\n",
       "      <td>0.482733</td>\n",
       "      <td>-2.019647</td>\n",
       "      <td>-0.426909</td>\n",
       "      <td>0.752649</td>\n",
       "      <td>0.194994</td>\n",
       "      <td>0.969147</td>\n",
       "      <td>-2.318632</td>\n",
       "      <td>2.219397</td>\n",
       "      <td>1.524134</td>\n",
       "    </tr>\n",
       "  </tbody>\n",
       "</table>\n",
       "<p>5 rows × 175 columns</p>\n",
       "</div>"
      ],
      "text/plain": [
       "        0         1         2         3         4         5         6    \\\n",
       "0  0.014912 -0.741837  0.274744 -0.063368 -0.432929  0.152815 -0.069140   \n",
       "1 -0.366959 -0.919499 -0.443526  0.626691 -0.076199 -0.502496 -0.784105   \n",
       "2 -0.178551 -0.651318  0.401148 -0.862620  0.579046  0.174308 -0.264050   \n",
       "3 -0.226939 -1.074750  0.992441 -0.586995  0.002888 -0.118334  0.307092   \n",
       "4 -0.330429 -0.465384 -0.621555 -1.089506 -1.306731 -0.059321  0.148408   \n",
       "\n",
       "        7         8         9    ...       165       166       167       168  \\\n",
       "0  0.272741 -0.981800  0.261619  ... -0.440932  2.019409 -0.674286  0.248574   \n",
       "1 -0.332528  0.016349  0.193139  ... -3.586539  1.506607  1.235645  1.952467   \n",
       "2 -0.387602  1.146149 -0.298789  ...  3.199833  0.978812  0.296180  0.984599   \n",
       "3 -0.535269  0.015127 -0.167287  ... -0.924251  0.810002  0.241974 -1.006728   \n",
       "4 -0.022165  0.001760 -0.500889  ... -1.122691  0.482733 -2.019647 -0.426909   \n",
       "\n",
       "        169       170       171       172       173       174  \n",
       "0  0.172730 -0.201424 -0.133651 -0.679212  2.584033 -2.775280  \n",
       "1  0.481643  2.181453  0.265854 -0.255515  1.209500  2.050327  \n",
       "2 -1.230266  0.013612 -0.227200 -2.038692  0.130845 -0.244971  \n",
       "3 -0.351655  1.283195 -1.792211  3.315743 -4.006598  1.562571  \n",
       "4  0.752649  0.194994  0.969147 -2.318632  2.219397  1.524134  \n",
       "\n",
       "[5 rows x 175 columns]"
      ]
     },
     "execution_count": 12,
     "metadata": {},
     "output_type": "execute_result"
    }
   ],
   "source": [
    "ts_X = stand_vec.transform(ts_X)\n",
    "pd.DataFrame(ts_X).head(5)"
   ]
  },
  {
   "cell_type": "markdown",
   "metadata": {
    "colab_type": "text",
    "id": "WmKe-W2plRiA"
   },
   "source": [
    "# 7. Apply ML Models (with hyperparameter)"
   ]
  },
  {
   "cell_type": "code",
   "execution_count": 13,
   "metadata": {
    "colab": {},
    "colab_type": "code",
    "id": "ab483jE0PGr3"
   },
   "outputs": [],
   "source": [
    "def hyperparameter_model(models, params):\n",
    "    '''\n",
    "    Hyperparameter tuning with StratifiedKFold follow by GridSearchCV follow by CalibratedClassifier\n",
    "    \n",
    "    Parameters:\n",
    "    models: Instance of the model\n",
    "    params: list of parameters with value fr tuning (dict)\n",
    "    \n",
    "    Return:\n",
    "    grid_clf: return gridsearch model    \n",
    "    '''\n",
    "    # Random shuffle after every iteration with stratify\n",
    "    str_cv = RepeatedStratifiedKFold(n_splits=10, n_repeats=5, random_state=42)\n",
    "    # Find the right hyperparameter for the model\n",
    "    grid_clf = GridSearchCV(models, params, cv=str_cv, return_train_score=True, scoring='roc_auc')\n",
    "    # Fit on train data\n",
    "    grid_clf.fit(tr_X, tr_y)\n",
    "    return grid_clf"
   ]
  },
  {
   "cell_type": "markdown",
   "metadata": {},
   "source": [
    "# 7.1 kNN"
   ]
  },
  {
   "cell_type": "code",
   "execution_count": 14,
   "metadata": {},
   "outputs": [],
   "source": [
    "# Import KNN\n",
    "from sklearn.neighbors import KNeighborsClassifier"
   ]
  },
  {
   "cell_type": "code",
   "execution_count": 15,
   "metadata": {},
   "outputs": [],
   "source": [
    "# kNN (See Docs: https://scikit-learn.org/stable/modules/generated/sklearn.neighbors.KNeighborsClassifier.html)\n",
    "\n",
    "# List of params\n",
    "params = {'n_neighbors':np.arange(3,51,2).tolist(), 'algorithm': ['kd_tree', 'brute']}\n",
    "# Instance of knn model\n",
    "knn_model = KNeighborsClassifier()\n",
    "# Call hyperparameter for find the best params as possible\n",
    "knn_clf = hyperparameter_model(knn_model, params)"
   ]
  },
  {
   "cell_type": "code",
   "execution_count": 16,
   "metadata": {},
   "outputs": [
    {
     "data": {
      "image/png": "[encoded data removed]",
      "text/plain": [
       "<Figure size 432x288 with 2 Axes>"
      ]
     },
     "metadata": {
      "needs_background": "light"
     },
     "output_type": "display_data"
    },
    {
     "data": {
      "image/png": "[encoded data removed]",
      "text/plain": [
       "<Figure size 432x288 with 2 Axes>"
      ]
     },
     "metadata": {
      "needs_background": "light"
     },
     "output_type": "display_data"
    }
   ],
   "source": [
    "cv_pvt = pd.pivot_table(pd.DataFrame(knn_clf.cv_results_), values='mean_test_score', index='param_n_neighbors', \\\n",
    "                     columns='param_algorithm')\n",
    "tr_pvt = pd.pivot_table(pd.DataFrame(knn_clf.cv_results_), values='mean_train_score', index='param_n_neighbors', \\\n",
    "                     columns='param_algorithm')\n",
    "\n",
    "plt.title('Train Hyperparameter')\n",
    "sns.heatmap(tr_pvt, annot=True)\n",
    "plt.show()\n",
    "\n",
    "plt.title('CV Hyperparameter')\n",
    "sns.heatmap(cv_pvt, annot=True)\n",
    "plt.show()"
   ]
  },
  {
   "cell_type": "code",
   "execution_count": 17,
   "metadata": {},
   "outputs": [
    {
     "name": "stdout",
     "output_type": "stream",
     "text": [
      "{'algorithm': 'kd_tree', 'n_neighbors': 17}\n"
     ]
    },
    {
     "data": {
      "text/plain": [
       "CalibratedClassifierCV(base_estimator=GridSearchCV(cv=RepeatedStratifiedKFold(n_repeats=5, n_splits=10, random_state=42),\n",
       "                                                   error_score=nan,\n",
       "                                                   estimator=KNeighborsClassifier(algorithm='auto',\n",
       "                                                                                  leaf_size=30,\n",
       "                                                                                  metric='minkowski',\n",
       "                                                                                  metric_params=None,\n",
       "                                                                                  n_jobs=None,\n",
       "                                                                                  n_neighbors=5,\n",
       "                                                                                  p=2,\n",
       "                                                                                  weights='uniform'),\n",
       "                                                   iid='deprecated',\n",
       "                                                   n_jobs=None,\n",
       "                                                   param_grid={'algorithm': ['kd_tree',\n",
       "                                                                             'brute'],\n",
       "                                                               'n_neighbors': [3,\n",
       "                                                                               5,\n",
       "                                                                               7,\n",
       "                                                                               9,\n",
       "                                                                               11,\n",
       "                                                                               13,\n",
       "                                                                               15,\n",
       "                                                                               17,\n",
       "                                                                               19,\n",
       "                                                                               21,\n",
       "                                                                               23,\n",
       "                                                                               25,\n",
       "                                                                               27,\n",
       "                                                                               29,\n",
       "                                                                               31,\n",
       "                                                                               33,\n",
       "                                                                               35,\n",
       "                                                                               37,\n",
       "                                                                               39,\n",
       "                                                                               41,\n",
       "                                                                               43,\n",
       "                                                                               45,\n",
       "                                                                               47,\n",
       "                                                                               49]},\n",
       "                                                   pre_dispatch='2*n_jobs',\n",
       "                                                   refit=True,\n",
       "                                                   return_train_score=True,\n",
       "                                                   scoring='roc_auc',\n",
       "                                                   verbose=0),\n",
       "                       cv=3, method='sigmoid')"
      ]
     },
     "execution_count": 17,
     "metadata": {},
     "output_type": "execute_result"
    }
   ],
   "source": [
    "print(knn_clf.best_params_)\n",
    "\n",
    "clf = CalibratedClassifierCV(knn_clf, cv=3)\n",
    "clf.fit(tr_X,tr_y)"
   ]
  },
  {
   "cell_type": "markdown",
   "metadata": {},
   "source": [
    "# 7.1.1 Kaggle Score"
   ]
  },
  {
   "cell_type": "code",
   "execution_count": 18,
   "metadata": {},
   "outputs": [],
   "source": [
    "# Create a submssion format to make submission in Kaggle\n",
    "temp_id = df_test['id']\n",
    "knn_csv = clf.predict_proba(ts_X)[:,1]\n",
    "knn_df = pd.DataFrame(np.column_stack((temp_id,knn_csv)), columns=['id','target'])\n",
    "knn_df['id'] = knn_df['id'].astype('int32')\n",
    "knn_df.to_csv(data_dir+'/submission_knn_tr175.csv', index=False)"
   ]
  },
  {
   "cell_type": "code",
   "execution_count": 43,
   "metadata": {},
   "outputs": [
    {
     "data": {
      "text/plain": [
       "<matplotlib.image.AxesImage at 0x1ed26304288>"
      ]
     },
     "execution_count": 43,
     "metadata": {},
     "output_type": "execute_result"
    },
    {
     "data": {
      "image/png": "[encoded data removed]",
      "text/plain": [
       "<Figure size 1296x360 with 1 Axes>"
      ]
     },
     "metadata": {
      "needs_background": "light"
     },
     "output_type": "display_data"
    }
   ],
   "source": [
    "image = plt.imread(data_dir+'/submission_knn_tr175.png')\n",
    "plt.figure(figsize=(18,5))\n",
    "plt.imshow(image)"
   ]
  },
  {
   "cell_type": "markdown",
   "metadata": {
    "colab_type": "text",
    "id": "mJM6bFjd9wWj"
   },
   "source": [
    "## 7.2 Logistic Regression"
   ]
  },
  {
   "cell_type": "code",
   "execution_count": 19,
   "metadata": {
    "colab": {},
    "colab_type": "code",
    "id": "oPzbxrko6TvH"
   },
   "outputs": [],
   "source": [
    "# Import Logistic Regression\n",
    "from sklearn.linear_model import LogisticRegression"
   ]
  },
  {
   "cell_type": "code",
   "execution_count": 20,
   "metadata": {
    "colab": {},
    "colab_type": "code",
    "id": "cXCJKyRhf-jY"
   },
   "outputs": [],
   "source": [
    "# LogisticRegression (See Docs: https://scikit-learn.org/stable/modules/generated/sklearn.linear_model.LogisticRegression.html)\n",
    "\n",
    "# List of hyperparameter that has to be tuned\n",
    "params = {'penalty':['l1', 'l2', 'elasticnet'], 'C':[10**i for i in range(-4,5)], 'solver':['liblinear','sag']}\n",
    "# Instance of Logsitic Regression\n",
    "log_model = LogisticRegression(random_state=42, class_weight='balanced')\n",
    "# Call hyperparameter to get the best parameters of this model\n",
    "log_clf = hyperparameter_model(log_model, params)"
   ]
  },
  {
   "cell_type": "code",
   "execution_count": 21,
   "metadata": {},
   "outputs": [
    {
     "data": {
      "image/png": "[encoded data removed]",
      "text/plain": [
       "<Figure size 432x288 with 2 Axes>"
      ]
     },
     "metadata": {
      "needs_background": "light"
     },
     "output_type": "display_data"
    },
    {
     "data": {
      "image/png": "[encoded data removed]",
      "text/plain": [
       "<Figure size 432x288 with 2 Axes>"
      ]
     },
     "metadata": {
      "needs_background": "light"
     },
     "output_type": "display_data"
    }
   ],
   "source": [
    "cv_pvt = pd.pivot_table(pd.DataFrame(log_clf.cv_results_), values='mean_test_score', index='param_penalty', \\\n",
    "                     columns='param_C')\n",
    "tr_pvt = pd.pivot_table(pd.DataFrame(log_clf.cv_results_), values='mean_train_score', index='param_penalty', \\\n",
    "                     columns='param_C')\n",
    "\n",
    "plt.title('Train Hyperparameter')\n",
    "sns.heatmap(tr_pvt, annot=True)\n",
    "plt.show()\n",
    "\n",
    "plt.title('CV Hyperparameter')\n",
    "sns.heatmap(cv_pvt, annot=True)\n",
    "plt.show()"
   ]
  },
  {
   "cell_type": "code",
   "execution_count": 22,
   "metadata": {
    "colab": {
     "base_uri": "https://localhost:8080/",
     "height": 34
    },
    "colab_type": "code",
    "executionInfo": {
     "elapsed": 818,
     "status": "ok",
     "timestamp": 1586509398848,
     "user": {
      "displayName": "Sahil -",
      "photoUrl": "",
      "userId": "14051148522636395588"
     },
     "user_tz": -330
    },
    "id": "rnAEVo73g-65",
    "outputId": "f309b5e0-4042-4c10-e1c4-839f75acb227"
   },
   "outputs": [
    {
     "name": "stdout",
     "output_type": "stream",
     "text": [
      "{'C': 1000, 'penalty': 'l1', 'solver': 'liblinear'}\n"
     ]
    },
    {
     "data": {
      "text/plain": [
       "CalibratedClassifierCV(base_estimator=GridSearchCV(cv=RepeatedStratifiedKFold(n_repeats=5, n_splits=10, random_state=42),\n",
       "                                                   error_score=nan,\n",
       "                                                   estimator=LogisticRegression(C=1.0,\n",
       "                                                                                class_weight='balanced',\n",
       "                                                                                dual=False,\n",
       "                                                                                fit_intercept=True,\n",
       "                                                                                intercept_scaling=1,\n",
       "                                                                                l1_ratio=None,\n",
       "                                                                                max_iter=100,\n",
       "                                                                                multi_class='auto',\n",
       "                                                                                n_jobs=None,\n",
       "                                                                                penalty='l2',\n",
       "                                                                                random_state=42,\n",
       "                                                                                solver='lbfgs',\n",
       "                                                                                tol=0.0001,\n",
       "                                                                                verbose=0,\n",
       "                                                                                warm_start=False),\n",
       "                                                   iid='deprecated',\n",
       "                                                   n_jobs=None,\n",
       "                                                   param_grid={'C': [0.0001,\n",
       "                                                                     0.001,\n",
       "                                                                     0.01, 0.1,\n",
       "                                                                     1, 10, 100,\n",
       "                                                                     1000,\n",
       "                                                                     10000],\n",
       "                                                               'penalty': ['l1',\n",
       "                                                                           'l2',\n",
       "                                                                           'elasticnet'],\n",
       "                                                               'solver': ['liblinear',\n",
       "                                                                          'sag']},\n",
       "                                                   pre_dispatch='2*n_jobs',\n",
       "                                                   refit=True,\n",
       "                                                   return_train_score=True,\n",
       "                                                   scoring='roc_auc',\n",
       "                                                   verbose=0),\n",
       "                       cv=3, method='sigmoid')"
      ]
     },
     "execution_count": 22,
     "metadata": {},
     "output_type": "execute_result"
    }
   ],
   "source": [
    "print(log_clf.best_params_)\n",
    "\n",
    "clf = CalibratedClassifierCV(log_clf, cv=3)\n",
    "clf.fit(tr_X,tr_y)"
   ]
  },
  {
   "cell_type": "markdown",
   "metadata": {},
   "source": [
    "# 7.2.1 Kaggle Score"
   ]
  },
  {
   "cell_type": "code",
   "execution_count": 23,
   "metadata": {},
   "outputs": [],
   "source": [
    "# Create a submssion format to make submission in Kaggle\n",
    "temp_id = df_test['id']\n",
    "log_csv = clf.predict_proba(ts_X)[:,1]\n",
    "log_df = pd.DataFrame(np.column_stack((temp_id,log_csv)), columns=['id','target'])\n",
    "log_df['id'] = log_df['id'].astype('int32')\n",
    "log_df.to_csv(data_dir+'/submission_log_tr175.csv', index=False)"
   ]
  },
  {
   "cell_type": "code",
   "execution_count": 44,
   "metadata": {},
   "outputs": [
    {
     "data": {
      "text/plain": [
       "<matplotlib.image.AxesImage at 0x1ed26a85608>"
      ]
     },
     "execution_count": 44,
     "metadata": {},
     "output_type": "execute_result"
    },
    {
     "data": {
      "image/png": "[encoded data removed]",
      "text/plain": [
       "<Figure size 1296x360 with 1 Axes>"
      ]
     },
     "metadata": {
      "needs_background": "light"
     },
     "output_type": "display_data"
    }
   ],
   "source": [
    "image = plt.imread(data_dir+'/submission_log_tr175.png')\n",
    "plt.figure(figsize=(18,5))\n",
    "plt.imshow(image)"
   ]
  },
  {
   "cell_type": "markdown",
   "metadata": {},
   "source": [
    "# 7.3 SVC"
   ]
  },
  {
   "cell_type": "code",
   "execution_count": 24,
   "metadata": {},
   "outputs": [],
   "source": [
    "# Import SVC\n",
    "from sklearn.svm import SVC"
   ]
  },
  {
   "cell_type": "code",
   "execution_count": 26,
   "metadata": {},
   "outputs": [],
   "source": [
    "# SVC (See Docs: https://scikit-learn.org/stable/modules/generated/sklearn.svm.SVC.html)\n",
    "\n",
    "# List of hyperparameter that has to be tuned\n",
    "params = {'C':[10**i for i in range(-4,5)], 'kernel':['linear','poly','sigmoid','rbf']}\n",
    "# Instance of SVC\n",
    "svc_model = SVC(class_weight='balanced', random_state=42, probability=True)\n",
    "# Call hyperparameter to find the best parameters\n",
    "svc_clf = hyperparameter_model(svc_model, params)"
   ]
  },
  {
   "cell_type": "code",
   "execution_count": 27,
   "metadata": {},
   "outputs": [
    {
     "data": {
      "image/png": "[encoded data removed]",
      "text/plain": [
       "<Figure size 432x288 with 2 Axes>"
      ]
     },
     "metadata": {
      "needs_background": "light"
     },
     "output_type": "display_data"
    },
    {
     "data": {
      "image/png": "[encoded data removed]",
      "text/plain": [
       "<Figure size 432x288 with 2 Axes>"
      ]
     },
     "metadata": {
      "needs_background": "light"
     },
     "output_type": "display_data"
    }
   ],
   "source": [
    "cv_pvt = pd.pivot_table(pd.DataFrame(svc_clf.cv_results_), values='mean_test_score', index='param_C', \\\n",
    "                     columns='param_kernel')\n",
    "tr_pvt = pd.pivot_table(pd.DataFrame(svc_clf.cv_results_), values='mean_train_score', index='param_C', \\\n",
    "                     columns='param_kernel')\n",
    "\n",
    "plt.title('Train Hyperparameter')\n",
    "sns.heatmap(tr_pvt, annot=True)\n",
    "plt.show()\n",
    "\n",
    "plt.title('CV Hyperparameter')\n",
    "sns.heatmap(cv_pvt, annot=True)\n",
    "plt.show()"
   ]
  },
  {
   "cell_type": "code",
   "execution_count": 28,
   "metadata": {},
   "outputs": [
    {
     "name": "stdout",
     "output_type": "stream",
     "text": [
      "{'C': 0.1, 'kernel': 'linear'}\n"
     ]
    },
    {
     "data": {
      "text/plain": [
       "CalibratedClassifierCV(base_estimator=GridSearchCV(cv=RepeatedStratifiedKFold(n_repeats=5, n_splits=10, random_state=42),\n",
       "                                                   error_score=nan,\n",
       "                                                   estimator=SVC(C=1.0,\n",
       "                                                                 break_ties=False,\n",
       "                                                                 cache_size=200,\n",
       "                                                                 class_weight='balanced',\n",
       "                                                                 coef0=0.0,\n",
       "                                                                 decision_function_shape='ovr',\n",
       "                                                                 degree=3,\n",
       "                                                                 gamma='scale',\n",
       "                                                                 kernel='rbf',\n",
       "                                                                 max_iter=-1,\n",
       "                                                                 probability=True,\n",
       "                                                                 random_state=42,\n",
       "                                                                 shrinking=True,\n",
       "                                                                 tol=0.001,\n",
       "                                                                 verbose=False),\n",
       "                                                   iid='deprecated',\n",
       "                                                   n_jobs=None,\n",
       "                                                   param_grid={'C': [0.0001,\n",
       "                                                                     0.001,\n",
       "                                                                     0.01, 0.1,\n",
       "                                                                     1, 10, 100,\n",
       "                                                                     1000,\n",
       "                                                                     10000],\n",
       "                                                               'kernel': ['linear',\n",
       "                                                                          'poly',\n",
       "                                                                          'sigmoid',\n",
       "                                                                          'rbf']},\n",
       "                                                   pre_dispatch='2*n_jobs',\n",
       "                                                   refit=True,\n",
       "                                                   return_train_score=True,\n",
       "                                                   scoring='roc_auc',\n",
       "                                                   verbose=0),\n",
       "                       cv=3, method='sigmoid')"
      ]
     },
     "execution_count": 28,
     "metadata": {},
     "output_type": "execute_result"
    }
   ],
   "source": [
    "print(svc_clf.best_params_)\n",
    "\n",
    "clf = CalibratedClassifierCV(svc_clf, cv=3)\n",
    "clf.fit(tr_X,tr_y)"
   ]
  },
  {
   "cell_type": "markdown",
   "metadata": {},
   "source": [
    "# 7.3.1 Kaggle Score"
   ]
  },
  {
   "cell_type": "code",
   "execution_count": 29,
   "metadata": {},
   "outputs": [],
   "source": [
    "# Create a submssion format to make submission in Kaggle\n",
    "temp_id = df_test['id']\n",
    "svc_csv = clf.predict_proba(ts_X)[:,1]\n",
    "svc_df = pd.DataFrame(np.column_stack((temp_id,svc_csv)), columns=['id','target'])\n",
    "svc_df['id'] = svc_df['id'].astype('int32')\n",
    "svc_df.to_csv(data_dir+'/submission_svc_tr75.csv', index=False)"
   ]
  },
  {
   "cell_type": "code",
   "execution_count": 45,
   "metadata": {},
   "outputs": [
    {
     "data": {
      "text/plain": [
       "<matplotlib.image.AxesImage at 0x1ed26219448>"
      ]
     },
     "execution_count": 45,
     "metadata": {},
     "output_type": "execute_result"
    },
    {
     "data": {
      "image/png": "[encoded data removed]",
      "text/plain": [
       "<Figure size 1296x360 with 1 Axes>"
      ]
     },
     "metadata": {
      "needs_background": "light"
     },
     "output_type": "display_data"
    }
   ],
   "source": [
    "image = plt.imread(data_dir+'/submission_svc_tr175.png')\n",
    "plt.figure(figsize=(18,5))\n",
    "plt.imshow(image)"
   ]
  },
  {
   "cell_type": "markdown",
   "metadata": {},
   "source": [
    "# 7.4 RandomForest"
   ]
  },
  {
   "cell_type": "code",
   "execution_count": 30,
   "metadata": {},
   "outputs": [],
   "source": [
    "# Impoer Random Forest\n",
    "from sklearn.ensemble import RandomForestClassifier"
   ]
  },
  {
   "cell_type": "code",
   "execution_count": 31,
   "metadata": {},
   "outputs": [],
   "source": [
    "# RandomForest (See Docs: https://scikit-learn.org/stable/modules/generated/sklearn.ensemble.RandomForestClassifier.html)\n",
    "\n",
    "# List of hyperparameter that has t be tuned\n",
    "params = {'n_estimators':[10,20,30,40,50,100,200,300,400],'max_depth':[2,3,5,7]}\n",
    "# Instance of randomforest\n",
    "rf_model = RandomForestClassifier(random_state=42)\n",
    "# Perform GridSearchCV to find best parameters\n",
    "rf_clf = hyperparameter_model(rf_model, params)"
   ]
  },
  {
   "cell_type": "code",
   "execution_count": 32,
   "metadata": {},
   "outputs": [
    {
     "data": {
      "image/png": "[encoded data removed]",
      "text/plain": [
       "<Figure size 432x288 with 2 Axes>"
      ]
     },
     "metadata": {
      "needs_background": "light"
     },
     "output_type": "display_data"
    },
    {
     "data": {
      "image/png": "[encoded data removed]",
      "text/plain": [
       "<Figure size 432x288 with 2 Axes>"
      ]
     },
     "metadata": {
      "needs_background": "light"
     },
     "output_type": "display_data"
    }
   ],
   "source": [
    "# Ref: https://stackoverflow.com/questions/48791709/how-to-plot-a-heat-map-on-pivot-table-after-grid-search\n",
    "\n",
    "# Plotting of hyperpameter of train and cv score\n",
    "pvt_tr = pd.pivot_table(pd.DataFrame(rf_clf.cv_results_), values='mean_train_score', index='param_n_estimators', columns='param_max_depth')\n",
    "pvt_cv = pd.pivot_table(pd.DataFrame(rf_clf.cv_results_), values='mean_test_score', index='param_n_estimators', columns='param_max_depth')\n",
    "plt.figure(1)\n",
    "plt.title('Hyperparameter for Train')\n",
    "sns.heatmap(pvt_tr, annot=True)\n",
    "plt.figure(2)\n",
    "plt.title('Hyperparameter for CV')\n",
    "sns.heatmap(pvt_cv, annot=True)\n",
    "plt.show()"
   ]
  },
  {
   "cell_type": "code",
   "execution_count": 33,
   "metadata": {},
   "outputs": [
    {
     "name": "stdout",
     "output_type": "stream",
     "text": [
      "{'max_depth': 2, 'n_estimators': 400}\n"
     ]
    },
    {
     "data": {
      "text/plain": [
       "CalibratedClassifierCV(base_estimator=GridSearchCV(cv=RepeatedStratifiedKFold(n_repeats=5, n_splits=10, random_state=42),\n",
       "                                                   error_score=nan,\n",
       "                                                   estimator=RandomForestClassifier(bootstrap=True,\n",
       "                                                                                    ccp_alpha=0.0,\n",
       "                                                                                    class_weight=None,\n",
       "                                                                                    criterion='gini',\n",
       "                                                                                    max_depth=None,\n",
       "                                                                                    max_features='auto',\n",
       "                                                                                    max_leaf_nodes=None,\n",
       "                                                                                    max_samples=None,\n",
       "                                                                                    min_impurity_decrease=0.0,\n",
       "                                                                                    min_impurity_split=N...\n",
       "                                                                                    min_samples_split=2,\n",
       "                                                                                    min_weight_fraction_leaf=0.0,\n",
       "                                                                                    n_estimators=100,\n",
       "                                                                                    n_jobs=None,\n",
       "                                                                                    oob_score=False,\n",
       "                                                                                    random_state=42,\n",
       "                                                                                    verbose=0,\n",
       "                                                                                    warm_start=False),\n",
       "                                                   iid='deprecated',\n",
       "                                                   n_jobs=None,\n",
       "                                                   param_grid={'max_depth': [2,\n",
       "                                                                             3,\n",
       "                                                                             5,\n",
       "                                                                             7],\n",
       "                                                               'n_estimators': [10,\n",
       "                                                                                20,\n",
       "                                                                                30,\n",
       "                                                                                40,\n",
       "                                                                                50,\n",
       "                                                                                100,\n",
       "                                                                                200,\n",
       "                                                                                300,\n",
       "                                                                                400]},\n",
       "                                                   pre_dispatch='2*n_jobs',\n",
       "                                                   refit=True,\n",
       "                                                   return_train_score=True,\n",
       "                                                   scoring='roc_auc',\n",
       "                                                   verbose=0),\n",
       "                       cv=3, method='sigmoid')"
      ]
     },
     "execution_count": 33,
     "metadata": {},
     "output_type": "execute_result"
    }
   ],
   "source": [
    "print(rf_clf.best_params_)\n",
    "\n",
    "# Calibrate the model\n",
    "clf = CalibratedClassifierCV(rf_clf, cv=3)\n",
    "clf.fit(tr_X, tr_y)"
   ]
  },
  {
   "cell_type": "markdown",
   "metadata": {},
   "source": [
    "# 7.4.1 Kaggle Score"
   ]
  },
  {
   "cell_type": "code",
   "execution_count": 34,
   "metadata": {},
   "outputs": [],
   "source": [
    "# Create a submission file format to submit in kaggle\n",
    "temp_id = df_test['id']\n",
    "rf_csv = clf.predict_proba(ts_X)[:,1]\n",
    "rf_df = pd.DataFrame(np.column_stack((temp_id,rf_csv)), columns=['id','target'])\n",
    "rf_df['id'] = rf_df['id'].astype('int32')\n",
    "rf_df.to_csv(data_dir+'/submission_rf_tr175.csv', index=False)"
   ]
  },
  {
   "cell_type": "code",
   "execution_count": 46,
   "metadata": {},
   "outputs": [
    {
     "data": {
      "text/plain": [
       "<matplotlib.image.AxesImage at 0x1ed25cbaac8>"
      ]
     },
     "execution_count": 46,
     "metadata": {},
     "output_type": "execute_result"
    },
    {
     "data": {
      "image/png": "[encoded data removed]",
      "text/plain": [
       "<Figure size 1296x360 with 1 Axes>"
      ]
     },
     "metadata": {
      "needs_background": "light"
     },
     "output_type": "display_data"
    }
   ],
   "source": [
    "image = plt.imread(data_dir+'/submission_rf_tr175.png')\n",
    "plt.figure(figsize=(18,5))\n",
    "plt.imshow(image)"
   ]
  },
  {
   "cell_type": "markdown",
   "metadata": {},
   "source": [
    "# 7.5 XGBoost"
   ]
  },
  {
   "cell_type": "code",
   "execution_count": 35,
   "metadata": {},
   "outputs": [],
   "source": [
    "# Import Xgboost\n",
    "from xgboost import XGBClassifier"
   ]
  },
  {
   "cell_type": "code",
   "execution_count": 36,
   "metadata": {},
   "outputs": [],
   "source": [
    "# Xgboost (See Docs: https://xgboost.readthedocs.io/en/latest/python/python_api.html)\n",
    "\n",
    "# List of hyperparameter that has to be tuned\n",
    "params = {'max_depth':[2,3,5,7], 'n_estimators':[10,20,50,100,200,300,400]}\n",
    "# Instance of XGBoost Model\n",
    "xgb_model = XGBClassifier(scale_pos_weight=0.5)\n",
    "# Call hyperparameter to find the best parameters\n",
    "xgb_clf = hyperparameter_model(xgb_model, params)"
   ]
  },
  {
   "cell_type": "code",
   "execution_count": 37,
   "metadata": {},
   "outputs": [
    {
     "data": {
      "image/png": "[encoded data removed]",
      "text/plain": [
       "<Figure size 432x288 with 2 Axes>"
      ]
     },
     "metadata": {
      "needs_background": "light"
     },
     "output_type": "display_data"
    },
    {
     "data": {
      "image/png": "[encoded data removed]",
      "text/plain": [
       "<Figure size 432x288 with 2 Axes>"
      ]
     },
     "metadata": {
      "needs_background": "light"
     },
     "output_type": "display_data"
    }
   ],
   "source": [
    "# Ref: https://stackoverflow.com/questions/48791709/how-to-plot-a-heat-map-on-pivot-table-after-grid-search\n",
    "\n",
    "# Plotting of hyperpameter of train and cv score\n",
    "pvt_tr = pd.pivot_table(pd.DataFrame(xgb_clf.cv_results_), values='mean_train_score', index='param_n_estimators', columns='param_max_depth')\n",
    "pvt_cv = pd.pivot_table(pd.DataFrame(xgb_clf.cv_results_), values='mean_test_score', index='param_n_estimators', columns='param_max_depth')\n",
    "plt.figure(1)\n",
    "plt.title('Hyperparameter for Train')\n",
    "sns.heatmap(pvt_tr, annot=True)\n",
    "plt.figure(2)\n",
    "plt.title('Hyperparameter for CV')\n",
    "sns.heatmap(pvt_cv, annot=True)\n",
    "plt.show()"
   ]
  },
  {
   "cell_type": "code",
   "execution_count": 38,
   "metadata": {},
   "outputs": [
    {
     "name": "stdout",
     "output_type": "stream",
     "text": [
      "{'max_depth': 7, 'n_estimators': 300}\n"
     ]
    },
    {
     "data": {
      "text/plain": [
       "CalibratedClassifierCV(base_estimator=GridSearchCV(cv=RepeatedStratifiedKFold(n_repeats=5, n_splits=10, random_state=42),\n",
       "                                                   error_score=nan,\n",
       "                                                   estimator=XGBClassifier(base_score=None,\n",
       "                                                                           booster=None,\n",
       "                                                                           colsample_bylevel=None,\n",
       "                                                                           colsample_bynode=None,\n",
       "                                                                           colsample_bytree=None,\n",
       "                                                                           gamma=None,\n",
       "                                                                           gpu_id=None,\n",
       "                                                                           importance_type='gain',\n",
       "                                                                           interaction_constraints=None,\n",
       "                                                                           learning_rate=None,\n",
       "                                                                           m...\n",
       "                                                                           random_state=None,\n",
       "                                                                           reg_alpha=None,\n",
       "                                                                           reg_lambda=None,\n",
       "                                                                           scale_pos_weight=0.5,\n",
       "                                                                           subsample=None,\n",
       "                                                                           tree_method=None,\n",
       "                                                                           validate_parameters=False,\n",
       "                                                                           verbosity=None),\n",
       "                                                   iid='deprecated',\n",
       "                                                   n_jobs=None,\n",
       "                                                   param_grid={'max_depth': [2,\n",
       "                                                                             3,\n",
       "                                                                             5,\n",
       "                                                                             7],\n",
       "                                                               'n_estimators': [10,\n",
       "                                                                                20,\n",
       "                                                                                50,\n",
       "                                                                                100,\n",
       "                                                                                200,\n",
       "                                                                                300,\n",
       "                                                                                400]},\n",
       "                                                   pre_dispatch='2*n_jobs',\n",
       "                                                   refit=True,\n",
       "                                                   return_train_score=True,\n",
       "                                                   scoring='roc_auc',\n",
       "                                                   verbose=0),\n",
       "                       cv=3, method='sigmoid')"
      ]
     },
     "execution_count": 38,
     "metadata": {},
     "output_type": "execute_result"
    }
   ],
   "source": [
    "print(xgb_clf.best_params_)\n",
    "\n",
    "# Calibrate the model\n",
    "clf = CalibratedClassifierCV(xgb_clf, cv=3)\n",
    "clf.fit(tr_X, tr_y)"
   ]
  },
  {
   "cell_type": "markdown",
   "metadata": {},
   "source": [
    "# 7.5.1 Kaggle Score"
   ]
  },
  {
   "cell_type": "code",
   "execution_count": 39,
   "metadata": {},
   "outputs": [],
   "source": [
    "# Create submission file format to submit in Kaggle\n",
    "temp_id = df_test['id']\n",
    "xgb_csv = clf.predict_proba(ts_X)[:,1]\n",
    "xgb_df = pd.DataFrame(np.column_stack((temp_id,xgb_csv)), columns=['id','target'])\n",
    "xgb_df['id'] = xgb_df['id'].astype('int32')\n",
    "xgb_df.to_csv(data_dir+'/submission_xgb_tr175.csv', index=False)"
   ]
  },
  {
   "cell_type": "code",
   "execution_count": 47,
   "metadata": {},
   "outputs": [
    {
     "data": {
      "text/plain": [
       "<matplotlib.image.AxesImage at 0x1ed25d1b348>"
      ]
     },
     "execution_count": 47,
     "metadata": {},
     "output_type": "execute_result"
    },
    {
     "data": {
      "image/png": "[encoded data removed]",
      "text/plain": [
       "<Figure size 1296x360 with 1 Axes>"
      ]
     },
     "metadata": {
      "needs_background": "light"
     },
     "output_type": "display_data"
    }
   ],
   "source": [
    "image = plt.imread(data_dir+'/submission_xgb_tr175.png')\n",
    "plt.figure(figsize=(18,5))\n",
    "plt.imshow(image)"
   ]
  },
  {
   "cell_type": "markdown",
   "metadata": {},
   "source": [
    "# 7.6 Stacking Classifier"
   ]
  },
  {
   "cell_type": "code",
   "execution_count": 40,
   "metadata": {},
   "outputs": [],
   "source": [
    "# Import Stacking Classifier\n",
    "from mlxtend.classifier import StackingClassifier"
   ]
  },
  {
   "cell_type": "code",
   "execution_count": 41,
   "metadata": {},
   "outputs": [
    {
     "data": {
      "text/plain": [
       "StackingClassifier(average_probas=False,\n",
       "                   classifiers=[CalibratedClassifierCV(base_estimator=LogisticRegression(C=1000,\n",
       "                                                                                         class_weight='balanced',\n",
       "                                                                                         dual=False,\n",
       "                                                                                         fit_intercept=True,\n",
       "                                                                                         intercept_scaling=1,\n",
       "                                                                                         l1_ratio=None,\n",
       "                                                                                         max_iter=100,\n",
       "                                                                                         multi_class='auto',\n",
       "                                                                                         n_jobs=None,\n",
       "                                                                                         penalty='l1',\n",
       "                                                                                         random_state=42,\n",
       "                                                                                         solver='liblinear',\n",
       "                                                                                         tol=0.0001,\n",
       "                                                                                         verbose=0,\n",
       "                                                                                         warm_start=False),\n",
       "                                                       cv=3, method='s...\n",
       "                   meta_classifier=CalibratedClassifierCV(base_estimator=LogisticRegression(C=1000,\n",
       "                                                                                            class_weight='balanced',\n",
       "                                                                                            dual=False,\n",
       "                                                                                            fit_intercept=True,\n",
       "                                                                                            intercept_scaling=1,\n",
       "                                                                                            l1_ratio=None,\n",
       "                                                                                            max_iter=100,\n",
       "                                                                                            multi_class='auto',\n",
       "                                                                                            n_jobs=None,\n",
       "                                                                                            penalty='l1',\n",
       "                                                                                            random_state=42,\n",
       "                                                                                            solver='liblinear',\n",
       "                                                                                            tol=0.0001,\n",
       "                                                                                            verbose=0,\n",
       "                                                                                            warm_start=False),\n",
       "                                                          cv=3,\n",
       "                                                          method='sigmoid'),\n",
       "                   store_train_meta_features=False, use_clones=True,\n",
       "                   use_features_in_secondary=False, use_probas=True, verbose=0)"
      ]
     },
     "execution_count": 41,
     "metadata": {},
     "output_type": "execute_result"
    }
   ],
   "source": [
    "# StackClassifier (See Docs: http://rasbt.github.io/mlxtend/user_guide/classifier/StackingClassifier/#methods)\n",
    "\n",
    "# Classifier 1: Logistic Regression with best params\n",
    "clf1 = LogisticRegression(C = 1000, penalty = 'l1', solver = 'liblinear', class_weight='balanced', random_state=42)\n",
    "clf1.fit(tr_X,tr_y)\n",
    "clf1 = CalibratedClassifierCV(clf1, cv=3)\n",
    "\n",
    "# Classifier 2: SVC with best params\n",
    "clf2 = SVC(C=0.1, kernel='linear', random_state=42, class_weight='balanced', probability=True)\n",
    "clf2.fit(tr_X,tr_y)\n",
    "clf2 = CalibratedClassifierCV(clf2, cv=3)\n",
    "\n",
    "# Classifier 3: XGBoost with best params\n",
    "clf3 = XGBClassifier(max_depth=7, n_estimators=300, scale_pos_weight=0.5)\n",
    "clf3.fit(tr_X,tr_y)\n",
    "clf3 = CalibratedClassifierCV(clf3, cv=3)\n",
    "\n",
    "# Classifier 4: RF with best params\n",
    "clf4 = RandomForestClassifier(max_depth=2, n_estimators=400)\n",
    "clf4.fit(tr_X,tr_y)\n",
    "clf4 = CalibratedClassifierCV(clf4, cv=3)\n",
    "\n",
    "# Stack Classifier\n",
    "sclf = StackingClassifier(classifiers=[clf1,clf2,clf3,clf4], meta_classifier=clf1, use_probas=True)\n",
    "\n",
    "# Fit the model\n",
    "sclf.fit(tr_X, tr_y)"
   ]
  },
  {
   "cell_type": "markdown",
   "metadata": {},
   "source": [
    "# 7.6.1 Kaggle score"
   ]
  },
  {
   "cell_type": "code",
   "execution_count": 42,
   "metadata": {},
   "outputs": [],
   "source": [
    "# Create a submission file format to submit in Kaggle\n",
    "temp_id = df_test['id']\n",
    "sclf_csv = sclf.predict_proba(ts_X)[:,1]\n",
    "sclf_df = pd.DataFrame(np.column_stack((temp_id,sclf_csv)), columns=['id','target'])\n",
    "sclf_df['id'] = sclf_df['id'].astype('int32')\n",
    "sclf_df.to_csv(data_dir+'/submission_sclf_tr175.csv', index=False)"
   ]
  },
  {
   "cell_type": "code",
   "execution_count": 48,
   "metadata": {},
   "outputs": [
    {
     "data": {
      "text/plain": [
       "<matplotlib.image.AxesImage at 0x1ed25e78808>"
      ]
     },
     "execution_count": 48,
     "metadata": {},
     "output_type": "execute_result"
    },
    {
     "data": {
      "image/png": "[encoded data removed]",
      "text/plain": [
       "<Figure size 1296x360 with 1 Axes>"
      ]
     },
     "metadata": {
      "needs_background": "light"
     },
     "output_type": "display_data"
    }
   ],
   "source": [
    "image = plt.imread(data_dir+'/submission_sclf_tr175.png')\n",
    "plt.figure(figsize=(18,5))\n",
    "plt.imshow(image)"
   ]
  },
  {
   "cell_type": "markdown",
   "metadata": {},
   "source": [
    "# 7.7 Voting Classifier (Without Stack Classifier + no weights)"
   ]
  },
  {
   "cell_type": "code",
   "execution_count": 49,
   "metadata": {},
   "outputs": [],
   "source": [
    "# Import Voting Classifier\n",
    "from mlxtend.classifier import EnsembleVoteClassifier"
   ]
  },
  {
   "cell_type": "code",
   "execution_count": 50,
   "metadata": {},
   "outputs": [
    {
     "data": {
      "text/plain": [
       "EnsembleVoteClassifier(clfs=[CalibratedClassifierCV(base_estimator=LogisticRegression(C=1000,\n",
       "                                                                                      class_weight='balanced',\n",
       "                                                                                      dual=False,\n",
       "                                                                                      fit_intercept=True,\n",
       "                                                                                      intercept_scaling=1,\n",
       "                                                                                      l1_ratio=None,\n",
       "                                                                                      max_iter=100,\n",
       "                                                                                      multi_class='auto',\n",
       "                                                                                      n_jobs=None,\n",
       "                                                                                      penalty='l1',\n",
       "                                                                                      random_state=42,\n",
       "                                                                                      solver='liblinear',\n",
       "                                                                                      tol=0.0001,\n",
       "                                                                                      verbose=0,\n",
       "                                                                                      warm_start=False),\n",
       "                                                    cv=3, method='sigmoid'),\n",
       "                             CalibratedClass...\n",
       "                                                                                          max_depth=2,\n",
       "                                                                                          max_features='auto',\n",
       "                                                                                          max_leaf_nodes=None,\n",
       "                                                                                          max_samples=None,\n",
       "                                                                                          min_impurity_decrease=0.0,\n",
       "                                                                                          min_impurity_split=None,\n",
       "                                                                                          min_samples_leaf=1,\n",
       "                                                                                          min_samples_split=2,\n",
       "                                                                                          min_weight_fraction_leaf=0.0,\n",
       "                                                                                          n_estimators=400,\n",
       "                                                                                          n_jobs=None,\n",
       "                                                                                          oob_score=False,\n",
       "                                                                                          random_state=None,\n",
       "                                                                                          verbose=0,\n",
       "                                                                                          warm_start=False),\n",
       "                                                    cv=3, method='sigmoid')],\n",
       "                       refit=True, verbose=0, voting='hard', weights=None)"
      ]
     },
     "execution_count": 50,
     "metadata": {},
     "output_type": "execute_result"
    }
   ],
   "source": [
    "# Voting Classifier (See Docs: http://rasbt.github.io/mlxtend/user_guide/classifier/EnsembleVoteClassifier/)\n",
    "eclf = EnsembleVoteClassifier(clfs=[clf1, clf2,clf3,clf4])\n",
    "# Fit the train data\n",
    "eclf.fit(tr_X,tr_y)"
   ]
  },
  {
   "cell_type": "markdown",
   "metadata": {},
   "source": [
    "# 7.7.1 Kaggle Score"
   ]
  },
  {
   "cell_type": "code",
   "execution_count": 51,
   "metadata": {},
   "outputs": [],
   "source": [
    "# Create a submission file format to submit in Kaggle\n",
    "temp_id = df_test['id']\n",
    "eclf_csv = eclf.predict_proba(ts_X)[:,1]\n",
    "eclf_df = pd.DataFrame(np.column_stack((temp_id,eclf_csv)), columns=['id','target'])\n",
    "eclf_df['id'] = eclf_df['id'].astype('int32')\n",
    "eclf_df.to_csv(data_dir+'/submission_eclf_tr175.csv', index=False)"
   ]
  },
  {
   "cell_type": "code",
   "execution_count": 52,
   "metadata": {},
   "outputs": [
    {
     "data": {
      "text/plain": [
       "<matplotlib.image.AxesImage at 0x1ed26942408>"
      ]
     },
     "execution_count": 52,
     "metadata": {},
     "output_type": "execute_result"
    },
    {
     "data": {
      "image/png": "[encoded data removed]",
      "text/plain": [
       "<Figure size 1296x360 with 1 Axes>"
      ]
     },
     "metadata": {
      "needs_background": "light"
     },
     "output_type": "display_data"
    }
   ],
   "source": [
    "image = plt.imread(data_dir+'/submission_eclf_tr175.png')\n",
    "plt.figure(figsize=(18,5))\n",
    "plt.imshow(image)"
   ]
  },
  {
   "cell_type": "markdown",
   "metadata": {},
   "source": [
    "# 7.8 Voting Classifier (With Stack Classifier + no weights)"
   ]
  },
  {
   "cell_type": "code",
   "execution_count": 53,
   "metadata": {},
   "outputs": [
    {
     "data": {
      "text/plain": [
       "EnsembleVoteClassifier(clfs=[CalibratedClassifierCV(base_estimator=LogisticRegression(C=1000,\n",
       "                                                                                      class_weight='balanced',\n",
       "                                                                                      dual=False,\n",
       "                                                                                      fit_intercept=True,\n",
       "                                                                                      intercept_scaling=1,\n",
       "                                                                                      l1_ratio=None,\n",
       "                                                                                      max_iter=100,\n",
       "                                                                                      multi_class='auto',\n",
       "                                                                                      n_jobs=None,\n",
       "                                                                                      penalty='l1',\n",
       "                                                                                      random_state=42,\n",
       "                                                                                      solver='liblinear',\n",
       "                                                                                      tol=0.0001,\n",
       "                                                                                      verbose=0,\n",
       "                                                                                      warm_start=False),\n",
       "                                                    cv=3, method='sigmoid'),\n",
       "                             CalibratedClass...\n",
       "                                                                                                                         fit_intercept=True,\n",
       "                                                                                                                         intercept_scaling=1,\n",
       "                                                                                                                         l1_ratio=None,\n",
       "                                                                                                                         max_iter=100,\n",
       "                                                                                                                         multi_class='auto',\n",
       "                                                                                                                         n_jobs=None,\n",
       "                                                                                                                         penalty='l1',\n",
       "                                                                                                                         random_state=42,\n",
       "                                                                                                                         solver='liblinear',\n",
       "                                                                                                                         tol=0.0001,\n",
       "                                                                                                                         verbose=0,\n",
       "                                                                                                                         warm_start=False),\n",
       "                                                                                       cv=3,\n",
       "                                                                                       method='sigmoid'),\n",
       "                                                store_train_meta_features=False,\n",
       "                                                use_clones=True,\n",
       "                                                use_features_in_secondary=False,\n",
       "                                                use_probas=True, verbose=0)],\n",
       "                       refit=True, verbose=0, voting='hard', weights=None)"
      ]
     },
     "execution_count": 53,
     "metadata": {},
     "output_type": "execute_result"
    }
   ],
   "source": [
    "# Voting Classifier (See Docs: http://rasbt.github.io/mlxtend/user_guide/classifier/EnsembleVoteClassifier/)\n",
    "eclf = EnsembleVoteClassifier(clfs=[clf1, clf2,clf3,clf4,sclf])\n",
    "# Fit the train data\n",
    "eclf.fit(tr_X,tr_y)"
   ]
  },
  {
   "cell_type": "markdown",
   "metadata": {},
   "source": [
    "# 7.8.1 Kaggle Score"
   ]
  },
  {
   "cell_type": "code",
   "execution_count": 54,
   "metadata": {},
   "outputs": [],
   "source": [
    "# Create a submission file format to submit in Kaggle\n",
    "temp_id = df_test['id']\n",
    "eclf_csv = eclf.predict_proba(ts_X)[:,1]\n",
    "eclf_df = pd.DataFrame(np.column_stack((temp_id,eclf_csv)), columns=['id','target'])\n",
    "eclf_df['id'] = eclf_df['id'].astype('int32')\n",
    "eclf_df.to_csv(data_dir+'/submission_eclf_stack_tr175.csv', index=False)"
   ]
  },
  {
   "cell_type": "code",
   "execution_count": 55,
   "metadata": {},
   "outputs": [
    {
     "data": {
      "text/plain": [
       "<matplotlib.image.AxesImage at 0x1ed278c13c8>"
      ]
     },
     "execution_count": 55,
     "metadata": {},
     "output_type": "execute_result"
    },
    {
     "data": {
      "image/png": "[encoded data removed]",
      "text/plain": [
       "<Figure size 1296x360 with 1 Axes>"
      ]
     },
     "metadata": {
      "needs_background": "light"
     },
     "output_type": "display_data"
    }
   ],
   "source": [
    "image = plt.imread(data_dir+'/submission_eclf_stack_tr175.png')\n",
    "plt.figure(figsize=(18,5))\n",
    "plt.imshow(image)"
   ]
  },
  {
   "cell_type": "markdown",
   "metadata": {},
   "source": [
    "# 7.9 Voting Classifier (without Stack Classifier + weights)"
   ]
  },
  {
   "cell_type": "code",
   "execution_count": 56,
   "metadata": {},
   "outputs": [
    {
     "data": {
      "text/plain": [
       "EnsembleVoteClassifier(clfs=[CalibratedClassifierCV(base_estimator=LogisticRegression(C=1000,\n",
       "                                                                                      class_weight='balanced',\n",
       "                                                                                      dual=False,\n",
       "                                                                                      fit_intercept=True,\n",
       "                                                                                      intercept_scaling=1,\n",
       "                                                                                      l1_ratio=None,\n",
       "                                                                                      max_iter=100,\n",
       "                                                                                      multi_class='auto',\n",
       "                                                                                      n_jobs=None,\n",
       "                                                                                      penalty='l1',\n",
       "                                                                                      random_state=42,\n",
       "                                                                                      solver='liblinear',\n",
       "                                                                                      tol=0.0001,\n",
       "                                                                                      verbose=0,\n",
       "                                                                                      warm_start=False),\n",
       "                                                    cv=3, method='sigmoid'),\n",
       "                             CalibratedClass...\n",
       "                                                                                          max_features='auto',\n",
       "                                                                                          max_leaf_nodes=None,\n",
       "                                                                                          max_samples=None,\n",
       "                                                                                          min_impurity_decrease=0.0,\n",
       "                                                                                          min_impurity_split=None,\n",
       "                                                                                          min_samples_leaf=1,\n",
       "                                                                                          min_samples_split=2,\n",
       "                                                                                          min_weight_fraction_leaf=0.0,\n",
       "                                                                                          n_estimators=400,\n",
       "                                                                                          n_jobs=None,\n",
       "                                                                                          oob_score=False,\n",
       "                                                                                          random_state=None,\n",
       "                                                                                          verbose=0,\n",
       "                                                                                          warm_start=False),\n",
       "                                                    cv=3, method='sigmoid')],\n",
       "                       refit=True, verbose=0, voting='hard',\n",
       "                       weights=[0.3, 0.3, 0.2, 0.2])"
      ]
     },
     "execution_count": 56,
     "metadata": {},
     "output_type": "execute_result"
    }
   ],
   "source": [
    "# Voting Classifier (See Docs: http://rasbt.github.io/mlxtend/user_guide/classifier/EnsembleVoteClassifier/)\n",
    "eclf = EnsembleVoteClassifier(clfs=[clf1,clf2,clf3,clf4], weights=[0.3,0.3,0.2,0.2])\n",
    "# Fit the train data\n",
    "eclf.fit(tr_X,tr_y)"
   ]
  },
  {
   "cell_type": "markdown",
   "metadata": {},
   "source": [
    " # 7.9.1 Kaggle Score"
   ]
  },
  {
   "cell_type": "code",
   "execution_count": 57,
   "metadata": {},
   "outputs": [],
   "source": [
    "# Create a submission file format to submit in Kaggle\n",
    "temp_id = df_test['id']\n",
    "eclf_csv = eclf.predict_proba(ts_X)[:,1]\n",
    "eclf_df = pd.DataFrame(np.column_stack((temp_id,eclf_csv)), columns=['id','target'])\n",
    "eclf_df['id'] = eclf_df['id'].astype('int32')\n",
    "eclf_df.to_csv(data_dir+'/submission_eclf_weights_tr175.csv', index=False)"
   ]
  },
  {
   "cell_type": "code",
   "execution_count": 58,
   "metadata": {},
   "outputs": [
    {
     "data": {
      "text/plain": [
       "<matplotlib.image.AxesImage at 0x1ed274c9b88>"
      ]
     },
     "execution_count": 58,
     "metadata": {},
     "output_type": "execute_result"
    },
    {
     "data": {
      "image/png": "[encoded data removed]",
      "text/plain": [
       "<Figure size 1296x360 with 1 Axes>"
      ]
     },
     "metadata": {
      "needs_background": "light"
     },
     "output_type": "display_data"
    }
   ],
   "source": [
    "image = plt.imread(data_dir+'/submission_eclf_weights_tr175.png')\n",
    "plt.figure(figsize=(18,5))\n",
    "plt.imshow(image)"
   ]
  },
  {
   "cell_type": "markdown",
   "metadata": {},
   "source": [
    "# 7.10 Voting Classifier (with Stack Classifier + weights)"
   ]
  },
  {
   "cell_type": "code",
   "execution_count": 59,
   "metadata": {},
   "outputs": [
    {
     "data": {
      "text/plain": [
       "EnsembleVoteClassifier(clfs=[CalibratedClassifierCV(base_estimator=LogisticRegression(C=1000,\n",
       "                                                                                      class_weight='balanced',\n",
       "                                                                                      dual=False,\n",
       "                                                                                      fit_intercept=True,\n",
       "                                                                                      intercept_scaling=1,\n",
       "                                                                                      l1_ratio=None,\n",
       "                                                                                      max_iter=100,\n",
       "                                                                                      multi_class='auto',\n",
       "                                                                                      n_jobs=None,\n",
       "                                                                                      penalty='l1',\n",
       "                                                                                      random_state=42,\n",
       "                                                                                      solver='liblinear',\n",
       "                                                                                      tol=0.0001,\n",
       "                                                                                      verbose=0,\n",
       "                                                                                      warm_start=False),\n",
       "                                                    cv=3, method='sigmoid'),\n",
       "                             CalibratedClass...\n",
       "                                                                                                                         intercept_scaling=1,\n",
       "                                                                                                                         l1_ratio=None,\n",
       "                                                                                                                         max_iter=100,\n",
       "                                                                                                                         multi_class='auto',\n",
       "                                                                                                                         n_jobs=None,\n",
       "                                                                                                                         penalty='l1',\n",
       "                                                                                                                         random_state=42,\n",
       "                                                                                                                         solver='liblinear',\n",
       "                                                                                                                         tol=0.0001,\n",
       "                                                                                                                         verbose=0,\n",
       "                                                                                                                         warm_start=False),\n",
       "                                                                                       cv=3,\n",
       "                                                                                       method='sigmoid'),\n",
       "                                                store_train_meta_features=False,\n",
       "                                                use_clones=True,\n",
       "                                                use_features_in_secondary=False,\n",
       "                                                use_probas=True, verbose=0)],\n",
       "                       refit=True, verbose=0, voting='hard',\n",
       "                       weights=[0.3, 0.3, 0.05, 0.05, 0.3])"
      ]
     },
     "execution_count": 59,
     "metadata": {},
     "output_type": "execute_result"
    }
   ],
   "source": [
    "# Voting Classifier (See Docs: http://rasbt.github.io/mlxtend/user_guide/classifier/EnsembleVoteClassifier/)\n",
    "eclf = EnsembleVoteClassifier(clfs=[clf1,clf2,clf3,clf4,sclf], weights=[0.3,0.3,0.05,0.05,0.3])\n",
    "# Fit the train data\n",
    "eclf.fit(tr_X,tr_y)"
   ]
  },
  {
   "cell_type": "markdown",
   "metadata": {},
   "source": [
    "# 7.10.1 Kaggle Score"
   ]
  },
  {
   "cell_type": "code",
   "execution_count": 60,
   "metadata": {},
   "outputs": [],
   "source": [
    "# Create a submission file format to submit in Kaggle\n",
    "temp_id = df_test['id']\n",
    "eclf_csv = eclf.predict_proba(ts_X)[:,1]\n",
    "eclf_df = pd.DataFrame(np.column_stack((temp_id,eclf_csv)), columns=['id','target'])\n",
    "eclf_df['id'] = eclf_df['id'].astype('int32')\n",
    "eclf_df.to_csv(data_dir+'/submission_eclf_stack_weights_tr175.csv', index=False)"
   ]
  },
  {
   "cell_type": "code",
   "execution_count": 61,
   "metadata": {},
   "outputs": [
    {
     "data": {
      "text/plain": [
       "<matplotlib.image.AxesImage at 0x1ed2803ce48>"
      ]
     },
     "execution_count": 61,
     "metadata": {},
     "output_type": "execute_result"
    },
    {
     "data": {
      "image/png": "[encoded data removed]",
      "text/plain": [
       "<Figure size 1296x360 with 1 Axes>"
      ]
     },
     "metadata": {
      "needs_background": "light"
     },
     "output_type": "display_data"
    }
   ],
   "source": [
    "image = plt.imread(data_dir+'/submission_eclf_stack_weights_tr175.png')\n",
    "plt.figure(figsize=(18,5))\n",
    "plt.imshow(image)"
   ]
  },
  {
   "cell_type": "markdown",
   "metadata": {},
   "source": [
    "# 6. Summary of All Models"
   ]
  },
  {
   "cell_type": "code",
   "execution_count": 62,
   "metadata": {},
   "outputs": [
    {
     "name": "stdout",
     "output_type": "stream",
     "text": [
      "+---------------------------------------------+----------+-----------------------------------------------------+------------+\n",
      "|                    Model                    | Features |                    Hyperparameter                   | Test Score |\n",
      "+---------------------------------------------+----------+-----------------------------------------------------+------------+\n",
      "|                     knn                     |    AF    |     {'algorithm': 'kd_tree', 'n_neighbors': 17}     |   0.639    |\n",
      "|             Logistic Regression             |    AF    | {'C': 1000, 'penalty': 'l1', 'solver': 'liblinear'} |   0.718    |\n",
      "|                     SVC                     |    AF    |            {'C': 0.1, 'kernel': 'linear'}           |   0.724    |\n",
      "|                 RandomForest                |    AF    |        {'max_depth': 2, 'n_estimators': 400}        |   0.663    |\n",
      "|                   XGBoost                   |    AF    |        {'max_depth': 7, 'n_estimators': 300}        |   0.658    |\n",
      "|             Stacking Classifier             |    AF    |                          -                          |   0.724    |\n",
      "| Voting Classifier(No stacking + no weights) |    AF    |                          -                          |   0.739    |\n",
      "|   Voting Classifier(stacking + no weights)  |    AF    |                          -                          |   0.735    |\n",
      "|   Voting Classifier(no stacking + weights)  |    AF    |                          -                          |   0.741    |\n",
      "|    Voting Classifier(stacking + weights)    |    AF    |                          -                          |   0.738    |\n",
      "+---------------------------------------------+----------+-----------------------------------------------------+------------+\n"
     ]
    }
   ],
   "source": [
    "from prettytable import PrettyTable\n",
    "x = PrettyTable()\n",
    "x.field_names = ['Model','Features','Hyperparameter','Test Score']\n",
    "x.add_row(['knn','AF',r\"{'algorithm': 'kd_tree', 'n_neighbors': 17}\",0.639])\n",
    "x.add_row(['Logistic Regression','AF',r\"{'C': 1000, 'penalty': 'l1', 'solver': 'liblinear'}\",0.718])\n",
    "x.add_row(['SVC','AF',r\"{'C': 0.1, 'kernel': 'linear'}\",0.724])\n",
    "x.add_row(['RandomForest','AF',r\"{'max_depth': 2, 'n_estimators': 400}\",0.663])\n",
    "x.add_row(['XGBoost','AF',r\"{'max_depth': 7, 'n_estimators': 300}\",0.658])\n",
    "x.add_row(['Stacking Classifier','AF','-',0.724])\n",
    "x.add_row(['Voting Classifier(No stacking + no weights)','AF',\"-\",0.739])\n",
    "x.add_row(['Voting Classifier(stacking + no weights)','AF',\"-\",0.735])\n",
    "x.add_row(['Voting Classifier(no stacking + weights)','AF',\"-\",0.741])\n",
    "x.add_row(['Voting Classifier(stacking + weights)','AF',\"-\",0.738])\n",
    "print(x)"
   ]
  },
  {
   "cell_type": "markdown",
   "metadata": {},
   "source": [
    "Notation:\n",
    "1. AF: All features"
   ]
  },
  {
   "cell_type": "code",
   "execution_count": null,
   "metadata": {},
   "outputs": [],
   "source": []
  }
 ],
 "metadata": {
  "colab": {
   "authorship_tag": "ABX9TyNnRkpuwI/OKofiNpymRkdo",
   "collapsed_sections": [],
   "mount_file_id": "11bogSuln_vt9rkvTXo6ImC4GZY_jJfL9",
   "name": "3_Models.ipynb",
   "provenance": [],
   "toc_visible": true
  },
  "kernelspec": {
   "display_name": "Python 3",
   "language": "python",
   "name": "python3"
  },
  "language_info": {
   "codemirror_mode": {
    "name": "ipython",
    "version": 3
   },
   "file_extension": ".py",
   "mimetype": "text/x-python",
   "name": "python",
   "nbconvert_exporter": "python",
   "pygments_lexer": "ipython3",
   "version": "3.7.6"
  }
 },
 "nbformat": 4,
 "nbformat_minor": 1
}
